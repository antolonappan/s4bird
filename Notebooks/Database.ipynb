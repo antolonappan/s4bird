{
 "cells": [
  {
   "cell_type": "code",
   "execution_count": 3,
   "id": "84f4c13d-eaa5-4f07-84cf-600bc8d89610",
   "metadata": {},
   "outputs": [],
   "source": [
    "import sys\n",
    "sys.path.append('../')"
   ]
  },
  {
   "cell_type": "code",
   "execution_count": 5,
   "id": "df01ed15-ea22-4795-9ce1-8f3267aed6a9",
   "metadata": {},
   "outputs": [],
   "source": [
    "from database import surveys"
   ]
  },
  {
   "cell_type": "code",
   "execution_count": 6,
   "id": "038379d5-9a25-44d9-b525-eae1bc0882d0",
   "metadata": {},
   "outputs": [
    {
     "name": "stdout",
     "output_type": "stream",
     "text": [
      "2021-09-11 22:28:29,510 INFO sqlalchemy.engine.Engine SELECT name FROM sqlite_master WHERE type='table' ORDER BY name\n",
      "2021-09-11 22:28:29,511 INFO sqlalchemy.engine.Engine [raw sql] ()\n"
     ]
    }
   ],
   "source": [
    "survey = surveys()"
   ]
  },
  {
   "cell_type": "code",
   "execution_count": 7,
   "id": "efb884d4-1862-4c44-a572-660698eefb23",
   "metadata": {},
   "outputs": [
    {
     "data": {
      "text/plain": [
       "['CMBS4_LAT_CHILE',\n",
       " 'CMBS4_LAT_SOUTH',\n",
       " 'CMBS4_SAT',\n",
       " 'DELENSING_LAT',\n",
       " 'LITEBIRD',\n",
       " 'SO_ATM']"
      ]
     },
     "execution_count": 7,
     "metadata": {},
     "output_type": "execute_result"
    }
   ],
   "source": [
    "survey.tables"
   ]
  },
  {
   "cell_type": "code",
   "execution_count": 9,
   "id": "b6003d70-0b3a-485d-9032-fc87b1083951",
   "metadata": {},
   "outputs": [
    {
     "name": "stdout",
     "output_type": "stream",
     "text": [
      "2021-09-11 22:30:39,703 INFO sqlalchemy.engine.Engine SELECT name FROM sqlite_master WHERE type='table' ORDER BY name\n",
      "2021-09-11 22:30:39,704 INFO sqlalchemy.engine.Engine [raw sql] ()\n",
      "2021-09-11 22:30:39,705 INFO sqlalchemy.engine.Engine SELECT name FROM sqlite_master WHERE type='view' ORDER BY name\n",
      "2021-09-11 22:30:39,706 INFO sqlalchemy.engine.Engine [raw sql] ()\n",
      "2021-09-11 22:30:39,707 INFO sqlalchemy.engine.Engine PRAGMA main.table_xinfo(\"LITEBIRD\")\n",
      "2021-09-11 22:30:39,707 INFO sqlalchemy.engine.Engine [raw sql] ()\n",
      "2021-09-11 22:30:39,709 INFO sqlalchemy.engine.Engine SELECT sql FROM  (SELECT * FROM sqlite_master UNION ALL   SELECT * FROM sqlite_temp_master) WHERE name = ? AND type = 'table'\n",
      "2021-09-11 22:30:39,709 INFO sqlalchemy.engine.Engine [raw sql] ('LITEBIRD',)\n",
      "2021-09-11 22:30:39,710 INFO sqlalchemy.engine.Engine PRAGMA main.foreign_key_list(\"LITEBIRD\")\n",
      "2021-09-11 22:30:39,711 INFO sqlalchemy.engine.Engine [raw sql] ()\n",
      "2021-09-11 22:30:39,711 INFO sqlalchemy.engine.Engine PRAGMA temp.foreign_key_list(\"LITEBIRD\")\n",
      "2021-09-11 22:30:39,712 INFO sqlalchemy.engine.Engine [raw sql] ()\n",
      "2021-09-11 22:30:39,713 INFO sqlalchemy.engine.Engine SELECT sql FROM  (SELECT * FROM sqlite_master UNION ALL   SELECT * FROM sqlite_temp_master) WHERE name = ? AND type = 'table'\n",
      "2021-09-11 22:30:39,713 INFO sqlalchemy.engine.Engine [raw sql] ('LITEBIRD',)\n",
      "2021-09-11 22:30:39,715 INFO sqlalchemy.engine.Engine PRAGMA main.index_list(\"LITEBIRD\")\n",
      "2021-09-11 22:30:39,715 INFO sqlalchemy.engine.Engine [raw sql] ()\n",
      "2021-09-11 22:30:39,716 INFO sqlalchemy.engine.Engine PRAGMA main.index_info(\"ix_LITEBIRD_index\")\n",
      "2021-09-11 22:30:39,717 INFO sqlalchemy.engine.Engine [raw sql] ()\n",
      "2021-09-11 22:30:39,718 INFO sqlalchemy.engine.Engine PRAGMA main.index_list(\"LITEBIRD\")\n",
      "2021-09-11 22:30:39,718 INFO sqlalchemy.engine.Engine [raw sql] ()\n",
      "2021-09-11 22:30:39,719 INFO sqlalchemy.engine.Engine PRAGMA main.index_info(\"ix_LITEBIRD_index\")\n",
      "2021-09-11 22:30:39,720 INFO sqlalchemy.engine.Engine [raw sql] ()\n",
      "2021-09-11 22:30:39,721 INFO sqlalchemy.engine.Engine SELECT sql FROM  (SELECT * FROM sqlite_master UNION ALL   SELECT * FROM sqlite_temp_master) WHERE name = ? AND type = 'table'\n",
      "2021-09-11 22:30:39,721 INFO sqlalchemy.engine.Engine [raw sql] ('LITEBIRD',)\n",
      "2021-09-11 22:30:39,723 INFO sqlalchemy.engine.Engine SELECT \"LITEBIRD\".\"index\", \"LITEBIRD\".frequency, \"LITEBIRD\".depth_p, \"LITEBIRD\".fwhm, \"LITEBIRD\".bandwidth, \"LITEBIRD\".pixel_size, \"LITEBIRD\".detectors, \"LITEBIRD\".net_det, \"LITEBIRD\".net_arr_t, \"LITEBIRD\".net_arr_p \n",
      "FROM \"LITEBIRD\"\n",
      "2021-09-11 22:30:39,723 INFO sqlalchemy.engine.Engine [generated in 0.00049s] ()\n"
     ]
    }
   ],
   "source": [
    "lb = survey.get_table_dataframe('LITEBIRD')"
   ]
  },
  {
   "cell_type": "code",
   "execution_count": 15,
   "id": "145b9e55-6c07-4dac-9229-7823d55a708d",
   "metadata": {},
   "outputs": [
    {
     "data": {
      "text/plain": [
       "[40.0,\n",
       " 50.0,\n",
       " 60.0,\n",
       " 68.0,\n",
       " 78.0,\n",
       " 89.0,\n",
       " 100.0,\n",
       " 119.0,\n",
       " 140.0,\n",
       " 166.0,\n",
       " 195.0,\n",
       " 235.0,\n",
       " 280.0,\n",
       " 337.0,\n",
       " 402.0]"
      ]
     },
     "execution_count": 15,
     "metadata": {},
     "output_type": "execute_result"
    }
   ],
   "source": [
    "list(lb.frequency)"
   ]
  },
  {
   "cell_type": "code",
   "execution_count": null,
   "id": "7d891935-03ef-4023-8554-53b527baf4ad",
   "metadata": {},
   "outputs": [],
   "source": []
  }
 ],
 "metadata": {
  "kernelspec": {
   "display_name": "PCpython",
   "language": "python",
   "name": "pc"
  },
  "language_info": {
   "codemirror_mode": {
    "name": "ipython",
    "version": 3
   },
   "file_extension": ".py",
   "mimetype": "text/x-python",
   "name": "python",
   "nbconvert_exporter": "python",
   "pygments_lexer": "ipython3",
   "version": "3.6.13"
  }
 },
 "nbformat": 4,
 "nbformat_minor": 5
}
