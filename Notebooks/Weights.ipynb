{
 "cells": [
  {
   "cell_type": "code",
   "execution_count": 1,
   "id": "cb4b1e53-2da5-4d7d-93b5-8357123daeef",
   "metadata": {},
   "outputs": [],
   "source": [
    "import healpy as hp\n",
    "import numpy as np\n",
    "import pickle as pk\n",
    "import os\n",
    "import matplotlib.pyplot as plt"
   ]
  },
  {
   "cell_type": "code",
   "execution_count": 2,
   "id": "3c6cff5e-9709-4fb1-9c41-34e4c7a73bd4",
   "metadata": {},
   "outputs": [],
   "source": [
    "nside = 2048\n",
    "nlev_t_lb = 1.52\n",
    "nlev_p_lb = 2.16\n",
    "beam_lb = 30\n",
    "nlev_t_s4 = 1.5\n",
    "nlev_p_s4 = 2.12\n",
    "beam_s4 = 1.5"
   ]
  },
  {
   "cell_type": "code",
   "execution_count": 3,
   "id": "c5d640b3-fe41-4324-a9ce-f24f6ddf19b7",
   "metadata": {},
   "outputs": [],
   "source": [
    "scr = '/project/projectdirs/litebird/simulations/'\n",
    "lbpath = os.path.join(scr,'S4BIRD','LiteBird_s4mask','NoiseAlm')\n",
    "s4path = os.path.join(scr,'S4BIRD','CMBS4','NoiseAlm')"
   ]
  },
  {
   "cell_type": "code",
   "execution_count": 4,
   "id": "85daa1a4-be68-4aeb-b194-7822e2ef8ce1",
   "metadata": {},
   "outputs": [],
   "source": [
    "almLB = hp.read_alm(os.path.join(lbpath,'noiseonly_0.fits'),hdu=(1,2,3))\n",
    "almS4 = hp.read_alm(os.path.join(s4path,'noiseonly_0.fits'),hdu=(1,2,3))"
   ]
  },
  {
   "cell_type": "code",
   "execution_count": 5,
   "id": "b398eaac-6ed5-41ee-ad13-1d8d74e9ae5a",
   "metadata": {},
   "outputs": [],
   "source": [
    "lb0 = hp.alm2cl(almLB[0])\n",
    "lb1 = hp.alm2cl(almLB[1])\n",
    "lb2 = hp.alm2cl(almLB[2])"
   ]
  },
  {
   "cell_type": "code",
   "execution_count": 6,
   "id": "c263d4d7-298f-4b44-8c56-9edea1c7f9f2",
   "metadata": {},
   "outputs": [],
   "source": [
    "s40 = hp.alm2cl(almS4[0])\n",
    "s41 = hp.alm2cl(almS4[1])\n",
    "s42 = hp.alm2cl(almS4[2])"
   ]
  },
  {
   "cell_type": "code",
   "execution_count": 7,
   "id": "cfc8662b-0ac9-4c4a-bb50-28660d16bddd",
   "metadata": {},
   "outputs": [
    {
     "data": {
      "text/plain": [
       "<matplotlib.legend.Legend at 0x2aaae459c240>"
      ]
     },
     "execution_count": 7,
     "metadata": {},
     "output_type": "execute_result"
    },
    {
     "data": {
      "image/png": "[encoded data removed]",
      "text/plain": [
       "<Figure size 432x288 with 1 Axes>"
      ]
     },
     "metadata": {
      "needs_background": "light"
     },
     "output_type": "display_data"
    }
   ],
   "source": [
    "plt.loglog(lb1,label='LB')\n",
    "plt.loglog(s41,label='S4')\n",
    "plt.axhline(np.radians(2.15/60)**2,c='r')\n",
    "plt.axhline(np.radians(1.5/60)**2,c='b')\n",
    "plt.legend()"
   ]
  },
  {
   "cell_type": "code",
   "execution_count": 8,
   "id": "4c3cbc8d-b6b7-4477-a566-c108ff59d431",
   "metadata": {},
   "outputs": [],
   "source": [
    "bl_s4 =  hp.gauss_beam(np.radians(beam_s4/60),lmax=6143)\n",
    "bl_lb =  hp.gauss_beam(np.radians(beam_lb/60),lmax=6143)"
   ]
  },
  {
   "cell_type": "code",
   "execution_count": 9,
   "id": "0d04c48e-adb4-4eda-a55d-7632c92317b5",
   "metadata": {},
   "outputs": [
    {
     "name": "stderr",
     "output_type": "stream",
     "text": [
      "/global/homes/l/lonappan/.conda/envs/PC/lib/python3.6/site-packages/ipykernel_launcher.py:1: RuntimeWarning: overflow encountered in square\n",
      "  \"\"\"Entry point for launching an IPython kernel.\n",
      "/global/homes/l/lonappan/.conda/envs/PC/lib/python3.6/site-packages/ipykernel_launcher.py:2: RuntimeWarning: overflow encountered in square\n",
      "  \n",
      "/global/homes/l/lonappan/.conda/envs/PC/lib/python3.6/site-packages/ipykernel_launcher.py:2: RuntimeWarning: divide by zero encountered in true_divide\n",
      "  \n"
     ]
    }
   ],
   "source": [
    "w_lb_t = 1/(lb0/bl_lb**2)**2\n",
    "w_lb_p = 1/(lb1/bl_lb**2)**2"
   ]
  },
  {
   "cell_type": "code",
   "execution_count": 10,
   "id": "47b88dac-3459-4054-bf50-33616ddcfacf",
   "metadata": {},
   "outputs": [
    {
     "name": "stderr",
     "output_type": "stream",
     "text": [
      "/global/homes/l/lonappan/.conda/envs/PC/lib/python3.6/site-packages/ipykernel_launcher.py:2: RuntimeWarning: divide by zero encountered in true_divide\n",
      "  \n"
     ]
    }
   ],
   "source": [
    "w_s4_t = 1/(s40/bl_s4**2)**2\n",
    "w_s4_p = 1/(s41/bl_s4**2)**2"
   ]
  },
  {
   "cell_type": "code",
   "execution_count": 11,
   "id": "85408b66-9746-4e8c-8c28-8b8d219b83d4",
   "metadata": {},
   "outputs": [],
   "source": [
    "w_t  = w_s4_t + w_lb_t\n",
    "w_p  = w_s4_p + w_lb_p"
   ]
  },
  {
   "cell_type": "code",
   "execution_count": 12,
   "id": "9a091071-7639-4d1a-96ce-b11402602179",
   "metadata": {},
   "outputs": [],
   "source": [
    "s4_t = w_s4_t/w_t\n",
    "lb_t = w_lb_t/w_t\n",
    "\n",
    "s4_p = w_s4_p/w_p\n",
    "lb_p = w_lb_p/w_p"
   ]
  },
  {
   "cell_type": "code",
   "execution_count": 19,
   "id": "821412a8-05b4-49d0-bef9-cad77dc98dcd",
   "metadata": {},
   "outputs": [],
   "source": [
    "s4_p[0] = 0\n",
    "s4_p[1] = 0"
   ]
  },
  {
   "cell_type": "code",
   "execution_count": 21,
   "id": "43391984-64f3-47af-b4a4-d8110acb5d5f",
   "metadata": {},
   "outputs": [],
   "source": [
    "lb_p[0] = 1\n",
    "lb_p[1] = 1"
   ]
  },
  {
   "cell_type": "code",
   "execution_count": 22,
   "id": "f71b384d-d9f0-484a-9bbf-1c8b5f51796b",
   "metadata": {},
   "outputs": [
    {
     "data": {
      "text/plain": [
       "(1e-17, 5)"
      ]
     },
     "execution_count": 22,
     "metadata": {},
     "output_type": "execute_result"
    },
    {
     "data": {
      "image/png": "[encoded data removed]",
      "text/plain": [
       "<Figure size 432x288 with 1 Axes>"
      ]
     },
     "metadata": {
      "needs_background": "light"
     },
     "output_type": "display_data"
    }
   ],
   "source": [
    "plt.loglog(s4_t)\n",
    "plt.loglog(lb_t)\n",
    "plt.ylim(10e-18,5)"
   ]
  },
  {
   "cell_type": "code",
   "execution_count": 23,
   "id": "2e442a48-e407-4ffd-a32e-a791fbfe8c13",
   "metadata": {},
   "outputs": [
    {
     "data": {
      "text/plain": [
       "(1e-17, 5)"
      ]
     },
     "execution_count": 23,
     "metadata": {},
     "output_type": "execute_result"
    },
    {
     "data": {
      "image/png": "[encoded data removed]",
      "text/plain": [
       "<Figure size 432x288 with 1 Axes>"
      ]
     },
     "metadata": {
      "needs_background": "light"
     },
     "output_type": "display_data"
    }
   ],
   "source": [
    "plt.loglog(s4_p)\n",
    "plt.loglog(lb_p)\n",
    "plt.ylim(10e-18,5)"
   ]
  },
  {
   "cell_type": "code",
   "execution_count": 24,
   "id": "5354212a-6f14-4de4-b9ee-067431a1da67",
   "metadata": {},
   "outputs": [],
   "source": [
    "data = {}\n",
    "data[\"LB\"] = {}\n",
    "data[\"LB\"][\"T\"] = lb_t\n",
    "data[\"LB\"][\"P\"] = lb_p\n",
    "data[\"S4\"] = {}\n",
    "data[\"S4\"][\"T\"] = s4_t\n",
    "data[\"S4\"][\"P\"] = s4_p"
   ]
  },
  {
   "cell_type": "code",
   "execution_count": 25,
   "id": "53d3c788-7319-4bb6-bc0e-2afcfa7e213e",
   "metadata": {},
   "outputs": [
    {
     "data": {
      "text/plain": [
       "{'LB': {'T': array([9.6774269e-12, 1.0000000e+00, 1.0000000e+00, ..., 0.0000000e+00,\n",
       "         0.0000000e+00, 0.0000000e+00]),\n",
       "  'P': array([1., 1., 1., ..., 0., 0., 0.])},\n",
       " 'S4': {'T': array([1.00000000e+00, 5.46088207e-26, 1.42606488e-24, ...,\n",
       "         1.00000000e+00, 1.00000000e+00, 1.00000000e+00]),\n",
       "  'P': array([0.00000000e+00, 0.00000000e+00, 7.41211271e-10, ...,\n",
       "         1.00000000e+00, 1.00000000e+00, 1.00000000e+00])}}"
      ]
     },
     "execution_count": 25,
     "metadata": {},
     "output_type": "execute_result"
    }
   ],
   "source": [
    "data"
   ]
  },
  {
   "cell_type": "code",
   "execution_count": 26,
   "id": "28013ba6-a3e9-4ecc-8585-34008ac57af5",
   "metadata": {},
   "outputs": [],
   "source": [
    "pk.dump(data,open('../Data/weight.pkl','wb'))"
   ]
  },
  {
   "cell_type": "code",
   "execution_count": null,
   "id": "aee9f77a-333c-4f75-a752-861d9b5221b8",
   "metadata": {},
   "outputs": [],
   "source": []
  }
 ],
 "metadata": {
  "kernelspec": {
   "display_name": "PCpython",
   "language": "python",
   "name": "pc"
  },
  "language_info": {
   "codemirror_mode": {
    "name": "ipython",
    "version": 3
   },
   "file_extension": ".py",
   "mimetype": "text/x-python",
   "name": "python",
   "nbconvert_exporter": "python",
   "pygments_lexer": "ipython3",
   "version": "3.6.13"
  }
 },
 "nbformat": 4,
 "nbformat_minor": 5
}
