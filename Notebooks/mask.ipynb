{
 "cells": [
  {
   "cell_type": "code",
   "execution_count": 1,
   "id": "e3b4bf65-d631-4a1e-a6ec-58f622f56dce",
   "metadata": {},
   "outputs": [],
   "source": [
    "import healpy as hp\n",
    "import os\n",
    "import numpy as np\n",
    "import pymaster as nmt"
   ]
  },
  {
   "cell_type": "code",
   "execution_count": 2,
   "id": "4964f1c2-9966-404c-a7d8-88387dd35280",
   "metadata": {},
   "outputs": [],
   "source": [
    "mpath = \"/project/projectdirs/litebird/simulations/maps/lensing_project_paper/Masks\""
   ]
  },
  {
   "cell_type": "code",
   "execution_count": 3,
   "id": "50c5fcf6-7e17-4b19-be63-37135e32a749",
   "metadata": {},
   "outputs": [],
   "source": [
    "gal = hp.read_map('planck.fits',field=4)"
   ]
  },
  {
   "cell_type": "code",
   "execution_count": 4,
   "id": "ea63a940-048d-4e95-9c8d-8697ffecfcfa",
   "metadata": {},
   "outputs": [],
   "source": [
    "def change_coord(m, coord):\n",
    "    \"\"\" Change coordinates of a HEALPIX map\n",
    "\n",
    "    Parameters\n",
    "    ----------\n",
    "    m : map or array of maps\n",
    "      map(s) to be rotated\n",
    "    coord : sequence of two character\n",
    "      First character is the coordinate system of m, second character\n",
    "      is the coordinate system of the output map. As in HEALPIX, allowed\n",
    "      coordinate systems are 'G' (galactic), 'E' (ecliptic) or 'C' (equatorial)\n",
    "\n",
    "    Example\n",
    "    -------\n",
    "    The following rotate m from galactic to equatorial coordinates.\n",
    "    Notice that m can contain both temperature and polarization.\n",
    "    >>>> change_coord(m, ['G', 'C'])\n",
    "    \"\"\"\n",
    "    # Basic HEALPix parameters\n",
    "    npix = m.shape[-1]\n",
    "    nside = hp.npix2nside(npix)\n",
    "    ang = hp.pix2ang(nside, np.arange(npix))\n",
    "\n",
    "    # Select the coordinate transformation\n",
    "    rot = hp.Rotator(coord=reversed(coord))\n",
    "\n",
    "    # Convert the coordinates\n",
    "    new_ang = rot(*ang)\n",
    "    new_pix = hp.ang2pix(nside, *new_ang)\n",
    "\n",
    "    return m[..., new_pix]"
   ]
  },
  {
   "cell_type": "code",
   "execution_count": 5,
   "id": "10ebf966-3af2-4fbf-8ef4-8f7c07c21992",
   "metadata": {},
   "outputs": [],
   "source": [
    "nside = 2048\n",
    "mask_percent_n = 25\n",
    "mask_percent_s = 1\n",
    "npix = hp.nside2npix(nside)\n",
    "mask = np.zeros(npix)\n",
    "from_i = int(npix*mask_percent_n/100)\n",
    "to_i = npix - int(npix*mask_percent_s/100)\n",
    "\n",
    "\n",
    "mask[from_i:to_i] = 1"
   ]
  },
  {
   "cell_type": "code",
   "execution_count": 6,
   "id": "77ca7d82-66a1-4e66-987e-5a1bbc7090d4",
   "metadata": {},
   "outputs": [
    {
     "data": {
      "image/png": "[encoded data removed]",
      "text/plain": [
       "<Figure size 612x388.8 with 2 Axes>"
      ]
     },
     "metadata": {
      "needs_background": "light"
     },
     "output_type": "display_data"
    }
   ],
   "source": [
    " hp.mollview(mask)"
   ]
  },
  {
   "cell_type": "code",
   "execution_count": 7,
   "id": "d40e84e6-8be7-4705-b7b1-0ed6a9bc8d9e",
   "metadata": {},
   "outputs": [
    {
     "data": {
      "image/png": "[encoded data removed]",
      "text/plain": [
       "<Figure size 612x388.8 with 2 Axes>"
      ]
     },
     "metadata": {
      "needs_background": "light"
     },
     "output_type": "display_data"
    }
   ],
   "source": [
    "rot_mask = change_coord(mask, ['C', 'G'])\n",
    "hp.mollview(rot_mask)"
   ]
  },
  {
   "cell_type": "code",
   "execution_count": 8,
   "id": "de5c4cfa-f11f-4a6e-b4b5-82f245f42a91",
   "metadata": {},
   "outputs": [],
   "source": [
    "total = gal+rot_mask\n",
    "total[np.where(total==1)] = 0\n",
    "total[np.where(total==2)] = 1"
   ]
  },
  {
   "cell_type": "code",
   "execution_count": 9,
   "id": "f39ba297-5731-4df3-9da3-6852e5106e02",
   "metadata": {},
   "outputs": [
    {
     "data": {
      "image/png": "[encoded data removed]",
      "text/plain": [
       "<Figure size 612x388.8 with 2 Axes>"
      ]
     },
     "metadata": {
      "needs_background": "light"
     },
     "output_type": "display_data"
    }
   ],
   "source": [
    "hp.mollview(total)"
   ]
  },
  {
   "cell_type": "code",
   "execution_count": 10,
   "id": "6ecf13bf-0987-4c63-acea-427a4b863bc4",
   "metadata": {},
   "outputs": [],
   "source": [
    "def my_apo(mask,fsky,name):\n",
    "    dnside = 512\n",
    "    methods = {\"Smooth\":[1.,2.],\"C1\":[8.,10.]}\n",
    "    for key in methods.keys():\n",
    "        for i in methods[key]:\n",
    "            fname = os.path.join(mpath,f\"{name}_Nside{nside}_fsky_{fsky}_Apo_{key}_Deg_{int(i)}.fits.gz\")\n",
    "            if not os.path.isfile(fname):\n",
    "                print(f\"Making {name} mask: method-{key} and scale-{i}\")\n",
    "                if key == \"Smooth\":\n",
    "                    msk_apo = nmt.mask_apodization(mask, i, apotype=key)\n",
    "                elif key == \"C1\":\n",
    "                    print(f\"Mask will be downsized to Nside={dnside}\")\n",
    "                    msk_apo = nmt.mask_apodization(hp.ud_grade(mask,dnside), i, apotype=key)\n",
    "                else:\n",
    "                    raise ValueError\n",
    "                hp.write_map(fname,msk_apo)\n",
    "                del msk_apo \n",
    "                print(f\"file saved to {fname}\")\n",
    "            else:\n",
    "                print(f\"file EXIST {fname}\"              "
   ]
  },
  {
   "cell_type": "code",
   "execution_count": 11,
   "id": "c36407fe-539f-44e4-9e65-6a57aebd4c09",
   "metadata": {},
   "outputs": [
    {
     "name": "stdout",
     "output_type": "stream",
     "text": [
      "file EXIST /project/projectdirs/litebird/simulations/maps/lensing_project_paper/Masks/S4_Nside2048_fsky_0p4_Apo_Smooth_Deg_1.fits.gz\n",
      "file EXIST /project/projectdirs/litebird/simulations/maps/lensing_project_paper/Masks/S4_Nside2048_fsky_0p4_Apo_Smooth_Deg_2.fits.gz\n",
      "file EXIST /project/projectdirs/litebird/simulations/maps/lensing_project_paper/Masks/S4_Nside2048_fsky_0p4_Apo_C1_Deg_8.fits.gz\n",
      "file EXIST /project/projectdirs/litebird/simulations/maps/lensing_project_paper/Masks/S4_Nside2048_fsky_0p4_Apo_C1_Deg_10.fits.gz\n"
     ]
    }
   ],
   "source": [
    "my_apo(total,'0p4','S4')"
   ]
  },
  {
   "cell_type": "code",
   "execution_count": 12,
   "id": "d3c2ae12-78ab-4797-b10d-4757e156c0f6",
   "metadata": {},
   "outputs": [
    {
     "name": "stdout",
     "output_type": "stream",
     "text": [
      "file EXIST /project/projectdirs/litebird/simulations/maps/lensing_project_paper/Masks/LB_Nside2048_fsky_0p8_Apo_Smooth_Deg_1.fits.gz\n",
      "Making LB mask: method-Smooth and scale-2.0\n"
     ]
    },
    {
     "name": "stderr",
     "output_type": "stream",
     "text": [
      "setting the output map dtype to [dtype('float64')]\n"
     ]
    },
    {
     "name": "stdout",
     "output_type": "stream",
     "text": [
      "file saved to /project/projectdirs/litebird/simulations/maps/lensing_project_paper/Masks/LB_Nside2048_fsky_0p8_Apo_Smooth_Deg_2.fits.gz\n",
      "Making LB mask: method-C1 and scale-8.0\n",
      "Mask will be downsized to Nside=512\n"
     ]
    },
    {
     "name": "stderr",
     "output_type": "stream",
     "text": [
      "setting the output map dtype to [dtype('float64')]\n"
     ]
    },
    {
     "name": "stdout",
     "output_type": "stream",
     "text": [
      "file saved to /project/projectdirs/litebird/simulations/maps/lensing_project_paper/Masks/LB_Nside2048_fsky_0p8_Apo_C1_Deg_8.fits.gz\n",
      "Making LB mask: method-C1 and scale-10.0\n",
      "Mask will be downsized to Nside=512\n"
     ]
    },
    {
     "name": "stderr",
     "output_type": "stream",
     "text": [
      "setting the output map dtype to [dtype('float64')]\n"
     ]
    },
    {
     "name": "stdout",
     "output_type": "stream",
     "text": [
      "file saved to /project/projectdirs/litebird/simulations/maps/lensing_project_paper/Masks/LB_Nside2048_fsky_0p8_Apo_C1_Deg_10.fits.gz\n"
     ]
    }
   ],
   "source": [
    "my_apo(gal,'0p8','LB')"
   ]
  },
  {
   "cell_type": "code",
   "execution_count": 13,
   "id": "b4cfc221-7b2d-4d37-a3a5-ca9b04307af8",
   "metadata": {},
   "outputs": [],
   "source": [
    "#https://arxiv.org/pdf/1907.04473.pdf  figure 4"
   ]
  },
  {
   "cell_type": "code",
   "execution_count": null,
   "id": "90a48ea2-7f0f-4add-9883-f9878ef87365",
   "metadata": {},
   "outputs": [],
   "source": []
  }
 ],
 "metadata": {
  "kernelspec": {
   "display_name": "PC2python",
   "language": "python",
   "name": "pc2"
  },
  "language_info": {
   "codemirror_mode": {
    "name": "ipython",
    "version": 3
   },
   "file_extension": ".py",
   "mimetype": "text/x-python",
   "name": "python",
   "nbconvert_exporter": "python",
   "pygments_lexer": "ipython3",
   "version": "3.7.11"
  }
 },
 "nbformat": 4,
 "nbformat_minor": 5
}
