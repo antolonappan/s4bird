{
 "cells": [
  {
   "cell_type": "code",
   "execution_count": 4,
   "metadata": {},
   "outputs": [],
   "source": [
    "import matplotlib.pyplot as plt\n",
    "%matplotlib inline"
   ]
  },
  {
   "cell_type": "code",
   "execution_count": 2,
   "metadata": {},
   "outputs": [],
   "source": [
    "import os\n",
    "import sys\n",
    "import healpy as hp\n",
    "import numpy as np\n",
    "\n",
    "import pickle as pk\n",
    "sys.path.append('../')"
   ]
  },
  {
   "cell_type": "code",
   "execution_count": 3,
   "metadata": {},
   "outputs": [
    {
     "name": "stderr",
     "output_type": "stream",
     "text": [
      "usage: ipykernel_launcher.py [-h] [-ivt] [-ivp] [-dd] [-delens] [-cl] [-lh]\n",
      "                             inifile\n",
      "ipykernel_launcher.py: error: unrecognized arguments: -f\n"
     ]
    },
    {
     "name": "stdout",
     "output_type": "stream",
     "text": [
      "Simulation uses /project/projectdirs/litebird/simulations/maps/lensing_project_paper/S4BIRD/LiteBird_s4mask/RS/Maps\n",
      "Simulation uses /project/projectdirs/litebird/simulations/maps/lensing_project_paper/S4BIRD/CMBS4/RS/Maps\n",
      "Delensing uses QE: p\n"
     ]
    },
    {
     "name": "stderr",
     "output_type": "stream",
     "text": [
      "WARNING: AstropyDeprecationWarning: \"verbose\" was deprecated in version 1.15.0 and will be removed in a future version.  [delens]\n"
     ]
    },
    {
     "name": "stdout",
     "output_type": "stream",
     "text": [
      "Workspace intializing from /project/projectdirs/litebird/simulations/maps/lensing_project_paper/S4BIRD/litebird_cmbs4/RS/Pseudo/workspace/coupling_matrix.fits\n"
     ]
    },
    {
     "name": "stderr",
     "output_type": "stream",
     "text": [
      "Mean and STD of Bandpower: 100%|██████████| 100/100 [00:00<00:00, 2104.02simulation/s]\n"
     ]
    },
    {
     "name": "stdout",
     "output_type": "stream",
     "text": [
      "The Variance of bias is not considered\n",
      "returning cache\n",
      "Bandpower calculated\n"
     ]
    },
    {
     "name": "stderr",
     "output_type": "stream",
     "text": [
      "Mean and STD of Bandpower: 100%|██████████| 100/100 [00:00<00:00, 1395.21simulation/s]\n"
     ]
    },
    {
     "name": "stdout",
     "output_type": "stream",
     "text": [
      "Fitting Delensed spectra between l=30 and l=180\n"
     ]
    },
    {
     "name": "stderr",
     "output_type": "stream",
     "text": [
      "Mean and STD of Bandpower: 100%|██████████| 100/100 [00:00<00:00, 2942.57simulation/s]\n"
     ]
    },
    {
     "name": "stdout",
     "output_type": "stream",
     "text": [
      "Likelihood: HL\n"
     ]
    }
   ],
   "source": [
    "%load_ext autoreload\n",
    "%autoreload 2\n",
    "import libparam_cross as method"
   ]
  },
  {
   "cell_type": "code",
   "execution_count": 5,
   "metadata": {},
   "outputs": [
    {
     "data": {
      "text/plain": [
       "[]"
      ]
     },
     "execution_count": 5,
     "metadata": {},
     "output_type": "execute_result"
    },
    {
     "data": {
      "image/png": "[encoded data removed]",
      "text/plain": [
       "<Figure size 432x288 with 1 Axes>"
      ]
     },
     "metadata": {
      "needs_background": "light"
     },
     "output_type": "display_data"
    }
   ],
   "source": [
    "plt.plot(np.linalg.eigvals(method.cov_lib.delensed_fid_cov))\n",
    "plt.semilogy()"
   ]
  },
  {
   "cell_type": "code",
   "execution_count": 6,
   "metadata": {},
   "outputs": [
    {
     "data": {
      "text/plain": [
       "[]"
      ]
     },
     "execution_count": 6,
     "metadata": {},
     "output_type": "execute_result"
    },
    {
     "data": {
      "image/png": "[encoded data removed]",
      "text/plain": [
       "<Figure size 432x288 with 1 Axes>"
      ]
     },
     "metadata": {
      "needs_background": "light"
     },
     "output_type": "display_data"
    }
   ],
   "source": [
    "plt.plot(np.linalg.eigvals(method.cov_lib.lensed_fid_cov))\n",
    "plt.semilogy()"
   ]
  },
  {
   "cell_type": "code",
   "execution_count": 7,
   "metadata": {},
   "outputs": [
    {
     "data": {
      "text/plain": [
       "2.611256690546326e-208"
      ]
     },
     "execution_count": 7,
     "metadata": {},
     "output_type": "execute_result"
    }
   ],
   "source": [
    "np.linalg.det(method.cov_lib.lensed_fid_cov)"
   ]
  },
  {
   "cell_type": "code",
   "execution_count": 8,
   "metadata": {},
   "outputs": [
    {
     "data": {
      "text/plain": [
       "True"
      ]
     },
     "execution_count": 8,
     "metadata": {},
     "output_type": "execute_result"
    }
   ],
   "source": [
    "np.all(np.linalg.eigvals(method.cov_lib.lensed_fid_cov) > 0)"
   ]
  },
  {
   "cell_type": "code",
   "execution_count": 9,
   "metadata": {},
   "outputs": [],
   "source": [
    "method.cov_lib.corr(method.cov_lib.lensed_fid_cov)"
   ]
  },
  {
   "cell_type": "code",
   "execution_count": 9,
   "metadata": {},
   "outputs": [],
   "source": [
    "method.cov_lib.corr(method.cov_lib.delensed_fid_cov)"
   ]
  },
  {
   "cell_type": "code",
   "execution_count": 10,
   "metadata": {},
   "outputs": [],
   "source": [
    "method.lh_lib.plot_posterior(0)"
   ]
  },
  {
   "cell_type": "code",
   "execution_count": 11,
   "metadata": {},
   "outputs": [
    {
     "data": {
      "text/plain": [
       "'5.88e-04'"
      ]
     },
     "execution_count": 11,
     "metadata": {},
     "output_type": "execute_result"
    }
   ],
   "source": [
    "method.lh_lib.sigma_r(0)"
   ]
  },
  {
   "cell_type": "code",
   "execution_count": 13,
   "metadata": {},
   "outputs": [
    {
     "data": {
      "text/plain": [
       "array([  6.5,  16.5,  26.5,  36.5,  46.5,  56.5,  66.5,  76.5,  86.5,\n",
       "        96.5, 106.5, 116.5, 126.5, 136.5, 146.5, 156.5, 166.5, 176.5,\n",
       "       186.5, 196.5, 206.5, 216.5, 226.5])"
      ]
     },
     "execution_count": 13,
     "metadata": {},
     "output_type": "execute_result"
    }
   ],
   "source": [
    "method.cov_lib.ell[:23]"
   ]
  },
  {
   "cell_type": "code",
   "execution_count": 44,
   "metadata": {},
   "outputs": [
    {
     "name": "stderr",
     "output_type": "stream",
     "text": [
      "Finding Maximum Likelihood Value:   0%|          | 0/11 [00:00<?, ?guess/s]\n"
     ]
    },
    {
     "name": "stdout",
     "output_type": "stream",
     "text": [
      "Setting Alens to 1\n"
     ]
    },
    {
     "name": "stderr",
     "output_type": "stream",
     "text": [
      "  0%|          | 0/2000 [00:00<?, ?it/s]../likelihood.py:377: RuntimeWarning: invalid value encountered in log\n",
      "  x = self.X(cl_th,i)\n",
      "100%|██████████| 2000/2000 [00:14<00:00, 136.48it/s]\n"
     ]
    },
    {
     "data": {
      "text/plain": [
       "<Figure size 576x576 with 0 Axes>"
      ]
     },
     "metadata": {},
     "output_type": "display_data"
    },
    {
     "data": {
      "image/png": "[encoded data removed]",
      "text/plain": [
       "<Figure size 244.8x244.8 with 1 Axes>"
      ]
     },
     "metadata": {
      "needs_background": "light"
     },
     "output_type": "display_data"
    }
   ],
   "source": [
    "method.lh_lib.plot_posterior(2)"
   ]
  },
  {
   "cell_type": "code",
   "execution_count": 9,
   "metadata": {},
   "outputs": [
    {
     "name": "stderr",
     "output_type": "stream",
     "text": [
      "Finding Maximum Likelihood Value:   0%|          | 0/11 [00:00<?, ?guess/s]../likelihood.py:377: RuntimeWarning: invalid value encountered in log\n",
      "  return np.sign(x-1)* np.sqrt(2*(x - np.log(x) - 1))\n",
      "../likelihood.py:377: RuntimeWarning: invalid value encountered in log\n",
      "  return np.sign(x-1)* np.sqrt(2*(x - np.log(x) - 1))\n",
      "../likelihood.py:377: RuntimeWarning: invalid value encountered in log\n",
      "  return np.sign(x-1)* np.sqrt(2*(x - np.log(x) - 1))\n",
      "../likelihood.py:377: RuntimeWarning: invalid value encountered in log\n",
      "  return np.sign(x-1)* np.sqrt(2*(x - np.log(x) - 1))\n",
      "../likelihood.py:377: RuntimeWarning: invalid value encountered in log\n",
      "  return np.sign(x-1)* np.sqrt(2*(x - np.log(x) - 1))\n",
      "Finding Maximum Likelihood Value:  18%|█▊        | 2/11 [00:00<00:00, 12.88guess/s]../likelihood.py:377: RuntimeWarning: invalid value encountered in log\n",
      "  return np.sign(x-1)* np.sqrt(2*(x - np.log(x) - 1))\n",
      "../likelihood.py:377: RuntimeWarning: invalid value encountered in log\n",
      "  return np.sign(x-1)* np.sqrt(2*(x - np.log(x) - 1))\n",
      "../likelihood.py:377: RuntimeWarning: invalid value encountered in log\n",
      "  return np.sign(x-1)* np.sqrt(2*(x - np.log(x) - 1))\n",
      "../likelihood.py:377: RuntimeWarning: invalid value encountered in log\n",
      "  return np.sign(x-1)* np.sqrt(2*(x - np.log(x) - 1))\n",
      "Finding Maximum Likelihood Value:  36%|███▋      | 4/11 [00:00<00:00, 12.72guess/s]../likelihood.py:377: RuntimeWarning: invalid value encountered in log\n",
      "  return np.sign(x-1)* np.sqrt(2*(x - np.log(x) - 1))\n",
      "../likelihood.py:377: RuntimeWarning: invalid value encountered in log\n",
      "  return np.sign(x-1)* np.sqrt(2*(x - np.log(x) - 1))\n",
      "../likelihood.py:377: RuntimeWarning: invalid value encountered in log\n",
      "  return np.sign(x-1)* np.sqrt(2*(x - np.log(x) - 1))\n",
      "../likelihood.py:377: RuntimeWarning: invalid value encountered in log\n",
      "  return np.sign(x-1)* np.sqrt(2*(x - np.log(x) - 1))\n",
      "Finding Maximum Likelihood Value:  55%|█████▍    | 6/11 [00:00<00:00, 11.76guess/s]../likelihood.py:377: RuntimeWarning: invalid value encountered in log\n",
      "  return np.sign(x-1)* np.sqrt(2*(x - np.log(x) - 1))\n",
      "Finding Maximum Likelihood Value:  55%|█████▍    | 6/11 [00:00<00:00, 10.87guess/s]\n",
      "../likelihood.py:377: RuntimeWarning: invalid value encountered in log\n",
      "  return np.sign(x-1)* np.sqrt(2*(x - np.log(x) - 1))\n"
     ]
    },
    {
     "name": "stdout",
     "output_type": "stream",
     "text": [
      "Setting Alens to 0.42511948780024555\n"
     ]
    },
    {
     "name": "stderr",
     "output_type": "stream",
     "text": [
      "100%|██████████| 2000/2000 [00:23<00:00, 83.35it/s] \n"
     ]
    },
    {
     "data": {
      "text/plain": [
       "<Figure size 576x576 with 0 Axes>"
      ]
     },
     "metadata": {},
     "output_type": "display_data"
    },
    {
     "data": {
      "image/png": "[encoded data removed]",
      "text/plain": [
       "<Figure size 244.8x244.8 with 1 Axes>"
      ]
     },
     "metadata": {
      "needs_background": "light"
     },
     "output_type": "display_data"
    }
   ],
   "source": [
    "method.lh_lib.plot_posterior(2)"
   ]
  },
  {
   "cell_type": "code",
   "execution_count": 41,
   "metadata": {},
   "outputs": [
    {
     "data": {
      "text/plain": [
       "<Figure size 576x576 with 0 Axes>"
      ]
     },
     "metadata": {},
     "output_type": "display_data"
    },
    {
     "data": {
      "image/png": "[encoded data removed]",
      "text/plain": [
       "<Figure size 244.8x244.8 with 1 Axes>"
      ]
     },
     "metadata": {
      "needs_background": "light"
     },
     "output_type": "display_data"
    }
   ],
   "source": [
    "method.lh_lib.plot_posterior(76)"
   ]
  },
  {
   "cell_type": "code",
   "execution_count": 42,
   "metadata": {},
   "outputs": [
    {
     "data": {
      "text/plain": [
       "<Figure size 576x576 with 0 Axes>"
      ]
     },
     "metadata": {},
     "output_type": "display_data"
    },
    {
     "data": {
      "image/png": "[encoded data removed]",
      "text/plain": [
       "<Figure size 244.8x244.8 with 1 Axes>"
      ]
     },
     "metadata": {
      "needs_background": "light"
     },
     "output_type": "display_data"
    }
   ],
   "source": [
    "method.lh_lib.plot_posterior(66)"
   ]
  },
  {
   "cell_type": "code",
   "execution_count": 6,
   "metadata": {},
   "outputs": [
    {
     "name": "stderr",
     "output_type": "stream",
     "text": [
      "Finding Maximum Likelihood Value:   0%|          | 0/11 [00:00<?, ?guess/s]../likelihood.py:378: RuntimeWarning: invalid value encountered in log\n",
      "  \n",
      "../likelihood.py:378: RuntimeWarning: invalid value encountered in log\n",
      "  \n",
      "../likelihood.py:378: RuntimeWarning: invalid value encountered in log\n",
      "  \n",
      "../likelihood.py:378: RuntimeWarning: invalid value encountered in log\n",
      "  \n",
      "../likelihood.py:378: RuntimeWarning: invalid value encountered in log\n",
      "  \n",
      "Finding Maximum Likelihood Value:  18%|█▊        | 2/11 [00:00<00:00, 10.98guess/s]../likelihood.py:378: RuntimeWarning: invalid value encountered in log\n",
      "  \n",
      "../likelihood.py:378: RuntimeWarning: invalid value encountered in log\n",
      "  \n",
      "../likelihood.py:378: RuntimeWarning: invalid value encountered in log\n",
      "  \n",
      "../likelihood.py:378: RuntimeWarning: invalid value encountered in log\n",
      "  \n",
      "Finding Maximum Likelihood Value:  36%|███▋      | 4/11 [00:00<00:00, 10.82guess/s]../likelihood.py:378: RuntimeWarning: invalid value encountered in log\n",
      "  \n",
      "../likelihood.py:378: RuntimeWarning: invalid value encountered in log\n",
      "  \n",
      "../likelihood.py:378: RuntimeWarning: invalid value encountered in log\n",
      "  \n",
      "../likelihood.py:378: RuntimeWarning: invalid value encountered in log\n",
      "  \n",
      "Finding Maximum Likelihood Value:  55%|█████▍    | 6/11 [00:00<00:00, 13.48guess/s]../likelihood.py:378: RuntimeWarning: invalid value encountered in log\n",
      "  \n",
      "Finding Maximum Likelihood Value:  55%|█████▍    | 6/11 [00:00<00:00, 11.91guess/s]\n"
     ]
    },
    {
     "data": {
      "text/plain": [
       "      fun: 15.45282738315955\n",
       " hess_inv: array([[4.81591705e-08, 4.12087352e-09],\n",
       "       [4.12087352e-09, 1.44779327e-09]])\n",
       "      jac: array([ 0.00017869, -0.00016904])\n",
       "  message: 'Desired error not necessarily achieved due to precision loss.'\n",
       "     nfev: 170\n",
       "      nit: 10\n",
       "     njev: 53\n",
       "   status: 2\n",
       "  success: False\n",
       "        x: array([0.00115534, 0.42511949])"
      ]
     },
     "execution_count": 6,
     "metadata": {},
     "output_type": "execute_result"
    }
   ],
   "source": [
    "method.lh_lib.initial_opt(2)"
   ]
  },
  {
   "cell_type": "code",
   "execution_count": 16,
   "metadata": {},
   "outputs": [
    {
     "data": {
      "text/plain": [
       "24.059341860176932"
      ]
     },
     "execution_count": 16,
     "metadata": {},
     "output_type": "execute_result"
    }
   ],
   "source": [
    "method.lh_lib.chi_sq([0, 0.45611949],2)"
   ]
  },
  {
   "cell_type": "code",
   "execution_count": null,
   "metadata": {},
   "outputs": [],
   "source": []
  }
 ],
 "metadata": {
  "kernelspec": {
   "display_name": "PC2python",
   "language": "python",
   "name": "pc2"
  },
  "language_info": {
   "codemirror_mode": {
    "name": "ipython",
    "version": 3
   },
   "file_extension": ".py",
   "mimetype": "text/x-python",
   "name": "python",
   "nbconvert_exporter": "python",
   "pygments_lexer": "ipython3",
   "version": "3.7.11"
  }
 },
 "nbformat": 4,
 "nbformat_minor": 4
}
