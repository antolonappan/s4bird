{
 "cells": [
  {
   "cell_type": "code",
   "execution_count": null,
   "id": "5ede56c4-ac5a-400b-84fc-a823bcb2e38f",
   "metadata": {},
   "outputs": [],
   "source": [
    "import numpy as np\n",
    "import matplotlib.pyplot as plt\n",
    "import pickle as pk\n",
    "import os"
   ]
  },
  {
   "cell_type": "code",
   "execution_count": 54,
   "id": "640778e1-3685-495d-8ab6-198036c071d7",
   "metadata": {},
   "outputs": [],
   "source": [
    "def corr(mat):\n",
    "    sha = mat.shape\n",
    "    corr_mat = np.zeros(sha)\n",
    "    for i in range(sha[0]):\n",
    "        for j in range(sha[1]):\n",
    "            corr_mat[i,j] = mat[i,j]/np.sqrt(mat[i,i]*mat[j,j])      \n",
    "    return corr_mat\n",
    "def plot_corr(mat):\n",
    "    plt.imshow(corr(mat))\n",
    "    plt.colorbar()"
   ]
  },
  {
   "cell_type": "code",
   "execution_count": 2,
   "id": "94019834-a742-4f36-a30f-b8a9486c159d",
   "metadata": {},
   "outputs": [],
   "source": [
    "rs = '/project/projectdirs/litebird/simulations/maps/lensing_project_paper/S4BIRD_old/LiteBird/RS/Pseudo_1024/C_l'\n",
    "gs = '/project/projectdirs/litebird/simulations/maps/lensing_project_paper/S4BIRD_old/LiteBird/GS/Pseudo_1024/C_l'"
   ]
  },
  {
   "cell_type": "code",
   "execution_count": 34,
   "id": "886d0d5c-cb9f-4848-b58e-c266dd57f188",
   "metadata": {},
   "outputs": [],
   "source": [
    "rs_spectra = [pk.load(open(os.path.join(rs,f'sims_delensed_p_eb_{i}.pkl'),'rb'))[3][3:14] for i in range(100)]"
   ]
  },
  {
   "cell_type": "code",
   "execution_count": 35,
   "id": "cdb755b3-4069-4839-a3f4-8ddcfd5a8d1e",
   "metadata": {},
   "outputs": [],
   "source": [
    "gs_spectra = [pk.load(open(os.path.join(gs,f'sims_delensed_p_eb_{i}.pkl'),'rb'))[3][3:14] for i in range(100)]"
   ]
  },
  {
   "cell_type": "code",
   "execution_count": 39,
   "id": "434cabf9-edd9-425d-b9e0-f3834e6873bf",
   "metadata": {},
   "outputs": [],
   "source": [
    "ncov = len(gs_spectra[0])"
   ]
  },
  {
   "cell_type": "code",
   "execution_count": null,
   "id": "62466adb-9e32-43fa-948b-4da2cb91ee63",
   "metadata": {},
   "outputs": [],
   "source": [
    "rs_mean = np.zeros(ncov)\n",
    "for i in range(100):\n",
    "    rs_mean += rs_spectra[i]\n",
    "rs_mean/=100"
   ]
  },
  {
   "cell_type": "code",
   "execution_count": null,
   "id": "de2b89d9-efd3-45ca-b728-f8c889fe3eb5",
   "metadata": {},
   "outputs": [],
   "source": [
    "gs_mean = np.zeros(ncov)\n",
    "for i in range(100):\n",
    "    gs_mean += gs_spectra[i]\n",
    "gs_mean/=100"
   ]
  },
  {
   "cell_type": "code",
   "execution_count": 42,
   "id": "d0825dd6-54df-4dc4-ae28-77ae315cc710",
   "metadata": {},
   "outputs": [],
   "source": [
    "rs_debias_mean = np.zeros(ncov)\n",
    "for i in range(100):\n",
    "    rs_debias_mean += rs_spectra[i] - gs_spectra[i]\n",
    "rs_debias_mean/=100"
   ]
  },
  {
   "cell_type": "code",
   "execution_count": null,
   "id": "e72774cb-7ba9-4190-b5f4-87f4ed14e03e",
   "metadata": {},
   "outputs": [],
   "source": [
    "rs_only_cov = np.zeros([ncov,ncov])\n",
    "for i in range(100):\n",
    "    spec = rs_spectra[i]\n",
    "    rs_only_cov += spec[None,:]*spec[:,None]\n",
    "rs_only_cov/=100\n",
    "rs_only_cov -= rs_mean[None,:]*rs_mean[:,None]"
   ]
  },
  {
   "cell_type": "code",
   "execution_count": null,
   "id": "bc448517-9561-4daf-a388-23d4d3df4f99",
   "metadata": {},
   "outputs": [
    {
     "data": {
      "image/png": "[encoded data removed]",
      "text/plain": [
       "<Figure size 432x288 with 2 Axes>"
      ]
     },
     "metadata": {
      "needs_background": "light"
     },
     "output_type": "display_data"
    }
   ],
   "source": [
    "plot_corr(rs_only_cov)"
   ]
  },
  {
   "cell_type": "code",
   "execution_count": null,
   "id": "e50a361c-8e02-45c9-b86f-5c4fa357bf12",
   "metadata": {},
   "outputs": [],
   "source": [
    "gs_only_cov = np.zeros([ncov,ncov])\n",
    "for i in range(100):\n",
    "    spec = gs_spectra[i]\n",
    "    gs_only_cov += spec[None,:]*spec[:,None]\n",
    "gs_only_cov/=100\n",
    "gs_only_cov -= gs_mean[None,:]*gs_mean[:,None]"
   ]
  },
  {
   "cell_type": "code",
   "execution_count": null,
   "id": "acbe1a9b-9f83-48cc-97c9-493710a022f4",
   "metadata": {},
   "outputs": [
    {
     "data": {
      "image/png": "[encoded data removed]",
      "text/plain": [
       "<Figure size 432x288 with 1 Axes>"
      ]
     },
     "metadata": {
      "needs_background": "light"
     },
     "output_type": "display_data"
    }
   ],
   "source": [
    "plot_corr(gs_only_cov)"
   ]
  },
  {
   "cell_type": "code",
   "execution_count": 49,
   "id": "d963fbe1-acbf-4fa8-acd6-e3119dcb32c5",
   "metadata": {},
   "outputs": [],
   "source": [
    "rs_m_gs_cov = np.zeros([ncov,ncov])\n",
    "for i in range(100):\n",
    "    spec = rs_spectra[i] - gs_spectra[i]\n",
    "    rs_m_gs_cov += spec[None,:]*spec[:,None]\n",
    "rs_m_gs_cov/=100\n",
    "rs_m_gs_cov -= rs_debias_mean[None,:]*rs_debias_mean[:,None]"
   ]
  },
  {
   "cell_type": "code",
   "execution_count": 50,
   "id": "4ea0241f-2e0c-4137-90b5-17523fc5131c",
   "metadata": {},
   "outputs": [
    {
     "data": {
      "image/png": "[encoded data removed]",
      "text/plain": [
       "<Figure size 432x288 with 1 Axes>"
      ]
     },
     "metadata": {
      "needs_background": "light"
     },
     "output_type": "display_data"
    }
   ],
   "source": [
    "plot_corr(rs_m_gs_cov)"
   ]
  },
  {
   "cell_type": "code",
   "execution_count": 51,
   "id": "1d3af6d9-1cf5-44fe-99c3-8c3f7a2eee5a",
   "metadata": {},
   "outputs": [],
   "source": [
    "rs_gs_cov = np.zeros([ncov,ncov])\n",
    "for i in range(100):\n",
    "    spec_r = rs_spectra[i]\n",
    "    spec_g = gs_spectra[i]\n",
    "    rs_gs_cov += spec_r[None,:]*spec_g[:,None]\n",
    "rs_gs_cov/=100\n",
    "rs_gs_cov -= rs_mean[None,:]*gs_mean[:,None]"
   ]
  },
  {
   "cell_type": "code",
   "execution_count": 64,
   "id": "9ea378e2-56a0-42d8-b33c-e9e3e6a4ecd9",
   "metadata": {},
   "outputs": [],
   "source": [
    "rs_diag = np.zeros([ncov,ncov])\n",
    "np.fill_diagonal(rs_diag,np.diag(rs_only_cov))\n",
    "gs_diag = np.zeros([ncov,ncov])\n",
    "np.fill_diagonal(gs_diag,np.diag(gs_only_cov))\n",
    "final = rs_diag + gs_diag - 2*rs_gs_cov"
   ]
  },
  {
   "cell_type": "code",
   "execution_count": 65,
   "id": "57f56973-5a2e-4381-bb3d-519692047873",
   "metadata": {},
   "outputs": [
    {
     "data": {
      "image/png": "[encoded data removed]",
      "text/plain": [
       "<Figure size 432x288 with 2 Axes>"
      ]
     },
     "metadata": {
      "needs_background": "light"
     },
     "output_type": "display_data"
    }
   ],
   "source": [
    "plot_corr(final)"
   ]
  },
  {
   "cell_type": "code",
   "execution_count": 69,
   "id": "ac3103f6-ddeb-4d60-bf17-d6443b4e0500",
   "metadata": {},
   "outputs": [
    {
     "data": {
      "text/plain": [
       "<matplotlib.legend.Legend at 0x2aaae752a5d0>"
      ]
     },
     "execution_count": 69,
     "metadata": {},
     "output_type": "execute_result"
    },
    {
     "data": {
      "image/png": "[encoded data removed]",
      "text/plain": [
       "<Figure size 432x288 with 1 Axes>"
      ]
     },
     "metadata": {
      "needs_background": "light"
     },
     "output_type": "display_data"
    }
   ],
   "source": [
    "plt.loglog(np.diag(final),label='d+b-2c')\n",
    "plt.loglog(np.diag(rs_m_gs_cov),label='sim')\n",
    "plt.loglog(np.diag(rs_only_cov),label='rs')\n",
    "plt.loglog(np.diag(gs_only_cov),label='gs')\n",
    "plt.loglog(np.diag(gs_only_cov)+np.diag(rs_only_cov),label='ant0')\n",
    "plt.legend()"
   ]
  },
  {
   "cell_type": "code",
   "execution_count": null,
   "id": "625b80cd-b080-44c5-975b-85de8db9871f",
   "metadata": {},
   "outputs": [],
   "source": []
  }
 ],
 "metadata": {
  "kernelspec": {
   "display_name": "PC2python",
   "language": "python",
   "name": "pc2"
  },
  "language_info": {
   "codemirror_mode": {
    "name": "ipython",
    "version": 3
   },
   "file_extension": ".py",
   "mimetype": "text/x-python",
   "name": "python",
   "nbconvert_exporter": "python",
   "pygments_lexer": "ipython3",
   "version": "3.7.11"
  }
 },
 "nbformat": 4,
 "nbformat_minor": 5
}
