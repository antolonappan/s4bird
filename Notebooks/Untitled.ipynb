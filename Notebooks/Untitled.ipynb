{
 "cells": [
  {
   "cell_type": "code",
   "execution_count": 1,
   "id": "3f23f37f-dc96-4fad-99ec-9b79b9e8368d",
   "metadata": {},
   "outputs": [],
   "source": [
    "%matplotlib inline\n",
    "import os\n",
    "import lenspyx\n",
    "from lenspyx.utils import camb_clfile,camb_clfile2\n",
    "import matplotlib.pyplot as plt\n",
    "import numpy as np\n",
    "import pickle as pk"
   ]
  },
  {
   "cell_type": "code",
   "execution_count": 2,
   "id": "c748f62c-61a3-4f57-9bf1-6fca28b931de",
   "metadata": {},
   "outputs": [],
   "source": [
    "path = \"Sims/CAMB/\"\n",
    "len_file = \"BBSims_lensed_dls.dat\"\n",
    "scal_file =  \"BBSims_scal_dls.dat\"\n",
    "tens_file = \"BBSims_tens_dls.dat\"\n",
    "pot_file = \"BBSims_lenspotential.dat\""
   ]
  },
  {
   "cell_type": "code",
   "execution_count": 3,
   "id": "9fcbec9e-310c-4791-b8c9-62557134fe46",
   "metadata": {},
   "outputs": [],
   "source": [
    "lensed = camb_clfile2(os.path.join(path, len_file))\n",
    "scalar = camb_clfile2(os.path.join(path, scal_file))\n",
    "tensor = camb_clfile2(os.path.join(path, tens_file))\n",
    "poten = camb_clfile2(os.path.join(path, pot_file))"
   ]
  },
  {
   "cell_type": "code",
   "execution_count": 4,
   "id": "30790297-f4eb-431b-9c30-a441272b5b01",
   "metadata": {},
   "outputs": [],
   "source": [
    "n = np.radians(2.15/60)**2"
   ]
  },
  {
   "cell_type": "code",
   "execution_count": 5,
   "id": "78ed5732-d1ac-40e1-957a-5cc8938efee7",
   "metadata": {},
   "outputs": [
    {
     "data": {
      "text/plain": [
       "(2, 3000)"
      ]
     },
     "execution_count": 5,
     "metadata": {},
     "output_type": "execute_result"
    },
    {
     "data": {
      "image/png": "[encoded data removed]",
      "text/plain": [
       "<Figure size 432x288 with 1 Axes>"
      ]
     },
     "metadata": {
      "needs_background": "light"
     },
     "output_type": "display_data"
    }
   ],
   "source": [
    "plt.loglog(lensed['bb']+n)\n",
    "plt.loglog(tensor['bb'])\n",
    "plt.axhline(n)\n",
    "plt.xlim(2,3000)"
   ]
  },
  {
   "cell_type": "code",
   "execution_count": 6,
   "id": "898b9c15-2e01-45b8-9a1b-9ea2fc1207ea",
   "metadata": {},
   "outputs": [],
   "source": [
    "ell = np.arange(len(lensed['bb']))"
   ]
  },
  {
   "cell_type": "code",
   "execution_count": 17,
   "id": "874da446-09a2-4632-951c-ed4f37093175",
   "metadata": {},
   "outputs": [],
   "source": [
    "def sigma_r(alens=1,fsky=.8,lmin=90,lmax=150):\n",
    "    f_rr = (ell[lmin:lmax+1] + 0.5)*fsky * ((tensor['bb'][lmin:lmax+1]/((alens*lensed['bb'][lmin:lmax+1]+n)))**2)\n",
    "    return f\"{np.sum(f_rr)**-.5:.2e}\"\n",
    "\n"
   ]
  },
  {
   "cell_type": "code",
   "execution_count": 18,
   "id": "62932269-a709-4c5d-abc0-203aea4b69a0",
   "metadata": {},
   "outputs": [
    {
     "data": {
      "text/plain": [
       "'1.19e-03'"
      ]
     },
     "execution_count": 18,
     "metadata": {},
     "output_type": "execute_result"
    }
   ],
   "source": [
    "sigma_r(1)"
   ]
  },
  {
   "cell_type": "code",
   "execution_count": 19,
   "id": "38b1bf33-d51e-48b8-b7dd-10b03b724f04",
   "metadata": {},
   "outputs": [
    {
     "data": {
      "text/plain": [
       "'1.07e-03'"
      ]
     },
     "execution_count": 19,
     "metadata": {},
     "output_type": "execute_result"
    }
   ],
   "source": [
    "sigma_r(.88)"
   ]
  },
  {
   "cell_type": "code",
   "execution_count": 13,
   "id": "5580eef6-4c2f-4cc9-8fc6-05ec1ee24045",
   "metadata": {},
   "outputs": [
    {
     "data": {
      "text/plain": [
       "0.000347857321271181"
      ]
     },
     "execution_count": 13,
     "metadata": {},
     "output_type": "execute_result"
    }
   ],
   "source": [
    "sigma_r(.45,.4)"
   ]
  },
  {
   "cell_type": "code",
   "execution_count": null,
   "id": "5919f37a-312a-451d-9b80-ee19de3a43a7",
   "metadata": {},
   "outputs": [],
   "source": []
  }
 ],
 "metadata": {
  "kernelspec": {
   "display_name": "PC2python",
   "language": "python",
   "name": "pc2"
  },
  "language_info": {
   "codemirror_mode": {
    "name": "ipython",
    "version": 3
   },
   "file_extension": ".py",
   "mimetype": "text/x-python",
   "name": "python",
   "nbconvert_exporter": "python",
   "pygments_lexer": "ipython3",
   "version": "3.7.11"
  }
 },
 "nbformat": 4,
 "nbformat_minor": 5
}
