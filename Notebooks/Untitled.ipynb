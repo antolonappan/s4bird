{
 "cells": [
  {
   "cell_type": "code",
   "execution_count": 1,
   "id": "3b3d4cec-47fc-406b-a091-4c886d53747d",
   "metadata": {},
   "outputs": [],
   "source": [
    "import numpy as np\n",
    "import os \n",
    "import pandas as pd"
   ]
  },
  {
   "cell_type": "code",
   "execution_count": 2,
   "id": "2375f84e-35ce-4bcc-a6cf-717aa08ecd16",
   "metadata": {},
   "outputs": [],
   "source": [
    "def camb_clfile(fname, lmax=None):\n",
    "    \"\"\"CAMB spectra (lenspotentialCls, lensedCls or tensCls types) returned as a dict of numpy arrays.\n",
    "    Args:\n",
    "        fname (str): path to CAMB output file\n",
    "        lmax (int, optional): outputs cls truncated at this multipole.\n",
    "    \"\"\"\n",
    "    cols = np.loadtxt(fname).transpose()\n",
    "    ell = np.int_(cols[0])\n",
    "    if lmax is None: lmax = ell[-1]\n",
    "    assert ell[-1] >= lmax, (ell[-1], lmax)\n",
    "    cls = {k : np.zeros(lmax + 1, dtype=float) for k in ['tt', 'ee', 'bb', 'te']}\n",
    "    w = ell * (ell + 1) / (2. * np.pi)  # weights in output file\n",
    "    idc = np.where(ell <= lmax) if lmax is not None else np.arange(len(ell), dtype=int)\n",
    "    for i, k in enumerate(['tt', 'ee', 'bb', 'te']):\n",
    "        cls[k][ell[idc]] = cols[i + 1][idc] / w[idc]\n",
    "    if len(cols) > 5:\n",
    "        wpp = lambda ell : ell ** 2 * (ell + 1) ** 2 / (2. * np.pi)\n",
    "        wptpe = lambda ell : np.sqrt(ell.astype(float) ** 3 * (ell + 1.) ** 3) / (2. * np.pi)\n",
    "        for i, k in enumerate(['pp', 'pt', 'pe']):\n",
    "            cls[k] = np.zeros(lmax + 1, dtype=float)\n",
    "        cls['pp'][ell[idc]] = cols[5][idc] / wpp(ell[idc])\n",
    "        cls['pt'][ell[idc]] = cols[6][idc] / wptpe(ell[idc])\n",
    "        cls['pe'][ell[idc]] = cols[7][idc] / wptpe(ell[idc])\n",
    "    return cls"
   ]
  },
  {
   "cell_type": "code",
   "execution_count": 3,
   "id": "2b2447b0-0376-448b-ae83-8e3dca44dc2d",
   "metadata": {},
   "outputs": [],
   "source": [
    "path = \"Sims/CAMB/\"\n",
    "len_file = \"BBSims_lensed_dls.dat\"\n",
    "unlen_file =  \"BBSims_scal_dls.dat\"\n",
    "pot_file = \"BBSims_lenspotential.dat\""
   ]
  },
  {
   "cell_type": "code",
   "execution_count": 4,
   "id": "47eb8c7d-45c4-4283-a7e2-2c2692337fe3",
   "metadata": {},
   "outputs": [],
   "source": [
    "sca = os.path.join(path,unlen_file)\n",
    "with open(sca) as f:\n",
    "    firstline = next(f)"
   ]
  },
  {
   "cell_type": "code",
   "execution_count": 5,
   "id": "0a6d7db6-9137-4091-a594-aa242d51de80",
   "metadata": {},
   "outputs": [],
   "source": [
    "keys = [i.lower() for i in firstline.split(' ') if i.isalpha()][1:]   "
   ]
  },
  {
   "cell_type": "code",
   "execution_count": null,
   "id": "635bf8e5-a0b4-4c99-96cb-a740b02b96c6",
   "metadata": {},
   "outputs": [],
   "source": []
  },
  {
   "cell_type": "code",
   "execution_count": 6,
   "id": "fd64f996-93e7-4d59-8d3b-1f27619c28a2",
   "metadata": {},
   "outputs": [
    {
     "data": {
      "text/plain": [
       "['tt', 'ee', 'te', 'pp', 'tp']"
      ]
     },
     "execution_count": 6,
     "metadata": {},
     "output_type": "execute_result"
    }
   ],
   "source": [
    "keys"
   ]
  },
  {
   "cell_type": "code",
   "execution_count": 43,
   "id": "0fed958f-0618-42de-a176-6dbdd4763afa",
   "metadata": {},
   "outputs": [],
   "source": [
    "def camb_clfile2(fname, lmax=None):\n",
    "    with open(fname) as f:\n",
    "        firstline = next(f)\n",
    "    keys = [i.lower() for i in firstline.split(' ') if i.isalpha()][1:]\n",
    "    cols = np.loadtxt(fname).transpose()\n",
    "    \n",
    "    ell = np.int_(cols[0])\n",
    "    if lmax is None: lmax = ell[-1]\n",
    "    assert ell[-1] >= lmax, (ell[-1], lmax)\n",
    "    \n",
    "    cls = {k : np.zeros(lmax + 1, dtype=float) for k in keys}\n",
    "    \n",
    "    idc = np.where(ell <= lmax) if lmax is not None else np.arange(len(ell), dtype=int)\n",
    "    \n",
    "    w = lambda ell :ell * (ell + 1) / (2. * np.pi)\n",
    "    wpp = lambda ell : ell ** 2 * (ell + 1) ** 2 / (2. * np.pi)\n",
    "    wptpe = lambda ell :np.sqrt(ell.astype(float) ** 3 * (ell + 1.) ** 3) / (2. * np.pi) \n",
    "    for i, k in enumerate(keys):\n",
    "        if k == 'pp':\n",
    "            we = wpp(ell)\n",
    "        elif 'p' in k and ('e' in k or 't' in k):\n",
    "            we = wptpe(ell)\n",
    "        else:\n",
    "            we = w(ell)\n",
    "        cls[k][ell[idc]] = cols[i + 1][idc] / we[idc]\n",
    "    return cls"
   ]
  },
  {
   "cell_type": "code",
   "execution_count": 48,
   "id": "1f144c56-53d9-4391-97aa-27533fe5b780",
   "metadata": {},
   "outputs": [
    {
     "data": {
      "text/plain": [
       "{'tt': array([   0.        ,    0.        , 1069.29341953,  506.20848946,\n",
       "         287.52892691,  183.61059208,  127.21670011,   93.53643327,\n",
       "          71.86244842,   57.20330586,   46.75638058]),\n",
       " 'ee': array([0.        , 0.        , 0.03255989, 0.02091306, 0.01090585,\n",
       "        0.00486777, 0.00194988, 0.00079019, 0.00039518, 0.00025339,\n",
       "        0.00017723]),\n",
       " 'bb': array([0.00000000e+00, 0.00000000e+00, 1.91781665e-06, 1.91635057e-06,\n",
       "        1.91550758e-06, 1.91524473e-06, 1.91538416e-06, 1.91575442e-06,\n",
       "        1.91628425e-06, 1.91691606e-06, 1.91765100e-06]),\n",
       " 'te': array([0.        , 0.        , 2.75969018, 1.54635997, 0.87043793,\n",
       "        0.49435683, 0.28456845, 0.16766456, 0.10298315, 0.06769511,\n",
       "        0.04862866])}"
      ]
     },
     "execution_count": 48,
     "metadata": {},
     "output_type": "execute_result"
    }
   ],
   "source": [
    "camb_clfile(os.path.join(path,len_file),lmax=10)"
   ]
  },
  {
   "cell_type": "code",
   "execution_count": 47,
   "id": "938fb9c9-ffb1-4627-895c-89ab2aa7d5e7",
   "metadata": {},
   "outputs": [
    {
     "data": {
      "text/plain": [
       "{'tt': array([   0.        ,    0.        , 1069.29341953,  506.20848946,\n",
       "         287.52892691,  183.61059208,  127.21670011,   93.53643327,\n",
       "          71.86244842,   57.20330586,   46.75638058]),\n",
       " 'ee': array([0.        , 0.        , 0.03255989, 0.02091306, 0.01090585,\n",
       "        0.00486777, 0.00194988, 0.00079019, 0.00039518, 0.00025339,\n",
       "        0.00017723]),\n",
       " 'bb': array([0.00000000e+00, 0.00000000e+00, 1.91781665e-06, 1.91635057e-06,\n",
       "        1.91550758e-06, 1.91524473e-06, 1.91538416e-06, 1.91575442e-06,\n",
       "        1.91628425e-06, 1.91691606e-06, 1.91765100e-06]),\n",
       " 'te': array([0.        , 0.        , 2.75969018, 1.54635997, 0.87043793,\n",
       "        0.49435683, 0.28456845, 0.16766456, 0.10298315, 0.06769511,\n",
       "        0.04862866])}"
      ]
     },
     "execution_count": 47,
     "metadata": {},
     "output_type": "execute_result"
    }
   ],
   "source": [
    "camb_clfile2(os.path.join(path,len_file),lmax=10)"
   ]
  },
  {
   "cell_type": "code",
   "execution_count": null,
   "id": "9d9e3214-f18d-4e78-9922-3bd58d3b1646",
   "metadata": {},
   "outputs": [],
   "source": []
  },
  {
   "cell_type": "code",
   "execution_count": null,
   "id": "acdb287c-a770-4d74-8f85-ff214889293f",
   "metadata": {},
   "outputs": [],
   "source": []
  }
 ],
 "metadata": {
  "kernelspec": {
   "display_name": "PC2python",
   "language": "python",
   "name": "pc2"
  },
  "language_info": {
   "codemirror_mode": {
    "name": "ipython",
    "version": 3
   },
   "file_extension": ".py",
   "mimetype": "text/x-python",
   "name": "python",
   "nbconvert_exporter": "python",
   "pygments_lexer": "ipython3",
   "version": "3.7.11"
  }
 },
 "nbformat": 4,
 "nbformat_minor": 5
}
