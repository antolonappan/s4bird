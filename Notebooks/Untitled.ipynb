{
 "cells": [
  {
   "cell_type": "code",
   "execution_count": 1,
   "id": "18d919ac-c592-4ba1-8e32-1ba2a0bbafab",
   "metadata": {},
   "outputs": [],
   "source": [
    "import healpy as hp"
   ]
  },
  {
   "cell_type": "code",
   "execution_count": 2,
   "id": "3ccf594d-a41a-4ef5-a32f-eedffb314010",
   "metadata": {},
   "outputs": [],
   "source": [
    "import numpy as np"
   ]
  },
  {
   "cell_type": "code",
   "execution_count": 3,
   "id": "ab15d702-8f1d-41eb-bec3-af248e67298e",
   "metadata": {},
   "outputs": [],
   "source": [
    "import os"
   ]
  },
  {
   "cell_type": "code",
   "execution_count": 4,
   "id": "2b238c8b-22ce-4b82-8c50-119bdd077f34",
   "metadata": {},
   "outputs": [],
   "source": [
    "scr = os.environ['SCRATCH']"
   ]
  },
  {
   "cell_type": "code",
   "execution_count": 5,
   "id": "78faecd8-8adb-4a32-bb05-6550d599fc80",
   "metadata": {},
   "outputs": [],
   "source": [
    "path = os.path.join(scr,'S4BIRD','CMB_Lensed_Maps')"
   ]
  },
  {
   "cell_type": "code",
   "execution_count": 6,
   "id": "77b8ec97-6eb8-419e-9dd8-d608fc979061",
   "metadata": {},
   "outputs": [
    {
     "data": {
      "text/plain": [
       "'/global/cscratch1/sd/lonappan/S4BIRD/CMB_Lensed_Maps'"
      ]
     },
     "execution_count": 6,
     "metadata": {},
     "output_type": "execute_result"
    }
   ],
   "source": [
    "path"
   ]
  },
  {
   "cell_type": "code",
   "execution_count": 7,
   "id": "2b2a448b-4d20-49a6-89b6-02a99b3e4d8c",
   "metadata": {},
   "outputs": [
    {
     "name": "stderr",
     "output_type": "stream",
     "text": [
      "/global/homes/l/lonappan/.conda/envs/PC/lib/python3.6/site-packages/healpy/fitsfunc.py:369: UserWarning: If you are not specifying the input dtype and using the default np.float64 dtype of read_map(), please consider that it will change in a future version to None as to keep the same dtype of the input file: please explicitly set the dtype if it is important to you.\n",
      "  \"If you are not specifying the input dtype and using the default \"\n",
      "/global/homes/l/lonappan/.conda/envs/PC/lib/python3.6/site-packages/healpy/fitsfunc.py:391: UserWarning: NSIDE = 2048\n",
      "  warnings.warn(\"NSIDE = {0:d}\".format(nside))\n",
      "/global/homes/l/lonappan/.conda/envs/PC/lib/python3.6/site-packages/healpy/fitsfunc.py:400: UserWarning: ORDERING = RING in fits file\n",
      "  warnings.warn(\"ORDERING = {0:s} in fits file\".format(ordering))\n",
      "/global/homes/l/lonappan/.conda/envs/PC/lib/python3.6/site-packages/healpy/fitsfunc.py:428: UserWarning: INDXSCHM = IMPLICIT\n",
      "  warnings.warn(\"INDXSCHM = {0:s}\".format(schm))\n"
     ]
    }
   ],
   "source": [
    "maps = hp.read_map(os.path.join(path,'cmbonly_1.fits'),field=(0,1,2))"
   ]
  },
  {
   "cell_type": "code",
   "execution_count": 8,
   "id": "1a621351-cade-4d09-8054-7f967f3de51b",
   "metadata": {},
   "outputs": [],
   "source": [
    "alms = hp.map2alm(maps)"
   ]
  },
  {
   "cell_type": "code",
   "execution_count": 9,
   "id": "e384adc2-c16f-4206-b7b7-448d8ca46d8e",
   "metadata": {},
   "outputs": [],
   "source": [
    "cl = hp.alm2cl(alms)"
   ]
  },
  {
   "cell_type": "code",
   "execution_count": 14,
   "id": "cfc8662b-0ac9-4c4a-bb50-28660d16bddd",
   "metadata": {},
   "outputs": [
    {
     "data": {
      "text/plain": [
       "[<matplotlib.lines.Line2D at 0x2aab1a9aef60>]"
      ]
     },
     "execution_count": 14,
     "metadata": {},
     "output_type": "execute_result"
    },
    {
     "data": {
      "image/png": "[encoded data removed]",
      "text/plain": [
       "<Figure size 432x288 with 1 Axes>"
      ]
     },
     "metadata": {
      "needs_background": "light"
     },
     "output_type": "display_data"
    }
   ],
   "source": [
    "plt.loglog(cl[2])"
   ]
  },
  {
   "cell_type": "code",
   "execution_count": 11,
   "id": "323a05f2-a6e2-4ab5-b821-4aaddd746c41",
   "metadata": {},
   "outputs": [],
   "source": [
    "import matplotlib.pyplot as plt"
   ]
  },
  {
   "cell_type": "code",
   "execution_count": null,
   "id": "4c3cbc8d-b6b7-4477-a566-c108ff59d431",
   "metadata": {},
   "outputs": [],
   "source": []
  }
 ],
 "metadata": {
  "kernelspec": {
   "display_name": "PCpython",
   "language": "python",
   "name": "pc"
  },
  "language_info": {
   "codemirror_mode": {
    "name": "ipython",
    "version": 3
   },
   "file_extension": ".py",
   "mimetype": "text/x-python",
   "name": "python",
   "nbconvert_exporter": "python",
   "pygments_lexer": "ipython3",
   "version": "3.6.13"
  }
 },
 "nbformat": 4,
 "nbformat_minor": 5
}
