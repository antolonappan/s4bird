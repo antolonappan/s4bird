{
 "cells": [
  {
   "cell_type": "code",
   "execution_count": 1,
   "id": "9ec2d5ef-cd1c-4be8-8485-3e910086e8fe",
   "metadata": {},
   "outputs": [],
   "source": [
    "from glob import glob"
   ]
  },
  {
   "cell_type": "code",
   "execution_count": 4,
   "id": "69a121a9-5d94-4e5e-a2a6-0f134133e38d",
   "metadata": {},
   "outputs": [],
   "source": [
    "dir = '/global/cscratch1/sd/lonappan/S4BIRD/LiteBIRD/SIM_SET1/Maps/*'"
   ]
  },
  {
   "cell_type": "code",
   "execution_count": 36,
   "id": "c6eadbd3-b645-47ef-8626-ecb7cd47a124",
   "metadata": {},
   "outputs": [],
   "source": [
    "files = glob(dir)"
   ]
  },
  {
   "cell_type": "code",
   "execution_count": 37,
   "id": "a23525c5-3cb4-4dc8-b3ef-994589bc26ca",
   "metadata": {},
   "outputs": [
    {
     "data": {
      "text/plain": [
       "1000"
      ]
     },
     "execution_count": 37,
     "metadata": {},
     "output_type": "execute_result"
    }
   ],
   "source": [
    "len(files)"
   ]
  },
  {
   "cell_type": "code",
   "execution_count": 16,
   "id": "6d3d6495-8380-4d4f-8136-219ee13eda1a",
   "metadata": {},
   "outputs": [],
   "source": [
    "filesno = [int(file[-9:-5]) for file in files]"
   ]
  },
  {
   "cell_type": "code",
   "execution_count": 18,
   "id": "61a82641-109e-480e-ae56-26a893be20a0",
   "metadata": {},
   "outputs": [],
   "source": [
    "import numpy as np"
   ]
  },
  {
   "cell_type": "code",
   "execution_count": 20,
   "id": "9e019ea4-6321-4eef-b390-56a3f2e1e7cc",
   "metadata": {},
   "outputs": [],
   "source": [
    "total = np.arange(0,1000)"
   ]
  },
  {
   "cell_type": "code",
   "execution_count": 21,
   "id": "8f1e589b-8c46-4b89-9837-6f373f916de1",
   "metadata": {},
   "outputs": [],
   "source": [
    "missing = []\n",
    "for i in total:\n",
    "    if i not in filesno:\n",
    "        missing.append(i)"
   ]
  },
  {
   "cell_type": "code",
   "execution_count": 23,
   "id": "0c81ef42-548a-401f-93fe-6e43e72c2513",
   "metadata": {},
   "outputs": [
    {
     "data": {
      "text/plain": [
       "1000"
      ]
     },
     "execution_count": 23,
     "metadata": {},
     "output_type": "execute_result"
    }
   ],
   "source": [
    "len(missing) + len(files)"
   ]
  },
  {
   "cell_type": "code",
   "execution_count": 26,
   "id": "b7299715-bf35-4782-9ac2-b26eae608b0e",
   "metadata": {},
   "outputs": [],
   "source": [
    "missing = np.array(missing)"
   ]
  },
  {
   "cell_type": "code",
   "execution_count": 29,
   "id": "412bf798-613b-4f45-ade9-d5d1954f9afa",
   "metadata": {},
   "outputs": [
    {
     "ename": "TypeError",
     "evalue": "_savetxt_dispatcher() got an unexpected keyword argument 'dtype'",
     "output_type": "error",
     "traceback": [
      "\u001b[0;31m---------------------------------------------------------------------------\u001b[0m",
      "\u001b[0;31mTypeError\u001b[0m                                 Traceback (most recent call last)",
      "\u001b[0;32m/tmp/ipykernel_33288/1755553072.py\u001b[0m in \u001b[0;36m<module>\u001b[0;34m\u001b[0m\n\u001b[0;32m----> 1\u001b[0;31m \u001b[0mnp\u001b[0m\u001b[0;34m.\u001b[0m\u001b[0msavetxt\u001b[0m\u001b[0;34m(\u001b[0m\u001b[0;34m'../missing_sim.dat'\u001b[0m\u001b[0;34m,\u001b[0m\u001b[0mmissing\u001b[0m\u001b[0;34m,\u001b[0m\u001b[0mdtype\u001b[0m\u001b[0;34m=\u001b[0m\u001b[0mint\u001b[0m\u001b[0;34m)\u001b[0m\u001b[0;34m\u001b[0m\u001b[0;34m\u001b[0m\u001b[0m\n\u001b[0m",
      "\u001b[0;32m<__array_function__ internals>\u001b[0m in \u001b[0;36msavetxt\u001b[0;34m(*args, **kwargs)\u001b[0m\n",
      "\u001b[0;31mTypeError\u001b[0m: _savetxt_dispatcher() got an unexpected keyword argument 'dtype'"
     ]
    }
   ],
   "source": [
    "np.savetxt('../missing_sim.dat',missing,)"
   ]
  },
  {
   "cell_type": "code",
   "execution_count": 32,
   "id": "064c043a-aa73-43ed-917e-09e1ed8d2471",
   "metadata": {},
   "outputs": [
    {
     "data": {
      "text/plain": [
       "array([ 12,  48,  50,  52,  54,  56,  58,  60,  62,  64, 256, 258, 260,\n",
       "       262, 264, 266, 268, 270, 304, 306, 308, 310, 312, 314, 316, 318,\n",
       "       386, 390, 396, 398, 480, 482, 484, 486, 488, 490, 492, 494, 496,\n",
       "       498, 502, 508, 512, 514, 516, 518, 520, 522, 524, 526, 576, 578,\n",
       "       580, 582, 584, 586, 588, 590, 592, 594, 596, 598, 600, 602, 604,\n",
       "       606, 608, 610, 612, 614, 616, 618, 620, 622, 640, 642, 644, 646,\n",
       "       648, 650, 652, 654, 670, 672, 674, 676, 678, 680, 682, 684, 704,\n",
       "       712, 714, 715, 717, 719, 721, 723, 725, 727, 729, 760, 762, 764,\n",
       "       766, 768, 770, 772, 774, 775, 777, 779, 781, 783, 785, 787, 789,\n",
       "       790, 792, 794, 796, 798, 800, 802, 804, 850, 852, 854, 856, 858,\n",
       "       860, 862, 864, 963, 985, 987, 989, 991, 993, 995, 997, 999])"
      ]
     },
     "execution_count": 32,
     "metadata": {},
     "output_type": "execute_result"
    }
   ],
   "source": [
    "np.loadtxt('../missing_sim.dat').astype(int)"
   ]
  },
  {
   "cell_type": "code",
   "execution_count": 33,
   "id": "0a8e78c2-9b38-4c11-a29a-f0951e893712",
   "metadata": {},
   "outputs": [
    {
     "data": {
      "text/plain": [
       "142"
      ]
     },
     "execution_count": 33,
     "metadata": {},
     "output_type": "execute_result"
    }
   ],
   "source": [
    "len(missing)"
   ]
  },
  {
   "cell_type": "code",
   "execution_count": null,
   "id": "dedbf021-5e8e-4714-8a7d-5d088a3c3765",
   "metadata": {},
   "outputs": [],
   "source": []
  }
 ],
 "metadata": {
  "kernelspec": {
   "display_name": "PC2python",
   "language": "python",
   "name": "pc2"
  },
  "language_info": {
   "codemirror_mode": {
    "name": "ipython",
    "version": 3
   },
   "file_extension": ".py",
   "mimetype": "text/x-python",
   "name": "python",
   "nbconvert_exporter": "python",
   "pygments_lexer": "ipython3",
   "version": "3.7.11"
  }
 },
 "nbformat": 4,
 "nbformat_minor": 5
}
