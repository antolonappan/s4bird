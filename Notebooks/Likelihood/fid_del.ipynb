{
 "cells": [
  {
   "cell_type": "code",
   "execution_count": 1,
   "id": "a270650b-7a3e-4c0e-aa09-3c8e3b9ee003",
   "metadata": {},
   "outputs": [],
   "source": [
    "import os\n",
    "import lenspyx\n",
    "from lenspyx.utils import camb_clfile\n",
    "import healpy as hp\n",
    "import numpy as np\n",
    "import matplotlib.pyplot as plt\n",
    "import pymaster as nmt\n",
    "import pickle as pk\n",
    "import emcee\n",
    "import corner"
   ]
  },
  {
   "cell_type": "code",
   "execution_count": 2,
   "id": "5ecba505-7dbe-4b91-ad99-8c22f21afc6c",
   "metadata": {},
   "outputs": [],
   "source": [
    "cl_len = camb_clfile('/project/projectdirs/litebird/simulations/S4BIRD/CAMB/s4bird_lensedCls.dat')\n",
    "cl_unl = camb_clfile('/project/projectdirs/litebird/simulations/S4BIRD/CAMB/s4bird_lenspotentialCls.dat')\n",
    "ini = '/project/projectdirs/litebird/simulations/S4BIRD/CAMB/CAMB.ini'"
   ]
  },
  {
   "cell_type": "code",
   "execution_count": 3,
   "id": "8b179449-b709-4215-b6bf-f4531c10b2d3",
   "metadata": {},
   "outputs": [],
   "source": [
    "import sys\n",
    "sys.path.append('/global/u2/l/lonappan/workspace/s4bird/s4bird/validations_dir')\n",
    "from noise import noise_realisation\n",
    "sys.path.append('../../')\n",
    "from likelihood import cosmology"
   ]
  },
  {
   "cell_type": "code",
   "execution_count": 4,
   "id": "76f4501f-228d-4d88-a4f1-7cb55738124a",
   "metadata": {},
   "outputs": [],
   "source": [
    "lmax = 4096\n",
    "dlmax = 1024\n",
    "nside = 2048 \n",
    "facres = -1"
   ]
  },
  {
   "cell_type": "code",
   "execution_count": 5,
   "id": "18637c8c-01d6-48a2-ba6c-650fc6f7d735",
   "metadata": {},
   "outputs": [],
   "source": [
    "plm = hp.synalm(cl_unl['pp'], lmax=lmax + dlmax, new=True)"
   ]
  },
  {
   "cell_type": "code",
   "execution_count": 6,
   "id": "b25610da-879d-4ddf-bfae-411ebd94694f",
   "metadata": {},
   "outputs": [],
   "source": [
    "dlm = hp.almxfl(plm, np.sqrt(np.arange(lmax + 1, dtype=float) * np.arange(1, lmax + 2)))"
   ]
  },
  {
   "cell_type": "code",
   "execution_count": 7,
   "id": "223d95bb-6f79-4e6f-b192-5e0cf29d2665",
   "metadata": {},
   "outputs": [
    {
     "name": "stdout",
     "output_type": "stream",
     "text": [
      "BAND 0 in 8 :\n",
      "resolve_poles: I have flipped 3 signs out of 6 pixels on north pole\n",
      "resolve_poles: I have flipped 0 signs out of 2 pixels on south pole\n",
      "input t1,t2 -0.296 11.641 in degrees\n",
      "North 18.661 and South 18.701 buffers in amin\n",
      "cell (theta,phi) in amin (1.870,1.064)\n",
      "BAND 1 in 8 :\n",
      "input t1,t2 10.859 22.917 in degrees\n",
      "North 18.879 and South 18.865 buffers in amin\n",
      "cell (theta,phi) in amin (1.889,1.027)\n",
      "BAND 2 in 8 :\n",
      "input t1,t2 22.106 34.187 in degrees\n",
      "North 18.863 and South 18.910 buffers in amin\n",
      "cell (theta,phi) in amin (1.893,1.482)\n",
      "BAND 3 in 8 :\n",
      "input t1,t2 33.353 45.400 in degrees\n",
      "North 18.872 and South 18.835 buffers in amin\n",
      "cell (theta,phi) in amin (1.887,0.939)\n",
      "BAND 4 in 8 :\n",
      "input t1,t2 44.571 56.659 in degrees\n",
      "North 18.924 and South 18.903 buffers in amin\n",
      "cell (theta,phi) in amin (1.894,1.101)\n",
      "BAND 5 in 8 :\n",
      "input t1,t2 55.841 67.913 in degrees\n",
      "North 18.912 and South 18.909 buffers in amin\n",
      "cell (theta,phi) in amin (1.891,1.222)\n",
      "BAND 6 in 8 :\n",
      "input t1,t2 67.070 79.172 in degrees\n",
      "North 18.891 and South 18.960 buffers in amin\n",
      "cell (theta,phi) in amin (1.896,1.295)\n",
      "BAND 7 in 8 :\n",
      "input t1,t2 78.332 90.408 in degrees\n",
      "North 18.891 and South 18.913 buffers in amin\n",
      "cell (theta,phi) in amin (1.892,1.318)\n",
      "    defl. spin 1 transform:  [00:01:02] \n",
      "        defl. angles calc.:  [00:00:09] \n",
      "                       vtm:  [00:04:39] \n",
      "               vtm2filtmap:  [00:00:14] \n",
      "                    interp:  [00:00:15] \n",
      "    pol. //-transport rot.:  [00:00:14] \n",
      "                     Total:  [00:06:36] \n",
      "Number of interpolating pixels: 78643200 ~ 8868^2 \n"
     ]
    }
   ],
   "source": [
    "elm_unl = hp.synalm(cl_unl['ee'], lmax=lmax + dlmax, new=True)\n",
    "Qlen, Ulen  = lenspyx.alm2lenmap_spin([elm_unl, None], [dlm, None], nside, 2, facres=facres)\n",
    "elm_len, blm_len = hp.map2alm_spin([Qlen, Ulen], 2, lmax=lmax)"
   ]
  },
  {
   "cell_type": "code",
   "execution_count": 8,
   "id": "07f7dbf4-7ef9-4703-9220-e8c5793e8234",
   "metadata": {},
   "outputs": [
    {
     "name": "stderr",
     "output_type": "stream",
     "text": [
      "/global/homes/l/lonappan/.conda/envs/PC/lib/python3.6/site-packages/ipykernel_launcher.py:3: RuntimeWarning: invalid value encountered in true_divide\n",
      "  This is separate from the ipykernel package so we can avoid doing imports until\n"
     ]
    },
    {
     "data": {
      "text/plain": [
       "<matplotlib.legend.Legend at 0x2aab131f7da0>"
      ]
     },
     "execution_count": 8,
     "metadata": {},
     "output_type": "execute_result"
    },
    {
     "data": {
      "image/png": "[encoded data removed]",
      "text/plain": [
       "<Figure size 432x288 with 1 Axes>"
      ]
     },
     "metadata": {
      "needs_background": "light"
     },
     "output_type": "display_data"
    }
   ],
   "source": [
    "ell = np.arange(2500)\n",
    "plt.figure()\n",
    "plt.plot(ell, hp.alm2cl(blm_len)[ell] /cl_len['bb'][ell], label=r'$\\hat C_\\ell^{\\rm BB, len}/ C_\\ell^{\\rm BB, len}$')\n",
    "plt.axhline(1., c='k')\n",
    "plt.ylim(0.8, 1.2)\n",
    "plt.legend(fontsize=12)"
   ]
  },
  {
   "cell_type": "code",
   "execution_count": 9,
   "id": "826fbeb2-676d-48e6-89ef-2641244242d3",
   "metadata": {},
   "outputs": [
    {
     "name": "stdout",
     "output_type": "stream",
     "text": [
      "BAND 0 in 8 :\n",
      "resolve_poles: I have flipped 3 signs out of 6 pixels on north pole\n",
      "resolve_poles: I have flipped 0 signs out of 2 pixels on south pole\n",
      "input t1,t2 -0.296 11.641 in degrees\n",
      "North 18.661 and South 18.701 buffers in amin\n",
      "cell (theta,phi) in amin (1.870,1.064)\n",
      "BAND 1 in 8 :\n",
      "input t1,t2 10.859 22.917 in degrees\n",
      "North 18.879 and South 18.865 buffers in amin\n",
      "cell (theta,phi) in amin (1.889,1.027)\n",
      "BAND 2 in 8 :\n",
      "input t1,t2 22.106 34.187 in degrees\n",
      "North 18.863 and South 18.910 buffers in amin\n",
      "cell (theta,phi) in amin (1.893,1.482)\n",
      "BAND 3 in 8 :\n",
      "input t1,t2 33.353 45.400 in degrees\n",
      "North 18.872 and South 18.835 buffers in amin\n",
      "cell (theta,phi) in amin (1.887,0.939)\n",
      "BAND 4 in 8 :\n",
      "input t1,t2 44.571 56.659 in degrees\n",
      "North 18.924 and South 18.903 buffers in amin\n",
      "cell (theta,phi) in amin (1.894,1.101)\n",
      "BAND 5 in 8 :\n",
      "input t1,t2 55.841 67.913 in degrees\n",
      "North 18.912 and South 18.909 buffers in amin\n",
      "cell (theta,phi) in amin (1.891,1.222)\n",
      "BAND 6 in 8 :\n",
      "input t1,t2 67.070 79.172 in degrees\n",
      "North 18.891 and South 18.960 buffers in amin\n",
      "cell (theta,phi) in amin (1.896,1.295)\n",
      "BAND 7 in 8 :\n",
      "input t1,t2 78.332 90.408 in degrees\n",
      "North 18.891 and South 18.913 buffers in amin\n",
      "cell (theta,phi) in amin (1.892,1.318)\n",
      "    defl. spin 1 transform:  [00:01:01] \n",
      "        defl. angles calc.:  [00:00:09] \n",
      "                       vtm:  [00:02:56] \n",
      "               vtm2filtmap:  [00:00:06] \n",
      "                    interp:  [00:00:15] \n",
      "    pol. //-transport rot.:  [00:00:13] \n",
      "                     Total:  [00:04:43] \n",
      "Number of interpolating pixels: 78643200 ~ 8868^2 \n"
     ]
    }
   ],
   "source": [
    "Qtemp, Utemp  = lenspyx.alm2lenmap_spin([elm_len, None], [dlm, None], nside, 2, facres=facres)\n",
    "elm_del, blm_del = hp.map2alm_spin([Qlen-Qtemp, Ulen-Utemp], 2, lmax=lmax)"
   ]
  },
  {
   "cell_type": "code",
   "execution_count": 10,
   "id": "5f0ac0b8-c7df-4d7a-b58a-381083907614",
   "metadata": {},
   "outputs": [
    {
     "data": {
      "text/plain": [
       "[<matplotlib.lines.Line2D at 0x2aab133315c0>]"
      ]
     },
     "execution_count": 10,
     "metadata": {},
     "output_type": "execute_result"
    },
    {
     "data": {
      "image/png": "[encoded data removed]",
      "text/plain": [
       "<Figure size 432x288 with 1 Axes>"
      ]
     },
     "metadata": {
      "needs_background": "light"
     },
     "output_type": "display_data"
    }
   ],
   "source": [
    "plt.loglog(hp.alm2cl(blm_del)[ell])\n",
    "plt.loglog(hp.alm2cl(blm_len)[ell])"
   ]
  },
  {
   "cell_type": "code",
   "execution_count": 6,
   "id": "2d7c1221-e81c-45dc-b4a4-20819b1af4c6",
   "metadata": {},
   "outputs": [],
   "source": [
    "wk = nmt.NmtWorkspace()"
   ]
  },
  {
   "cell_type": "code",
   "execution_count": 7,
   "id": "3bef5656-4635-41e9-bea2-bb17b667e6af",
   "metadata": {},
   "outputs": [
    {
     "name": "stderr",
     "output_type": "stream",
     "text": [
      "/global/homes/l/lonappan/.conda/envs/PC/lib/python3.6/site-packages/healpy/fitsfunc.py:369: UserWarning: If you are not specifying the input dtype and using the default np.float64 dtype of read_map(), please consider that it will change in a future version to None as to keep the same dtype of the input file: please explicitly set the dtype if it is important to you.\n",
      "  \"If you are not specifying the input dtype and using the default \"\n",
      "/global/homes/l/lonappan/.conda/envs/PC/lib/python3.6/site-packages/healpy/fitsfunc.py:391: UserWarning: NSIDE = 512\n",
      "  warnings.warn(\"NSIDE = {0:d}\".format(nside))\n",
      "/global/homes/l/lonappan/.conda/envs/PC/lib/python3.6/site-packages/healpy/fitsfunc.py:400: UserWarning: ORDERING = RING in fits file\n",
      "  warnings.warn(\"ORDERING = {0:s} in fits file\".format(ordering))\n",
      "/global/homes/l/lonappan/.conda/envs/PC/lib/python3.6/site-packages/healpy/fitsfunc.py:428: UserWarning: INDXSCHM = IMPLICIT\n",
      "  warnings.warn(\"INDXSCHM = {0:s}\".format(schm))\n"
     ]
    }
   ],
   "source": [
    "mask = hp.read_map('/global/u2/l/lonappan/workspace/S4bird/Data/masks/cmbs4_512_apo_C1_10.fits.gz')"
   ]
  },
  {
   "cell_type": "code",
   "execution_count": 13,
   "id": "b5322d75-da1b-4128-86f0-fc576ad24dba",
   "metadata": {},
   "outputs": [],
   "source": [
    "noise = noise_realisation(nside,1.5,2.15,0)"
   ]
  },
  {
   "cell_type": "code",
   "execution_count": 14,
   "id": "f41dc403-02e4-4e7b-af5b-447081ecddbb",
   "metadata": {},
   "outputs": [
    {
     "name": "stderr",
     "output_type": "stream",
     "text": [
      "/global/homes/l/lonappan/.conda/envs/PC/lib/python3.6/site-packages/healpy/sphtfunc.py:824: UserWarning: Sigma is 12.739827 arcmin (0.003706 rad) \n",
      "  sigma * 60 * 180 / np.pi, sigma\n",
      "/global/homes/l/lonappan/.conda/envs/PC/lib/python3.6/site-packages/healpy/sphtfunc.py:829: UserWarning: -> fwhm is 30.000000 arcmin\n",
      "  sigma * 60 * 180 / np.pi * (2.0 * np.sqrt(2.0 * np.log(2.0)))\n",
      "/global/homes/l/lonappan/.conda/envs/PC/lib/python3.6/site-packages/healpy/sphtfunc.py:824: UserWarning: Sigma is 0.000000 arcmin (0.000000 rad) \n",
      "  sigma * 60 * 180 / np.pi, sigma\n",
      "/global/homes/l/lonappan/.conda/envs/PC/lib/python3.6/site-packages/healpy/sphtfunc.py:829: UserWarning: -> fwhm is 0.000000 arcmin\n",
      "  sigma * 60 * 180 / np.pi * (2.0 * np.sqrt(2.0 * np.log(2.0)))\n"
     ]
    }
   ],
   "source": [
    "Qdel = hp.smoothing(Qlen-Qtemp, np.radians(.5)) + noise[1]\n",
    "Udel = hp.smoothing(Ulen-Utemp, np.radians(.5)) + noise[2]\n",
    "f2  = nmt.NmtField(mask, [hp.ud_grade(Qdel,512), hp.ud_grade(Udel,512)],purify_b=True)"
   ]
  },
  {
   "cell_type": "code",
   "execution_count": 18,
   "id": "2bff28e4-0257-46c5-a5f4-9e8bc89b7142",
   "metadata": {},
   "outputs": [],
   "source": [
    "b = nmt.NmtBin.from_nside_linear(512, 10)"
   ]
  },
  {
   "cell_type": "code",
   "execution_count": 19,
   "id": "9f6058ee-9938-4e45-8268-fb0c4fb4b2ee",
   "metadata": {},
   "outputs": [
    {
     "ename": "NameError",
     "evalue": "name 'f2' is not defined",
     "output_type": "error",
     "traceback": [
      "\u001b[0;31m---------------------------------------------------------------------------\u001b[0m",
      "\u001b[0;31mNameError\u001b[0m                                 Traceback (most recent call last)",
      "\u001b[0;32m<ipython-input-19-1f41b13f8532>\u001b[0m in \u001b[0;36m<module>\u001b[0;34m\u001b[0m\n\u001b[0;32m----> 1\u001b[0;31m \u001b[0mwk\u001b[0m\u001b[0;34m.\u001b[0m\u001b[0mcompute_coupling_matrix\u001b[0m\u001b[0;34m(\u001b[0m\u001b[0mf2\u001b[0m\u001b[0;34m,\u001b[0m \u001b[0mf2\u001b[0m\u001b[0;34m,\u001b[0m \u001b[0mb\u001b[0m\u001b[0;34m)\u001b[0m\u001b[0;34m\u001b[0m\u001b[0;34m\u001b[0m\u001b[0m\n\u001b[0m",
      "\u001b[0;31mNameError\u001b[0m: name 'f2' is not defined"
     ]
    }
   ],
   "source": [
    "wk.compute_coupling_matrix(f2, f2, b)"
   ]
  },
  {
   "cell_type": "code",
   "execution_count": 20,
   "id": "70371496-d2f8-4002-b87a-267b8346d095",
   "metadata": {},
   "outputs": [],
   "source": [
    "cw = nmt.NmtCovarianceWorkspace()"
   ]
  },
  {
   "cell_type": "code",
   "execution_count": 18,
   "id": "1e45b608-3fc6-4ae6-98c4-8c8725c3bead",
   "metadata": {},
   "outputs": [],
   "source": [
    "cw.compute_coupling_coefficients(f2, f2, f2, f2)"
   ]
  },
  {
   "cell_type": "code",
   "execution_count": 19,
   "id": "8a8567c1-9910-4d83-8d65-1021623807ae",
   "metadata": {},
   "outputs": [],
   "source": [
    "def compute_master(f_a, f_b, wsp):\n",
    "    cl_coupled = nmt.compute_coupled_cell(f_a, f_b)\n",
    "    cl_decoupled = wsp.decouple_cell(cl_coupled)\n",
    "    return cl_decoupled"
   ]
  },
  {
   "cell_type": "code",
   "execution_count": 20,
   "id": "6ea5d699-cb97-4f04-9e82-9a8da5abe3a4",
   "metadata": {},
   "outputs": [],
   "source": [
    "cl_22 = compute_master(f2,f2,wk)"
   ]
  },
  {
   "cell_type": "code",
   "execution_count": 21,
   "id": "e6007b58-3d02-45ba-b014-e6d62ee4ad96",
   "metadata": {},
   "outputs": [],
   "source": [
    "n_ell = len(cl_22[0])"
   ]
  },
  {
   "cell_type": "code",
   "execution_count": 22,
   "id": "1e122771-2508-444d-80c5-9a18f7cee840",
   "metadata": {},
   "outputs": [],
   "source": [
    "cl_ee = cl_len['ee'][:b.lmax+1]\n",
    "cl_eb = 0*cl_ee\n",
    "cl_bb = cl_len['bb'][:b.lmax+1]\n",
    "\n",
    "\n",
    "covar_22_22 = nmt.gaussian_covariance(cw, 2, 2, 2, 2,  # Spins of the 4 fields\n",
    "                                      [cl_ee, cl_eb,\n",
    "                                       cl_eb, cl_bb],  # EE, EB, BE, BB\n",
    "                                      [cl_ee, cl_eb,\n",
    "                                       cl_eb, cl_bb],  # EE, EB, BE, BB\n",
    "                                      [cl_ee, cl_eb,\n",
    "                                       cl_eb, cl_bb],  # EE, EB, BE, BB\n",
    "                                      [cl_ee, cl_eb,\n",
    "                                       cl_eb, cl_bb],  # EE, EB, BE, BB\n",
    "                                      wk, wb=wk).reshape([n_ell, 4,\n",
    "                                                            n_ell, 4])"
   ]
  },
  {
   "cell_type": "code",
   "execution_count": 8,
   "id": "5e0321fb-22d2-4893-a6fc-592ba54eb2be",
   "metadata": {},
   "outputs": [],
   "source": [
    "covar_BB_BB = pk.load(open('cov_del_r_s4.pkl','rb'))#covar_22_22[:, 3, :, 3]"
   ]
  },
  {
   "cell_type": "code",
   "execution_count": 9,
   "id": "0a94f88b-0b79-40e3-973e-9aa4f949fea6",
   "metadata": {},
   "outputs": [],
   "source": [
    "#pk.dump(covar_BB_BB,open('cov_del.pkl','wb'))"
   ]
  },
  {
   "cell_type": "code",
   "execution_count": 10,
   "id": "008e3dfb-f649-4267-8949-c3a1c1d23deb",
   "metadata": {},
   "outputs": [],
   "source": [
    "cov_inv = np.linalg.inv(covar_BB_BB)"
   ]
  },
  {
   "cell_type": "code",
   "execution_count": 11,
   "id": "6ac53618-0b94-47fa-b153-030b2406e5df",
   "metadata": {},
   "outputs": [
    {
     "data": {
      "text/plain": [
       "array([[1.43978050e+14, 4.06939277e+14, 6.24735769e+14, ...,\n",
       "        1.44822420e+14, 1.43562623e+14, 1.45201867e+14],\n",
       "       [4.06939277e+14, 1.16518765e+15, 1.76829519e+15, ...,\n",
       "        4.09160268e+14, 4.05601749e+14, 4.10178917e+14],\n",
       "       [6.24735769e+14, 1.76829519e+15, 2.73392002e+15, ...,\n",
       "        6.28421165e+14, 6.22947550e+14, 6.30047675e+14],\n",
       "       ...,\n",
       "       [1.44822420e+14, 4.09160268e+14, 6.28421165e+14, ...,\n",
       "        8.21153616e+16, 6.91807885e+15, 5.25358350e+14],\n",
       "       [1.43562623e+14, 4.05601749e+14, 6.22947550e+14, ...,\n",
       "        6.91807885e+15, 8.64136386e+16, 7.27709001e+15],\n",
       "       [1.45201867e+14, 4.10178917e+14, 6.30047675e+14, ...,\n",
       "        5.25358350e+14, 7.27709001e+15, 9.10240585e+16]])"
      ]
     },
     "execution_count": 11,
     "metadata": {},
     "output_type": "execute_result"
    }
   ],
   "source": [
    "cov_inv"
   ]
  },
  {
   "cell_type": "code",
   "execution_count": 12,
   "id": "95c08ecb-7155-4268-9b83-7342c9cdfe18",
   "metadata": {},
   "outputs": [],
   "source": [
    "import pickle as pl"
   ]
  },
  {
   "cell_type": "code",
   "execution_count": 13,
   "id": "2dc9d56b-c474-41ef-9c4a-66899182c4f0",
   "metadata": {},
   "outputs": [],
   "source": [
    "lb_spectra = pl.load(open('lb_spectra.pkl','rb'))"
   ]
  },
  {
   "cell_type": "code",
   "execution_count": 14,
   "id": "cf6ae85e-1fd6-4d4a-9e52-5c34a5cbd365",
   "metadata": {},
   "outputs": [],
   "source": [
    "len_m,len_s,del_m,del_s = lb_spectra"
   ]
  },
  {
   "cell_type": "code",
   "execution_count": 21,
   "id": "61502b22-f982-475e-a9c8-618d3c2ae7f4",
   "metadata": {},
   "outputs": [
    {
     "ename": "NameError",
     "evalue": "name 'cl_22' is not defined",
     "output_type": "error",
     "traceback": [
      "\u001b[0;31m---------------------------------------------------------------------------\u001b[0m",
      "\u001b[0;31mNameError\u001b[0m                                 Traceback (most recent call last)",
      "\u001b[0;32m<ipython-input-21-38ff221dda2f>\u001b[0m in \u001b[0;36m<module>\u001b[0;34m\u001b[0m\n\u001b[1;32m      1\u001b[0m \u001b[0mplt\u001b[0m\u001b[0;34m.\u001b[0m\u001b[0mloglog\u001b[0m\u001b[0;34m(\u001b[0m\u001b[0mdel_m\u001b[0m\u001b[0;34m,\u001b[0m \u001b[0mlabel\u001b[0m\u001b[0;34m=\u001b[0m\u001b[0;34m'Experiment'\u001b[0m\u001b[0;34m)\u001b[0m\u001b[0;34m\u001b[0m\u001b[0;34m\u001b[0m\u001b[0m\n\u001b[0;32m----> 2\u001b[0;31m \u001b[0mplt\u001b[0m\u001b[0;34m.\u001b[0m\u001b[0mloglog\u001b[0m\u001b[0;34m(\u001b[0m\u001b[0mcl_22\u001b[0m\u001b[0;34m[\u001b[0m\u001b[0;36m3\u001b[0m\u001b[0;34m]\u001b[0m\u001b[0;34m,\u001b[0m \u001b[0mlabel\u001b[0m\u001b[0;34m=\u001b[0m\u001b[0;34m'Computed'\u001b[0m\u001b[0;34m)\u001b[0m\u001b[0;34m\u001b[0m\u001b[0;34m\u001b[0m\u001b[0m\n\u001b[0m\u001b[1;32m      3\u001b[0m \u001b[0mplt\u001b[0m\u001b[0;34m.\u001b[0m\u001b[0maxhline\u001b[0m\u001b[0;34m(\u001b[0m\u001b[0mnp\u001b[0m\u001b[0;34m.\u001b[0m\u001b[0mradians\u001b[0m\u001b[0;34m(\u001b[0m\u001b[0;36m2.15\u001b[0m\u001b[0;34m/\u001b[0m\u001b[0;36m60\u001b[0m\u001b[0;34m)\u001b[0m\u001b[0;34m**\u001b[0m\u001b[0;36m2\u001b[0m\u001b[0;34m)\u001b[0m\u001b[0;34m\u001b[0m\u001b[0;34m\u001b[0m\u001b[0m\n\u001b[1;32m      4\u001b[0m \u001b[0mplt\u001b[0m\u001b[0;34m.\u001b[0m\u001b[0mlegend\u001b[0m\u001b[0;34m(\u001b[0m\u001b[0;34m)\u001b[0m\u001b[0;34m\u001b[0m\u001b[0;34m\u001b[0m\u001b[0m\n",
      "\u001b[0;31mNameError\u001b[0m: name 'cl_22' is not defined"
     ]
    },
    {
     "data": {
      "image/png": "[encoded data removed]",
      "text/plain": [
       "<Figure size 432x288 with 1 Axes>"
      ]
     },
     "metadata": {
      "needs_background": "light"
     },
     "output_type": "display_data"
    }
   ],
   "source": [
    "plt.loglog(del_m, label='Experiment')\n",
    "plt.loglog(cl_22[3], label='Computed')\n",
    "plt.axhline(np.radians(2.15/60)**2)\n",
    "plt.legend()"
   ]
  },
  {
   "cell_type": "code",
   "execution_count": null,
   "id": "ee2e204e-f5da-425c-9819-02d65fb5ab91",
   "metadata": {},
   "outputs": [],
   "source": []
  },
  {
   "cell_type": "code",
   "execution_count": 22,
   "id": "ba6a714d-1923-4b27-91f3-e7e3caf7ec8e",
   "metadata": {},
   "outputs": [],
   "source": [
    "lmin = 30\n",
    "lmax = 180"
   ]
  },
  {
   "cell_type": "code",
   "execution_count": 23,
   "id": "aaea5cf4-7bec-4e21-ad59-f0fa74c09315",
   "metadata": {},
   "outputs": [],
   "source": [
    "ell_e = b.get_effective_ells()\n",
    "sel  = np.where((ell_e < lmax) & (ell_e >lmin))[0]"
   ]
  },
  {
   "cell_type": "code",
   "execution_count": 24,
   "id": "fe4d4a10-fdb5-47a1-a1be-8f0e2d5708ae",
   "metadata": {},
   "outputs": [],
   "source": [
    "imin = sel[0]\n",
    "imax = sel[-1]+1"
   ]
  },
  {
   "cell_type": "code",
   "execution_count": 25,
   "id": "b3a354b4-3a6e-4bd3-a10e-d3e74cd1e6cd",
   "metadata": {},
   "outputs": [
    {
     "data": {
      "text/plain": [
       "15"
      ]
     },
     "execution_count": 25,
     "metadata": {},
     "output_type": "execute_result"
    }
   ],
   "source": [
    "len(sel)"
   ]
  },
  {
   "cell_type": "code",
   "execution_count": 26,
   "id": "6d9bb8ad-ca3f-442c-88dc-0d7374dd291a",
   "metadata": {},
   "outputs": [
    {
     "data": {
      "text/plain": [
       "(15, 15)"
      ]
     },
     "execution_count": 26,
     "metadata": {},
     "output_type": "execute_result"
    }
   ],
   "source": [
    "covar_BB_BB[imin:imax,imin:imax].shape"
   ]
  },
  {
   "cell_type": "code",
   "execution_count": 27,
   "id": "cf0f120e-4eca-46c2-b8a1-7c6524a735a9",
   "metadata": {},
   "outputs": [],
   "source": [
    "cos = cosmology('/global/u2/l/lonappan/workspace/S4bird/Notebooks/Likelihood/Test/',2048,10,ini,True)"
   ]
  },
  {
   "cell_type": "code",
   "execution_count": 28,
   "id": "2e7368ad-60c4-499a-a6e4-1b7cf7f99ac9",
   "metadata": {},
   "outputs": [
    {
     "name": "stdout",
     "output_type": "stream",
     "text": [
      "returning cache\n"
     ]
    }
   ],
   "source": [
    "bb_lensing = cos.get_BB('S',r=0)"
   ]
  },
  {
   "cell_type": "code",
   "execution_count": 29,
   "id": "acb70383-bb83-4879-a522-c7244bc96b60",
   "metadata": {},
   "outputs": [
    {
     "name": "stdout",
     "output_type": "stream",
     "text": [
      "returning cache\n"
     ]
    }
   ],
   "source": [
    "bb_tensor = cos.get_BB('T',1)"
   ]
  },
  {
   "cell_type": "code",
   "execution_count": 30,
   "id": "1d0a2645-0ac2-419b-939a-412e5a3e7733",
   "metadata": {},
   "outputs": [
    {
     "name": "stderr",
     "output_type": "stream",
     "text": [
      "/global/homes/l/lonappan/.conda/envs/PC/lib/python3.6/site-packages/ipykernel_launcher.py:3: RuntimeWarning: invalid value encountered in true_divide\n",
      "  This is separate from the ipykernel package so we can avoid doing imports until\n"
     ]
    },
    {
     "data": {
      "text/plain": [
       "(1e-06, 3.469023500264554e-06)"
      ]
     },
     "execution_count": 30,
     "metadata": {},
     "output_type": "execute_result"
    },
    {
     "data": {
      "image/png": "[encoded data removed]",
      "text/plain": [
       "<Figure size 432x288 with 1 Axes>"
      ]
     },
     "metadata": {
      "needs_background": "light"
     },
     "output_type": "display_data"
    }
   ],
   "source": [
    "ell = np.arange(len(bb_lensing))\n",
    "dl = ell*(ell+1)/(2*np.pi)\n",
    "plt.loglog(bb_lensing/dl)\n",
    "plt.loglog(cl_len['bb'])\n",
    "plt.xlim(2,400)\n",
    "plt.ylim(10**-6,None)"
   ]
  },
  {
   "cell_type": "code",
   "execution_count": 31,
   "id": "83b85d00-0cac-4a35-b681-496cbb71f1af",
   "metadata": {},
   "outputs": [
    {
     "data": {
      "text/plain": [
       "<matplotlib.legend.Legend at 0x2aaafbfb4c18>"
      ]
     },
     "execution_count": 31,
     "metadata": {},
     "output_type": "execute_result"
    },
    {
     "data": {
      "image/png": "[encoded data removed]",
      "text/plain": [
       "<Figure size 432x288 with 1 Axes>"
      ]
     },
     "metadata": {
      "needs_background": "light"
     },
     "output_type": "display_data"
    }
   ],
   "source": [
    "dl = ell_e*(ell_e+1)/(2*np.pi)\n",
    "dl2 = ell*(ell+1)/(2*np.pi)\n",
    "plt.loglog(ell_e,b.bin_cell(bb_lensing[:b.lmax+1])/dl)\n",
    "plt.loglog(ell, cl_len['bb'][ell], label='theroy')\n",
    "#pl.loglog(ell,cos.get_BB('S')[ell]/dl2, label='theory gene')\n",
    "plt.legend(fontsize=12)"
   ]
  },
  {
   "cell_type": "code",
   "execution_count": 82,
   "id": "8529bb11-24c5-44b7-9426-8c6d0dcf95e5",
   "metadata": {},
   "outputs": [],
   "source": [
    "bb_lens = b.bin_cell(bb_lensing[:b.lmax+1])\n",
    "bb_tens = b.bin_cell(bb_tensor[:b.lmax+1])\n",
    "fid = pk.load(open('c_fid_s4.pkl','rb'))[sel]#cl_22[3][sel]\n",
    "cov_inv_fid = cov_inv[imin:imax,imin:imax]\n",
    "\n",
    "dl = ell_e*(ell_e+1)/(2*np.pi)\n",
    "#cl_data = b.bin_cell(cl_len['bb'][:b.lmax+1])[sel]* dl[sel]\n",
    "#cl_data = b.bin_cell(cos.get_BB('S')[:b.lmax+1])[sel]"
   ]
  },
  {
   "cell_type": "code",
   "execution_count": 83,
   "id": "03997944-7b42-450b-b67b-a2dc66cd894e",
   "metadata": {},
   "outputs": [],
   "source": [
    "import pickle as pk\n",
    "lb_spectra = pk.load(open('lb_spectra.pkl','rb'))\n",
    "lb_s4_spectra = pk.load(open('lb_s4_spectra.pkl','rb'))\n",
    "lb_s4plb_spectra = pk.load(open('lb_s4plb_spectra.pkl','rb'))\n",
    "lb_bias = pk.load(open('lb_bias.pkl','rb'))\n",
    "lb_s4_bias = pk.load(open('lb_s4_bias.pkl','rb'))\n",
    "lb_s4plb_bias = pk.load(open('lb_s4plb_bias.pkl','rb'))\n",
    "len_m,len_s,del_m,del_s = lb_spectra\n",
    "len_m_s,len_s_s,del_m_s,del_s_s = lb_s4_spectra\n",
    "len_m_spl,len_s_spl,del_m_spl,del_s_spl = lb_s4plb_spectra\n",
    "\n",
    "\n",
    "#cl_data = (del_m[sel]-lb_bias[sel])*dl[sel]\n",
    "cl_data = (del_m_s[sel]-lb_s4_bias[sel])*dl[sel]\n",
    "#cl_data = (del_m_spl[sel]-lb_s4plb_bias[sel])*dl[sel]"
   ]
  },
  {
   "cell_type": "code",
   "execution_count": null,
   "id": "cc9270f8-22c1-4c84-9e3f-2fc38420e91f",
   "metadata": {},
   "outputs": [],
   "source": []
  },
  {
   "cell_type": "code",
   "execution_count": 84,
   "id": "ca8a4c7f-778b-4965-af7b-5948167b6014",
   "metadata": {},
   "outputs": [],
   "source": [
    "bl = cos.get_beam(30)"
   ]
  },
  {
   "cell_type": "code",
   "execution_count": 85,
   "id": "0baf0409-663a-45cf-bfc5-8359137e730e",
   "metadata": {},
   "outputs": [],
   "source": [
    "def X(cl_obs,cl_theo):\n",
    "    return cl_obs/cl_theo\n",
    "\n",
    "def theory(r,alens):\n",
    "    return (r*bb_tens[sel] + alens*bb_lens[sel])*bl[sel]**2 + (np.ones(len(sel))*np.radians(2.15/60)**2 * dl[sel])\n",
    "def G(cl_obs,cl_theo):\n",
    "    x = X(cl_obs,cl_theo)\n",
    "    return np.sign(x-1)* np.sqrt(2*(x - np.log(x) - 1))\n",
    "def vect(theta):\n",
    "    r,alens = theta\n",
    "    cl_th = theory(r,alens)\n",
    "    g = G(cl_data,cl_th)\n",
    "    return g*fid\n",
    "def lh(theta):\n",
    "    vec = vect(theta)\n",
    "    l = np.dot(np.dot(vec,cov_inv_fid),vec)\n",
    "    return  l"
   ]
  },
  {
   "cell_type": "code",
   "execution_count": 86,
   "id": "001e403b-3c4e-43fc-9038-8671766ba83e",
   "metadata": {},
   "outputs": [
    {
     "data": {
      "text/plain": [
       "3.91137228601128e-07"
      ]
     },
     "execution_count": 86,
     "metadata": {},
     "output_type": "execute_result"
    }
   ],
   "source": [
    "np.radians(2.15/60)**2"
   ]
  },
  {
   "cell_type": "code",
   "execution_count": 87,
   "id": "47615711-6670-4157-8750-9a2ff846c424",
   "metadata": {},
   "outputs": [
    {
     "data": {
      "text/plain": [
       "<matplotlib.legend.Legend at 0x2aaafbbc87b8>"
      ]
     },
     "execution_count": 87,
     "metadata": {},
     "output_type": "execute_result"
    },
    {
     "data": {
      "image/png": "[encoded data removed]",
      "text/plain": [
       "<Figure size 432x288 with 1 Axes>"
      ]
     },
     "metadata": {
      "needs_background": "light"
     },
     "output_type": "display_data"
    }
   ],
   "source": [
    "plt.loglog(ell_e[sel],theory(0,1),label='theory')\n",
    "plt.errorbar(ell_e[sel],cl_data,yerr=len_s[sel]*dl[sel],fmt='o',label='data')\n",
    "plt.loglog(ell_e[sel], fid*dl[sel],label='fid')\n",
    "plt.legend()"
   ]
  },
  {
   "cell_type": "code",
   "execution_count": 88,
   "id": "81c182da-8234-40cb-a463-1800f03d96d8",
   "metadata": {},
   "outputs": [],
   "source": [
    "def log_prior(theta):\n",
    "    r,alens = theta\n",
    "    if  -0.5 < r < 0.5 and 0 < alens <1.5:\n",
    "        return 0.0\n",
    "    return -np.inf\n",
    "\n",
    "def log_probability(theta):\n",
    "    lp = log_prior(theta)\n",
    "    if not np.isfinite(lp):\n",
    "        return -np.inf\n",
    "    return lp  -.5 * lh(theta)"
   ]
  },
  {
   "cell_type": "code",
   "execution_count": 89,
   "id": "5bc617bb-152b-42c5-ae81-0288f73a4777",
   "metadata": {},
   "outputs": [
    {
     "name": "stderr",
     "output_type": "stream",
     "text": [
      "100%|██████████| 10000/10000 [00:53<00:00, 186.43it/s]\n"
     ]
    },
    {
     "data": {
      "text/plain": [
       "State([[-6.90917888e-04  4.63668982e-01]\n",
       " [-1.69687531e-04  4.42452384e-01]\n",
       " [-5.66021870e-04  4.64677735e-01]\n",
       " [ 3.94676373e-06  4.37021498e-01]\n",
       " [-8.98607658e-04  4.75820018e-01]\n",
       " [-1.40278439e-03  5.02803804e-01]\n",
       " [ 2.05564191e-04  4.23059900e-01]\n",
       " [-4.93074923e-04  4.61306606e-01]\n",
       " [-1.30949601e-04  4.43431898e-01]\n",
       " [ 2.57605310e-04  4.22730690e-01]\n",
       " [-2.23147431e-04  4.49786280e-01]\n",
       " [ 8.21963285e-06  4.37640761e-01]\n",
       " [-4.83244411e-04  4.64508913e-01]\n",
       " [-3.99770195e-04  4.59725037e-01]\n",
       " [-1.07492068e-03  4.88727570e-01]\n",
       " [-6.57732686e-04  4.68862009e-01]\n",
       " [ 8.38431292e-04  3.90128047e-01]\n",
       " [-6.51787591e-04  4.72894440e-01]\n",
       " [-2.19738104e-04  4.46473762e-01]\n",
       " [-4.60052882e-04  4.57365993e-01]\n",
       " [-2.19657458e-04  4.46787990e-01]\n",
       " [-6.18988395e-05  4.33467709e-01]\n",
       " [-9.06528909e-04  4.76617456e-01]\n",
       " [ 2.29471527e-04  4.23102343e-01]\n",
       " [-4.79301735e-04  4.59104224e-01]\n",
       " [ 4.65138575e-04  4.10730296e-01]\n",
       " [-5.03239070e-04  4.64019099e-01]\n",
       " [-2.08377560e-05  4.43274106e-01]\n",
       " [-4.98689334e-04  4.62205452e-01]\n",
       " [-1.69151966e-04  4.43956089e-01]\n",
       " [ 4.28103066e-04  4.10382494e-01]\n",
       " [ 5.46058116e-05  4.33026511e-01]\n",
       " [-1.02383524e-03  4.90972464e-01]\n",
       " [-5.58606180e-04  4.72082098e-01]\n",
       " [ 5.06719858e-04  4.08440207e-01]\n",
       " [-3.50082444e-04  4.52438064e-01]\n",
       " [-3.28789092e-04  4.54558004e-01]\n",
       " [-6.37280597e-04  4.70516323e-01]\n",
       " [ 1.48450666e-04  4.28915087e-01]\n",
       " [-6.07182077e-05  4.34012651e-01]\n",
       " [-3.28800210e-05  4.31560365e-01]\n",
       " [-7.95011308e-04  4.81367380e-01]\n",
       " [-6.64496127e-06  4.42324852e-01]\n",
       " [-6.45184597e-04  4.69835824e-01]\n",
       " [-8.27516768e-04  4.75944761e-01]\n",
       " [-2.10935517e-04  4.53683824e-01]\n",
       " [-1.06003872e-03  4.90726802e-01]\n",
       " [-4.32247817e-04  4.53223483e-01]\n",
       " [-3.34168149e-04  4.45280553e-01]\n",
       " [-6.75844995e-04  4.67381406e-01]\n",
       " [-1.25756715e-04  4.47359558e-01]\n",
       " [-3.02895941e-04  4.50695824e-01]\n",
       " [ 1.21425465e-04  4.26681882e-01]\n",
       " [-1.04189462e-04  4.39491311e-01]\n",
       " [-6.01166244e-04  4.67095141e-01]\n",
       " [ 6.02114019e-04  4.05716140e-01]\n",
       " [-8.57704217e-04  4.83713525e-01]\n",
       " [-3.39163062e-04  4.51273569e-01]\n",
       " [ 2.06818340e-04  4.28919327e-01]\n",
       " [-2.69829474e-04  4.43274609e-01]\n",
       " [ 4.63282525e-05  4.32099194e-01]\n",
       " [ 9.92047143e-05  4.36418186e-01]\n",
       " [-7.47774378e-04  4.76579046e-01]\n",
       " [-7.47870838e-04  4.70754239e-01]\n",
       " [ 1.78620712e-04  4.27518258e-01]\n",
       " [ 4.46645787e-04  4.12240409e-01]\n",
       " [-1.03347778e-03  4.89728095e-01]\n",
       " [ 2.87950862e-04  4.23085775e-01]\n",
       " [-9.24824634e-04  4.77928419e-01]\n",
       " [ 4.51100754e-05  4.36049020e-01]\n",
       " [-4.77080322e-04  4.55883966e-01]\n",
       " [-2.08817925e-04  4.47522895e-01]\n",
       " [-4.22191114e-04  4.52443101e-01]\n",
       " [ 1.29487148e-03  3.75289305e-01]\n",
       " [-5.70672178e-04  4.62975722e-01]\n",
       " [ 6.00921720e-04  4.02744036e-01]\n",
       " [-1.13823295e-03  4.97386841e-01]\n",
       " [ 4.34732769e-04  4.17179801e-01]\n",
       " [-1.02402845e-04  4.45398632e-01]\n",
       " [-2.97279383e-04  4.49839917e-01]\n",
       " [-1.71929201e-04  4.44372734e-01]\n",
       " [ 2.29919450e-04  4.21966429e-01]\n",
       " [-3.77386451e-04  4.50512272e-01]\n",
       " [-3.33145292e-04  4.54501966e-01]\n",
       " [-4.35026073e-04  4.59106993e-01]\n",
       " [ 1.80965572e-04  4.25737214e-01]\n",
       " [ 4.02727816e-04  4.24704285e-01]\n",
       " [-4.67987052e-04  4.60750449e-01]\n",
       " [ 4.47262274e-04  4.16796597e-01]\n",
       " [-1.50140217e-04  4.44002106e-01]\n",
       " [-1.96301422e-04  4.48712765e-01]\n",
       " [-2.50537067e-04  4.50237960e-01]\n",
       " [-2.83639684e-04  4.49344182e-01]\n",
       " [-1.02355704e-04  4.43372352e-01]\n",
       " [ 7.49232706e-04  3.98685014e-01]\n",
       " [-4.76842282e-04  4.65549570e-01]\n",
       " [ 1.74086334e-04  4.34387416e-01]\n",
       " [-1.24483967e-03  4.95667461e-01]\n",
       " [-2.50499823e-04  4.41776746e-01]\n",
       " [-3.37965824e-04  4.52448242e-01]], log_prob=[-3.60143492 -1.07145146 -1.17199469 -1.06318466 -3.34274875 -5.01372402\n",
       " -1.58029996 -1.07432405 -0.93850006 -1.41887004 -1.14851073 -1.17499355\n",
       " -1.70186858 -1.45882793 -2.70246853 -1.3440105  -4.28896482 -1.89657219\n",
       " -0.90845071 -1.17417086 -0.89747473 -2.21507158 -3.18661385 -1.43072163\n",
       " -1.10461115 -2.1502787  -1.3372549  -2.49236335 -1.11325064 -0.91125185\n",
       " -2.58207343 -1.06327832 -2.62914363 -3.5153394  -2.33028431 -0.99675309\n",
       " -1.07561684 -1.4836838  -1.20459214 -1.95746656 -2.44780631 -2.60071394\n",
       " -2.39383828 -1.35783575 -1.9116511  -2.83128381 -2.47803228 -1.85585012\n",
       " -3.23403579 -1.70861348 -1.90203836 -0.92574221 -1.56732948 -1.04247466\n",
       " -1.24488563 -2.47700096 -2.45850263 -1.06492851 -1.72783062 -2.50289873\n",
       " -1.1483075  -2.25801109 -1.79077681 -1.9464531  -1.26159482 -2.00752891\n",
       " -2.40688824 -1.57033483 -3.08423752 -1.26073973 -1.7704814  -0.93424025\n",
       " -1.94865727 -6.80897675 -1.32845554 -2.91413304 -3.16722544 -2.20720793\n",
       " -1.62987171 -0.96289626 -0.90156344 -1.60485227 -1.77939923 -1.03824002\n",
       " -1.05311525 -1.31318587 -4.7895149  -1.08514388 -2.30175936 -0.91171636\n",
       " -1.20869135 -0.99925668 -0.94178644 -1.11806601 -3.1088265  -2.19846157\n",
       " -3.2094957  -3.85985722 -2.77408178 -0.94387519], blobs=None, random_state=('MT19937', array([3171852204, 2989380809, 3050144950, 3286974797, 4128809517,\n",
       "       1889554718, 1055517980, 4292076442, 2276847360,  867440830,\n",
       "       2908468514, 3685937284,  740426537, 3067431704, 1954788692,\n",
       "        171553104, 3553996181, 3751619090, 1811942637, 3132302048,\n",
       "       2410408603, 3977888100, 2547232471, 4250916260, 1717236078,\n",
       "       3262554543, 2269927521,  322354304, 3523328744, 2470519465,\n",
       "       1599135737,  813670017, 1291540791, 3468822132, 3787920678,\n",
       "       3738992443, 2235342402, 1489221618, 1485530415,  586766220,\n",
       "       2346427899, 4142163390, 2023213699, 1287599153, 4064826146,\n",
       "       1235285306, 2142632451,  292910426, 2019939453, 2453654077,\n",
       "       2582904894,  979631005,  245517989,   60944061, 3941095013,\n",
       "       1554001915, 3183246611, 2264003945, 1917895668, 2795460003,\n",
       "       2693797921, 2762044585, 2103782271, 1031749364,  620255707,\n",
       "       3171557653,  593364101,  129599610, 1981286978, 2474247431,\n",
       "       2921802733, 3114529320, 2028153067, 1764906719, 4025200194,\n",
       "       3337508482, 1556231213, 1771498964, 3514887559, 1419872226,\n",
       "       1621350126, 3452738204,  350989689, 1929388398, 3114830141,\n",
       "        942000771,  739528007, 3924317487,  749919002, 1771822039,\n",
       "        882210712, 2989664682, 1630658336, 2709313719, 3002574281,\n",
       "        827686663, 2206938309,  469135178,  243165962,  645750664,\n",
       "       3069952811, 1480639175, 3310518890, 2375103542, 2886273277,\n",
       "       3982120834,  598511312,  798116899, 2696030773, 1362886977,\n",
       "       3831198895,  461247904, 1139498744, 3545625962, 1478479721,\n",
       "       2702726599, 2332127624, 2565478798, 2108216697, 3613632876,\n",
       "        163318361,  124418812, 2602233526,   76200627, 2296105977,\n",
       "       4231062127, 1071959723, 2299319000, 1791147239, 2893135441,\n",
       "        139176379, 1442366875,  504116425, 2018771769, 2727637504,\n",
       "       3535408418,  813810742, 1575622858, 1952542976, 2097449132,\n",
       "        209474796,  664918588,  535415317, 2262496704,  354450864,\n",
       "       1942218265, 1595757304,  101807947, 2021209638, 3339501396,\n",
       "       1801041829,  765384252, 2127135079,  985114172, 3948862471,\n",
       "       1440808842, 3010706132, 1226716493, 2294866807, 2553356526,\n",
       "       2642697340, 1614990836, 3822494819, 2371582078, 1395303471,\n",
       "        783536717, 1648950430,  325450387, 4243274447, 2331761462,\n",
       "       3142731948, 1872930222, 1233569468, 4107106902, 2733413363,\n",
       "        743371427,  994770290, 1384983868, 2489337640, 1028307788,\n",
       "       2776087595,   23030193, 2923641227, 1885324408,  362061436,\n",
       "       2360805933,  430566854, 3892049020, 3932185973, 1408661732,\n",
       "        760879073,  708066257, 2447591164, 1164129571, 1429006904,\n",
       "        883287755,  881100212, 1350281035,  126852876, 1822435533,\n",
       "       3351899199, 2647681223, 3992451649, 2597579163, 1727792687,\n",
       "       3408990299, 2221456939, 3601702489, 3828802511, 1737610584,\n",
       "       3078242935, 1491365765, 2205520720, 2697025029, 1351199000,\n",
       "       1517683907, 1762481812, 3523763198, 2228875607, 3991666347,\n",
       "       2810827134, 3417982610,  818520437,  228989065,  342636577,\n",
       "       3488693789, 3396939275, 3671766081, 2102082171,  357148917,\n",
       "       2302461793, 1910660420, 3736015732, 3249622397, 3168861091,\n",
       "       4230334871, 1787486082, 3679242413, 2595751657, 2360368300,\n",
       "       2776801193, 1739354101, 3487390469, 2161875718,  309098129,\n",
       "       1555428499, 2057758559, 1326763186,  612886474, 1678201082,\n",
       "       3468626438, 2420432030,   54333879, 3039432334, 1581446129,\n",
       "       2487266051, 3482849271, 1313856712, 2594185333, 1623865896,\n",
       "       2792721150, 1934051291, 2368085593, 2170516614, 2701801858,\n",
       "       1054569396, 1501178536, 2740967096, 3240552131,  220427421,\n",
       "       1560070541,  387873159, 3938374763, 3443492115, 1337488418,\n",
       "        960734025, 1122196469, 3803844698, 1271239461, 4289602331,\n",
       "       2729842264, 1175129884, 2766814704, 1931619643, 2341550778,\n",
       "       1185153628, 2435767138, 2240596965, 3883100186,  668576516,\n",
       "       2312619586, 3395597639, 4286438741, 3208034714, 4253162762,\n",
       "        987503292,  221865497,   16653813, 2131105815, 3614922000,\n",
       "        678560870, 1991235792, 2769415505, 3474162461, 2114304437,\n",
       "        144492933, 3762677927, 4110299565, 2806074864, 3044923389,\n",
       "        172197045, 1253680279,  866243646,  488574938, 3184316603,\n",
       "       2259313375,  250741953, 3824811694, 2922044831, 1272685188,\n",
       "       3231060482,  637718564, 1306113542, 3693831730, 3752880345,\n",
       "        178284406,   44754829,  795056698, 1375921462,  372079356,\n",
       "        366703322, 2650215542, 1649967583,  874301980, 1229576944,\n",
       "       1740032948, 2444048412, 3405159731, 3702945082, 3236189249,\n",
       "        924862934, 1703734154, 1249456226,   84133757, 4272187136,\n",
       "       1554688296, 2285921470,   51313745, 2099788631, 1807547345,\n",
       "       2505888908, 2927032430, 2778186038, 3335110572,  843254283,\n",
       "       1635426062, 3589249265, 3529309814, 3031121862, 1052047635,\n",
       "       4123122488, 4018364370, 3095563578,  368236025, 3189220700,\n",
       "       2014958757, 2491774097, 2246264531,  820859807, 2589374346,\n",
       "       2869433356,   28164131, 2380521595, 3080960461,  660698931,\n",
       "       1699656374, 1999934585,  747848595,  680275437, 3147497351,\n",
       "       1860518018,  683461072, 2623812666, 1712662073, 1785775611,\n",
       "        375999395, 4147745998, 4067807737, 3850821291, 3139111846,\n",
       "        750649103, 2709642513, 1153656241,  738258054,  347577348,\n",
       "       1716487744, 4096463306, 4002038199, 3996909362, 1731771743,\n",
       "       2008386539, 2293130287,  176375462, 3099974741, 3060129052,\n",
       "       4049985191, 1152982626,  488427020, 4193283906, 2802435216,\n",
       "       1189201090, 3925881369, 1463226385, 2966997167,   69216868,\n",
       "       1182418887, 2347649143, 2470344290, 3734851153, 2993548925,\n",
       "       1544378720,  520461126, 2663119583, 1242123374, 3176947359,\n",
       "        332026250, 3451494627,  269881539,  493845025, 3149213183,\n",
       "        468317917, 2339223517, 1822423983, 1840637283,  501735593,\n",
       "       2864595810, 2015965220, 1494402802, 2482802317, 4187972233,\n",
       "        562603113, 3118817138, 2549682193, 1315839045, 2154204000,\n",
       "        565365176,  496401282, 2640927115, 1390019943, 2649534629,\n",
       "       2078679226, 4238955637, 4074385927, 2541347967, 3502041139,\n",
       "       3579617878, 3264292274, 2274734711, 2103299627,  556582252,\n",
       "       1025386348, 2382041482,  786509581, 1954734114, 1883269299,\n",
       "       1924185697, 3137976087, 2892420639, 1371148709, 4082373929,\n",
       "       1869830923, 2007268642, 1429014543, 2174977003, 1170330020,\n",
       "       1785346121, 2308212094, 1379502448, 2612751660, 1418780615,\n",
       "       2583484375, 1819901367,   11568381, 2088046417, 1143964877,\n",
       "       4093401346,  457738327,  833554083, 1438390733, 3697163435,\n",
       "       1322810119,  728211257, 2910469228, 1124848568,  552838283,\n",
       "       3517137750, 1350447732,  712376456, 2364435717,  515100578,\n",
       "        492890517, 2869856059, 1593910917, 2338756131, 2905800580,\n",
       "       4294912361,   89652953, 2893680273, 3350031971, 1666480206,\n",
       "        878263211, 1669123312,  196936206,  472303426, 3547804638,\n",
       "        990611679, 3533649157, 3309824378, 3216288976, 3533919824,\n",
       "       1737876947, 4088015798, 1167097332,  377064078,  453323852,\n",
       "        442059954, 3973251368,  346347063, 1651063329, 4266276319,\n",
       "       2085937648, 1582969664,  593041728, 1551911244, 2514526579,\n",
       "       3944297165, 3427472686,  946425966, 2162665237, 1567863574,\n",
       "       2393151417, 4157681674, 3000818778, 2044742895,  611681584,\n",
       "       2409581156, 1773301907, 1460999995, 1317703926, 2605743849,\n",
       "        844305196,  690415634, 3869221941, 2466523854, 2653352359,\n",
       "       3578790056, 2434310152, 1032955092, 3006324240, 3861651583,\n",
       "       1697594387, 2564939590,  484468625, 3838221221, 3115162428,\n",
       "       2413425376, 3334474122, 2179218520, 3406562634, 1858522170,\n",
       "       4023024195, 1034976923, 1766736067, 4211074761, 1642893576,\n",
       "       1249337770, 2261908831, 1760004918, 1502300791,  943529069,\n",
       "        648056893,  396670137,  342909544, 2577878599, 3308225112,\n",
       "       2779342125, 4256384907, 2857981196, 2826518797, 1518780577,\n",
       "       1598138058, 3002449902, 1096241841, 2711987832, 2224086299,\n",
       "       3701554826, 2771693621,  675037795, 3568674567,  230646903,\n",
       "        693166229,  620196158,  366737379,  896870630,  178856775,\n",
       "       2897136209,  791325080, 1510792927, 4096656902, 1415797212,\n",
       "        650679962, 3247806038, 1617236841, 3911600505,  680594985,\n",
       "       2648053254, 1481244181, 1366658453, 4223810282, 1744820943,\n",
       "       2981236822, 1037488988, 3865855501, 3937164828], dtype=uint32), 481, 0, 0.0))"
      ]
     },
     "execution_count": 89,
     "metadata": {},
     "output_type": "execute_result"
    }
   ],
   "source": [
    "nsamples = 10000\n",
    "pos = np.array([0.0,.45]) + 1e-4 * np.random.randn(100, 2)\n",
    "nwalkers, ndim = pos.shape\n",
    "sampler = emcee.EnsembleSampler(nwalkers, ndim, log_probability)\n",
    "sampler.run_mcmc(pos, nsamples,progress=True)"
   ]
  },
  {
   "cell_type": "code",
   "execution_count": 90,
   "id": "a4f50577-7286-4482-8bad-145c677c85e7",
   "metadata": {},
   "outputs": [],
   "source": [
    "flat_samples = sampler.get_chain(discard=1000, thin=20, flat=True)"
   ]
  },
  {
   "cell_type": "code",
   "execution_count": 91,
   "id": "6064c41b-c4a8-43d2-9855-65a81bc5eea4",
   "metadata": {},
   "outputs": [
    {
     "data": {
      "text/plain": [
       "<Figure size 576x576 with 0 Axes>"
      ]
     },
     "metadata": {},
     "output_type": "display_data"
    },
    {
     "data": {
      "image/png": "[encoded data removed]",
      "text/plain": [
       "<Figure size 396x396 with 4 Axes>"
      ]
     },
     "metadata": {
      "needs_background": "light"
     },
     "output_type": "display_data"
    }
   ],
   "source": [
    "labels = ['r','alens']\n",
    "plt.figure(figsize=(8,8))\n",
    "fig = corner.corner(flat_samples, labels=labels,truths=[0,0])\n",
    "#plt.savefig('delensed_emcee.png',bbox_inches='tight')"
   ]
  },
  {
   "cell_type": "code",
   "execution_count": 92,
   "id": "991ab455-4f31-46c3-9f99-386629a9b8c4",
   "metadata": {},
   "outputs": [],
   "source": [
    "r_samp = np.sort(flat_samples[:,0])\n",
    "r_pos = r_samp[r_samp>0]"
   ]
  },
  {
   "cell_type": "code",
   "execution_count": 93,
   "id": "2ae62301-8fd5-4d05-a95c-2e3236bb07ae",
   "metadata": {},
   "outputs": [
    {
     "name": "stdout",
     "output_type": "stream",
     "text": [
      "3.73e-04\n"
     ]
    }
   ],
   "source": [
    "print(f\"{r_pos[int(len(r_pos)*.683)]:.2e}\")"
   ]
  },
  {
   "cell_type": "code",
   "execution_count": null,
   "id": "c2d43bb3-7a84-4c30-97ac-1babe5e0fe13",
   "metadata": {},
   "outputs": [],
   "source": []
  },
  {
   "cell_type": "code",
   "execution_count": 43,
   "id": "40af7b4c-148e-40fa-9b70-ac4d75341dde",
   "metadata": {},
   "outputs": [],
   "source": [
    "def myLog(r,Alens):\n",
    "    return log_probability([r,Alens])\n",
    "\n",
    "info = {\"likelihood\": {\"like\": myLog}}"
   ]
  },
  {
   "cell_type": "code",
   "execution_count": 44,
   "id": "61a77410-526b-46d5-b341-e09c8e9d2b07",
   "metadata": {},
   "outputs": [],
   "source": [
    "info[\"params\"] = {\n",
    "    \"r\": {\"prior\": {\"min\": -.5, \"max\": .5}, \"ref\": 0, \"proposal\": 0.01,\"latex\":\"r\"},\n",
    "    \"Alens\": {\"prior\": {\"min\": 0, \"max\": 1.5}, \"ref\": 1, \"proposal\": 0.01,\"latex\":\"A_{lens}\"}}"
   ]
  },
  {
   "cell_type": "code",
   "execution_count": 45,
   "id": "d69c71d4-29f8-4df6-bb7d-173360f06d59",
   "metadata": {},
   "outputs": [
    {
     "name": "stdout",
     "output_type": "stream",
     "text": [
      "[like] Initialized external likelihood.\n",
      "[mcmc] Getting initial point... (this may take a few seconds)\n",
      "[model] Measuring speeds... (this may take a few seconds)\n",
      "[model] Setting measured speeds (per sec): {like: 1950.0}\n",
      "[mcmc] Covariance matrix not present. We will start learning the covariance of the proposal earlier: R-1 = 30 (would be 2 if all params loaded).\n",
      "[mcmc] Initial point: r:0, Alens:1\n",
      "[mcmc] Sampling!\n",
      "[mcmc] Progress @ 2021-09-11 03:58:13 : 1 steps taken, and 0 accepted.\n"
     ]
    },
    {
     "name": "stderr",
     "output_type": "stream",
     "text": [
      "/global/homes/l/lonappan/.conda/envs/PC/lib/python3.6/site-packages/ipykernel_launcher.py:8: RuntimeWarning: invalid value encountered in log\n",
      "  \n",
      "/global/homes/l/lonappan/.conda/envs/PC/lib/python3.6/site-packages/ipykernel_launcher.py:8: RuntimeWarning: invalid value encountered in log\n",
      "  \n"
     ]
    },
    {
     "name": "stdout",
     "output_type": "stream",
     "text": [
      "[mcmc] Learn + convergence test @ 80 samples accepted.\n",
      "[mcmc]  - Acceptance rate: 0.009\n",
      "[mcmc]  - Convergence of means: R-1 = 18.777909 after 64 accepted steps\n",
      "[mcmc]  - Updated covariance matrix of proposal pdf.\n",
      "[mcmc] Learn + convergence test @ 160 samples accepted.\n",
      "[mcmc]  - Acceptance rate: 0.024\n",
      "[mcmc]  - Convergence of means: R-1 = 9.596673 after 128 accepted steps\n",
      "[mcmc]  - Updated covariance matrix of proposal pdf.\n",
      "[mcmc] Learn + convergence test @ 240 samples accepted.\n",
      "[mcmc]  - Acceptance rate: 0.050\n",
      "[mcmc]  - Convergence of means: R-1 = 3.671837 after 192 accepted steps\n",
      "[mcmc]  - Updated covariance matrix of proposal pdf.\n",
      "[mcmc] Learn + convergence test @ 320 samples accepted.\n",
      "[mcmc]  - Acceptance rate: 0.088\n",
      "[mcmc]  - Convergence of means: R-1 = 2.304764 after 256 accepted steps\n",
      "[mcmc]  - Updated covariance matrix of proposal pdf.\n",
      "[mcmc] Learn + convergence test @ 400 samples accepted.\n",
      "[mcmc]  - Acceptance rate: 0.249\n",
      "[mcmc]  - Convergence of means: R-1 = 0.043665 after 320 accepted steps\n",
      "[mcmc]  - Updated covariance matrix of proposal pdf.\n",
      "[mcmc] Learn + convergence test @ 480 samples accepted.\n",
      "[mcmc]  - Acceptance rate: 0.266\n",
      "[mcmc]  - Convergence of means: R-1 = 0.011919 after 384 accepted steps\n",
      "[mcmc]  - Updated covariance matrix of proposal pdf.\n",
      "[mcmc] Learn + convergence test @ 560 samples accepted.\n",
      "[mcmc]  - Acceptance rate: 0.267\n",
      "[mcmc]  - Convergence of means: R-1 = 0.039346 after 448 accepted steps\n",
      "[mcmc]  - Updated covariance matrix of proposal pdf.\n",
      "[mcmc] Learn + convergence test @ 640 samples accepted.\n",
      "[mcmc]  - Acceptance rate: 0.266\n",
      "[mcmc]  - Convergence of means: R-1 = 0.013463 after 512 accepted steps\n",
      "[mcmc]  - Updated covariance matrix of proposal pdf.\n",
      "[mcmc] Learn + convergence test @ 720 samples accepted.\n",
      "[mcmc]  - Acceptance rate: 0.267\n",
      "[mcmc]  - Convergence of means: R-1 = 0.005848 after 576 accepted steps\n",
      "[mcmc]  - Updated covariance matrix of proposal pdf.\n",
      "[mcmc] Learn + convergence test @ 800 samples accepted.\n",
      "[mcmc]  - Acceptance rate: 0.269\n",
      "[mcmc]  - Convergence of means: R-1 = 0.016462 after 640 accepted steps\n",
      "[mcmc]  - Updated covariance matrix of proposal pdf.\n",
      "[mcmc] Learn + convergence test @ 880 samples accepted.\n",
      "[mcmc]  - Acceptance rate: 0.273\n",
      "[mcmc]  - Convergence of means: R-1 = 0.026539 after 704 accepted steps\n",
      "[mcmc]  - Updated covariance matrix of proposal pdf.\n",
      "[mcmc] Learn + convergence test @ 960 samples accepted.\n",
      "[mcmc]  - Acceptance rate: 0.275\n",
      "[mcmc]  - Convergence of means: R-1 = 0.004451 after 768 accepted steps\n",
      "[mcmc]  - Updated covariance matrix of proposal pdf.\n",
      "[mcmc] Learn + convergence test @ 1040 samples accepted.\n",
      "[mcmc]  - Acceptance rate: 0.276\n",
      "[mcmc]  - Convergence of means: R-1 = 0.007794 after 832 accepted steps\n",
      "[mcmc]  - Updated covariance matrix of proposal pdf.\n",
      "[mcmc] Learn + convergence test @ 1120 samples accepted.\n",
      "[mcmc]  - Acceptance rate: 0.274\n",
      "[mcmc]  - Convergence of means: R-1 = 0.012743 after 896 accepted steps\n",
      "[mcmc]  - Updated covariance matrix of proposal pdf.\n",
      "[mcmc] Learn + convergence test @ 1200 samples accepted.\n",
      "[mcmc]  - Acceptance rate: 0.277\n",
      "[mcmc]  - Convergence of means: R-1 = 0.017803 after 960 accepted steps\n",
      "[mcmc]  - Updated covariance matrix of proposal pdf.\n",
      "[mcmc] Learn + convergence test @ 1280 samples accepted.\n",
      "[mcmc]  - Acceptance rate: 0.280\n",
      "[mcmc]  - Convergence of means: R-1 = 0.029623 after 1024 accepted steps\n",
      "[mcmc]  - Updated covariance matrix of proposal pdf.\n",
      "[mcmc] Learn + convergence test @ 1360 samples accepted.\n",
      "[mcmc]  - Acceptance rate: 0.281\n",
      "[mcmc]  - Convergence of means: R-1 = 0.012687 after 1088 accepted steps\n",
      "[mcmc]  - Updated covariance matrix of proposal pdf.\n",
      "[mcmc] Learn + convergence test @ 1440 samples accepted.\n",
      "[mcmc]  - Acceptance rate: 0.279\n",
      "[mcmc]  - Convergence of means: R-1 = 0.009005 after 1152 accepted steps\n",
      "[mcmc]  - Updated covariance matrix of proposal pdf.\n",
      "[mcmc] Learn + convergence test @ 1520 samples accepted.\n",
      "[mcmc]  - Acceptance rate: 0.282\n",
      "[mcmc]  - Convergence of means: R-1 = 0.008022 after 1216 accepted steps\n",
      "[mcmc]  - Updated covariance matrix of proposal pdf.\n",
      "[mcmc] Learn + convergence test @ 1600 samples accepted.\n",
      "[mcmc]  - Acceptance rate: 0.287\n",
      "[mcmc]  - Convergence of means: R-1 = 0.014002 after 1280 accepted steps\n",
      "[mcmc]  - Updated covariance matrix of proposal pdf.\n",
      "[mcmc] Learn + convergence test @ 1680 samples accepted.\n",
      "[mcmc]  - Acceptance rate: 0.289\n",
      "[mcmc]  - Convergence of means: R-1 = 0.024570 after 1344 accepted steps\n",
      "[mcmc]  - Updated covariance matrix of proposal pdf.\n",
      "[mcmc] Learn + convergence test @ 1760 samples accepted.\n",
      "[mcmc]  - Acceptance rate: 0.289\n",
      "[mcmc]  - Convergence of means: R-1 = 0.009806 after 1408 accepted steps\n",
      "[mcmc]  - Updated covariance matrix of proposal pdf.\n",
      "[mcmc] Learn + convergence test @ 1840 samples accepted.\n",
      "[mcmc]  - Acceptance rate: 0.291\n",
      "[mcmc]  - Convergence of means: R-1 = 0.003460 after 1472 accepted steps\n",
      "[mcmc]  - Updated covariance matrix of proposal pdf.\n",
      "[mcmc] Learn + convergence test @ 1920 samples accepted.\n",
      "[mcmc]  - Acceptance rate: 0.292\n",
      "[mcmc]  - Convergence of means: R-1 = 0.008635 after 1536 accepted steps\n",
      "[mcmc]  - Updated covariance matrix of proposal pdf.\n",
      "[mcmc] Learn + convergence test @ 2000 samples accepted.\n",
      "[mcmc]  - Acceptance rate: 0.293\n",
      "[mcmc]  - Convergence of means: R-1 = 0.003857 after 1600 accepted steps\n",
      "[mcmc]  - Updated covariance matrix of proposal pdf.\n",
      "[mcmc] Learn + convergence test @ 2080 samples accepted.\n",
      "[mcmc]  - Acceptance rate: 0.292\n",
      "[mcmc]  - Convergence of means: R-1 = 0.005201 after 1664 accepted steps\n",
      "[mcmc]  - Updated covariance matrix of proposal pdf.\n",
      "[mcmc] Learn + convergence test @ 2160 samples accepted.\n",
      "[mcmc]  - Acceptance rate: 0.292\n",
      "[mcmc]  - Convergence of means: R-1 = 0.006768 after 1728 accepted steps\n",
      "[mcmc]  - Updated covariance matrix of proposal pdf.\n",
      "[mcmc] Learn + convergence test @ 2240 samples accepted.\n",
      "[mcmc]  - Acceptance rate: 0.291\n",
      "[mcmc]  - Convergence of means: R-1 = 0.006780 after 1792 accepted steps\n",
      "[mcmc]  - Updated covariance matrix of proposal pdf.\n",
      "[mcmc] Learn + convergence test @ 2320 samples accepted.\n",
      "[mcmc]  - Acceptance rate: 0.291\n",
      "[mcmc]  - Convergence of means: R-1 = 0.006622 after 1856 accepted steps\n",
      "[mcmc]  - Updated covariance matrix of proposal pdf.\n",
      "[mcmc] Learn + convergence test @ 2400 samples accepted.\n",
      "[mcmc]  - Acceptance rate: 0.291\n",
      "[mcmc]  - Convergence of means: R-1 = 0.013705 after 1920 accepted steps\n",
      "[mcmc]  - Updated covariance matrix of proposal pdf.\n",
      "[mcmc] Learn + convergence test @ 2480 samples accepted.\n",
      "[mcmc]  - Acceptance rate: 0.292\n",
      "[mcmc]  - Convergence of means: R-1 = 0.008773 after 1984 accepted steps\n",
      "[mcmc]  - Updated covariance matrix of proposal pdf.\n",
      "[mcmc] Learn + convergence test @ 2560 samples accepted.\n",
      "[mcmc]  - Acceptance rate: 0.290\n",
      "[mcmc]  - Convergence of means: R-1 = 0.006538 after 2048 accepted steps\n",
      "[mcmc]  - Updated covariance matrix of proposal pdf.\n",
      "[mcmc] Learn + convergence test @ 2640 samples accepted.\n",
      "[mcmc]  - Acceptance rate: 0.292\n",
      "[mcmc]  - Convergence of means: R-1 = 0.007231 after 2112 accepted steps\n",
      "[mcmc]  - Updated covariance matrix of proposal pdf.\n",
      "[mcmc] Learn + convergence test @ 2720 samples accepted.\n",
      "[mcmc]  - Acceptance rate: 0.291\n",
      "[mcmc]  - Convergence of means: R-1 = 0.004669 after 2176 accepted steps\n",
      "[mcmc]  - Updated covariance matrix of proposal pdf.\n",
      "[mcmc] Learn + convergence test @ 2800 samples accepted.\n",
      "[mcmc]  - Acceptance rate: 0.292\n",
      "[mcmc]  - Convergence of means: R-1 = 0.002013 after 2240 accepted steps\n",
      "[mcmc]  - Updated covariance matrix of proposal pdf.\n",
      "[mcmc] Learn + convergence test @ 2880 samples accepted.\n",
      "[mcmc]  - Acceptance rate: 0.294\n",
      "[mcmc]  - Convergence of means: R-1 = 0.003051 after 2304 accepted steps\n",
      "[mcmc]  - Updated covariance matrix of proposal pdf.\n",
      "[mcmc] Learn + convergence test @ 2960 samples accepted.\n",
      "[mcmc]  - Acceptance rate: 0.292\n",
      "[mcmc]  - Convergence of means: R-1 = 0.003172 after 2368 accepted steps\n",
      "[mcmc]  - Updated covariance matrix of proposal pdf.\n",
      "[mcmc] Learn + convergence test @ 3040 samples accepted.\n",
      "[mcmc]  - Acceptance rate: 0.293\n",
      "[mcmc]  - Convergence of means: R-1 = 0.002692 after 2432 accepted steps\n",
      "[mcmc]  - Updated covariance matrix of proposal pdf.\n",
      "[mcmc] Learn + convergence test @ 3120 samples accepted.\n",
      "[mcmc]  - Acceptance rate: 0.294\n",
      "[mcmc]  - Convergence of means: R-1 = 0.002876 after 2496 accepted steps\n",
      "[mcmc]  - Updated covariance matrix of proposal pdf.\n",
      "[mcmc] Learn + convergence test @ 3200 samples accepted.\n",
      "[mcmc]  - Acceptance rate: 0.295\n",
      "[mcmc]  - Convergence of means: R-1 = 0.004468 after 2560 accepted steps\n",
      "[mcmc]  - Updated covariance matrix of proposal pdf.\n",
      "[mcmc] Learn + convergence test @ 3280 samples accepted.\n",
      "[mcmc]  - Acceptance rate: 0.296\n",
      "[mcmc]  - Convergence of means: R-1 = 0.005664 after 2624 accepted steps\n",
      "[mcmc]  - Updated covariance matrix of proposal pdf.\n",
      "[mcmc] Learn + convergence test @ 3360 samples accepted.\n",
      "[mcmc]  - Acceptance rate: 0.296\n",
      "[mcmc]  - Convergence of means: R-1 = 0.004566 after 2688 accepted steps\n",
      "[mcmc]  - Updated covariance matrix of proposal pdf.\n",
      "[mcmc] Learn + convergence test @ 3440 samples accepted.\n",
      "[mcmc]  - Acceptance rate: 0.296\n",
      "[mcmc]  - Convergence of means: R-1 = 0.002819 after 2752 accepted steps\n",
      "[mcmc]  - Updated covariance matrix of proposal pdf.\n",
      "[mcmc] Learn + convergence test @ 3520 samples accepted.\n",
      "[mcmc]  - Acceptance rate: 0.295\n",
      "[mcmc]  - Convergence of means: R-1 = 0.003045 after 2816 accepted steps\n",
      "[mcmc]  - Updated covariance matrix of proposal pdf.\n",
      "[mcmc] Learn + convergence test @ 3600 samples accepted.\n",
      "[mcmc]  - Acceptance rate: 0.294\n",
      "[mcmc]  - Convergence of means: R-1 = 0.003154 after 2880 accepted steps\n",
      "[mcmc]  - Updated covariance matrix of proposal pdf.\n",
      "[mcmc] Learn + convergence test @ 3680 samples accepted.\n",
      "[mcmc]  - Acceptance rate: 0.294\n",
      "[mcmc]  - Convergence of means: R-1 = 0.002571 after 2944 accepted steps\n",
      "[mcmc]  - Updated covariance matrix of proposal pdf.\n",
      "[mcmc] Learn + convergence test @ 3760 samples accepted.\n",
      "[mcmc]  - Acceptance rate: 0.292\n",
      "[mcmc]  - Convergence of means: R-1 = 0.001867 after 3008 accepted steps\n",
      "[mcmc]  - Updated covariance matrix of proposal pdf.\n",
      "[mcmc] Learn + convergence test @ 3840 samples accepted.\n",
      "[mcmc]  - Acceptance rate: 0.294\n",
      "[mcmc]  - Convergence of means: R-1 = 0.003100 after 3072 accepted steps\n",
      "[mcmc]  - Updated covariance matrix of proposal pdf.\n",
      "[mcmc] Learn + convergence test @ 3920 samples accepted.\n",
      "[mcmc]  - Acceptance rate: 0.294\n",
      "[mcmc]  - Convergence of means: R-1 = 0.001392 after 3136 accepted steps\n",
      "[mcmc]  - Updated covariance matrix of proposal pdf.\n",
      "[mcmc] Learn + convergence test @ 4000 samples accepted.\n",
      "[mcmc]  - Acceptance rate: 0.294\n",
      "[mcmc]  - Convergence of means: R-1 = 0.001119 after 3200 accepted steps\n",
      "[mcmc]  - Updated covariance matrix of proposal pdf.\n",
      "[mcmc] Learn + convergence test @ 4080 samples accepted.\n",
      "[mcmc]  - Acceptance rate: 0.295\n",
      "[mcmc]  - Convergence of means: R-1 = 0.001691 after 3264 accepted steps\n",
      "[mcmc]  - Updated covariance matrix of proposal pdf.\n",
      "[mcmc] Learn + convergence test @ 4160 samples accepted.\n",
      "[mcmc]  - Acceptance rate: 0.296\n",
      "[mcmc]  - Convergence of means: R-1 = 0.001169 after 3328 accepted steps\n",
      "[mcmc]  - Updated covariance matrix of proposal pdf.\n",
      "[mcmc] Learn + convergence test @ 4240 samples accepted.\n",
      "[mcmc]  - Acceptance rate: 0.295\n",
      "[mcmc]  - Convergence of means: R-1 = 0.000442 after 3392 accepted steps\n",
      "[mcmc]  - Updated covariance matrix of proposal pdf.\n",
      "[mcmc] Learn + convergence test @ 4320 samples accepted.\n",
      "[mcmc]  - Acceptance rate: 0.295\n",
      "[mcmc]  - Convergence of means: R-1 = 0.001849 after 3456 accepted steps\n",
      "[mcmc]  - Updated covariance matrix of proposal pdf.\n",
      "[mcmc] Learn + convergence test @ 4400 samples accepted.\n",
      "[mcmc]  - Acceptance rate: 0.295\n",
      "[mcmc]  - Convergence of means: R-1 = 0.001311 after 3520 accepted steps\n",
      "[mcmc]  - Updated covariance matrix of proposal pdf.\n",
      "[mcmc] Learn + convergence test @ 4480 samples accepted.\n",
      "[mcmc]  - Acceptance rate: 0.295\n",
      "[mcmc]  - Convergence of means: R-1 = 0.001775 after 3584 accepted steps\n",
      "[mcmc]  - Updated covariance matrix of proposal pdf.\n",
      "[mcmc] Learn + convergence test @ 4560 samples accepted.\n",
      "[mcmc]  - Acceptance rate: 0.295\n",
      "[mcmc]  - Convergence of means: R-1 = 0.002876 after 3648 accepted steps\n",
      "[mcmc]  - Updated covariance matrix of proposal pdf.\n",
      "[mcmc] Learn + convergence test @ 4640 samples accepted.\n",
      "[mcmc]  - Acceptance rate: 0.296\n",
      "[mcmc]  - Convergence of means: R-1 = 0.001555 after 3712 accepted steps\n",
      "[mcmc]  - Updated covariance matrix of proposal pdf.\n",
      "[mcmc] Learn + convergence test @ 4720 samples accepted.\n",
      "[mcmc]  - Acceptance rate: 0.296\n",
      "[mcmc]  - Convergence of means: R-1 = 0.000728 after 3776 accepted steps\n",
      "[mcmc]  - Updated covariance matrix of proposal pdf.\n",
      "[mcmc] Learn + convergence test @ 4800 samples accepted.\n",
      "[mcmc]  - Acceptance rate: 0.296\n",
      "[mcmc]  - Convergence of means: R-1 = 0.000845 after 3840 accepted steps\n",
      "[mcmc]  - Convergence of bounds: R-1 = 0.041089 after 4800 accepted steps\n",
      "[mcmc] The run has converged!\n",
      "[mcmc] Sampling complete after 4800 accepted steps.\n"
     ]
    }
   ],
   "source": [
    "info[\"sampler\"] = {\"mcmc\": {\"Rminus1_stop\": 0.001, \"max_tries\": 1000}}\n",
    "\n",
    "from cobaya.run import run\n",
    "updated_info, sampler = run(info)"
   ]
  },
  {
   "cell_type": "code",
   "execution_count": 201,
   "id": "1a3ebbfd-84ce-4563-80af-736ebf84bd0c",
   "metadata": {},
   "outputs": [
    {
     "name": "stdout",
     "output_type": "stream",
     "text": [
      "[root] *WARNING* outlier fraction 0.00021645021645021645 \n"
     ]
    },
    {
     "data": {
      "image/png": "[encoded data removed]",
      "text/plain": [
       "<Figure size 360x360 with 3 Axes>"
      ]
     },
     "metadata": {
      "needs_background": "light"
     },
     "output_type": "display_data"
    }
   ],
   "source": [
    "from getdist.mcsamples import MCSamplesFromCobaya\n",
    "import getdist.plots as gdplt\n",
    "\n",
    "gdsamples = MCSamplesFromCobaya(updated_info, sampler.products()[\"sample\"],ignore_rows=100)\n",
    "gdplot = gdplt.get_subplot_plotter(width_inch=5)\n",
    "gdplot.triangle_plot(gdsamples, [\"r\", \"Alens\"], filled=True)\n",
    "plt.savefig('delensed_cobaya.png',bbox_inches='tight')"
   ]
  },
  {
   "cell_type": "code",
   "execution_count": 200,
   "id": "5620cbdf-f1f0-4a36-8ec7-a7a026965803",
   "metadata": {},
   "outputs": [
    {
     "name": "stdout",
     "output_type": "stream",
     "text": [
      "Best fit sample -log(Like) = 0.630060\n",
      "Ln(mean 1/like) = 2.837554\n",
      "mean(-Ln(like)) = 1.611358\n",
      "-Ln(mean like)  = 1.316202\n",
      "\n",
      "parameter    bestfit        lower1         upper1         lower2         upper2\n",
      "r           -1.8905082E-04 -1.4714245E-03  1.0044273E-03 -2.3117865E-03  1.7148534E-03   r\n",
      "Alens        4.4037373E-01  3.8294573E-01  5.0572044E-01  3.4763012E-01  5.4871650E-01   A_{lens}\n",
      "chi2*        4.4918988E-01  4.4918988E-01  2.6518957E+00  4.4918988E-01  6.3396306E+00   \\chi^2\n",
      "chi2__like*  4.4918988E-01  4.4918988E-01  2.6518957E+00  4.4918988E-01  6.3396306E+00   \\chi^2_\\mathrm{like}\n",
      "\n"
     ]
    }
   ],
   "source": [
    "print(gdsamples.getLikeStats())"
   ]
  },
  {
   "cell_type": "code",
   "execution_count": 59,
   "id": "52a3463f-11c8-41f6-98d7-c38495597ef6",
   "metadata": {},
   "outputs": [],
   "source": [
    "r = np.linspace(-.001,.001,100)"
   ]
  },
  {
   "cell_type": "code",
   "execution_count": 60,
   "id": "f5ad45b8-97f4-4485-8812-97484f5475d6",
   "metadata": {},
   "outputs": [],
   "source": [
    "logp_ = [myLog(i,.847) for i in r]"
   ]
  },
  {
   "cell_type": "code",
   "execution_count": 61,
   "id": "2bfb1b09-f06b-4c0b-8e06-4eafd7214aee",
   "metadata": {},
   "outputs": [
    {
     "data": {
      "text/plain": [
       "<matplotlib.lines.Line2D at 0x2aab1d6b5ef0>"
      ]
     },
     "execution_count": 61,
     "metadata": {},
     "output_type": "execute_result"
    },
    {
     "data": {
      "image/png": "[encoded data removed]",
      "text/plain": [
       "<Figure size 576x576 with 1 Axes>"
      ]
     },
     "metadata": {
      "needs_background": "light"
     },
     "output_type": "display_data"
    }
   ],
   "source": [
    "plt.figure(figsize=(8,8))\n",
    "plt.plot(r,logp_)\n",
    "plt.axvline(0)"
   ]
  },
  {
   "cell_type": "code",
   "execution_count": null,
   "id": "0eeb68b1-747a-45b5-9598-59328ae815fb",
   "metadata": {},
   "outputs": [],
   "source": []
  },
  {
   "cell_type": "code",
   "execution_count": null,
   "id": "6c1ed641-b8e4-4daf-aae7-6688a56786a9",
   "metadata": {},
   "outputs": [],
   "source": []
  }
 ],
 "metadata": {
  "kernelspec": {
   "display_name": "PCpython",
   "language": "python",
   "name": "pc"
  },
  "language_info": {
   "codemirror_mode": {
    "name": "ipython",
    "version": 3
   },
   "file_extension": ".py",
   "mimetype": "text/x-python",
   "name": "python",
   "nbconvert_exporter": "python",
   "pygments_lexer": "ipython3",
   "version": "3.6.13"
  }
 },
 "nbformat": 4,
 "nbformat_minor": 5
}
