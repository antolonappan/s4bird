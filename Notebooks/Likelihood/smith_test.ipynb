{
 "cells": [
  {
   "cell_type": "code",
   "execution_count": 44,
   "id": "56d5406e-5cf7-4a98-80aa-2e6401630fcd",
   "metadata": {},
   "outputs": [],
   "source": [
    "import sys\n",
    "import matplotlib.pyplot as plt\n",
    "import numpy as np\n",
    "import healpy as hp\n",
    "import emcee\n",
    "import corner\n",
    "import os\n",
    "import scipy.optimize as opt\n",
    "from plancklens.helpers import mpi\n",
    "import pickle as pk"
   ]
  },
  {
   "cell_type": "code",
   "execution_count": 3,
   "id": "e8d49f98-16dc-4be4-96d6-dead1986108f",
   "metadata": {},
   "outputs": [],
   "source": [
    "import pymaster as nmt"
   ]
  },
  {
   "cell_type": "code",
   "execution_count": 5,
   "id": "18342472-3a75-42ca-8f69-da98d039c58e",
   "metadata": {},
   "outputs": [],
   "source": [
    "sys.path.append('../..')\n",
    "from likelihood import cosmology"
   ]
  },
  {
   "cell_type": "code",
   "execution_count": 7,
   "id": "ed4d2992-af8d-4b57-8bb4-f5df61365406",
   "metadata": {},
   "outputs": [],
   "source": [
    "direct = '/global/u2/l/lonappan/workspace/S4bird/Notebooks/Likelihood/Test'"
   ]
  },
  {
   "cell_type": "code",
   "execution_count": 10,
   "id": "330de25c-24c0-47ec-909d-6db75fffa256",
   "metadata": {},
   "outputs": [],
   "source": [
    "cosmo = cosmology(direct,2048,10)"
   ]
  },
  {
   "cell_type": "code",
   "execution_count": 14,
   "id": "490eb92e-0012-48b1-b0dd-156bfbb07a5f",
   "metadata": {},
   "outputs": [
    {
     "name": "stdout",
     "output_type": "stream",
     "text": [
      "returning cache\n"
     ]
    }
   ],
   "source": [
    "tensor = cosmo.get_BB('T',1)"
   ]
  },
  {
   "cell_type": "code",
   "execution_count": 15,
   "id": "88f7d2e4-7777-44a5-8136-ddb1b50665f5",
   "metadata": {},
   "outputs": [
    {
     "name": "stdout",
     "output_type": "stream",
     "text": [
      "returning cache\n"
     ]
    }
   ],
   "source": [
    "scalar = cosmo.get_BB('S',0)"
   ]
  },
  {
   "cell_type": "code",
   "execution_count": 16,
   "id": "3ed81ee9-8570-4e2a-ac03-b8f49ae84bfc",
   "metadata": {},
   "outputs": [
    {
     "data": {
      "text/plain": [
       "[<matplotlib.lines.Line2D at 0x2aaae6bfb2e8>]"
      ]
     },
     "execution_count": 16,
     "metadata": {},
     "output_type": "execute_result"
    },
    {
     "data": {
      "image/png": "[encoded data removed]",
      "text/plain": [
       "<Figure size 432x288 with 1 Axes>"
      ]
     },
     "metadata": {
      "needs_background": "light"
     },
     "output_type": "display_data"
    }
   ],
   "source": [
    "plt.loglog(tensor)\n",
    "plt.loglog(scalar)"
   ]
  },
  {
   "cell_type": "code",
   "execution_count": 142,
   "id": "92639554-c774-49cb-858c-48f7c74c3615",
   "metadata": {},
   "outputs": [],
   "source": [
    "class LH_base:\n",
    "    \n",
    "    def __init__(self,lib_dir,nsamples,tensor,lensing,r=0,alens=1,lmin=0,lmax=200,fit_lensed=False):\n",
    "        self.lib_dir = lib_dir\n",
    "        self.nsamples = nsamples\n",
    "        self.fit_lensed = fit_lensed\n",
    "        self.init = [r,alens]\n",
    "        print(f\"INIT: {self.init}\")\n",
    "        self.tensor = tensor\n",
    "        self.lensing = lensing\n",
    "        self.ell = np.arange(len(lensing))\n",
    "        self.select = np.where((self.ell >= lmin)& (self.ell <= lmax))[0]\n",
    "\n",
    "        \n",
    "    def chi_sq(self,theta):\n",
    "        pass\n",
    "    \n",
    "    def initial_opt(self):\n",
    "        return opt.minimize(self.chi_sq, self.init)\n",
    "        \n",
    "    def cl_theory(self,r,Alens):\n",
    "        th = (r * self.tensor) + (Alens * self.lensing)\n",
    "        return th\n",
    "    \n",
    "\n",
    "    def log_prior(self,theta):\n",
    "        r,Alens= theta\n",
    "        if  -0.5 < r < 0.5 and 0 < Alens < 2.:\n",
    "            return 0.0\n",
    "        return -np.inf\n",
    "\n",
    "    def log_probability(self,theta):\n",
    "        lp = self.log_prior(theta)\n",
    "        if not np.isfinite(lp):\n",
    "            return -np.inf\n",
    "        return lp  -.5*self.chi_sq(theta)\n",
    "\n",
    "    def posterior(self):\n",
    "\n",
    "        res = self.initial_opt()\n",
    "        pos = np.array(res['x']) + 1e-4 * np.random.randn(100, 2)\n",
    "        nwalkers, ndim = pos.shape\n",
    "        sampler = emcee.EnsembleSampler(nwalkers, ndim, self.log_probability)\n",
    "        sampler.run_mcmc(pos, self.nsamples,progress=True)\n",
    "        flat_samples = sampler.get_chain(discard=100, thin=15, flat=True)\n",
    "        return flat_samples\n",
    "\n",
    "    \n",
    "    def sigma_r(self):\n",
    "        samples = self.posterior()\n",
    "        r_samp = np.sort(samples[:,0])\n",
    "        r_pos = r_samp[r_samp>0]\n",
    "        return round(r_pos[int(len(r_pos)*.95)], 4)\n",
    "    \n",
    "    def plot_posterior(self):\n",
    "        labels = [\"r\",\"Alens\"]\n",
    "        flat_samples = self.posterior()\n",
    "        plt.figure(figsize=(8,8))\n",
    "        fig = corner.corner(flat_samples, labels=labels,truths=[0,0])\n",
    "\n",
    "\n",
    "    \n",
    "class LH_smith(LH_base):\n",
    "    \n",
    "    def __init__(self,lib_dir,data,nsamples,tensor,lensing,r=0,alens=1,lmin=0,lmax=200,fit_lensed=False):\n",
    "        super().__init__(lib_dir,nsamples,tensor,lensing,r,alens,lmin,lmax,fit_lensed)\n",
    "        print('Likelihood: Smith')\n",
    "        self.name = 'smith'\n",
    "        self.mean = data\n",
    "    \n",
    "    def chi_sq(self,theta):\n",
    "        alpha = 1\n",
    "        r,Alens = theta\n",
    "        th = self.cl_theory(r,Alens)\n",
    "        l = self.ell\n",
    "        _1 = (2*l) + 1\n",
    "        _a = (2*l) + alpha\n",
    "        _f = 9/2\n",
    "        _2 = ((_1)/(_a))**(1/3.)\n",
    "        \n",
    "        first = _1*_f*_2\n",
    "        second = ((self.mean/th)**(1/3.) -_2)**2\n",
    "        third = (1-alpha)*np.log(th)\n",
    "        \n",
    "        chi = (first*second) + third\n",
    "        \n",
    "        return  np.sum(chi[self.select])"
   ]
  },
  {
   "cell_type": "code",
   "execution_count": 143,
   "id": "db475c8e-dd26-4dde-b119-39e1edf4f9a0",
   "metadata": {},
   "outputs": [
    {
     "name": "stdout",
     "output_type": "stream",
     "text": [
      "INIT: [0, 1]\n",
      "Likelihood: Smith\n"
     ]
    }
   ],
   "source": [
    "lh = LH_smith(direct,scalar+(np.random.rand(len(scalar))*1e-5),2000,tensor,scalar,lmin=10,lmax=2000)"
   ]
  },
  {
   "cell_type": "code",
   "execution_count": 144,
   "id": "91ff3a1a-af5b-455c-a756-b2b453a9018c",
   "metadata": {},
   "outputs": [
    {
     "name": "stderr",
     "output_type": "stream",
     "text": [
      "/global/homes/l/lonappan/.conda/envs/PC/lib/python3.6/site-packages/ipykernel_launcher.py:82: RuntimeWarning: divide by zero encountered in true_divide\n",
      "/global/homes/l/lonappan/.conda/envs/PC/lib/python3.6/site-packages/ipykernel_launcher.py:83: RuntimeWarning: divide by zero encountered in log\n",
      "/global/homes/l/lonappan/.conda/envs/PC/lib/python3.6/site-packages/ipykernel_launcher.py:83: RuntimeWarning: invalid value encountered in multiply\n",
      "/global/homes/l/lonappan/.conda/envs/PC/lib/python3.6/site-packages/ipykernel_launcher.py:82: RuntimeWarning: divide by zero encountered in true_divide\n",
      "/global/homes/l/lonappan/.conda/envs/PC/lib/python3.6/site-packages/ipykernel_launcher.py:83: RuntimeWarning: divide by zero encountered in log\n",
      "/global/homes/l/lonappan/.conda/envs/PC/lib/python3.6/site-packages/ipykernel_launcher.py:83: RuntimeWarning: invalid value encountered in multiply\n",
      "/global/homes/l/lonappan/.conda/envs/PC/lib/python3.6/site-packages/ipykernel_launcher.py:82: RuntimeWarning: divide by zero encountered in true_divide\n",
      "/global/homes/l/lonappan/.conda/envs/PC/lib/python3.6/site-packages/ipykernel_launcher.py:83: RuntimeWarning: divide by zero encountered in log\n",
      "/global/homes/l/lonappan/.conda/envs/PC/lib/python3.6/site-packages/ipykernel_launcher.py:83: RuntimeWarning: invalid value encountered in multiply\n",
      "/global/homes/l/lonappan/.conda/envs/PC/lib/python3.6/site-packages/ipykernel_launcher.py:82: RuntimeWarning: invalid value encountered in power\n",
      "/global/homes/l/lonappan/.conda/envs/PC/lib/python3.6/site-packages/ipykernel_launcher.py:83: RuntimeWarning: invalid value encountered in log\n",
      "100%|██████████| 2000/2000 [01:28<00:00, 22.59it/s]\n"
     ]
    },
    {
     "data": {
      "text/plain": [
       "<Figure size 576x576 with 0 Axes>"
      ]
     },
     "metadata": {},
     "output_type": "display_data"
    },
    {
     "data": {
      "image/png": "[encoded data removed]",
      "text/plain": [
       "<Figure size 396x396 with 4 Axes>"
      ]
     },
     "metadata": {
      "needs_background": "light"
     },
     "output_type": "display_data"
    }
   ],
   "source": [
    "lh.plot_posterior()"
   ]
  },
  {
   "cell_type": "code",
   "execution_count": 145,
   "id": "43b6640f-8e82-49f7-b3dd-144963979543",
   "metadata": {},
   "outputs": [
    {
     "name": "stderr",
     "output_type": "stream",
     "text": [
      "/global/homes/l/lonappan/.conda/envs/PC/lib/python3.6/site-packages/ipykernel_launcher.py:82: RuntimeWarning: divide by zero encountered in true_divide\n",
      "/global/homes/l/lonappan/.conda/envs/PC/lib/python3.6/site-packages/ipykernel_launcher.py:83: RuntimeWarning: divide by zero encountered in log\n",
      "/global/homes/l/lonappan/.conda/envs/PC/lib/python3.6/site-packages/ipykernel_launcher.py:83: RuntimeWarning: invalid value encountered in multiply\n",
      "/global/homes/l/lonappan/.conda/envs/PC/lib/python3.6/site-packages/ipykernel_launcher.py:82: RuntimeWarning: divide by zero encountered in true_divide\n",
      "/global/homes/l/lonappan/.conda/envs/PC/lib/python3.6/site-packages/ipykernel_launcher.py:83: RuntimeWarning: divide by zero encountered in log\n",
      "/global/homes/l/lonappan/.conda/envs/PC/lib/python3.6/site-packages/ipykernel_launcher.py:83: RuntimeWarning: invalid value encountered in multiply\n",
      "/global/homes/l/lonappan/.conda/envs/PC/lib/python3.6/site-packages/ipykernel_launcher.py:82: RuntimeWarning: divide by zero encountered in true_divide\n",
      "/global/homes/l/lonappan/.conda/envs/PC/lib/python3.6/site-packages/ipykernel_launcher.py:83: RuntimeWarning: divide by zero encountered in log\n",
      "/global/homes/l/lonappan/.conda/envs/PC/lib/python3.6/site-packages/ipykernel_launcher.py:83: RuntimeWarning: invalid value encountered in multiply\n",
      "  0%|          | 0/2000 [00:00<?, ?it/s]/global/homes/l/lonappan/.conda/envs/PC/lib/python3.6/site-packages/ipykernel_launcher.py:82: RuntimeWarning: invalid value encountered in power\n",
      "/global/homes/l/lonappan/.conda/envs/PC/lib/python3.6/site-packages/ipykernel_launcher.py:83: RuntimeWarning: invalid value encountered in log\n",
      "100%|██████████| 2000/2000 [01:29<00:00, 22.47it/s]\n"
     ]
    },
    {
     "data": {
      "text/plain": [
       "0.0006"
      ]
     },
     "execution_count": 145,
     "metadata": {},
     "output_type": "execute_result"
    }
   ],
   "source": [
    "lh.sigma_r()"
   ]
  },
  {
   "cell_type": "code",
   "execution_count": null,
   "id": "155bdaf7-15a2-42ff-8838-48d2cca62356",
   "metadata": {},
   "outputs": [],
   "source": []
  }
 ],
 "metadata": {
  "kernelspec": {
   "display_name": "PCpython",
   "language": "python",
   "name": "pc"
  },
  "language_info": {
   "codemirror_mode": {
    "name": "ipython",
    "version": 3
   },
   "file_extension": ".py",
   "mimetype": "text/x-python",
   "name": "python",
   "nbconvert_exporter": "python",
   "pygments_lexer": "ipython3",
   "version": "3.6.13"
  }
 },
 "nbformat": 4,
 "nbformat_minor": 5
}
