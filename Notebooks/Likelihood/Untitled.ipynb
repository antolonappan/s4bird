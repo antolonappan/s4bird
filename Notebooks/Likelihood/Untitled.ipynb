{
 "cells": [
  {
   "cell_type": "code",
   "execution_count": 1,
   "id": "5cc89f51-37ea-4f57-80e1-0659e07f8140",
   "metadata": {},
   "outputs": [],
   "source": [
    "import healpy as hp\n",
    "import numpy as np\n",
    "import matplotlib.pyplot as plt\n",
    "import pymaster as nmt\n",
    "import pickle as pk\n",
    "import sys\n",
    "from lenspyx.utils import camb_clfile\n",
    "sys.path.append('../../')"
   ]
  },
  {
   "cell_type": "code",
   "execution_count": 2,
   "id": "de5e6f52-685b-4450-98c5-58a759ccf577",
   "metadata": {},
   "outputs": [
    {
     "name": "stderr",
     "output_type": "stream",
     "text": [
      "usage: ipykernel_launcher.py [-h] [-ivt] [-ivp] [-dd] [-delens] [-cl] inifile\n",
      "ipykernel_launcher.py: error: unrecognized arguments: -f\n"
     ]
    },
    {
     "name": "stdout",
     "output_type": "stream",
     "text": [
      "Simulation uses /project/projectdirs/litebird/simulations/S4BIRD/LiteBird_s4mask/RS/Maps\n",
      "Simulation uses a combination of /project/projectdirs/litebird/simulations/S4BIRD/LiteBird_s4mask/RS/Maps and /project/projectdirs/litebird/simulations/S4BIRD/CMBS4/RS/Maps\n",
      "Simulation Warning: Default first filebase and first beam assumes LiteBird\n"
     ]
    },
    {
     "name": "stderr",
     "output_type": "stream",
     "text": [
      "/global/homes/l/lonappan/.conda/envs/PC/lib/python3.6/site-packages/healpy/fitsfunc.py:369: UserWarning: If you are not specifying the input dtype and using the default np.float64 dtype of read_map(), please consider that it will change in a future version to None as to keep the same dtype of the input file: please explicitly set the dtype if it is important to you.\n",
      "  \"If you are not specifying the input dtype and using the default \"\n",
      "/global/homes/l/lonappan/.conda/envs/PC/lib/python3.6/site-packages/healpy/fitsfunc.py:391: UserWarning: NSIDE = 2048\n",
      "  warnings.warn(\"NSIDE = {0:d}\".format(nside))\n",
      "/global/homes/l/lonappan/.conda/envs/PC/lib/python3.6/site-packages/healpy/fitsfunc.py:400: UserWarning: ORDERING = RING in fits file\n",
      "  warnings.warn(\"ORDERING = {0:s} in fits file\".format(ordering))\n",
      "/global/homes/l/lonappan/.conda/envs/PC/lib/python3.6/site-packages/healpy/fitsfunc.py:428: UserWarning: INDXSCHM = IMPLICIT\n",
      "  warnings.warn(\"INDXSCHM = {0:s}\".format(schm))\n"
     ]
    },
    {
     "name": "stdout",
     "output_type": "stream",
     "text": [
      "Delensing uses QE: p\n",
      "Workspace intializing from /project/projectdirs/litebird/simulations/S4BIRD/litebird_S4pLB/RS/Pseudo/workspace/coupling_matrix.fits\n"
     ]
    }
   ],
   "source": [
    "import libparam_cross as method"
   ]
  },
  {
   "cell_type": "code",
   "execution_count": 3,
   "id": "35f04cfb-c486-46f1-8e4e-315d1248ccd0",
   "metadata": {},
   "outputs": [],
   "source": [
    "Q,U = method.delens_lib.get_delensed_field(66)"
   ]
  },
  {
   "cell_type": "code",
   "execution_count": 4,
   "id": "9d5fb3b0-3cff-403d-a371-b55059ad2ed6",
   "metadata": {},
   "outputs": [],
   "source": [
    "cl_len = camb_clfile('/project/projectdirs/litebird/simulations/S4BIRD/CAMB/s4bird_lensedCls.dat')\n",
    "cl_unl = camb_clfile('/project/projectdirs/litebird/simulations/S4BIRD/CAMB/s4bird_lenspotentialCls.dat')\n",
    "ini = '/project/projectdirs/litebird/simulations/S4BIRD/CAMB/CAMB.ini'"
   ]
  },
  {
   "cell_type": "code",
   "execution_count": 5,
   "id": "6a35ebe8-fb33-4adb-bb89-e19939630824",
   "metadata": {},
   "outputs": [],
   "source": [
    "wk = nmt.NmtWorkspace()"
   ]
  },
  {
   "cell_type": "code",
   "execution_count": 6,
   "id": "c69e3514-6e6a-4d3b-88f1-f59d75f6be8c",
   "metadata": {},
   "outputs": [
    {
     "name": "stderr",
     "output_type": "stream",
     "text": [
      "/global/homes/l/lonappan/.conda/envs/PC/lib/python3.6/site-packages/healpy/fitsfunc.py:391: UserWarning: NSIDE = 512\n",
      "  warnings.warn(\"NSIDE = {0:d}\".format(nside))\n"
     ]
    }
   ],
   "source": [
    "mask = hp.read_map('/global/u2/l/lonappan/workspace/S4bird/Data/masks/cmbs4_512_apo_C1_10.fits.gz')"
   ]
  },
  {
   "cell_type": "code",
   "execution_count": 7,
   "id": "75b94320-7644-452f-86b3-5d575de946b1",
   "metadata": {},
   "outputs": [],
   "source": [
    "f2  = nmt.NmtField(mask, [hp.ud_grade(Q,512), hp.ud_grade(U,512)], purify_b=True)"
   ]
  },
  {
   "cell_type": "code",
   "execution_count": 8,
   "id": "27657993-d149-4707-815a-61041ab2c3c8",
   "metadata": {},
   "outputs": [],
   "source": [
    "b = nmt.NmtBin.from_nside_linear(512, 10)"
   ]
  },
  {
   "cell_type": "code",
   "execution_count": 9,
   "id": "8fae1cbc-10c3-4e53-886f-da489d7be86b",
   "metadata": {},
   "outputs": [],
   "source": [
    "wk.compute_coupling_matrix(f2, f2, b)"
   ]
  },
  {
   "cell_type": "code",
   "execution_count": 10,
   "id": "9a2cb3a7-0210-44e7-9d53-3f219b3e8196",
   "metadata": {},
   "outputs": [],
   "source": [
    "cw = nmt.NmtCovarianceWorkspace()"
   ]
  },
  {
   "cell_type": "code",
   "execution_count": 11,
   "id": "3ab2e121-02f9-4c4e-9ff7-89efb39cc1fe",
   "metadata": {},
   "outputs": [],
   "source": [
    "cw.compute_coupling_coefficients(f2, f2, f2, f2)"
   ]
  },
  {
   "cell_type": "code",
   "execution_count": 12,
   "id": "11181392-1e9e-420c-9994-ce8875802327",
   "metadata": {},
   "outputs": [],
   "source": [
    "def compute_master(f_a, f_b, wsp):\n",
    "    cl_coupled = nmt.compute_coupled_cell(f_a, f_b)\n",
    "    cl_decoupled = wsp.decouple_cell(cl_coupled)\n",
    "    return cl_decoupled"
   ]
  },
  {
   "cell_type": "code",
   "execution_count": 13,
   "id": "0fc87093-7e01-460b-81a1-cab4799469f1",
   "metadata": {},
   "outputs": [],
   "source": [
    "cl_22 = compute_master(f2,f2,wk)"
   ]
  },
  {
   "cell_type": "code",
   "execution_count": 14,
   "id": "f71250cf-e8ff-42ae-8a23-4cd15b10bdf2",
   "metadata": {},
   "outputs": [],
   "source": [
    "n_ell = len(cl_22[0])"
   ]
  },
  {
   "cell_type": "code",
   "execution_count": null,
   "id": "d921009d-92ce-48a3-82b1-485f8f54b7fd",
   "metadata": {},
   "outputs": [],
   "source": []
  },
  {
   "cell_type": "code",
   "execution_count": 15,
   "id": "c42be425-66f5-49c0-9c46-a1fb59da7f42",
   "metadata": {},
   "outputs": [],
   "source": [
    "cl_ee = cl_len['ee'][:b.lmax+1]\n",
    "cl_eb = 0*cl_ee\n",
    "cl_bb = cl_len['bb'][:b.lmax+1]\n",
    "\n",
    "\n",
    "covar_22_22 = nmt.gaussian_covariance(cw, 2, 2, 2, 2,  # Spins of the 4 fields\n",
    "                                      [cl_ee, cl_eb,\n",
    "                                       cl_eb, cl_bb],  # EE, EB, BE, BB\n",
    "                                      [cl_ee, cl_eb,\n",
    "                                       cl_eb, cl_bb],  # EE, EB, BE, BB\n",
    "                                      [cl_ee, cl_eb,\n",
    "                                       cl_eb, cl_bb],  # EE, EB, BE, BB\n",
    "                                      [cl_ee, cl_eb,\n",
    "                                       cl_eb, cl_bb],  # EE, EB, BE, BB\n",
    "                                      wk, wb=wk).reshape([n_ell, 4,\n",
    "                                                            n_ell, 4])"
   ]
  },
  {
   "cell_type": "code",
   "execution_count": 16,
   "id": "43b44269-5be4-4c02-ab6e-4bb936abf6d5",
   "metadata": {},
   "outputs": [],
   "source": [
    "covar_BB_BB = covar_22_22[:, 3, :, 3]"
   ]
  },
  {
   "cell_type": "code",
   "execution_count": 17,
   "id": "d2086768-0fb9-4e6f-b134-3f5b6e6381a9",
   "metadata": {},
   "outputs": [],
   "source": [
    "pk.dump(covar_BB_BB,open('cov_del_r_s4plb.pkl','wb'))"
   ]
  },
  {
   "cell_type": "code",
   "execution_count": 18,
   "id": "1beb9bb4-9b3f-4940-99a4-d49ee969825f",
   "metadata": {},
   "outputs": [],
   "source": [
    "pk.dump(method.pseudocl_lib.get_delensed_cl(66)[3]-method.eff_lib.bias,open('c_fid_s4plb.pkl','wb'))"
   ]
  },
  {
   "cell_type": "code",
   "execution_count": 22,
   "id": "185e585b-cad2-47ad-995c-554668ceb701",
   "metadata": {},
   "outputs": [
    {
     "name": "stderr",
     "output_type": "stream",
     "text": [
      "Mean and STD of Bandpower: 100%|██████████| 100/100 [00:00<00:00, 3186.48simulation/s]\n"
     ]
    }
   ],
   "source": [
    "pk.dump(method.eff_lib.get_stat,open('lb_s4plb_spectra.pkl','wb'))"
   ]
  },
  {
   "cell_type": "code",
   "execution_count": 23,
   "id": "e2759009-2b7a-45e6-b6cb-75efeb879852",
   "metadata": {},
   "outputs": [],
   "source": [
    "pk.dump(method.eff_lib.bias,open('lb_s4plb_bias.pkl','wb'))"
   ]
  },
  {
   "cell_type": "code",
   "execution_count": null,
   "id": "aacfaf45-af39-444f-9b96-112870d77109",
   "metadata": {},
   "outputs": [],
   "source": []
  }
 ],
 "metadata": {
  "kernelspec": {
   "display_name": "PCpython",
   "language": "python",
   "name": "pc"
  },
  "language_info": {
   "codemirror_mode": {
    "name": "ipython",
    "version": 3
   },
   "file_extension": ".py",
   "mimetype": "text/x-python",
   "name": "python",
   "nbconvert_exporter": "python",
   "pygments_lexer": "ipython3",
   "version": "3.6.13"
  }
 },
 "nbformat": 4,
 "nbformat_minor": 5
}
