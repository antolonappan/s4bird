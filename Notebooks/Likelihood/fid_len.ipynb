{
 "cells": [
  {
   "cell_type": "code",
   "execution_count": 1,
   "id": "d06ce884-be72-44ac-84f5-d6647d9a75f3",
   "metadata": {},
   "outputs": [],
   "source": [
    "import os\n",
    "import lenspyx\n",
    "from lenspyx.utils import camb_clfile\n",
    "import healpy as hp\n",
    "import numpy as np\n",
    "import matplotlib.pyplot as pl\n",
    "import pymaster as nmt\n",
    "import pickle as pk\n",
    "import emcee\n",
    "import corner"
   ]
  },
  {
   "cell_type": "code",
   "execution_count": 2,
   "id": "50d7af58-044b-42ec-bcfd-5f2904a0115a",
   "metadata": {},
   "outputs": [],
   "source": [
    "import sys\n",
    "sys.path.append('/global/u2/l/lonappan/workspace/s4bird/s4bird/validations_dir')\n",
    "from noise import noise_realisation\n",
    "sys.path.append('../../')\n",
    "from likelihood import cosmology"
   ]
  },
  {
   "cell_type": "code",
   "execution_count": 3,
   "id": "5ecba505-7dbe-4b91-ad99-8c22f21afc6c",
   "metadata": {},
   "outputs": [],
   "source": [
    "cl_len = camb_clfile('/project/projectdirs/litebird/simulations/S4BIRD/CAMB/s4bird_lensedCls.dat')\n",
    "cl_unl = camb_clfile('/project/projectdirs/litebird/simulations/S4BIRD/CAMB/s4bird_lenspotentialCls.dat')\n",
    "ini = '/project/projectdirs/litebird/simulations/S4BIRD/CAMB/CAMB.ini'"
   ]
  },
  {
   "cell_type": "code",
   "execution_count": 4,
   "id": "76f4501f-228d-4d88-a4f1-7cb55738124a",
   "metadata": {},
   "outputs": [],
   "source": [
    "lmax = 4096\n",
    "dlmax = 1024\n",
    "nside = 2048 \n",
    "facres = -1"
   ]
  },
  {
   "cell_type": "code",
   "execution_count": 5,
   "id": "18637c8c-01d6-48a2-ba6c-650fc6f7d735",
   "metadata": {},
   "outputs": [],
   "source": [
    "plm = hp.synalm(cl_unl['pp'], lmax=lmax + dlmax, new=True)"
   ]
  },
  {
   "cell_type": "code",
   "execution_count": 6,
   "id": "b25610da-879d-4ddf-bfae-411ebd94694f",
   "metadata": {},
   "outputs": [],
   "source": [
    "dlm = hp.almxfl(plm, np.sqrt(np.arange(lmax + 1, dtype=float) * np.arange(1, lmax + 2)))"
   ]
  },
  {
   "cell_type": "code",
   "execution_count": 7,
   "id": "d353dca7-87ab-480f-bfd4-90423cefe07c",
   "metadata": {},
   "outputs": [
    {
     "name": "stdout",
     "output_type": "stream",
     "text": [
      "BAND 0 in 8 :\n",
      "resolve_poles: I have flipped 1 signs out of 2 pixels on south pole\n",
      "input t1,t2 -0.304 11.659 in degrees\n",
      "North 18.734 and South 18.688 buffers in amin\n",
      "cell (theta,phi) in amin (1.874,1.066)\n",
      "BAND 1 in 8 :\n",
      "input t1,t2 10.846 22.912 in degrees\n",
      "North 18.868 and South 18.859 buffers in amin\n",
      "cell (theta,phi) in amin (1.890,1.027)\n",
      "BAND 2 in 8 :\n",
      "input t1,t2 22.096 34.207 in degrees\n",
      "North 18.907 and South 18.972 buffers in amin\n",
      "cell (theta,phi) in amin (1.897,1.482)\n",
      "BAND 3 in 8 :\n",
      "input t1,t2 33.331 45.439 in degrees\n",
      "North 18.910 and South 18.934 buffers in amin\n",
      "cell (theta,phi) in amin (1.897,0.939)\n",
      "BAND 4 in 8 :\n",
      "input t1,t2 44.592 56.670 in degrees\n",
      "North 18.921 and South 18.876 buffers in amin\n",
      "cell (theta,phi) in amin (1.892,1.102)\n",
      "BAND 5 in 8 :\n",
      "input t1,t2 55.832 67.931 in degrees\n",
      "North 18.954 and South 18.908 buffers in amin\n",
      "cell (theta,phi) in amin (1.895,1.222)\n",
      "BAND 6 in 8 :\n",
      "input t1,t2 67.089 79.154 in degrees\n",
      "North 18.877 and South 18.900 buffers in amin\n",
      "cell (theta,phi) in amin (1.890,1.295)\n",
      "BAND 7 in 8 :\n",
      "input t1,t2 78.330 90.410 in degrees\n",
      "North 18.919 and South 18.909 buffers in amin\n",
      "cell (theta,phi) in amin (1.892,1.318)\n",
      "    defl. spin 1 transform:  [00:01:00] \n",
      "        defl. angles calc.:  [00:00:09] \n",
      "                       vtm:  [00:04:28] \n",
      "               vtm2filtmap:  [00:00:13] \n",
      "                    interp:  [00:00:14] \n",
      "    pol. //-transport rot.:  [00:00:13] \n",
      "                     Total:  [00:06:20] \n",
      "Number of interpolating pixels: 78643200 ~ 8868^2 \n"
     ]
    }
   ],
   "source": [
    "elm_unl = hp.synalm(cl_unl['ee'], lmax=lmax + dlmax, new=True)\n",
    "Qlen, Ulen  = lenspyx.alm2lenmap_spin([elm_unl, None], [dlm, None], nside, 2, facres=facres)"
   ]
  },
  {
   "cell_type": "code",
   "execution_count": 8,
   "id": "b41eec6a-09f3-44b0-b927-e8d0bda24d61",
   "metadata": {},
   "outputs": [],
   "source": [
    "noise = noise_realisation(nside,1.5,2.15,0)"
   ]
  },
  {
   "cell_type": "code",
   "execution_count": 9,
   "id": "4702a3a4-6b1b-4386-a0a8-57f224894491",
   "metadata": {},
   "outputs": [
    {
     "data": {
      "text/plain": [
       "(50331648,)"
      ]
     },
     "execution_count": 9,
     "metadata": {},
     "output_type": "execute_result"
    }
   ],
   "source": [
    "noise[2].shape"
   ]
  },
  {
   "cell_type": "code",
   "execution_count": 10,
   "id": "fdc698b6-fb5f-4662-9fb2-d05f2086a7a1",
   "metadata": {},
   "outputs": [
    {
     "name": "stderr",
     "output_type": "stream",
     "text": [
      "/global/homes/l/lonappan/.conda/envs/PC/lib/python3.6/site-packages/healpy/sphtfunc.py:824: UserWarning: Sigma is 12.739827 arcmin (0.003706 rad) \n",
      "  sigma * 60 * 180 / np.pi, sigma\n",
      "/global/homes/l/lonappan/.conda/envs/PC/lib/python3.6/site-packages/healpy/sphtfunc.py:829: UserWarning: -> fwhm is 30.000000 arcmin\n",
      "  sigma * 60 * 180 / np.pi * (2.0 * np.sqrt(2.0 * np.log(2.0)))\n",
      "/global/homes/l/lonappan/.conda/envs/PC/lib/python3.6/site-packages/healpy/sphtfunc.py:824: UserWarning: Sigma is 0.000000 arcmin (0.000000 rad) \n",
      "  sigma * 60 * 180 / np.pi, sigma\n",
      "/global/homes/l/lonappan/.conda/envs/PC/lib/python3.6/site-packages/healpy/sphtfunc.py:829: UserWarning: -> fwhm is 0.000000 arcmin\n",
      "  sigma * 60 * 180 / np.pi * (2.0 * np.sqrt(2.0 * np.log(2.0)))\n"
     ]
    }
   ],
   "source": [
    "Qlen = hp.smoothing(Qlen,np.radians(.5))+ noise[1]\n",
    "Ulen = hp.smoothing(Ulen,np.radians(.5))+ noise[2]"
   ]
  },
  {
   "cell_type": "code",
   "execution_count": 11,
   "id": "d7b3d260-fa9f-4ad7-95f0-2ee02a66eb36",
   "metadata": {},
   "outputs": [],
   "source": [
    "elm_len, blm_len = hp.map2alm_spin([Qlen, Ulen], 2, lmax=lmax)"
   ]
  },
  {
   "cell_type": "code",
   "execution_count": 12,
   "id": "2bbbee6e-17fb-4edb-9527-c0fadaac2ad5",
   "metadata": {},
   "outputs": [
    {
     "data": {
      "text/plain": [
       "<matplotlib.legend.Legend at 0x2aaaed9e4c50>"
      ]
     },
     "execution_count": 12,
     "metadata": {},
     "output_type": "execute_result"
    },
    {
     "data": {
      "image/png": "[encoded data removed]",
      "text/plain": [
       "<Figure size 432x288 with 1 Axes>"
      ]
     },
     "metadata": {
      "needs_background": "light"
     },
     "output_type": "display_data"
    }
   ],
   "source": [
    "ell = np.arange(2,2000)\n",
    "pl.figure()\n",
    "pl.loglog(ell, hp.alm2cl(blm_len)[ell], label='lensed')\n",
    "pl.loglog(ell, cl_len['bb'][ell], label='theroy')\n",
    "pl.legend(fontsize=12)"
   ]
  },
  {
   "cell_type": "code",
   "execution_count": 13,
   "id": "2d7c1221-e81c-45dc-b4a4-20819b1af4c6",
   "metadata": {},
   "outputs": [],
   "source": [
    "wk = nmt.NmtWorkspace()"
   ]
  },
  {
   "cell_type": "code",
   "execution_count": 14,
   "id": "3bef5656-4635-41e9-bea2-bb17b667e6af",
   "metadata": {},
   "outputs": [
    {
     "name": "stderr",
     "output_type": "stream",
     "text": [
      "/global/homes/l/lonappan/.conda/envs/PC/lib/python3.6/site-packages/healpy/fitsfunc.py:369: UserWarning: If you are not specifying the input dtype and using the default np.float64 dtype of read_map(), please consider that it will change in a future version to None as to keep the same dtype of the input file: please explicitly set the dtype if it is important to you.\n",
      "  \"If you are not specifying the input dtype and using the default \"\n",
      "/global/homes/l/lonappan/.conda/envs/PC/lib/python3.6/site-packages/healpy/fitsfunc.py:391: UserWarning: NSIDE = 512\n",
      "  warnings.warn(\"NSIDE = {0:d}\".format(nside))\n",
      "/global/homes/l/lonappan/.conda/envs/PC/lib/python3.6/site-packages/healpy/fitsfunc.py:400: UserWarning: ORDERING = RING in fits file\n",
      "  warnings.warn(\"ORDERING = {0:s} in fits file\".format(ordering))\n",
      "/global/homes/l/lonappan/.conda/envs/PC/lib/python3.6/site-packages/healpy/fitsfunc.py:428: UserWarning: INDXSCHM = IMPLICIT\n",
      "  warnings.warn(\"INDXSCHM = {0:s}\".format(schm))\n"
     ]
    }
   ],
   "source": [
    "mask = hp.read_map('/global/u2/l/lonappan/workspace/S4bird/Data/masks/cmbs4_512_apo_C1_10.fits.gz')"
   ]
  },
  {
   "cell_type": "code",
   "execution_count": 15,
   "id": "d96b2044-8477-4a93-b326-b196f8ce5f28",
   "metadata": {},
   "outputs": [],
   "source": [
    "f2  = nmt.NmtField(mask, [hp.ud_grade(Qlen,512), hp.ud_grade(Ulen,512)], purify_b=True)"
   ]
  },
  {
   "cell_type": "code",
   "execution_count": 16,
   "id": "2bff28e4-0257-46c5-a5f4-9e8bc89b7142",
   "metadata": {},
   "outputs": [],
   "source": [
    "b = nmt.NmtBin.from_nside_linear(512, 10)"
   ]
  },
  {
   "cell_type": "code",
   "execution_count": 17,
   "id": "9f6058ee-9938-4e45-8268-fb0c4fb4b2ee",
   "metadata": {},
   "outputs": [],
   "source": [
    "wk.compute_coupling_matrix(f2, f2, b)"
   ]
  },
  {
   "cell_type": "code",
   "execution_count": 18,
   "id": "70371496-d2f8-4002-b87a-267b8346d095",
   "metadata": {},
   "outputs": [],
   "source": [
    "cw = nmt.NmtCovarianceWorkspace()"
   ]
  },
  {
   "cell_type": "code",
   "execution_count": 19,
   "id": "1e45b608-3fc6-4ae6-98c4-8c8725c3bead",
   "metadata": {},
   "outputs": [],
   "source": [
    "cw.compute_coupling_coefficients(f2, f2, f2, f2)"
   ]
  },
  {
   "cell_type": "code",
   "execution_count": 20,
   "id": "8a8567c1-9910-4d83-8d65-1021623807ae",
   "metadata": {},
   "outputs": [],
   "source": [
    "def compute_master(f_a, f_b, wsp):\n",
    "    cl_coupled = nmt.compute_coupled_cell(f_a, f_b)\n",
    "    cl_decoupled = wsp.decouple_cell(cl_coupled)\n",
    "    return cl_decoupled"
   ]
  },
  {
   "cell_type": "code",
   "execution_count": 21,
   "id": "6ea5d699-cb97-4f04-9e82-9a8da5abe3a4",
   "metadata": {},
   "outputs": [],
   "source": [
    "cl_22 = compute_master(f2,f2,wk)"
   ]
  },
  {
   "cell_type": "code",
   "execution_count": 22,
   "id": "e6007b58-3d02-45ba-b014-e6d62ee4ad96",
   "metadata": {},
   "outputs": [],
   "source": [
    "n_ell = len(cl_22[0])"
   ]
  },
  {
   "cell_type": "code",
   "execution_count": 23,
   "id": "1e122771-2508-444d-80c5-9a18f7cee840",
   "metadata": {},
   "outputs": [],
   "source": [
    "cl_ee = cl_len['ee'][:b.lmax+1]\n",
    "cl_eb = 0*cl_ee\n",
    "cl_bb = cl_len['bb'][:b.lmax+1]\n",
    "\n",
    "\n",
    "covar_22_22 = nmt.gaussian_covariance(cw, 2, 2, 2, 2,  # Spins of the 4 fields\n",
    "                                      [cl_ee, cl_eb,\n",
    "                                       cl_eb, cl_bb],  # EE, EB, BE, BB\n",
    "                                      [cl_ee, cl_eb,\n",
    "                                       cl_eb, cl_bb],  # EE, EB, BE, BB\n",
    "                                      [cl_ee, cl_eb,\n",
    "                                       cl_eb, cl_bb],  # EE, EB, BE, BB\n",
    "                                      [cl_ee, cl_eb,\n",
    "                                       cl_eb, cl_bb],  # EE, EB, BE, BB\n",
    "                                      wk, wb=wk).reshape([n_ell, 4,\n",
    "                                                            n_ell, 4])"
   ]
  },
  {
   "cell_type": "code",
   "execution_count": 24,
   "id": "5e0321fb-22d2-4893-a6fc-592ba54eb2be",
   "metadata": {},
   "outputs": [],
   "source": [
    "covar_BB_BB = covar_22_22[:, 3, :, 3]"
   ]
  },
  {
   "cell_type": "code",
   "execution_count": 25,
   "id": "5d48c288-9050-4069-9d5b-7d3c0796e2dd",
   "metadata": {},
   "outputs": [],
   "source": [
    "pk.dump(covar_BB_BB,open('cov_len_s4.pkl','wb'))"
   ]
  },
  {
   "cell_type": "code",
   "execution_count": 26,
   "id": "bd9b21cf-abf3-4efd-b641-05609101bfc6",
   "metadata": {},
   "outputs": [],
   "source": [
    "cov_inv = np.linalg.inv(covar_BB_BB)"
   ]
  },
  {
   "cell_type": "code",
   "execution_count": 27,
   "id": "6225c083-a236-42c7-820b-8f2b239a8ecd",
   "metadata": {},
   "outputs": [],
   "source": [
    "yer = np.sqrt(np.diag(covar_BB_BB))"
   ]
  },
  {
   "cell_type": "code",
   "execution_count": 26,
   "id": "2942dd56-72b7-4db3-8aba-06280233eecd",
   "metadata": {},
   "outputs": [
    {
     "data": {
      "text/plain": [
       "array([3.59759962e-05, 7.23338791e-07, 2.08602516e-06, 2.49016231e-06,\n",
       "       2.50450708e-06, 2.49894692e-06, 2.48960491e-06, 1.87769984e-06,\n",
       "       2.41044395e-06, 2.04415884e-06, 2.07843326e-06, 2.16296413e-06,\n",
       "       2.10371601e-06, 1.90840485e-06, 2.09242483e-06, 2.00973741e-06,\n",
       "       1.84360201e-06, 1.77649287e-06, 1.75000321e-06, 1.67753351e-06,\n",
       "       1.67964529e-06, 1.57764886e-06, 1.50866262e-06, 1.39008622e-06,\n",
       "       1.35754184e-06, 1.31620134e-06, 1.36271898e-06, 1.19890690e-06,\n",
       "       1.09175508e-06, 1.05846011e-06, 1.01716211e-06, 9.56153623e-07,\n",
       "       9.02304585e-07, 8.50045124e-07, 7.54263052e-07, 7.68394701e-07,\n",
       "       7.08854239e-07, 6.79350855e-07, 6.47015459e-07, 5.96941382e-07,\n",
       "       5.87530195e-07, 5.62474699e-07, 5.52668311e-07, 5.32959454e-07,\n",
       "       5.13854363e-07, 4.88721258e-07, 4.93456149e-07, 4.84757962e-07,\n",
       "       4.39071124e-07, 4.45857775e-07, 4.30920716e-07, 4.45539815e-07,\n",
       "       4.10956571e-07, 3.94443023e-07, 4.21604982e-07, 4.08091123e-07,\n",
       "       4.15828569e-07, 3.99159661e-07, 4.01011292e-07, 4.01383999e-07,\n",
       "       4.13626168e-07, 4.02781609e-07, 3.98249941e-07, 4.03308625e-07,\n",
       "       4.06884221e-07, 3.92215017e-07, 3.89797702e-07, 3.91174496e-07,\n",
       "       4.03123560e-07, 3.98564488e-07, 3.83166726e-07, 4.04072073e-07,\n",
       "       3.89607480e-07, 3.90479014e-07, 4.01146501e-07, 3.86916188e-07,\n",
       "       3.94808557e-07, 3.97802143e-07, 4.03982402e-07, 3.91037924e-07,\n",
       "       3.85650890e-07, 4.05663325e-07, 3.89013691e-07, 3.82315320e-07,\n",
       "       4.08457327e-07, 3.99567153e-07, 4.02456549e-07, 3.91784830e-07,\n",
       "       4.02867882e-07, 3.84170059e-07, 4.07729648e-07, 3.87176288e-07,\n",
       "       3.94573186e-07, 3.97525915e-07, 3.86158824e-07, 3.81039433e-07,\n",
       "       3.91737336e-07, 3.89966283e-07, 3.87015151e-07, 3.98265361e-07,\n",
       "       3.88494409e-07, 3.89847285e-07, 4.00645885e-07, 3.99635477e-07,\n",
       "       3.84268379e-07, 3.88186434e-07, 3.76420281e-07, 3.87319081e-07,\n",
       "       3.87143558e-07, 3.99236749e-07, 3.87742778e-07, 3.82611909e-07,\n",
       "       3.82148368e-07, 3.87267388e-07, 3.68525890e-07, 3.79418605e-07,\n",
       "       3.78760339e-07, 3.77763777e-07, 3.83260199e-07, 3.84980424e-07,\n",
       "       3.80886118e-07, 3.75966209e-07, 3.77472612e-07, 3.72275505e-07,\n",
       "       3.64455012e-07, 3.80430929e-07, 3.68062739e-07, 3.63594058e-07,\n",
       "       3.77933320e-07, 3.74025403e-07, 3.82610283e-07, 3.76213421e-07,\n",
       "       3.72023262e-07, 3.54015798e-07, 3.54529785e-07, 3.66118094e-07,\n",
       "       3.64606749e-07, 3.59554689e-07, 3.58124924e-07, 3.65643155e-07,\n",
       "       3.63775617e-07, 3.56469047e-07, 3.51380454e-07, 3.63569547e-07,\n",
       "       3.62950436e-07, 3.45787560e-07, 3.51452154e-07, 3.48518591e-07,\n",
       "       3.45302422e-07, 3.50917862e-07, 3.51144123e-07, 3.46555856e-07,\n",
       "       3.87163911e-07])"
      ]
     },
     "execution_count": 26,
     "metadata": {},
     "output_type": "execute_result"
    }
   ],
   "source": [
    "cl_22[3]"
   ]
  },
  {
   "cell_type": "code",
   "execution_count": 27,
   "id": "f1e16eed-9f19-4bae-80b3-d27a4dd40c10",
   "metadata": {},
   "outputs": [],
   "source": [
    "pk.dump(cl_22[3],open('c_len_s4.pkl','wb'))"
   ]
  },
  {
   "cell_type": "code",
   "execution_count": 30,
   "id": "eebc23ea-b4d8-496b-84ab-7727d5c61c32",
   "metadata": {},
   "outputs": [
    {
     "data": {
      "text/plain": [
       "(0.0, 100.0)"
      ]
     },
     "execution_count": 30,
     "metadata": {},
     "output_type": "execute_result"
    },
    {
     "data": {
      "image/png": "[encoded data removed]",
      "text/plain": [
       "<Figure size 432x288 with 1 Axes>"
      ]
     },
     "metadata": {
      "needs_background": "light"
     },
     "output_type": "display_data"
    }
   ],
   "source": [
    "\n",
    "pl.errorbar(b.get_effective_ells(),cl_22[3],yerr=yer,fmt='o' )\n",
    "pl.plot(hp.alm2cl(blm_len))\n",
    "pl.xlim(0,100)"
   ]
  },
  {
   "cell_type": "code",
   "execution_count": null,
   "id": "9f0eae06-480a-4f06-af25-7527c4ba3de8",
   "metadata": {},
   "outputs": [],
   "source": []
  },
  {
   "cell_type": "code",
   "execution_count": 31,
   "id": "9e81f166-b7fd-4c25-9967-8ddb68760d6b",
   "metadata": {},
   "outputs": [],
   "source": [
    "lmin = 30\n",
    "lmax = 180"
   ]
  },
  {
   "cell_type": "code",
   "execution_count": 32,
   "id": "4b231018-9e4c-4672-838f-978a18c5271b",
   "metadata": {},
   "outputs": [],
   "source": [
    "ell_e = b.get_effective_ells()\n",
    "sel  = np.where((ell_e < lmax) & (ell_e >lmin))[0]"
   ]
  },
  {
   "cell_type": "code",
   "execution_count": 33,
   "id": "68fd1180-6d14-464e-83cd-7efe40a4e0bb",
   "metadata": {},
   "outputs": [],
   "source": [
    "imin = sel[0]\n",
    "imax = sel[-1]+1"
   ]
  },
  {
   "cell_type": "code",
   "execution_count": 34,
   "id": "174178c5-0ef4-4f78-8125-38cb54c20fc9",
   "metadata": {},
   "outputs": [
    {
     "data": {
      "text/plain": [
       "15"
      ]
     },
     "execution_count": 34,
     "metadata": {},
     "output_type": "execute_result"
    }
   ],
   "source": [
    "len(sel)"
   ]
  },
  {
   "cell_type": "code",
   "execution_count": 35,
   "id": "bab874f5-597f-4e66-b413-4fa5582eaa5e",
   "metadata": {},
   "outputs": [
    {
     "data": {
      "text/plain": [
       "(15, 15)"
      ]
     },
     "execution_count": 35,
     "metadata": {},
     "output_type": "execute_result"
    }
   ],
   "source": [
    "covar_BB_BB[imin:imax,imin:imax].shape"
   ]
  },
  {
   "cell_type": "code",
   "execution_count": 36,
   "id": "e03ca527-8e9c-4c08-b504-6448b4f93824",
   "metadata": {},
   "outputs": [],
   "source": [
    "cos = cosmology('/global/u2/l/lonappan/workspace/S4bird/Notebooks/Likelihood/Test/',2048,10,ini,True)"
   ]
  },
  {
   "cell_type": "code",
   "execution_count": 37,
   "id": "7cd7c423-3bd5-4080-acb2-ae9339fba034",
   "metadata": {},
   "outputs": [
    {
     "name": "stdout",
     "output_type": "stream",
     "text": [
      "returning cache\n"
     ]
    }
   ],
   "source": [
    "bb_lensing = cos.get_BB('S',r=0)"
   ]
  },
  {
   "cell_type": "code",
   "execution_count": 38,
   "id": "c97aca1a-7249-4c00-b392-c9a5c81686ce",
   "metadata": {},
   "outputs": [
    {
     "name": "stdout",
     "output_type": "stream",
     "text": [
      "returning cache\n"
     ]
    }
   ],
   "source": [
    "bb_tensor = cos.get_BB('T',1)"
   ]
  },
  {
   "cell_type": "code",
   "execution_count": 39,
   "id": "151915a9-966e-4aec-80dc-ca51f6fd384e",
   "metadata": {},
   "outputs": [
    {
     "name": "stderr",
     "output_type": "stream",
     "text": [
      "/global/homes/l/lonappan/.conda/envs/PC/lib/python3.6/site-packages/ipykernel_launcher.py:3: RuntimeWarning: invalid value encountered in true_divide\n",
      "  This is separate from the ipykernel package so we can avoid doing imports until\n"
     ]
    },
    {
     "data": {
      "text/plain": [
       "(1e-06, 3.469023500264554e-06)"
      ]
     },
     "execution_count": 39,
     "metadata": {},
     "output_type": "execute_result"
    },
    {
     "data": {
      "image/png": "[encoded data removed]",
      "text/plain": [
       "<Figure size 432x288 with 1 Axes>"
      ]
     },
     "metadata": {
      "needs_background": "light"
     },
     "output_type": "display_data"
    }
   ],
   "source": [
    "ell = np.arange(len(bb_lensing))\n",
    "dl = ell*(ell+1)/(2*np.pi)\n",
    "pl.loglog(bb_lensing/dl)\n",
    "pl.loglog(cl_len['bb'])\n",
    "pl.xlim(2,400)\n",
    "pl.ylim(10**-6,None)"
   ]
  },
  {
   "cell_type": "code",
   "execution_count": 40,
   "id": "0be1c057-b0e9-4aa7-9eda-0dca238fa550",
   "metadata": {},
   "outputs": [
    {
     "data": {
      "text/plain": [
       "<matplotlib.legend.Legend at 0x2aaaee656a90>"
      ]
     },
     "execution_count": 40,
     "metadata": {},
     "output_type": "execute_result"
    },
    {
     "data": {
      "image/png": "[encoded data removed]",
      "text/plain": [
       "<Figure size 432x288 with 1 Axes>"
      ]
     },
     "metadata": {
      "needs_background": "light"
     },
     "output_type": "display_data"
    }
   ],
   "source": [
    "dl = ell_e*(ell_e+1)/(2*np.pi)\n",
    "dl2 = ell*(ell+1)/(2*np.pi)\n",
    "pl.loglog(ell_e,b.bin_cell(bb_lensing[:b.lmax+1])/dl)\n",
    "pl.loglog(ell, cl_len['bb'][ell], label='theroy')\n",
    "#pl.loglog(ell,cos.get_BB('S')[ell]/dl2, label='theory gene')\n",
    "pl.legend(fontsize=12)"
   ]
  },
  {
   "cell_type": "code",
   "execution_count": 41,
   "id": "43b7f4b7-63fd-4484-98ad-cee23c38b37b",
   "metadata": {},
   "outputs": [],
   "source": [
    "bb_lens = b.bin_cell(bb_lensing[:b.lmax+1])\n",
    "bb_tens = b.bin_cell(bb_tensor[:b.lmax+1])\n",
    "fid = cl_22[3][sel]\n",
    "cov_inv_fid = cov_inv[imin:imax,imin:imax]\n",
    "\n",
    "dl = ell_e*(ell_e+1)/(2*np.pi)\n",
    "#cl_data = b.bin_cell(cl_len['bb'][:b.lmax+1])[sel]* dl[sel]\n",
    "#cl_data = b.bin_cell(cos.get_BB('S')[:b.lmax+1])[sel]"
   ]
  },
  {
   "cell_type": "code",
   "execution_count": 66,
   "id": "9b9c7045-ea52-40fe-9aa5-111c22324e9c",
   "metadata": {},
   "outputs": [],
   "source": [
    "pk.dump(cl_22[3],open('c_fid_len.pkl','wb'))"
   ]
  },
  {
   "cell_type": "code",
   "execution_count": 42,
   "id": "2dd07c17-70f6-40a9-89d6-d05fde7b256c",
   "metadata": {},
   "outputs": [],
   "source": [
    "import pickle as pk\n",
    "lb_spectra = pk.load(open('lb_spectra.pkl','rb'))\n",
    "len_m,len_s,del_m,del_s = lb_spectra\n",
    "cl_data = len_m[sel]*dl[sel]"
   ]
  },
  {
   "cell_type": "code",
   "execution_count": 43,
   "id": "40be8024-b021-4ff5-809f-27f60d5f85a5",
   "metadata": {},
   "outputs": [],
   "source": [
    "bl = cos.get_beam(30)"
   ]
  },
  {
   "cell_type": "code",
   "execution_count": 44,
   "id": "2ff3f0e9-c53c-4d1e-a509-9a546b1891ea",
   "metadata": {},
   "outputs": [],
   "source": [
    "def X(cl_obs,cl_theo):\n",
    "    return cl_obs/cl_theo\n",
    "\n",
    "def theory(r,alens):\n",
    "    return (r*bb_tens[sel] + alens*bb_lens[sel])*bl[sel]**2 + (np.ones(len(sel))*np.radians(2.15/60)**2 * dl[sel])\n",
    "def G(cl_obs,cl_theo):\n",
    "    x = X(cl_obs,cl_theo)\n",
    "    return np.sign(x-1)* np.sqrt(2*(x - np.log(x) - 1))\n",
    "def vect(theta):\n",
    "    r,alens = theta\n",
    "    cl_th = theory(r,alens)\n",
    "    g = G(cl_data,cl_th)\n",
    "    return g*fid\n",
    "def lh(theta):\n",
    "    vec = vect(theta)\n",
    "    l = np.dot(np.dot(vec,cov_inv_fid),vec)\n",
    "    return  l"
   ]
  },
  {
   "cell_type": "code",
   "execution_count": 45,
   "id": "2531afa4-d127-4e1a-b851-d85fb971beb0",
   "metadata": {},
   "outputs": [
    {
     "data": {
      "text/plain": [
       "3.91137228601128e-07"
      ]
     },
     "execution_count": 45,
     "metadata": {},
     "output_type": "execute_result"
    }
   ],
   "source": [
    "np.radians(2.15/60)**2"
   ]
  },
  {
   "cell_type": "code",
   "execution_count": 46,
   "id": "c29c89f7-1ee4-4e0f-9f8e-1416d35d377d",
   "metadata": {},
   "outputs": [
    {
     "data": {
      "text/plain": [
       "<matplotlib.legend.Legend at 0x2aaaee870390>"
      ]
     },
     "execution_count": 46,
     "metadata": {},
     "output_type": "execute_result"
    },
    {
     "data": {
      "image/png": "[encoded data removed]",
      "text/plain": [
       "<Figure size 432x288 with 1 Axes>"
      ]
     },
     "metadata": {
      "needs_background": "light"
     },
     "output_type": "display_data"
    }
   ],
   "source": [
    "pl.loglog(ell_e[sel],theory(0,1),label='theory')\n",
    "pl.errorbar(ell_e[sel],cl_data,yerr=len_s[sel]*dl[sel],fmt='o',label='data')\n",
    "pl.loglog(ell_e[sel], fid*dl[sel],label='fid')\n",
    "pl.legend()"
   ]
  },
  {
   "cell_type": "code",
   "execution_count": null,
   "id": "11d1c8d5-4d9a-452e-b54b-ad2f5a64bf64",
   "metadata": {},
   "outputs": [],
   "source": []
  },
  {
   "cell_type": "code",
   "execution_count": 47,
   "id": "6827a87c-ed5b-499d-ade6-4e8e44f7e642",
   "metadata": {},
   "outputs": [],
   "source": [
    "def log_prior(theta):\n",
    "    r,alens = theta\n",
    "    if  -0.5 < r < 0.5 and 0 < alens <2.:\n",
    "        return 0.0\n",
    "    return -np.inf\n",
    "\n",
    "def log_probability(theta):\n",
    "    lp = log_prior(theta)\n",
    "    if not np.isfinite(lp):\n",
    "        return -np.inf\n",
    "    return lp  -.5 * lh(theta)"
   ]
  },
  {
   "cell_type": "code",
   "execution_count": 57,
   "id": "2a1e604b-3e25-4c18-8579-f9b16b668c9f",
   "metadata": {},
   "outputs": [],
   "source": [
    "nsamples = 10000\n",
    "pos = np.array([0.0,1]) + 1e-4 * np.random.randn(100, 2)\n",
    "nwalkers, ndim = pos.shape\n",
    "sampler = emcee.EnsembleSampler(nwalkers, ndim, log_probability)\n",
    "sampler.run_mcmc(pos, nsamples,progress=True)"
   ]
  },
  {
   "cell_type": "code",
   "execution_count": 61,
   "id": "9dd27783-7011-46ca-8b7b-4ab1b35baf63",
   "metadata": {},
   "outputs": [],
   "source": [
    "flat_samples = sampler.get_chain(discard=1000, thin=15, flat=True)"
   ]
  },
  {
   "cell_type": "code",
   "execution_count": 62,
   "id": "b5479157-db08-491a-a693-18937fce71b6",
   "metadata": {},
   "outputs": [
    {
     "data": {
      "text/plain": [
       "<Figure size 576x576 with 0 Axes>"
      ]
     },
     "metadata": {},
     "output_type": "display_data"
    },
    {
     "data": {
      "image/png": "[encoded data removed]",
      "text/plain": [
       "<Figure size 396x396 with 4 Axes>"
      ]
     },
     "metadata": {
      "needs_background": "light"
     },
     "output_type": "display_data"
    }
   ],
   "source": [
    "labels = ['r','alens']\n",
    "pl.figure(figsize=(8,8))\n",
    "fig = corner.corner(flat_samples, labels=labels,truths=[0,0])"
   ]
  },
  {
   "cell_type": "code",
   "execution_count": 63,
   "id": "de98b624-5c77-4f46-ad49-e331a0bc3cb1",
   "metadata": {},
   "outputs": [],
   "source": [
    "r_samp = np.sort(flat_samples[:,0])\n",
    "r_pos = r_samp[r_samp>0]"
   ]
  },
  {
   "cell_type": "code",
   "execution_count": 64,
   "id": "f155c5e5-25c6-4ec3-9ecd-885922235624",
   "metadata": {},
   "outputs": [
    {
     "name": "stdout",
     "output_type": "stream",
     "text": [
      "3.45e-04\n"
     ]
    }
   ],
   "source": [
    "print(f\"{r_pos[int(len(r_pos)*.683)]:.2e}\")"
   ]
  },
  {
   "cell_type": "code",
   "execution_count": 52,
   "id": "cdad4ca2-8ffb-4649-8fae-3ebe5bd00e82",
   "metadata": {},
   "outputs": [],
   "source": [
    "def myLog(r,Alens):\n",
    "    return log_probability([r,Alens])\n",
    "\n",
    "info = {\"likelihood\": {\"like\": myLog}}"
   ]
  },
  {
   "cell_type": "code",
   "execution_count": 53,
   "id": "beff978b-8764-47b5-bda9-e4c6429053a7",
   "metadata": {},
   "outputs": [],
   "source": [
    "info[\"params\"] = {\n",
    "    \"r\": {\"prior\": {\"min\": -.5, \"max\": .5}, \"ref\": 0, \"proposal\": 0.01,\"latex\":\"r\"},\n",
    "    \"Alens\": {\"prior\": {\"min\": 0, \"max\": 1.5}, \"ref\": 1, \"proposal\": 0.01,\"latex\":\"A_{lens}\"}}"
   ]
  },
  {
   "cell_type": "code",
   "execution_count": 54,
   "id": "3f912efa-15da-429a-b887-cf223ef9be64",
   "metadata": {},
   "outputs": [
    {
     "name": "stdout",
     "output_type": "stream",
     "text": [
      "[like] Initialized external likelihood.\n",
      "[mcmc] Getting initial point... (this may take a few seconds)\n",
      "[model] Measuring speeds... (this may take a few seconds)\n",
      "[model] Setting measured speeds (per sec): {like: 3250.0}\n",
      "[mcmc] Covariance matrix not present. We will start learning the covariance of the proposal earlier: R-1 = 30 (would be 2 if all params loaded).\n",
      "[mcmc] Initial point: r:0, Alens:1\n",
      "[mcmc] Sampling!\n",
      "[mcmc] Progress @ 2021-09-11 04:10:03 : 1 steps taken, and 0 accepted.\n"
     ]
    },
    {
     "name": "stderr",
     "output_type": "stream",
     "text": [
      "/global/homes/l/lonappan/.conda/envs/PC/lib/python3.6/site-packages/ipykernel_launcher.py:8: RuntimeWarning: invalid value encountered in log\n",
      "  \n",
      "/global/homes/l/lonappan/.conda/envs/PC/lib/python3.6/site-packages/ipykernel_launcher.py:8: RuntimeWarning: invalid value encountered in log\n",
      "  \n"
     ]
    },
    {
     "name": "stdout",
     "output_type": "stream",
     "text": [
      "[mcmc] Learn + convergence test @ 80 samples accepted.\n",
      "[mcmc]  - Acceptance rate: 0.013\n",
      "[mcmc]  - Convergence of means: R-1 = 0.520082 after 64 accepted steps\n",
      "[mcmc]  - Updated covariance matrix of proposal pdf.\n",
      "[mcmc] Learn + convergence test @ 160 samples accepted.\n",
      "[mcmc]  - Acceptance rate: 0.030\n",
      "[mcmc]  - Convergence of means: R-1 = 0.239379 after 128 accepted steps\n",
      "[mcmc]  - Updated covariance matrix of proposal pdf.\n",
      "[mcmc] Learn + convergence test @ 240 samples accepted.\n",
      "[mcmc]  - Acceptance rate: 0.057\n",
      "[mcmc]  - Convergence of means: R-1 = 0.023679 after 192 accepted steps\n",
      "[mcmc]  - Updated covariance matrix of proposal pdf.\n",
      "[mcmc] Learn + convergence test @ 320 samples accepted.\n",
      "[mcmc]  - Acceptance rate: 0.105\n",
      "[mcmc]  - Convergence of means: R-1 = 0.072420 after 256 accepted steps\n",
      "[mcmc]  - Updated covariance matrix of proposal pdf.\n",
      "[mcmc] Learn + convergence test @ 400 samples accepted.\n",
      "[mcmc]  - Acceptance rate: 0.354\n",
      "[mcmc]  - Convergence of means: R-1 = 0.040770 after 320 accepted steps\n",
      "[mcmc]  - Updated covariance matrix of proposal pdf.\n",
      "[mcmc] Learn + convergence test @ 480 samples accepted.\n",
      "[mcmc]  - Acceptance rate: 0.342\n",
      "[mcmc]  - Convergence of means: R-1 = 0.020257 after 384 accepted steps\n",
      "[mcmc]  - Updated covariance matrix of proposal pdf.\n",
      "[mcmc] Learn + convergence test @ 560 samples accepted.\n",
      "[mcmc]  - Acceptance rate: 0.344\n",
      "[mcmc]  - Convergence of means: R-1 = 0.014648 after 448 accepted steps\n",
      "[mcmc]  - Updated covariance matrix of proposal pdf.\n",
      "[mcmc] Learn + convergence test @ 640 samples accepted.\n",
      "[mcmc]  - Acceptance rate: 0.340\n",
      "[mcmc]  - Convergence of means: R-1 = 0.020738 after 512 accepted steps\n",
      "[mcmc]  - Updated covariance matrix of proposal pdf.\n",
      "[mcmc] Learn + convergence test @ 720 samples accepted.\n",
      "[mcmc]  - Acceptance rate: 0.334\n",
      "[mcmc]  - Convergence of means: R-1 = 0.010488 after 576 accepted steps\n",
      "[mcmc]  - Updated covariance matrix of proposal pdf.\n",
      "[mcmc] Learn + convergence test @ 800 samples accepted.\n",
      "[mcmc]  - Acceptance rate: 0.334\n",
      "[mcmc]  - Convergence of means: R-1 = 0.017319 after 640 accepted steps\n",
      "[mcmc]  - Updated covariance matrix of proposal pdf.\n",
      "[mcmc] Learn + convergence test @ 880 samples accepted.\n",
      "[mcmc]  - Acceptance rate: 0.329\n",
      "[mcmc]  - Convergence of means: R-1 = 0.016371 after 704 accepted steps\n",
      "[mcmc]  - Updated covariance matrix of proposal pdf.\n",
      "[mcmc] Learn + convergence test @ 960 samples accepted.\n",
      "[mcmc]  - Acceptance rate: 0.326\n",
      "[mcmc]  - Convergence of means: R-1 = 0.011934 after 768 accepted steps\n",
      "[mcmc]  - Updated covariance matrix of proposal pdf.\n",
      "[mcmc] Learn + convergence test @ 1040 samples accepted.\n",
      "[mcmc]  - Acceptance rate: 0.320\n",
      "[mcmc]  - Convergence of means: R-1 = 0.008825 after 832 accepted steps\n",
      "[mcmc]  - Updated covariance matrix of proposal pdf.\n",
      "[mcmc] Learn + convergence test @ 1120 samples accepted.\n",
      "[mcmc]  - Acceptance rate: 0.315\n",
      "[mcmc]  - Convergence of means: R-1 = 0.005159 after 896 accepted steps\n",
      "[mcmc]  - Updated covariance matrix of proposal pdf.\n",
      "[mcmc] Learn + convergence test @ 1200 samples accepted.\n",
      "[mcmc]  - Acceptance rate: 0.311\n",
      "[mcmc]  - Convergence of means: R-1 = 0.010479 after 960 accepted steps\n",
      "[mcmc]  - Updated covariance matrix of proposal pdf.\n",
      "[mcmc] Learn + convergence test @ 1280 samples accepted.\n",
      "[mcmc]  - Acceptance rate: 0.311\n",
      "[mcmc]  - Convergence of means: R-1 = 0.013957 after 1024 accepted steps\n",
      "[mcmc]  - Updated covariance matrix of proposal pdf.\n",
      "[mcmc] Learn + convergence test @ 1360 samples accepted.\n",
      "[mcmc]  - Acceptance rate: 0.307\n",
      "[mcmc]  - Convergence of means: R-1 = 0.011080 after 1088 accepted steps\n",
      "[mcmc]  - Updated covariance matrix of proposal pdf.\n",
      "[mcmc] Learn + convergence test @ 1440 samples accepted.\n",
      "[mcmc]  - Acceptance rate: 0.312\n",
      "[mcmc]  - Convergence of means: R-1 = 0.018330 after 1152 accepted steps\n",
      "[mcmc]  - Updated covariance matrix of proposal pdf.\n",
      "[mcmc] Learn + convergence test @ 1520 samples accepted.\n",
      "[mcmc]  - Acceptance rate: 0.308\n",
      "[mcmc]  - Convergence of means: R-1 = 0.017258 after 1216 accepted steps\n",
      "[mcmc]  - Updated covariance matrix of proposal pdf.\n",
      "[mcmc] Learn + convergence test @ 1600 samples accepted.\n",
      "[mcmc]  - Acceptance rate: 0.304\n",
      "[mcmc]  - Convergence of means: R-1 = 0.009692 after 1280 accepted steps\n",
      "[mcmc]  - Updated covariance matrix of proposal pdf.\n",
      "[mcmc] Learn + convergence test @ 1680 samples accepted.\n",
      "[mcmc]  - Acceptance rate: 0.302\n",
      "[mcmc]  - Convergence of means: R-1 = 0.008033 after 1344 accepted steps\n",
      "[mcmc]  - Updated covariance matrix of proposal pdf.\n",
      "[mcmc] Learn + convergence test @ 1760 samples accepted.\n",
      "[mcmc]  - Acceptance rate: 0.298\n",
      "[mcmc]  - Convergence of means: R-1 = 0.008738 after 1408 accepted steps\n",
      "[mcmc]  - Updated covariance matrix of proposal pdf.\n",
      "[mcmc] Learn + convergence test @ 1840 samples accepted.\n",
      "[mcmc]  - Acceptance rate: 0.295\n",
      "[mcmc]  - Convergence of means: R-1 = 0.009562 after 1472 accepted steps\n",
      "[mcmc]  - Updated covariance matrix of proposal pdf.\n",
      "[mcmc] Learn + convergence test @ 1920 samples accepted.\n",
      "[mcmc]  - Acceptance rate: 0.294\n",
      "[mcmc]  - Convergence of means: R-1 = 0.015976 after 1536 accepted steps\n",
      "[mcmc]  - Updated covariance matrix of proposal pdf.\n",
      "[mcmc] Learn + convergence test @ 2000 samples accepted.\n",
      "[mcmc]  - Acceptance rate: 0.294\n",
      "[mcmc]  - Convergence of means: R-1 = 0.007297 after 1600 accepted steps\n",
      "[mcmc]  - Updated covariance matrix of proposal pdf.\n",
      "[mcmc] Learn + convergence test @ 2080 samples accepted.\n",
      "[mcmc]  - Acceptance rate: 0.295\n",
      "[mcmc]  - Convergence of means: R-1 = 0.007868 after 1664 accepted steps\n",
      "[mcmc]  - Updated covariance matrix of proposal pdf.\n",
      "[mcmc] Learn + convergence test @ 2160 samples accepted.\n",
      "[mcmc]  - Acceptance rate: 0.296\n",
      "[mcmc]  - Convergence of means: R-1 = 0.007299 after 1728 accepted steps\n",
      "[mcmc]  - Updated covariance matrix of proposal pdf.\n",
      "[mcmc] Learn + convergence test @ 2240 samples accepted.\n",
      "[mcmc]  - Acceptance rate: 0.294\n",
      "[mcmc]  - Convergence of means: R-1 = 0.012452 after 1792 accepted steps\n",
      "[mcmc]  - Updated covariance matrix of proposal pdf.\n",
      "[mcmc] Learn + convergence test @ 2320 samples accepted.\n",
      "[mcmc]  - Acceptance rate: 0.291\n",
      "[mcmc]  - Convergence of means: R-1 = 0.006530 after 1856 accepted steps\n",
      "[mcmc]  - Updated covariance matrix of proposal pdf.\n",
      "[mcmc] Learn + convergence test @ 2400 samples accepted.\n",
      "[mcmc]  - Acceptance rate: 0.291\n",
      "[mcmc]  - Convergence of means: R-1 = 0.004046 after 1920 accepted steps\n",
      "[mcmc]  - Updated covariance matrix of proposal pdf.\n",
      "[mcmc] Learn + convergence test @ 2480 samples accepted.\n",
      "[mcmc]  - Acceptance rate: 0.292\n",
      "[mcmc]  - Convergence of means: R-1 = 0.003481 after 1984 accepted steps\n",
      "[mcmc]  - Updated covariance matrix of proposal pdf.\n",
      "[mcmc] Learn + convergence test @ 2560 samples accepted.\n",
      "[mcmc]  - Acceptance rate: 0.290\n",
      "[mcmc]  - Convergence of means: R-1 = 0.004968 after 2048 accepted steps\n",
      "[mcmc]  - Updated covariance matrix of proposal pdf.\n",
      "[mcmc] Learn + convergence test @ 2640 samples accepted.\n",
      "[mcmc]  - Acceptance rate: 0.291\n",
      "[mcmc]  - Convergence of means: R-1 = 0.003299 after 2112 accepted steps\n",
      "[mcmc]  - Updated covariance matrix of proposal pdf.\n",
      "[mcmc] Learn + convergence test @ 2720 samples accepted.\n",
      "[mcmc]  - Acceptance rate: 0.291\n",
      "[mcmc]  - Convergence of means: R-1 = 0.002991 after 2176 accepted steps\n",
      "[mcmc]  - Updated covariance matrix of proposal pdf.\n",
      "[mcmc] Learn + convergence test @ 2800 samples accepted.\n",
      "[mcmc]  - Acceptance rate: 0.290\n",
      "[mcmc]  - Convergence of means: R-1 = 0.004489 after 2240 accepted steps\n",
      "[mcmc]  - Updated covariance matrix of proposal pdf.\n",
      "[mcmc] Learn + convergence test @ 2880 samples accepted.\n",
      "[mcmc]  - Acceptance rate: 0.291\n",
      "[mcmc]  - Convergence of means: R-1 = 0.011581 after 2304 accepted steps\n",
      "[mcmc]  - Updated covariance matrix of proposal pdf.\n",
      "[mcmc] Learn + convergence test @ 2960 samples accepted.\n",
      "[mcmc]  - Acceptance rate: 0.289\n",
      "[mcmc]  - Convergence of means: R-1 = 0.016596 after 2368 accepted steps\n",
      "[mcmc]  - Updated covariance matrix of proposal pdf.\n",
      "[mcmc] Learn + convergence test @ 3040 samples accepted.\n",
      "[mcmc]  - Acceptance rate: 0.288\n",
      "[mcmc]  - Convergence of means: R-1 = 0.012388 after 2432 accepted steps\n",
      "[mcmc]  - Updated covariance matrix of proposal pdf.\n",
      "[mcmc] Learn + convergence test @ 3120 samples accepted.\n",
      "[mcmc]  - Acceptance rate: 0.288\n",
      "[mcmc]  - Convergence of means: R-1 = 0.013892 after 2496 accepted steps\n",
      "[mcmc]  - Updated covariance matrix of proposal pdf.\n",
      "[mcmc] Learn + convergence test @ 3200 samples accepted.\n",
      "[mcmc]  - Acceptance rate: 0.286\n",
      "[mcmc]  - Convergence of means: R-1 = 0.009814 after 2560 accepted steps\n",
      "[mcmc]  - Updated covariance matrix of proposal pdf.\n",
      "[mcmc] Learn + convergence test @ 3280 samples accepted.\n",
      "[mcmc]  - Acceptance rate: 0.287\n",
      "[mcmc]  - Convergence of means: R-1 = 0.010548 after 2624 accepted steps\n",
      "[mcmc]  - Updated covariance matrix of proposal pdf.\n",
      "[mcmc] Learn + convergence test @ 3360 samples accepted.\n",
      "[mcmc]  - Acceptance rate: 0.286\n",
      "[mcmc]  - Convergence of means: R-1 = 0.009052 after 2688 accepted steps\n",
      "[mcmc]  - Updated covariance matrix of proposal pdf.\n",
      "[mcmc] Learn + convergence test @ 3440 samples accepted.\n",
      "[mcmc]  - Acceptance rate: 0.287\n",
      "[mcmc]  - Convergence of means: R-1 = 0.010441 after 2752 accepted steps\n",
      "[mcmc]  - Updated covariance matrix of proposal pdf.\n",
      "[mcmc] Learn + convergence test @ 3520 samples accepted.\n",
      "[mcmc]  - Acceptance rate: 0.287\n",
      "[mcmc]  - Convergence of means: R-1 = 0.009828 after 2816 accepted steps\n",
      "[mcmc]  - Updated covariance matrix of proposal pdf.\n",
      "[mcmc] Learn + convergence test @ 3600 samples accepted.\n",
      "[mcmc]  - Acceptance rate: 0.286\n",
      "[mcmc]  - Convergence of means: R-1 = 0.010151 after 2880 accepted steps\n",
      "[mcmc]  - Updated covariance matrix of proposal pdf.\n",
      "[mcmc] Learn + convergence test @ 3680 samples accepted.\n",
      "[mcmc]  - Acceptance rate: 0.286\n",
      "[mcmc]  - Convergence of means: R-1 = 0.010766 after 2944 accepted steps\n",
      "[mcmc]  - Updated covariance matrix of proposal pdf.\n",
      "[mcmc] Learn + convergence test @ 3760 samples accepted.\n",
      "[mcmc]  - Acceptance rate: 0.286\n",
      "[mcmc]  - Convergence of means: R-1 = 0.009736 after 3008 accepted steps\n",
      "[mcmc]  - Updated covariance matrix of proposal pdf.\n",
      "[mcmc] Learn + convergence test @ 3840 samples accepted.\n",
      "[mcmc]  - Acceptance rate: 0.286\n",
      "[mcmc]  - Convergence of means: R-1 = 0.008774 after 3072 accepted steps\n",
      "[mcmc]  - Updated covariance matrix of proposal pdf.\n",
      "[mcmc] Learn + convergence test @ 3920 samples accepted.\n",
      "[mcmc]  - Acceptance rate: 0.285\n",
      "[mcmc]  - Convergence of means: R-1 = 0.008273 after 3136 accepted steps\n",
      "[mcmc]  - Updated covariance matrix of proposal pdf.\n",
      "[mcmc] Learn + convergence test @ 4000 samples accepted.\n",
      "[mcmc]  - Acceptance rate: 0.285\n",
      "[mcmc]  - Convergence of means: R-1 = 0.009231 after 3200 accepted steps\n",
      "[mcmc]  - Updated covariance matrix of proposal pdf.\n",
      "[mcmc] Learn + convergence test @ 4080 samples accepted.\n",
      "[mcmc]  - Acceptance rate: 0.284\n",
      "[mcmc]  - Convergence of means: R-1 = 0.009230 after 3264 accepted steps\n",
      "[mcmc]  - Updated covariance matrix of proposal pdf.\n",
      "[mcmc] Learn + convergence test @ 4160 samples accepted.\n",
      "[mcmc]  - Acceptance rate: 0.284\n",
      "[mcmc]  - Convergence of means: R-1 = 0.009286 after 3328 accepted steps\n",
      "[mcmc]  - Updated covariance matrix of proposal pdf.\n",
      "[mcmc] Learn + convergence test @ 4240 samples accepted.\n",
      "[mcmc]  - Acceptance rate: 0.285\n",
      "[mcmc]  - Convergence of means: R-1 = 0.009537 after 3392 accepted steps\n",
      "[mcmc]  - Updated covariance matrix of proposal pdf.\n",
      "[mcmc] Learn + convergence test @ 4320 samples accepted.\n",
      "[mcmc]  - Acceptance rate: 0.285\n",
      "[mcmc]  - Convergence of means: R-1 = 0.011188 after 3456 accepted steps\n",
      "[mcmc]  - Updated covariance matrix of proposal pdf.\n",
      "[mcmc] Learn + convergence test @ 4400 samples accepted.\n",
      "[mcmc]  - Acceptance rate: 0.284\n",
      "[mcmc]  - Convergence of means: R-1 = 0.009730 after 3520 accepted steps\n",
      "[mcmc]  - Updated covariance matrix of proposal pdf.\n",
      "[mcmc] Learn + convergence test @ 4480 samples accepted.\n",
      "[mcmc]  - Acceptance rate: 0.284\n",
      "[mcmc]  - Convergence of means: R-1 = 0.010681 after 3584 accepted steps\n",
      "[mcmc]  - Updated covariance matrix of proposal pdf.\n",
      "[mcmc] Learn + convergence test @ 4560 samples accepted.\n",
      "[mcmc]  - Acceptance rate: 0.284\n",
      "[mcmc]  - Convergence of means: R-1 = 0.009154 after 3648 accepted steps\n",
      "[mcmc]  - Updated covariance matrix of proposal pdf.\n",
      "[mcmc] Learn + convergence test @ 4640 samples accepted.\n",
      "[mcmc]  - Acceptance rate: 0.284\n",
      "[mcmc]  - Convergence of means: R-1 = 0.008088 after 3712 accepted steps\n",
      "[mcmc]  - Updated covariance matrix of proposal pdf.\n",
      "[mcmc] Learn + convergence test @ 4720 samples accepted.\n",
      "[mcmc]  - Acceptance rate: 0.283\n",
      "[mcmc]  - Convergence of means: R-1 = 0.009228 after 3776 accepted steps\n",
      "[mcmc]  - Updated covariance matrix of proposal pdf.\n",
      "[mcmc] Learn + convergence test @ 4800 samples accepted.\n",
      "[mcmc]  - Acceptance rate: 0.283\n",
      "[mcmc]  - Convergence of means: R-1 = 0.007893 after 3840 accepted steps\n",
      "[mcmc]  - Updated covariance matrix of proposal pdf.\n",
      "[mcmc] Learn + convergence test @ 4880 samples accepted.\n",
      "[mcmc]  - Acceptance rate: 0.284\n",
      "[mcmc]  - Convergence of means: R-1 = 0.008704 after 3904 accepted steps\n",
      "[mcmc]  - Updated covariance matrix of proposal pdf.\n",
      "[mcmc] Learn + convergence test @ 4960 samples accepted.\n",
      "[mcmc]  - Acceptance rate: 0.284\n",
      "[mcmc]  - Convergence of means: R-1 = 0.006098 after 3968 accepted steps\n",
      "[mcmc]  - Updated covariance matrix of proposal pdf.\n",
      "[mcmc] Learn + convergence test @ 5040 samples accepted.\n",
      "[mcmc]  - Acceptance rate: 0.285\n",
      "[mcmc]  - Convergence of means: R-1 = 0.004872 after 4032 accepted steps\n",
      "[mcmc]  - Updated covariance matrix of proposal pdf.\n",
      "[mcmc] Learn + convergence test @ 5120 samples accepted.\n",
      "[mcmc]  - Acceptance rate: 0.286\n",
      "[mcmc]  - Convergence of means: R-1 = 0.005687 after 4096 accepted steps\n",
      "[mcmc]  - Updated covariance matrix of proposal pdf.\n",
      "[mcmc] Learn + convergence test @ 5200 samples accepted.\n",
      "[mcmc]  - Acceptance rate: 0.285\n",
      "[mcmc]  - Convergence of means: R-1 = 0.007474 after 4160 accepted steps\n",
      "[mcmc]  - Updated covariance matrix of proposal pdf.\n",
      "[mcmc] Learn + convergence test @ 5280 samples accepted.\n",
      "[mcmc]  - Acceptance rate: 0.285\n",
      "[mcmc]  - Convergence of means: R-1 = 0.006504 after 4224 accepted steps\n",
      "[mcmc]  - Updated covariance matrix of proposal pdf.\n",
      "[mcmc] Learn + convergence test @ 5360 samples accepted.\n",
      "[mcmc]  - Acceptance rate: 0.286\n",
      "[mcmc]  - Convergence of means: R-1 = 0.006311 after 4288 accepted steps\n",
      "[mcmc]  - Updated covariance matrix of proposal pdf.\n",
      "[mcmc] Learn + convergence test @ 5440 samples accepted.\n",
      "[mcmc]  - Acceptance rate: 0.286\n",
      "[mcmc]  - Convergence of means: R-1 = 0.006656 after 4352 accepted steps\n",
      "[mcmc]  - Updated covariance matrix of proposal pdf.\n",
      "[mcmc] Learn + convergence test @ 5520 samples accepted.\n",
      "[mcmc]  - Acceptance rate: 0.286\n",
      "[mcmc]  - Convergence of means: R-1 = 0.005376 after 4416 accepted steps\n",
      "[mcmc]  - Updated covariance matrix of proposal pdf.\n",
      "[mcmc] Learn + convergence test @ 5600 samples accepted.\n",
      "[mcmc]  - Acceptance rate: 0.287\n",
      "[mcmc]  - Convergence of means: R-1 = 0.005385 after 4480 accepted steps\n",
      "[mcmc]  - Updated covariance matrix of proposal pdf.\n",
      "[mcmc] Learn + convergence test @ 5680 samples accepted.\n",
      "[mcmc]  - Acceptance rate: 0.287\n",
      "[mcmc]  - Convergence of means: R-1 = 0.006114 after 4544 accepted steps\n",
      "[mcmc]  - Updated covariance matrix of proposal pdf.\n",
      "[mcmc] Learn + convergence test @ 5760 samples accepted.\n",
      "[mcmc]  - Acceptance rate: 0.288\n",
      "[mcmc]  - Convergence of means: R-1 = 0.004675 after 4608 accepted steps\n",
      "[mcmc]  - Updated covariance matrix of proposal pdf.\n",
      "[mcmc] Learn + convergence test @ 5840 samples accepted.\n",
      "[mcmc]  - Acceptance rate: 0.288\n",
      "[mcmc]  - Convergence of means: R-1 = 0.005635 after 4672 accepted steps\n",
      "[mcmc]  - Updated covariance matrix of proposal pdf.\n",
      "[mcmc] Learn + convergence test @ 5920 samples accepted.\n",
      "[mcmc]  - Acceptance rate: 0.288\n",
      "[mcmc]  - Convergence of means: R-1 = 0.005938 after 4736 accepted steps\n",
      "[mcmc]  - Updated covariance matrix of proposal pdf.\n",
      "[mcmc] Learn + convergence test @ 6000 samples accepted.\n",
      "[mcmc]  - Acceptance rate: 0.287\n",
      "[mcmc]  - Convergence of means: R-1 = 0.007458 after 4800 accepted steps\n",
      "[mcmc]  - Updated covariance matrix of proposal pdf.\n",
      "[mcmc] Learn + convergence test @ 6080 samples accepted.\n",
      "[mcmc]  - Acceptance rate: 0.287\n",
      "[mcmc]  - Convergence of means: R-1 = 0.006587 after 4864 accepted steps\n",
      "[mcmc]  - Updated covariance matrix of proposal pdf.\n",
      "[mcmc] Learn + convergence test @ 6160 samples accepted.\n",
      "[mcmc]  - Acceptance rate: 0.287\n",
      "[mcmc]  - Convergence of means: R-1 = 0.005974 after 4928 accepted steps\n",
      "[mcmc]  - Updated covariance matrix of proposal pdf.\n",
      "[mcmc] Learn + convergence test @ 6240 samples accepted.\n",
      "[mcmc]  - Acceptance rate: 0.288\n",
      "[mcmc]  - Convergence of means: R-1 = 0.007616 after 4992 accepted steps\n",
      "[mcmc]  - Updated covariance matrix of proposal pdf.\n",
      "[mcmc] Learn + convergence test @ 6320 samples accepted.\n",
      "[mcmc]  - Acceptance rate: 0.288\n",
      "[mcmc]  - Convergence of means: R-1 = 0.008088 after 5056 accepted steps\n",
      "[mcmc]  - Updated covariance matrix of proposal pdf.\n",
      "[mcmc] Learn + convergence test @ 6400 samples accepted.\n",
      "[mcmc]  - Acceptance rate: 0.288\n",
      "[mcmc]  - Convergence of means: R-1 = 0.007331 after 5120 accepted steps\n",
      "[mcmc]  - Updated covariance matrix of proposal pdf.\n",
      "[mcmc] Learn + convergence test @ 6480 samples accepted.\n",
      "[mcmc]  - Acceptance rate: 0.288\n",
      "[mcmc]  - Convergence of means: R-1 = 0.005788 after 5184 accepted steps\n",
      "[mcmc]  - Updated covariance matrix of proposal pdf.\n",
      "[mcmc] Learn + convergence test @ 6560 samples accepted.\n",
      "[mcmc]  - Acceptance rate: 0.289\n",
      "[mcmc]  - Convergence of means: R-1 = 0.005464 after 5248 accepted steps\n",
      "[mcmc]  - Updated covariance matrix of proposal pdf.\n",
      "[mcmc] Learn + convergence test @ 6640 samples accepted.\n",
      "[mcmc]  - Acceptance rate: 0.289\n",
      "[mcmc]  - Convergence of means: R-1 = 0.005091 after 5312 accepted steps\n",
      "[mcmc]  - Updated covariance matrix of proposal pdf.\n",
      "[mcmc] Learn + convergence test @ 6720 samples accepted.\n",
      "[mcmc]  - Acceptance rate: 0.289\n",
      "[mcmc]  - Convergence of means: R-1 = 0.005465 after 5376 accepted steps\n",
      "[mcmc]  - Updated covariance matrix of proposal pdf.\n",
      "[mcmc] Learn + convergence test @ 6800 samples accepted.\n",
      "[mcmc]  - Acceptance rate: 0.289\n",
      "[mcmc]  - Convergence of means: R-1 = 0.005798 after 5440 accepted steps\n",
      "[mcmc]  - Updated covariance matrix of proposal pdf.\n",
      "[mcmc] Learn + convergence test @ 6880 samples accepted.\n",
      "[mcmc]  - Acceptance rate: 0.290\n",
      "[mcmc]  - Convergence of means: R-1 = 0.005893 after 5504 accepted steps\n",
      "[mcmc]  - Updated covariance matrix of proposal pdf.\n",
      "[mcmc] Learn + convergence test @ 6960 samples accepted.\n",
      "[mcmc]  - Acceptance rate: 0.289\n",
      "[mcmc]  - Convergence of means: R-1 = 0.004657 after 5568 accepted steps\n",
      "[mcmc]  - Updated covariance matrix of proposal pdf.\n",
      "[mcmc] Learn + convergence test @ 7040 samples accepted.\n",
      "[mcmc]  - Acceptance rate: 0.289\n",
      "[mcmc]  - Convergence of means: R-1 = 0.003298 after 5632 accepted steps\n",
      "[mcmc]  - Updated covariance matrix of proposal pdf.\n",
      "[mcmc] Learn + convergence test @ 7120 samples accepted.\n",
      "[mcmc]  - Acceptance rate: 0.288\n",
      "[mcmc]  - Convergence of means: R-1 = 0.002131 after 5696 accepted steps\n",
      "[mcmc]  - Updated covariance matrix of proposal pdf.\n",
      "[mcmc] Learn + convergence test @ 7200 samples accepted.\n",
      "[mcmc]  - Acceptance rate: 0.288\n",
      "[mcmc]  - Convergence of means: R-1 = 0.001318 after 5760 accepted steps\n",
      "[mcmc]  - Updated covariance matrix of proposal pdf.\n",
      "[mcmc] Learn + convergence test @ 7280 samples accepted.\n",
      "[mcmc]  - Acceptance rate: 0.289\n",
      "[mcmc]  - Convergence of means: R-1 = 0.001200 after 5824 accepted steps\n",
      "[mcmc]  - Updated covariance matrix of proposal pdf.\n",
      "[mcmc] Learn + convergence test @ 7360 samples accepted.\n",
      "[mcmc]  - Acceptance rate: 0.289\n",
      "[mcmc]  - Convergence of means: R-1 = 0.001558 after 5888 accepted steps\n",
      "[mcmc]  - Updated covariance matrix of proposal pdf.\n",
      "[mcmc] Learn + convergence test @ 7440 samples accepted.\n",
      "[mcmc]  - Acceptance rate: 0.289\n",
      "[mcmc]  - Convergence of means: R-1 = 0.001611 after 5952 accepted steps\n",
      "[mcmc]  - Updated covariance matrix of proposal pdf.\n",
      "[mcmc] Learn + convergence test @ 7520 samples accepted.\n",
      "[mcmc]  - Acceptance rate: 0.290\n",
      "[mcmc]  - Convergence of means: R-1 = 0.002174 after 6016 accepted steps\n",
      "[mcmc]  - Updated covariance matrix of proposal pdf.\n",
      "[mcmc] Learn + convergence test @ 7600 samples accepted.\n",
      "[mcmc]  - Acceptance rate: 0.291\n",
      "[mcmc]  - Convergence of means: R-1 = 0.002833 after 6080 accepted steps\n",
      "[mcmc]  - Updated covariance matrix of proposal pdf.\n",
      "[mcmc] Learn + convergence test @ 7680 samples accepted.\n",
      "[mcmc]  - Acceptance rate: 0.292\n",
      "[mcmc]  - Convergence of means: R-1 = 0.003884 after 6144 accepted steps\n",
      "[mcmc]  - Updated covariance matrix of proposal pdf.\n",
      "[mcmc] Learn + convergence test @ 7760 samples accepted.\n",
      "[mcmc]  - Acceptance rate: 0.292\n",
      "[mcmc]  - Convergence of means: R-1 = 0.004633 after 6208 accepted steps\n",
      "[mcmc]  - Updated covariance matrix of proposal pdf.\n",
      "[mcmc] Learn + convergence test @ 7840 samples accepted.\n",
      "[mcmc]  - Acceptance rate: 0.292\n",
      "[mcmc]  - Convergence of means: R-1 = 0.004896 after 6272 accepted steps\n",
      "[mcmc]  - Updated covariance matrix of proposal pdf.\n",
      "[mcmc] Learn + convergence test @ 7920 samples accepted.\n",
      "[mcmc]  - Acceptance rate: 0.293\n",
      "[mcmc]  - Convergence of means: R-1 = 0.006791 after 6336 accepted steps\n",
      "[mcmc]  - Updated covariance matrix of proposal pdf.\n",
      "[mcmc] Learn + convergence test @ 8000 samples accepted.\n",
      "[mcmc]  - Acceptance rate: 0.293\n",
      "[mcmc]  - Convergence of means: R-1 = 0.006971 after 6400 accepted steps\n",
      "[mcmc]  - Updated covariance matrix of proposal pdf.\n",
      "[mcmc] Learn + convergence test @ 8080 samples accepted.\n",
      "[mcmc]  - Acceptance rate: 0.293\n",
      "[mcmc]  - Convergence of means: R-1 = 0.004739 after 6464 accepted steps\n",
      "[mcmc]  - Updated covariance matrix of proposal pdf.\n",
      "[mcmc] Learn + convergence test @ 8160 samples accepted.\n",
      "[mcmc]  - Acceptance rate: 0.293\n",
      "[mcmc]  - Convergence of means: R-1 = 0.006673 after 6528 accepted steps\n",
      "[mcmc]  - Updated covariance matrix of proposal pdf.\n",
      "[mcmc] Learn + convergence test @ 8240 samples accepted.\n",
      "[mcmc]  - Acceptance rate: 0.293\n",
      "[mcmc]  - Convergence of means: R-1 = 0.005079 after 6592 accepted steps\n",
      "[mcmc]  - Updated covariance matrix of proposal pdf.\n",
      "[mcmc] Learn + convergence test @ 8320 samples accepted.\n",
      "[mcmc]  - Acceptance rate: 0.293\n",
      "[mcmc]  - Convergence of means: R-1 = 0.005376 after 6656 accepted steps\n",
      "[mcmc]  - Updated covariance matrix of proposal pdf.\n",
      "[mcmc] Learn + convergence test @ 8400 samples accepted.\n",
      "[mcmc]  - Acceptance rate: 0.293\n",
      "[mcmc]  - Convergence of means: R-1 = 0.004646 after 6720 accepted steps\n",
      "[mcmc]  - Updated covariance matrix of proposal pdf.\n",
      "[mcmc] Learn + convergence test @ 8480 samples accepted.\n",
      "[mcmc]  - Acceptance rate: 0.293\n",
      "[mcmc]  - Convergence of means: R-1 = 0.003742 after 6784 accepted steps\n",
      "[mcmc]  - Updated covariance matrix of proposal pdf.\n",
      "[mcmc] Learn + convergence test @ 8560 samples accepted.\n",
      "[mcmc]  - Acceptance rate: 0.293\n",
      "[mcmc]  - Convergence of means: R-1 = 0.003391 after 6848 accepted steps\n",
      "[mcmc]  - Updated covariance matrix of proposal pdf.\n",
      "[mcmc] Learn + convergence test @ 8640 samples accepted.\n",
      "[mcmc]  - Acceptance rate: 0.293\n",
      "[mcmc]  - Convergence of means: R-1 = 0.002566 after 6912 accepted steps\n",
      "[mcmc]  - Updated covariance matrix of proposal pdf.\n",
      "[mcmc] Learn + convergence test @ 8720 samples accepted.\n",
      "[mcmc]  - Acceptance rate: 0.293\n",
      "[mcmc]  - Convergence of means: R-1 = 0.002980 after 6976 accepted steps\n",
      "[mcmc]  - Updated covariance matrix of proposal pdf.\n",
      "[mcmc] Learn + convergence test @ 8800 samples accepted.\n",
      "[mcmc]  - Acceptance rate: 0.294\n",
      "[mcmc]  - Convergence of means: R-1 = 0.001792 after 7040 accepted steps\n",
      "[mcmc]  - Updated covariance matrix of proposal pdf.\n",
      "[mcmc] Learn + convergence test @ 8880 samples accepted.\n",
      "[mcmc]  - Acceptance rate: 0.294\n",
      "[mcmc]  - Convergence of means: R-1 = 0.002534 after 7104 accepted steps\n",
      "[mcmc]  - Updated covariance matrix of proposal pdf.\n",
      "[mcmc] Learn + convergence test @ 8960 samples accepted.\n",
      "[mcmc]  - Acceptance rate: 0.294\n",
      "[mcmc]  - Convergence of means: R-1 = 0.002211 after 7168 accepted steps\n",
      "[mcmc]  - Updated covariance matrix of proposal pdf.\n",
      "[mcmc] Learn + convergence test @ 9040 samples accepted.\n",
      "[mcmc]  - Acceptance rate: 0.295\n",
      "[mcmc]  - Convergence of means: R-1 = 0.003047 after 7232 accepted steps\n",
      "[mcmc]  - Updated covariance matrix of proposal pdf.\n",
      "[mcmc] Learn + convergence test @ 9120 samples accepted.\n",
      "[mcmc]  - Acceptance rate: 0.295\n",
      "[mcmc]  - Convergence of means: R-1 = 0.002040 after 7296 accepted steps\n",
      "[mcmc]  - Updated covariance matrix of proposal pdf.\n",
      "[mcmc] Learn + convergence test @ 9200 samples accepted.\n",
      "[mcmc]  - Acceptance rate: 0.294\n",
      "[mcmc]  - Convergence of means: R-1 = 0.002291 after 7360 accepted steps\n",
      "[mcmc]  - Updated covariance matrix of proposal pdf.\n",
      "[mcmc] Learn + convergence test @ 9280 samples accepted.\n",
      "[mcmc]  - Acceptance rate: 0.294\n",
      "[mcmc]  - Convergence of means: R-1 = 0.002570 after 7424 accepted steps\n",
      "[mcmc]  - Updated covariance matrix of proposal pdf.\n",
      "[mcmc] Learn + convergence test @ 9360 samples accepted.\n",
      "[mcmc]  - Acceptance rate: 0.294\n",
      "[mcmc]  - Convergence of means: R-1 = 0.002609 after 7488 accepted steps\n",
      "[mcmc]  - Updated covariance matrix of proposal pdf.\n",
      "[mcmc] Learn + convergence test @ 9440 samples accepted.\n",
      "[mcmc]  - Acceptance rate: 0.294\n",
      "[mcmc]  - Convergence of means: R-1 = 0.002053 after 7552 accepted steps\n",
      "[mcmc]  - Updated covariance matrix of proposal pdf.\n",
      "[mcmc] Learn + convergence test @ 9520 samples accepted.\n",
      "[mcmc]  - Acceptance rate: 0.294\n",
      "[mcmc]  - Convergence of means: R-1 = 0.001701 after 7616 accepted steps\n",
      "[mcmc]  - Updated covariance matrix of proposal pdf.\n",
      "[mcmc] Learn + convergence test @ 9600 samples accepted.\n",
      "[mcmc]  - Acceptance rate: 0.294\n",
      "[mcmc]  - Convergence of means: R-1 = 0.001428 after 7680 accepted steps\n",
      "[mcmc]  - Updated covariance matrix of proposal pdf.\n",
      "[mcmc] Learn + convergence test @ 9680 samples accepted.\n",
      "[mcmc]  - Acceptance rate: 0.294\n",
      "[mcmc]  - Convergence of means: R-1 = 0.002045 after 7744 accepted steps\n",
      "[mcmc]  - Updated covariance matrix of proposal pdf.\n",
      "[mcmc] Learn + convergence test @ 9760 samples accepted.\n",
      "[mcmc]  - Acceptance rate: 0.294\n",
      "[mcmc]  - Convergence of means: R-1 = 0.001825 after 7808 accepted steps\n",
      "[mcmc]  - Updated covariance matrix of proposal pdf.\n",
      "[mcmc] Learn + convergence test @ 9840 samples accepted.\n",
      "[mcmc]  - Acceptance rate: 0.293\n",
      "[mcmc]  - Convergence of means: R-1 = 0.001901 after 7872 accepted steps\n",
      "[mcmc]  - Updated covariance matrix of proposal pdf.\n",
      "[mcmc] Learn + convergence test @ 9920 samples accepted.\n",
      "[mcmc]  - Acceptance rate: 0.293\n",
      "[mcmc]  - Convergence of means: R-1 = 0.001946 after 7936 accepted steps\n",
      "[mcmc]  - Updated covariance matrix of proposal pdf.\n",
      "[mcmc] Learn + convergence test @ 10000 samples accepted.\n",
      "[mcmc]  - Acceptance rate: 0.293\n",
      "[mcmc]  - Convergence of means: R-1 = 0.002341 after 8000 accepted steps\n",
      "[mcmc]  - Updated covariance matrix of proposal pdf.\n",
      "[mcmc] Learn + convergence test @ 10080 samples accepted.\n",
      "[mcmc]  - Acceptance rate: 0.294\n",
      "[mcmc]  - Convergence of means: R-1 = 0.002602 after 8064 accepted steps\n",
      "[mcmc]  - Updated covariance matrix of proposal pdf.\n",
      "[mcmc] Learn + convergence test @ 10160 samples accepted.\n",
      "[mcmc]  - Acceptance rate: 0.293\n",
      "[mcmc]  - Convergence of means: R-1 = 0.003245 after 8128 accepted steps\n",
      "[mcmc]  - Updated covariance matrix of proposal pdf.\n",
      "[mcmc] Learn + convergence test @ 10240 samples accepted.\n",
      "[mcmc]  - Acceptance rate: 0.293\n",
      "[mcmc]  - Convergence of means: R-1 = 0.002971 after 8192 accepted steps\n",
      "[mcmc]  - Updated covariance matrix of proposal pdf.\n",
      "[mcmc] Learn + convergence test @ 10320 samples accepted.\n",
      "[mcmc]  - Acceptance rate: 0.293\n",
      "[mcmc]  - Convergence of means: R-1 = 0.003834 after 8256 accepted steps\n",
      "[mcmc]  - Updated covariance matrix of proposal pdf.\n",
      "[mcmc] Learn + convergence test @ 10400 samples accepted.\n",
      "[mcmc]  - Acceptance rate: 0.293\n",
      "[mcmc]  - Convergence of means: R-1 = 0.003098 after 8320 accepted steps\n",
      "[mcmc]  - Updated covariance matrix of proposal pdf.\n",
      "[mcmc] Learn + convergence test @ 10480 samples accepted.\n",
      "[mcmc]  - Acceptance rate: 0.294\n",
      "[mcmc]  - Convergence of means: R-1 = 0.003516 after 8384 accepted steps\n",
      "[mcmc]  - Updated covariance matrix of proposal pdf.\n",
      "[mcmc] Learn + convergence test @ 10560 samples accepted.\n",
      "[mcmc]  - Acceptance rate: 0.294\n",
      "[mcmc]  - Convergence of means: R-1 = 0.003812 after 8448 accepted steps\n",
      "[mcmc]  - Updated covariance matrix of proposal pdf.\n",
      "[mcmc] Learn + convergence test @ 10640 samples accepted.\n",
      "[mcmc]  - Acceptance rate: 0.294\n",
      "[mcmc]  - Convergence of means: R-1 = 0.004015 after 8512 accepted steps\n",
      "[mcmc]  - Updated covariance matrix of proposal pdf.\n",
      "[mcmc] Learn + convergence test @ 10720 samples accepted.\n",
      "[mcmc]  - Acceptance rate: 0.294\n",
      "[mcmc]  - Convergence of means: R-1 = 0.004017 after 8576 accepted steps\n",
      "[mcmc]  - Updated covariance matrix of proposal pdf.\n",
      "[mcmc] Learn + convergence test @ 10800 samples accepted.\n",
      "[mcmc]  - Acceptance rate: 0.293\n",
      "[mcmc]  - Convergence of means: R-1 = 0.003047 after 8640 accepted steps\n",
      "[mcmc]  - Updated covariance matrix of proposal pdf.\n",
      "[mcmc] Learn + convergence test @ 10880 samples accepted.\n",
      "[mcmc]  - Acceptance rate: 0.294\n",
      "[mcmc]  - Convergence of means: R-1 = 0.003344 after 8704 accepted steps\n",
      "[mcmc]  - Updated covariance matrix of proposal pdf.\n",
      "[mcmc] Learn + convergence test @ 10960 samples accepted.\n",
      "[mcmc]  - Acceptance rate: 0.294\n",
      "[mcmc]  - Convergence of means: R-1 = 0.003574 after 8768 accepted steps\n",
      "[mcmc]  - Updated covariance matrix of proposal pdf.\n",
      "[mcmc] Learn + convergence test @ 11040 samples accepted.\n",
      "[mcmc]  - Acceptance rate: 0.294\n",
      "[mcmc]  - Convergence of means: R-1 = 0.003248 after 8832 accepted steps\n",
      "[mcmc]  - Updated covariance matrix of proposal pdf.\n",
      "[mcmc] Learn + convergence test @ 11120 samples accepted.\n",
      "[mcmc]  - Acceptance rate: 0.294\n",
      "[mcmc]  - Convergence of means: R-1 = 0.003453 after 8896 accepted steps\n",
      "[mcmc]  - Updated covariance matrix of proposal pdf.\n",
      "[mcmc] Learn + convergence test @ 11200 samples accepted.\n",
      "[mcmc]  - Acceptance rate: 0.294\n",
      "[mcmc]  - Convergence of means: R-1 = 0.003778 after 8960 accepted steps\n",
      "[mcmc]  - Updated covariance matrix of proposal pdf.\n",
      "[mcmc] Learn + convergence test @ 11280 samples accepted.\n",
      "[mcmc]  - Acceptance rate: 0.294\n",
      "[mcmc]  - Convergence of means: R-1 = 0.003295 after 9024 accepted steps\n",
      "[mcmc]  - Updated covariance matrix of proposal pdf.\n",
      "[mcmc] Learn + convergence test @ 11360 samples accepted.\n",
      "[mcmc]  - Acceptance rate: 0.295\n",
      "[mcmc]  - Convergence of means: R-1 = 0.002991 after 9088 accepted steps\n",
      "[mcmc]  - Updated covariance matrix of proposal pdf.\n",
      "[mcmc] Learn + convergence test @ 11440 samples accepted.\n",
      "[mcmc]  - Acceptance rate: 0.295\n",
      "[mcmc]  - Convergence of means: R-1 = 0.002498 after 9152 accepted steps\n",
      "[mcmc]  - Updated covariance matrix of proposal pdf.\n",
      "[mcmc] Learn + convergence test @ 11520 samples accepted.\n",
      "[mcmc]  - Acceptance rate: 0.294\n",
      "[mcmc]  - Convergence of means: R-1 = 0.002437 after 9216 accepted steps\n",
      "[mcmc]  - Updated covariance matrix of proposal pdf.\n",
      "[mcmc] Learn + convergence test @ 11600 samples accepted.\n",
      "[mcmc]  - Acceptance rate: 0.294\n",
      "[mcmc]  - Convergence of means: R-1 = 0.002713 after 9280 accepted steps\n",
      "[mcmc]  - Updated covariance matrix of proposal pdf.\n",
      "[mcmc] Learn + convergence test @ 11680 samples accepted.\n",
      "[mcmc]  - Acceptance rate: 0.294\n",
      "[mcmc]  - Convergence of means: R-1 = 0.002253 after 9344 accepted steps\n",
      "[mcmc]  - Updated covariance matrix of proposal pdf.\n",
      "[mcmc] Learn + convergence test @ 11760 samples accepted.\n",
      "[mcmc]  - Acceptance rate: 0.293\n",
      "[mcmc]  - Convergence of means: R-1 = 0.001797 after 9408 accepted steps\n",
      "[mcmc]  - Updated covariance matrix of proposal pdf.\n",
      "[mcmc] Learn + convergence test @ 11840 samples accepted.\n",
      "[mcmc]  - Acceptance rate: 0.293\n",
      "[mcmc]  - Convergence of means: R-1 = 0.001871 after 9472 accepted steps\n",
      "[mcmc]  - Updated covariance matrix of proposal pdf.\n",
      "[mcmc] Learn + convergence test @ 11920 samples accepted.\n",
      "[mcmc]  - Acceptance rate: 0.294\n",
      "[mcmc]  - Convergence of means: R-1 = 0.001697 after 9536 accepted steps\n",
      "[mcmc]  - Updated covariance matrix of proposal pdf.\n",
      "[mcmc] Learn + convergence test @ 12000 samples accepted.\n",
      "[mcmc]  - Acceptance rate: 0.294\n",
      "[mcmc]  - Convergence of means: R-1 = 0.001309 after 9600 accepted steps\n",
      "[mcmc]  - Updated covariance matrix of proposal pdf.\n",
      "[mcmc] Learn + convergence test @ 12080 samples accepted.\n",
      "[mcmc]  - Acceptance rate: 0.294\n",
      "[mcmc]  - Convergence of means: R-1 = 0.001799 after 9664 accepted steps\n",
      "[mcmc]  - Updated covariance matrix of proposal pdf.\n",
      "[mcmc] Learn + convergence test @ 12160 samples accepted.\n",
      "[mcmc]  - Acceptance rate: 0.294\n",
      "[mcmc]  - Convergence of means: R-1 = 0.001397 after 9728 accepted steps\n",
      "[mcmc]  - Updated covariance matrix of proposal pdf.\n",
      "[mcmc] Learn + convergence test @ 12240 samples accepted.\n",
      "[mcmc]  - Acceptance rate: 0.294\n",
      "[mcmc]  - Convergence of means: R-1 = 0.001471 after 9792 accepted steps\n",
      "[mcmc]  - Updated covariance matrix of proposal pdf.\n",
      "[mcmc] Learn + convergence test @ 12320 samples accepted.\n",
      "[mcmc]  - Acceptance rate: 0.294\n",
      "[mcmc]  - Convergence of means: R-1 = 0.001596 after 9856 accepted steps\n",
      "[mcmc]  - Updated covariance matrix of proposal pdf.\n",
      "[mcmc] Learn + convergence test @ 12400 samples accepted.\n",
      "[mcmc]  - Acceptance rate: 0.294\n",
      "[mcmc]  - Convergence of means: R-1 = 0.001716 after 9920 accepted steps\n",
      "[mcmc]  - Updated covariance matrix of proposal pdf.\n",
      "[mcmc] Learn + convergence test @ 12480 samples accepted.\n",
      "[mcmc]  - Acceptance rate: 0.294\n",
      "[mcmc]  - Convergence of means: R-1 = 0.001472 after 9984 accepted steps\n",
      "[mcmc]  - Updated covariance matrix of proposal pdf.\n",
      "[mcmc] Learn + convergence test @ 12560 samples accepted.\n",
      "[mcmc]  - Acceptance rate: 0.293\n",
      "[mcmc]  - Convergence of means: R-1 = 0.001477 after 10048 accepted steps\n",
      "[mcmc]  - Updated covariance matrix of proposal pdf.\n",
      "[mcmc] Learn + convergence test @ 12640 samples accepted.\n",
      "[mcmc]  - Acceptance rate: 0.293\n",
      "[mcmc]  - Convergence of means: R-1 = 0.001284 after 10112 accepted steps\n",
      "[mcmc]  - Updated covariance matrix of proposal pdf.\n",
      "[mcmc] Learn + convergence test @ 12720 samples accepted.\n",
      "[mcmc]  - Acceptance rate: 0.293\n",
      "[mcmc]  - Convergence of means: R-1 = 0.001451 after 10176 accepted steps\n",
      "[mcmc]  - Updated covariance matrix of proposal pdf.\n",
      "[mcmc] Learn + convergence test @ 12800 samples accepted.\n",
      "[mcmc]  - Acceptance rate: 0.293\n",
      "[mcmc]  - Convergence of means: R-1 = 0.001721 after 10240 accepted steps\n",
      "[mcmc]  - Updated covariance matrix of proposal pdf.\n",
      "[mcmc] Learn + convergence test @ 12880 samples accepted.\n",
      "[mcmc]  - Acceptance rate: 0.293\n",
      "[mcmc]  - Convergence of means: R-1 = 0.001679 after 10304 accepted steps\n",
      "[mcmc]  - Updated covariance matrix of proposal pdf.\n",
      "[mcmc] Learn + convergence test @ 12960 samples accepted.\n",
      "[mcmc]  - Acceptance rate: 0.294\n",
      "[mcmc]  - Convergence of means: R-1 = 0.001853 after 10368 accepted steps\n",
      "[mcmc]  - Updated covariance matrix of proposal pdf.\n",
      "[mcmc] Learn + convergence test @ 13040 samples accepted.\n",
      "[mcmc]  - Acceptance rate: 0.293\n",
      "[mcmc]  - Convergence of means: R-1 = 0.001801 after 10432 accepted steps\n",
      "[mcmc]  - Updated covariance matrix of proposal pdf.\n",
      "[mcmc] Learn + convergence test @ 13120 samples accepted.\n",
      "[mcmc]  - Acceptance rate: 0.293\n",
      "[mcmc]  - Convergence of means: R-1 = 0.001551 after 10496 accepted steps\n",
      "[mcmc]  - Updated covariance matrix of proposal pdf.\n",
      "[mcmc] Learn + convergence test @ 13200 samples accepted.\n",
      "[mcmc]  - Acceptance rate: 0.293\n",
      "[mcmc]  - Convergence of means: R-1 = 0.001517 after 10560 accepted steps\n",
      "[mcmc]  - Updated covariance matrix of proposal pdf.\n",
      "[mcmc] Learn + convergence test @ 13280 samples accepted.\n",
      "[mcmc]  - Acceptance rate: 0.293\n",
      "[mcmc]  - Convergence of means: R-1 = 0.001851 after 10624 accepted steps\n",
      "[mcmc]  - Updated covariance matrix of proposal pdf.\n",
      "[mcmc] Learn + convergence test @ 13360 samples accepted.\n",
      "[mcmc]  - Acceptance rate: 0.293\n",
      "[mcmc]  - Convergence of means: R-1 = 0.001517 after 10688 accepted steps\n",
      "[mcmc]  - Updated covariance matrix of proposal pdf.\n",
      "[mcmc] Learn + convergence test @ 13440 samples accepted.\n",
      "[mcmc]  - Acceptance rate: 0.293\n",
      "[mcmc]  - Convergence of means: R-1 = 0.001490 after 10752 accepted steps\n",
      "[mcmc]  - Updated covariance matrix of proposal pdf.\n",
      "[mcmc] Learn + convergence test @ 13520 samples accepted.\n",
      "[mcmc]  - Acceptance rate: 0.293\n",
      "[mcmc]  - Convergence of means: R-1 = 0.001313 after 10816 accepted steps\n",
      "[mcmc]  - Updated covariance matrix of proposal pdf.\n",
      "[mcmc] Learn + convergence test @ 13600 samples accepted.\n",
      "[mcmc]  - Acceptance rate: 0.293\n",
      "[mcmc]  - Convergence of means: R-1 = 0.001781 after 10880 accepted steps\n",
      "[mcmc]  - Updated covariance matrix of proposal pdf.\n",
      "[mcmc] Learn + convergence test @ 13680 samples accepted.\n",
      "[mcmc]  - Acceptance rate: 0.293\n",
      "[mcmc]  - Convergence of means: R-1 = 0.001449 after 10944 accepted steps\n",
      "[mcmc]  - Updated covariance matrix of proposal pdf.\n",
      "[mcmc] Learn + convergence test @ 13760 samples accepted.\n",
      "[mcmc]  - Acceptance rate: 0.293\n",
      "[mcmc]  - Convergence of means: R-1 = 0.001456 after 11008 accepted steps\n",
      "[mcmc]  - Updated covariance matrix of proposal pdf.\n",
      "[mcmc] Learn + convergence test @ 13840 samples accepted.\n",
      "[mcmc]  - Acceptance rate: 0.293\n",
      "[mcmc]  - Convergence of means: R-1 = 0.001448 after 11072 accepted steps\n",
      "[mcmc]  - Updated covariance matrix of proposal pdf.\n",
      "[mcmc] Learn + convergence test @ 13920 samples accepted.\n",
      "[mcmc]  - Acceptance rate: 0.294\n",
      "[mcmc]  - Convergence of means: R-1 = 0.001654 after 11136 accepted steps\n",
      "[mcmc]  - Updated covariance matrix of proposal pdf.\n",
      "[mcmc] Learn + convergence test @ 14000 samples accepted.\n",
      "[mcmc]  - Acceptance rate: 0.293\n",
      "[mcmc]  - Convergence of means: R-1 = 0.001508 after 11200 accepted steps\n",
      "[mcmc]  - Updated covariance matrix of proposal pdf.\n",
      "[mcmc] Learn + convergence test @ 14080 samples accepted.\n",
      "[mcmc]  - Acceptance rate: 0.293\n",
      "[mcmc]  - Convergence of means: R-1 = 0.001413 after 11264 accepted steps\n",
      "[mcmc]  - Updated covariance matrix of proposal pdf.\n",
      "[mcmc] Learn + convergence test @ 14160 samples accepted.\n",
      "[mcmc]  - Acceptance rate: 0.293\n",
      "[mcmc]  - Convergence of means: R-1 = 0.001067 after 11328 accepted steps\n",
      "[mcmc]  - Updated covariance matrix of proposal pdf.\n",
      "[mcmc] Learn + convergence test @ 14240 samples accepted.\n",
      "[mcmc]  - Acceptance rate: 0.293\n",
      "[mcmc]  - Convergence of means: R-1 = 0.000951 after 11392 accepted steps\n",
      "[mcmc]  - Updated covariance matrix of proposal pdf.\n",
      "[mcmc] Learn + convergence test @ 14320 samples accepted.\n",
      "[mcmc]  - Acceptance rate: 0.293\n",
      "[mcmc]  - Convergence of means: R-1 = 0.000976 after 11456 accepted steps\n",
      "[mcmc]  - Convergence of bounds: R-1 = 0.039483 after 14320 accepted steps\n",
      "[mcmc] The run has converged!\n",
      "[mcmc] Sampling complete after 14320 accepted steps.\n"
     ]
    }
   ],
   "source": [
    "info[\"sampler\"] = {\"mcmc\": {\"Rminus1_stop\": 0.001, \"max_tries\": 1000}}\n",
    "\n",
    "from cobaya.run import run\n",
    "updated_info, sampler = run(info)"
   ]
  },
  {
   "cell_type": "code",
   "execution_count": 55,
   "id": "dfa9beed-e538-4a7a-9b28-5cb842abbd4d",
   "metadata": {},
   "outputs": [
    {
     "name": "stdout",
     "output_type": "stream",
     "text": [
      "[root] *WARNING* outlier fraction 0.0013966480446927375 \n"
     ]
    },
    {
     "data": {
      "image/png": "[encoded data removed]",
      "text/plain": [
       "<Figure size 360x360 with 3 Axes>"
      ]
     },
     "metadata": {
      "needs_background": "light"
     },
     "output_type": "display_data"
    }
   ],
   "source": [
    "from getdist.mcsamples import MCSamplesFromCobaya\n",
    "import getdist.plots as gdplt\n",
    "\n",
    "gdsamples = MCSamplesFromCobaya(updated_info, sampler.products()[\"sample\"])\n",
    "gdplot = gdplt.get_subplot_plotter(width_inch=5)\n",
    "gdplot.triangle_plot(gdsamples, [\"r\", \"Alens\"], filled=True)\n",
    "pl.savefig('lensed_cobaya.png',bbox_inches='tight')"
   ]
  },
  {
   "cell_type": "code",
   "execution_count": 56,
   "id": "0cc3e93a-ef29-4cbe-9200-cc6117cd3e31",
   "metadata": {},
   "outputs": [
    {
     "name": "stdout",
     "output_type": "stream",
     "text": [
      "Best fit sample -log(Like) = 0.447579\n",
      "Ln(mean 1/like) = 2.710121\n",
      "mean(-Ln(like)) = 1.433536\n",
      "-Ln(mean like)  = 1.132331\n",
      "\n",
      "parameter    bestfit        lower1         upper1         lower2         upper2\n",
      "r            1.1979697E-04 -3.0334185E-04  5.3984136E-04 -5.6658735E-04  7.9961026E-04   r\n",
      "Alens        9.9398204E-01  9.7071370E-01  1.0177086E+00  9.5634500E-01  1.0329368E+00   A_{lens}\n",
      "chi2*        8.4227490E-02  8.4227490E-02  2.3354359E+00  8.4227490E-02  6.0162251E+00   \\chi^2\n",
      "chi2__like*  8.4227490E-02  8.4227490E-02  2.3354359E+00  8.4227490E-02  6.0162251E+00   \\chi^2_\\mathrm{like}\n",
      "\n"
     ]
    }
   ],
   "source": [
    "print(gdsamples.getLikeStats())"
   ]
  },
  {
   "cell_type": "code",
   "execution_count": 56,
   "id": "f328eadb-7bb5-4497-8334-461cbeaa8928",
   "metadata": {},
   "outputs": [],
   "source": [
    "r = np.linspace(-.001,.001,100)"
   ]
  },
  {
   "cell_type": "code",
   "execution_count": 57,
   "id": "6be4cb71-0250-4c54-928a-416620d8dfa7",
   "metadata": {},
   "outputs": [],
   "source": [
    "logp_ = [myLog(i,1) for i in r]"
   ]
  },
  {
   "cell_type": "code",
   "execution_count": 58,
   "id": "99564edb-3746-4f3f-9517-42e176ba43a2",
   "metadata": {},
   "outputs": [
    {
     "data": {
      "text/plain": [
       "<matplotlib.lines.Line2D at 0x2aab25402748>"
      ]
     },
     "execution_count": 58,
     "metadata": {},
     "output_type": "execute_result"
    },
    {
     "data": {
      "image/png": "[encoded data removed]",
      "text/plain": [
       "<Figure size 576x576 with 1 Axes>"
      ]
     },
     "metadata": {
      "needs_background": "light"
     },
     "output_type": "display_data"
    }
   ],
   "source": [
    "pl.figure(figsize=(8,8))\n",
    "pl.plot(r,logp_)\n",
    "pl.axvline(0)"
   ]
  },
  {
   "cell_type": "code",
   "execution_count": null,
   "id": "ce39db93-3b40-4031-abaf-47358ca71ea5",
   "metadata": {},
   "outputs": [],
   "source": []
  }
 ],
 "metadata": {
  "kernelspec": {
   "display_name": "PCpython",
   "language": "python",
   "name": "pc"
  },
  "language_info": {
   "codemirror_mode": {
    "name": "ipython",
    "version": 3
   },
   "file_extension": ".py",
   "mimetype": "text/x-python",
   "name": "python",
   "nbconvert_exporter": "python",
   "pygments_lexer": "ipython3",
   "version": "3.6.13"
  }
 },
 "nbformat": 4,
 "nbformat_minor": 5
}
