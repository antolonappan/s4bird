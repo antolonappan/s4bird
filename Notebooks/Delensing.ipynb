{
 "cells": [
  {
   "cell_type": "code",
   "execution_count": 40,
   "metadata": {},
   "outputs": [],
   "source": [
    "%matplotlib inline\n",
    "import os\n",
    "import sys\n",
    "import healpy as hp\n",
    "import numpy as np\n",
    "import matplotlib.pyplot as plt\n",
    "import pickle as pk\n",
    "from tqdm import tqdm\n",
    "sys.path.append('../')\n",
    "import matplotlib"
   ]
  },
  {
   "cell_type": "code",
   "execution_count": 2,
   "metadata": {
    "tags": []
   },
   "outputs": [
    {
     "name": "stderr",
     "output_type": "stream",
     "text": [
      "usage: ipykernel_launcher.py [-h] [-delens] inifile\n",
      "ipykernel_launcher.py: error: unrecognized arguments: -f\n"
     ]
    },
    {
     "name": "stdout",
     "output_type": "stream",
     "text": [
      "Simulation uses /global/cscratch1/sd/lonappan/S4BIRD/LiteBIRD/SIM_SET1/Maps\n",
      "Simulation uses /global/cscratch1/sd/lonappan/S4BIRD/LiteBIRD/SIM_SET1/Maps\n",
      "Delensing uses QE: p_eb\n"
     ]
    }
   ],
   "source": [
    "%load_ext autoreload\n",
    "%autoreload 2\n",
    "import processing as method"
   ]
  },
  {
   "cell_type": "code",
   "execution_count": 5,
   "metadata": {},
   "outputs": [],
   "source": []
  },
  {
   "cell_type": "code",
   "execution_count": 18,
   "metadata": {},
   "outputs": [],
   "source": []
  },
  {
   "cell_type": "code",
   "execution_count": 34,
   "metadata": {},
   "outputs": [],
   "source": [
    "from glob import glob\n",
    "def get_missing_p(sets):\n",
    "    pfiles = glob(f\"/global/cscratch1/sd/lonappan/S4BIRD/LiteBIRD/SIM_SET{sets}/QE/ivfs/*elm.fits\")\n",
    "    print(f\"Polarization files in SET-{sets}: {len(pfiles)}\")\n",
    "    files = [int(pfile.split('_')[2]) for pfile in pfiles]\n",
    "    return [i for i in range(1000) if i not in files]\n",
    "    \n",
    "    \n",
    "def get_missing_t(sets):\n",
    "    pfiles = glob(f\"/global/cscratch1/sd/lonappan/S4BIRD/LiteBIRD/SIM_SET{sets}/QE/ivfs/*tlm.fits\")\n",
    "    print(f\"Polarization files in SET-{sets}: {len(pfiles)}\")\n",
    "    files = [int(pfile.split('_')[2]) for pfile in pfiles]\n",
    "    return [i for i in range(1000) if i not in files]"
   ]
  },
  {
   "cell_type": "code",
   "execution_count": 35,
   "metadata": {},
   "outputs": [
    {
     "name": "stdout",
     "output_type": "stream",
     "text": [
      "Polarization files in SET-1: 1000\n"
     ]
    },
    {
     "data": {
      "text/plain": [
       "[]"
      ]
     },
     "execution_count": 35,
     "metadata": {},
     "output_type": "execute_result"
    }
   ],
   "source": [
    "get_missing_p(1)"
   ]
  },
  {
   "cell_type": "code",
   "execution_count": 38,
   "metadata": {},
   "outputs": [
    {
     "name": "stdout",
     "output_type": "stream",
     "text": [
      "Polarization files in SET-1: 993\n",
      "[158, 312, 342, 391, 462, 913, 954]\n",
      "Polarization files in SET-2: 997\n",
      "[31, 923, 951]\n",
      "Polarization files in SET-3: 999\n",
      "[851]\n",
      "Polarization files in SET-4: 999\n",
      "[665]\n"
     ]
    }
   ],
   "source": [
    "for i in [1,2,3,4]:\n",
    "    print(get_missing_t(i))"
   ]
  },
  {
   "cell_type": "code",
   "execution_count": null,
   "metadata": {},
   "outputs": [],
   "source": []
  }
 ],
 "metadata": {
  "kernelspec": {
   "display_name": "PC2python",
   "language": "python",
   "name": "pc2"
  },
  "language_info": {
   "codemirror_mode": {
    "name": "ipython",
    "version": 3
   },
   "file_extension": ".py",
   "mimetype": "text/x-python",
   "name": "python",
   "nbconvert_exporter": "python",
   "pygments_lexer": "ipython3",
   "version": "3.7.11"
  }
 },
 "nbformat": 4,
 "nbformat_minor": 4
}
