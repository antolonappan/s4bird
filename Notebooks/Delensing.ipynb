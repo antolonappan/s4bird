{
 "cells": [
  {
   "cell_type": "code",
   "execution_count": 14,
   "metadata": {},
   "outputs": [],
   "source": [
    "%matplotlib inline\n",
    "import os\n",
    "import sys\n",
    "import healpy as hp\n",
    "import numpy as np\n",
    "import matplotlib.pyplot as plt\n",
    "import pickle as pk\n",
    "from tqdm import tqdm\n",
    "import pymaster as nmt\n",
    "sys.path.append('../')\n",
    "import matplotlib\n",
    "import lenspyx\n",
    "import camb\n",
    "import emcee\n",
    "import corner\n",
    "from getdist import plots, MCSamples\n",
    "from contextlib import contextmanager\n",
    "\n",
    "@contextmanager\n",
    "def suppress_stdout():\n",
    "    with open(os.devnull, \"w\") as devnull:\n",
    "        old_stdout = sys.stdout\n",
    "        sys.stdout = devnull\n",
    "        try:\n",
    "            yield\n",
    "        finally:\n",
    "            sys.stdout = old_stdout"
   ]
  },
  {
   "cell_type": "code",
   "execution_count": 2,
   "metadata": {
    "tags": []
   },
   "outputs": [],
   "source": [
    "%load_ext autoreload\n",
    "%autoreload 2\n",
    "from delens import DelensAndCl"
   ]
  },
  {
   "cell_type": "code",
   "execution_count": 3,
   "metadata": {},
   "outputs": [
    {
     "name": "stdout",
     "output_type": "stream",
     "text": [
      "Simulation uses /global/cscratch1/sd/lonappan/S4BIRD/LiteBIRD/SIM_SET1/Maps\n",
      "Simulation uses /global/cscratch1/sd/lonappan/S4BIRD/LiteBIRD/SIM_SET1/Maps\n",
      "Delensing LiteBIRD-SET1 with LiteBIRD-SET1\n",
      "Template is constructed using LiteBIRD-SET1\n",
      "Delensing uses QE: p_eb\n",
      "Reading coupling matrix from /global/cscratch1/sd/lonappan/S4BIRD/LiteBIRD/SIM_SET1/Pseudo/workspace/coupling_matrix_Nside512_fsky_0p8_beam_None_Apo_C1_Deg_10.fits\n"
     ]
    }
   ],
   "source": [
    "DC1 = DelensAndCl('delensing1.ini')"
   ]
  },
  {
   "cell_type": "code",
   "execution_count": 4,
   "metadata": {},
   "outputs": [
    {
     "name": "stdout",
     "output_type": "stream",
     "text": [
      "Simulation uses /global/cscratch1/sd/lonappan/S4BIRD/LiteBIRD/SIM_SET2/Maps\n",
      "Simulation uses /global/cscratch1/sd/lonappan/S4BIRD/LiteBIRD/SIM_SET3/Maps\n",
      "Delensing LiteBIRD-SET2 with LiteBIRD-SET3\n",
      "Template is constructed using LiteBIRD-SET2\n",
      "Delensing uses QE: p_eb\n",
      "Reading coupling matrix from /global/cscratch1/sd/lonappan/S4BIRD/LiteBIRD/SIM_SET2/Pseudo/workspace/coupling_matrix_Nside512_fsky_0p8_beam_None_Apo_C1_Deg_10.fits\n"
     ]
    }
   ],
   "source": [
    "DC2 = DelensAndCl('delensing2.ini')"
   ]
  },
  {
   "cell_type": "code",
   "execution_count": 5,
   "metadata": {},
   "outputs": [
    {
     "name": "stdout",
     "output_type": "stream",
     "text": [
      "Simulation uses /global/cscratch1/sd/lonappan/S4BIRD/LiteBIRD/SIM_SET3/Maps\n",
      "Simulation uses /global/cscratch1/sd/lonappan/S4BIRD/LiteBIRD/SIM_SET3/Maps\n",
      "Delensing LiteBIRD-SET3 with LiteBIRD-SET3\n",
      "Template is constructed using LiteBIRD-SET3\n",
      "Delensing uses QE: p_eb\n",
      "Reading coupling matrix from /global/cscratch1/sd/lonappan/S4BIRD/LiteBIRD/SIM_SET3/Pseudo/workspace/coupling_matrix_Nside512_fsky_0p8_beam_None_Apo_C1_Deg_10.fits\n"
     ]
    }
   ],
   "source": [
    "DC3 = DelensAndCl('delensing3.ini')"
   ]
  },
  {
   "cell_type": "code",
   "execution_count": 6,
   "metadata": {},
   "outputs": [],
   "source": [
    "camb_ini = '/global/cscratch1/sd/lonappan/S4BIRD/CAMB/BBSims_params.ini'"
   ]
  },
  {
   "cell_type": "code",
   "execution_count": 7,
   "metadata": {},
   "outputs": [],
   "source": [
    "class Delens_Theory:\n",
    "    def __init__(self,ini,lmax,N0,beam=None,nlevp=0):\n",
    "        pars = camb.read_ini(ini)\n",
    "        pars.max_l = lmax\n",
    "        self.lmax = lmax\n",
    "        self.results = camb.get_results(pars)\n",
    "        self.ell = np.arange(self.lmax +1)\n",
    "        self.n0 = N0\n",
    "        self.cl_pp = self.results.get_lens_potential_cls()[:,0]\n",
    "        self.nlevp = np.radians(nlevp/60)**2\n",
    "        self.fl = np.ones(self.lmax+1) if beam is None else hp.gauss_beam(np.radians(beam/60.),self.lmax,True)[:,2]\n",
    "        \n",
    "    @property\n",
    "    def N0(self):\n",
    "        N0 = np.zeros(self.lmax+1)\n",
    "        N0_ = self.n0\n",
    "        N0[np.arange(len(N0_))] += N0_\n",
    "        return self.DL*N0\n",
    "        \n",
    "    @property    \n",
    "    def DL(self):\n",
    "        l = self.ell\n",
    "        return (l*(l+1))**2 / (2*np.pi)\n",
    "    @property    \n",
    "    def dl(self):\n",
    "        l = self.ell\n",
    "        return (l*(l+1)) / (2*np.pi)    \n",
    "    @property\n",
    "    def cl_pp_res(self):\n",
    "        return self.cl_pp*(1 - (self.cl_pp/(self.cl_pp+self.N0)))\n",
    "        \n",
    "    @property\n",
    "    def lensed_bb(self):\n",
    "        bb = np.zeros(self.lmax+1)\n",
    "        bb_ = self.results.get_lensed_scalar_cls(lmax=self.lmax,CMB_unit='muK')[:,2]\n",
    "        bb[np.arange(len(bb_))] += bb_\n",
    "        return (bb/self.dl)\n",
    "    \n",
    "    @property\n",
    "    def tensor_bb(self):\n",
    "        bb = np.zeros(self.lmax+1)\n",
    "        bb_ = self.results.get_tensor_cls(lmax=self.lmax,CMB_unit='muK')[:,2]\n",
    "        bb[np.arange(len(bb_))] += bb_\n",
    "        return (bb/self.dl)\n",
    "    \n",
    "    @property\n",
    "    def delensed_bb(self):\n",
    "        bb = np.zeros(self.lmax+1)\n",
    "        bb_ = self.results.get_lensed_cls_with_spectrum(self.cl_pp_res,lmax=self.lmax,CMB_unit='muK')[:,2]\n",
    "        bb[np.arange(len(bb_))] += bb_\n",
    "        return (bb/self.dl)\n",
    "    @property\n",
    "    def df_bb(self):\n",
    "        return self.delensed_bb - self.lensed_bb\n",
    "    \n",
    "    def plt_bb(self):\n",
    "        plt.figure(figsize=(7,7))\n",
    "        plt.loglog(self.ell,self.lensed_bb,label='Lensed')\n",
    "        plt.loglog(self.ell,self.delensed_bb,label='Delensed')\n",
    "        plt.legend(fontsize=20)\n",
    "        plt.ylim(1e-6,None)\n",
    "        plt.xlabel('$\\ell$',fontsize=20)\n",
    "        plt.ylabel('$C_\\ell^{BB}$',fontsize=20)\n",
    "        \n",
    "    def plt_pp(self):\n",
    "        plt.figure(figsize=(7,7))\n",
    "        plt.loglog(self.ell,self.cl_pp,label='PP')\n",
    "        plt.loglog(self.ell,self.cl_pp_res,label='Residual')\n",
    "        plt.legend(fontsize=20)\n",
    "        plt.xlabel('$\\ell$',fontsize=20)\n",
    "        plt.ylabel('$C_\\ell^{\\phi \\phi}$',fontsize=20)"
   ]
  },
  {
   "cell_type": "code",
   "execution_count": 8,
   "metadata": {},
   "outputs": [
    {
     "name": "stdout",
     "output_type": "stream",
     "text": [
      " WARNING: nu_mass_degeneracies ignored when share_delta_neff\n"
     ]
    }
   ],
   "source": [
    "the = Delens_Theory(camb_ini,DC2.pseudocl_lib.b.lmax,DC1.delens_lib.get_N0(0),30,2.16)"
   ]
  },
  {
   "cell_type": "code",
   "execution_count": 9,
   "metadata": {},
   "outputs": [
    {
     "name": "stderr",
     "output_type": "stream",
     "text": [
      "/global/homes/l/lonappan/.conda/envs/PC2/lib/python3.7/site-packages/ipykernel_launcher.py:30: RuntimeWarning: invalid value encountered in true_divide\n"
     ]
    }
   ],
   "source": [
    "the.plt_pp()"
   ]
  },
  {
   "cell_type": "code",
   "execution_count": 10,
   "metadata": {},
   "outputs": [],
   "source": [
    "class MeanAndCovariance:\n",
    "    \n",
    "    def __init__(self,lib_dir,biased,unbiased,biased2,theory,lmin,lmax):\n",
    "        self.lib_dir = lib_dir\n",
    "        self.biased = biased\n",
    "        self.unbiased = unbiased\n",
    "        self.biased2 = biased2\n",
    "        self.theory = theory\n",
    "        self.ell = self.biased.pseudocl_lib.ell\n",
    "        self.select = np.where((self.ell >= lmin)& (self.ell <= lmax))[0]\n",
    "        self.get_biased()\n",
    "        self.get_unbiased()\n",
    "        self.get_biased2()\n",
    "        \n",
    "        os.makedirs(lib_dir,exist_ok=True)\n",
    "    \n",
    "    def get_biased(self,which=None):\n",
    "        def creturn(dic):\n",
    "            if which is None:\n",
    "                pass\n",
    "            else:\n",
    "                return dic[which]\n",
    "        \n",
    "        fname = os.path.join(self.lib_dir,'biased.pkl')\n",
    "        if os.path.isfile(fname):\n",
    "            return creturn(pk.load(open(fname,'rb')))\n",
    "        else:\n",
    "            lensed = []\n",
    "            delensed = []\n",
    "            for i in tqdm(range(1000),desc='Biased spectra Array', unit='simulation'):\n",
    "                lensed.append(self.biased.pseudocl_lib.get_lensed_cl(i))\n",
    "                delensed.append(self.biased.pseudocl_lib.get_delensed_cl(i))\n",
    "            dic = {'lensed':np.array(lensed),'delensed':np.array(delensed)}\n",
    "            pk.dump(dic,open(fname,'wb'))\n",
    "            return creturn(dic)\n",
    "        \n",
    "    def get_unbiased(self,which=None):\n",
    "        def creturn(dic):\n",
    "            if which is None:\n",
    "                pass\n",
    "            else:\n",
    "                return dic[which]\n",
    "        \n",
    "        fname = os.path.join(self.lib_dir,'unbiased.pkl')\n",
    "        if os.path.isfile(fname):\n",
    "            return creturn(pk.load(open(fname,'rb')))\n",
    "        else:\n",
    "            lensed = []\n",
    "            delensed = []\n",
    "            for i in tqdm(range(1000),desc='Unbiased spectra Array', unit='simulation'):\n",
    "                lensed.append(self.unbiased.pseudocl_lib.get_lensed_cl(i))\n",
    "                delensed.append(self.unbiased.pseudocl_lib.get_delensed_cl(i))\n",
    "            dic = {'lensed':np.array(lensed),'delensed':np.array(delensed)}\n",
    "            pk.dump(dic,open(fname,'wb'))\n",
    "            \n",
    "            return creturn(dic)\n",
    "        \n",
    "    def get_biased2(self,which=None):\n",
    "        def creturn(dic):\n",
    "            if which is None:\n",
    "                pass\n",
    "            else:\n",
    "                return dic[which]\n",
    "        \n",
    "        fname = os.path.join(self.lib_dir,'biased2.pkl')\n",
    "        if os.path.isfile(fname):\n",
    "            return creturn(pk.load(open(fname,'rb')))\n",
    "        else:\n",
    "            lensed = []\n",
    "            delensed = []\n",
    "            for i in tqdm(range(1000),desc='Biased2 spectra Array', unit='simulation'):\n",
    "                lensed.append(self.biased2.pseudocl_lib.get_lensed_cl(i))\n",
    "                delensed.append(self.biased2.pseudocl_lib.get_delensed_cl(i))\n",
    "            dic = {'lensed':np.array(lensed),'delensed':np.array(delensed)}\n",
    "            pk.dump(dic,open(fname,'wb'))\n",
    "            return creturn(dic)\n",
    "    \n",
    "    def bias_array(self):\n",
    "        biased_lensed = self.get_biased2('lensed')\n",
    "        biased_delensed = self.get_biased2('delensed')\n",
    "        unbiased_lensed = self.get_unbiased('lensed')\n",
    "        unbiased_delensed = self.get_unbiased('delensed')\n",
    "        \n",
    "        df_biased = biased_delensed - biased_lensed\n",
    "        df_unbiased = unbiased_delensed - unbiased_lensed\n",
    "        \n",
    "        return df_biased - df_unbiased\n",
    "    \n",
    "    def mcbias_array(self):\n",
    "        lmax = self.unbiased.pseudocl_lib.b.lmax\n",
    "        unbiased_lensed = self.get_unbiased('lensed')\n",
    "        unbiased_delensed = self.get_unbiased('delensed')\n",
    "        theory_delensed = (self.theory.delensed_bb * self.theory.fl**2) + self.theory.nlevp\n",
    "        theory_lensed = (self.theory.lensed_bb * self.theory.fl**2) + self.theory.nlevp\n",
    "        df_theory = self.unbiased.pseudocl_lib.b.bin_cell(theory_delensed-theory_lensed)\n",
    "        df_unbiased = unbiased_delensed - unbiased_lensed\n",
    "        \n",
    "        return df_unbiased - df_theory\n",
    "    \n",
    "    def cov(self,arr):\n",
    "        mean = arr.mean(axis=0)[self.select]\n",
    "        ncov = len(mean)\n",
    "        cov = np.zeros((ncov,ncov))\n",
    "        for i in tqdm(range(1000),desc='Covariance', unit='simulation'):\n",
    "            arr_i = arr[i][self.select]\n",
    "            cov += arr_i[None,:]*arr_i[:,None]\n",
    "        cov/=1000\n",
    "        cov -= mean[None,:]*mean[:,None]\n",
    "        return cov\n",
    "    \n",
    "    def cov_cross(self,arr1,arr2):\n",
    "        mean1 = arr1.mean(axis=0)[self.select]\n",
    "        mean2 = arr2.mean(axis=0)[self.select]\n",
    "        ncov = len(mean1)\n",
    "        cov = np.zeros((ncov,ncov))\n",
    "        for i in tqdm(range(1000),desc='Covariance', unit='simulation'):\n",
    "            arr1_i = arr1[i][self.select]\n",
    "            arr2_i = arr2[i][self.select]\n",
    "            cov += arr1_i[None,:]*arr2_i[:,None]\n",
    "        cov/=1000\n",
    "        cov -= mean1[None,:]*mean2[:,None]\n",
    "        return cov \n",
    "    \n",
    "    def lensed_cov_fid(self):\n",
    "        return self.cov(self.get_biased('lensed'))\n",
    "        \n",
    "    \n",
    "    def delensed_cov_fid(self):\n",
    "        return self.cov(self.get_unbiased('delensed'))\n",
    "    \n",
    "    def total_variance(self):\n",
    "        bias_var = np.diag(self.cov(self.bias_array())) + np.diag(self.cov(self.mcbias_array())) \n",
    "        cov = self.cov_cross(self.bias_array(),self.mcbias_array())\n",
    "        totalcov = bias_var + np.diag(2*cov)\n",
    "        return totalcov\n",
    "    \n",
    "    def delensed_cov_summed(self):\n",
    "        total = self.total_variance()\n",
    "        cov = self.cov(self.get_biased('delensed'))\n",
    "        ncov = len(total)\n",
    "        final_cov = np.zeros((ncov,ncov))\n",
    "        np.fill_diagonal(final_cov,total+np.diag(cov))\n",
    "        return final_cov\n",
    "    \n",
    "        \n",
    "    def totalbias(self):\n",
    "        return self.bias_array().mean(axis=0) + self.mcbias_array().mean(axis=0)\n",
    "    \n",
    "    def get_debiased(self):\n",
    "        return self.get_biased('delensed') -self.totalbias()\n",
    "    \n",
    "    def get_debiased_extra(self):\n",
    "        return self.get_biased('delensed') - self.bias_array() - self.mcbias_array()\n",
    "    \n",
    "    def delensed_cov_extra(self):\n",
    "        return self.cov(self.get_debiased_extra())\n",
    "        \n",
    "    \n",
    "    def eff(self):\n",
    "        e =  1-(self.get_debiased_extra().mean(axis=0)/self.get_biased('lensed').mean(axis=0))\n",
    "        return np.mean(e[self.select])\n",
    "    def corr(self,mat):\n",
    "        sha = mat.shape\n",
    "        corr_mat = np.zeros(sha)\n",
    "        for i in range(sha[0]):\n",
    "            for j in range(sha[1]):\n",
    "                corr_mat[i,j] = mat[i,j]/np.sqrt(mat[i,i]*mat[j,j])      \n",
    "        return corr_mat\n",
    "    \n",
    "    def plot_corr(self,mat):\n",
    "        plt.imshow(self.corr(mat),cmap='GnBu')\n",
    "        plt.colorbar()\n",
    "        \n",
    "        "
   ]
  },
  {
   "cell_type": "code",
   "execution_count": 11,
   "metadata": {},
   "outputs": [],
   "source": [
    "m = MeanAndCovariance('Eff',DC1,DC2,DC3,the,20,180)"
   ]
  },
  {
   "cell_type": "code",
   "execution_count": 12,
   "metadata": {},
   "outputs": [
    {
     "name": "stderr",
     "output_type": "stream",
     "text": [
      "/global/homes/l/lonappan/.conda/envs/PC2/lib/python3.7/site-packages/ipykernel_launcher.py:30: RuntimeWarning: invalid value encountered in true_divide\n",
      "/global/homes/l/lonappan/.conda/envs/PC2/lib/python3.7/site-packages/ipykernel_launcher.py:51: RuntimeWarning: divide by zero encountered in true_divide\n",
      "WARNING:root:getting CMB power spectra to higher L than calculated, may be innacurate/zeroed.\n",
      "/global/homes/l/lonappan/.conda/envs/PC2/lib/python3.7/site-packages/ipykernel_launcher.py:37: RuntimeWarning: invalid value encountered in true_divide\n"
     ]
    },
    {
     "data": {
      "text/plain": [
       "0.19758664862234407"
      ]
     },
     "execution_count": 12,
     "metadata": {},
     "output_type": "execute_result"
    }
   ],
   "source": [
    "m.eff()"
   ]
  },
  {
   "cell_type": "code",
   "execution_count": 13,
   "metadata": {},
   "outputs": [
    {
     "name": "stderr",
     "output_type": "stream",
     "text": [
      "/global/homes/l/lonappan/.conda/envs/PC2/lib/python3.7/site-packages/ipykernel_launcher.py:30: RuntimeWarning: invalid value encountered in true_divide\n",
      "/global/homes/l/lonappan/.conda/envs/PC2/lib/python3.7/site-packages/ipykernel_launcher.py:51: RuntimeWarning: divide by zero encountered in true_divide\n",
      "WARNING:root:getting CMB power spectra to higher L than calculated, may be innacurate/zeroed.\n",
      "/global/homes/l/lonappan/.conda/envs/PC2/lib/python3.7/site-packages/ipykernel_launcher.py:37: RuntimeWarning: invalid value encountered in true_divide\n"
     ]
    }
   ],
   "source": [
    "delens = m.get_debiased_extra().mean(axis=0)"
   ]
  },
  {
   "cell_type": "code",
   "execution_count": 15,
   "metadata": {},
   "outputs": [
    {
     "name": "stderr",
     "output_type": "stream",
     "text": [
      "/global/homes/l/lonappan/.conda/envs/PC2/lib/python3.7/site-packages/ipykernel_launcher.py:30: RuntimeWarning: invalid value encountered in true_divide\n",
      "/global/homes/l/lonappan/.conda/envs/PC2/lib/python3.7/site-packages/ipykernel_launcher.py:51: RuntimeWarning: divide by zero encountered in true_divide\n"
     ]
    },
    {
     "data": {
      "text/plain": [
       "(1e-07, 3e-06)"
      ]
     },
     "execution_count": 15,
     "metadata": {},
     "output_type": "execute_result"
    },
    {
     "data": {
      "image/png": "[encoded data removed]",
      "text/plain": [
       "<Figure size 432x288 with 1 Axes>"
      ]
     },
     "metadata": {
      "needs_background": "light"
     },
     "output_type": "display_data"
    }
   ],
   "source": [
    "bl = m.biased.pseudocl_lib.b.bin_cell(the.fl)\n",
    "#plt.loglog(m.ell,delens/bl**2 - (np.radians(2.16/60)**2))\n",
    "plt.loglog(m.ell,delens)\n",
    "plt.loglog(the.ell,the.delensed_bb*the.fl**2 +(np.radians(2.16/60)**2) )\n",
    "plt.ylim(1e-7,3e-6)"
   ]
  },
  {
   "cell_type": "code",
   "execution_count": 16,
   "metadata": {},
   "outputs": [
    {
     "data": {
      "image/png": "[encoded data removed]",
      "text/plain": [
       "<Figure size 612x388.8 with 2 Axes>"
      ]
     },
     "metadata": {
      "needs_background": "light"
     },
     "output_type": "display_data"
    }
   ],
   "source": [
    "hp.mollview(DC1.pseudocl_lib.mask)"
   ]
  },
  {
   "cell_type": "code",
   "execution_count": null,
   "metadata": {},
   "outputs": [],
   "source": []
  },
  {
   "cell_type": "code",
   "execution_count": null,
   "metadata": {},
   "outputs": [],
   "source": []
  },
  {
   "cell_type": "code",
   "execution_count": 17,
   "metadata": {},
   "outputs": [
    {
     "name": "stderr",
     "output_type": "stream",
     "text": [
      "Covariance: 100%|██████████| 1000/1000 [00:00<00:00, 226266.60simulation/s]\n"
     ]
    }
   ],
   "source": [
    "lcov = m.lensed_cov_fid()"
   ]
  },
  {
   "cell_type": "code",
   "execution_count": 18,
   "metadata": {},
   "outputs": [
    {
     "data": {
      "image/png": "[encoded data removed]",
      "text/plain": [
       "<Figure size 432x288 with 2 Axes>"
      ]
     },
     "metadata": {
      "needs_background": "light"
     },
     "output_type": "display_data"
    }
   ],
   "source": [
    "m.plot_corr(lcov)"
   ]
  },
  {
   "cell_type": "code",
   "execution_count": 25,
   "metadata": {},
   "outputs": [
    {
     "name": "stderr",
     "output_type": "stream",
     "text": [
      "Covariance: 100%|██████████| 1000/1000 [00:00<00:00, 200847.77simulation/s]\n"
     ]
    }
   ],
   "source": [
    "dcov = m.delensed_cov_fid()"
   ]
  },
  {
   "cell_type": "code",
   "execution_count": 20,
   "metadata": {},
   "outputs": [
    {
     "data": {
      "image/png": "[encoded data removed]",
      "text/plain": [
       "<Figure size 432x288 with 2 Axes>"
      ]
     },
     "metadata": {
      "needs_background": "light"
     },
     "output_type": "display_data"
    }
   ],
   "source": [
    "m.plot_corr(dcov)"
   ]
  },
  {
   "cell_type": "code",
   "execution_count": 21,
   "metadata": {},
   "outputs": [],
   "source": [
    "class LH_base:\n",
    "    \n",
    "    def __init__(self,cov,nsample,theory,b,lmin,lmax,which,use_diag):\n",
    "        self.nsamples = nsample\n",
    "        self.theory = theory\n",
    "        self.lensed_bb = self.theory.lensed_bb\n",
    "        self.delensed_bb = self.theory.delensed_bb\n",
    "        self.tensor_bb = self.theory.tensor_bb\n",
    "        self.b = b\n",
    "        ell = b.get_effective_ells()\n",
    "        self.select = np.where((ell>lmin) & (ell<lmax))[0]\n",
    "        self.ell = ell[self.select]\n",
    "        self.which = which\n",
    "        \n",
    "        if use_diag:\n",
    "            cov_ = np.zeros(cov.shape)\n",
    "            np.fill_diagonal(cov_, np.diag(cov))\n",
    "        else:\n",
    "            cov_ = cov\n",
    "        self.cov = cov_\n",
    "        self.cov_inv = np.linalg.inv(cov_) \n",
    "    \n",
    "    def chi_sq(self):\n",
    "        pass\n",
    "    \n",
    "    def cl_theory_lensed(self,r):\n",
    "        th = (r * self.tensor_bb) + self.lensed_bb\n",
    "        th = th*self.theory.fl**2 + self.theory.nlevp\n",
    "        return self.b.bin_cell(th[:self.b.lmax+1])[self.select]\n",
    "    \n",
    "    def cl_theory_delensed(self,r):\n",
    "        th = (r * self.tensor_bb) + self.delensed_bb\n",
    "        th = th*self.theory.fl**2 + self.theory.nlevp\n",
    "        return self.b.bin_cell(th[:self.b.lmax+1])[self.select]\n",
    "    \n",
    "    def cl_theory(self,r):\n",
    "        if self.which == 'lensed':\n",
    "            return self.cl_theory_lensed(r)\n",
    "        elif  self.which == 'delensed':\n",
    "            return self.cl_theory_delensed(r)\n",
    "        else:\n",
    "            pass\n",
    "        \n",
    "        \n",
    "    def log_prior(self,theta):\n",
    "        r= theta\n",
    "        if  -0.5 < r < 0.5:\n",
    "            return 0.0\n",
    "        return -np.inf\n",
    "\n",
    "    def log_probability(self,theta,i):\n",
    "        lp = self.log_prior(theta)\n",
    "        if not np.isfinite(lp):\n",
    "            return -np.inf\n",
    "        return lp  -.5*self.chi_sq(theta,i)\n",
    "    \n",
    "\n",
    "    def posterior(self,i):\n",
    "        pos = np.array([0]) + 1e-4 * np.random.randn(100, 1)\n",
    "        nwalkers, ndim = pos.shape\n",
    "        sampler = emcee.EnsembleSampler(nwalkers, ndim, self.log_probability,kwargs={'i':i})\n",
    "        sampler.run_mcmc(pos, self.nsamples,progress=True)\n",
    "        flat_samples = sampler.get_chain(discard=100, thin=15, flat=True)\n",
    "        return flat_samples\n",
    "    \n",
    "    def report(self,i):\n",
    "        samples = i\n",
    "        cut_samples = samples[samples > 0]\n",
    "        with suppress_stdout():\n",
    "            samp = MCSamples(samples=samples,names=['r'], labels=['r'])\n",
    "            cut_samp = MCSamples(samples=cut_samples,names=['r'], labels=['r'],ranges={'r':(0, None)})\n",
    "            return f\"\"\"full_sample = {samp.getInlineLatex('r',limit=1,err_sig_figs=5)}\n",
    "            cut_sample = {cut_samp.getInlineLatex('r',limit=1,err_sig_figs=5)}\n",
    "                    \"\"\"\n",
    "        \n",
    "    def plot_spectra(self,i):\n",
    "        plt.loglog(self.ell,self.cl_theory_lensed(0),label='theoryL')\n",
    "        plt.loglog(self.ell,self.cl_theory_delensed(0),label='theoryD')\n",
    "        plt.errorbar(self.ell,i[self.select],yerr=np.sqrt(np.diag(self.cov)),label='spectra')\n",
    "        plt.legend()\n",
    "    \n",
    "    def plot_posterior(self,i):\n",
    "        labels = [\"r\"]\n",
    "\n",
    "        flat_samples = self.posterior(i)\n",
    "        print(self.report(flat_samples))\n",
    "        plt.figure(figsize=(8,8))\n",
    "        fig = corner.corner(flat_samples, labels=labels,truths=[0] )"
   ]
  },
  {
   "cell_type": "code",
   "execution_count": 22,
   "metadata": {},
   "outputs": [],
   "source": [
    "class LH_simple(LH_base):\n",
    "\n",
    "    def __init__(self,cov,nsample,theory,b,lmin=10,lmax=100,which='delensed',use_diag=False):\n",
    "        super().__init__(cov,nsample,theory,b,lmin,lmax,which,use_diag)\n",
    "    \n",
    "    def vect(self,theta,i):\n",
    "        r = theta\n",
    "        cl_th = self.cl_theory(r) \n",
    "\n",
    "        return cl_th - i[self.select]\n",
    "    \n",
    "    def chi_sq(self,theta,i):\n",
    "        vec = self.vect(theta,i)\n",
    "        l = np.dot(np.dot(vec,self.cov_inv),vec)\n",
    "        return  l\n",
    "    \n",
    "\n",
    "# class LH_HL(LH_base):\n",
    "#     def __init__(self,cov,nsample,theory,b,lens_fid,del_fid,lmin=20,lmax=140,which='lensed',use_diag=False):\n",
    "#         super().__init__(cov,nsample,theory,b,lmin,lmax,which,use_diag)\n",
    "        \n",
    "#         if self.which == 'delensed':\n",
    "#             self.fid = del_fid\n",
    "#         elif self.which == 'lensed':\n",
    "#             self.fid = lens_fid\n",
    "#         else:\n",
    "#             pass\n",
    "    \n",
    "#     def X(self,cl_th,i):\n",
    "#         return i[self.select]/cl_th\n",
    "\n",
    "#     def G(self,cl_th,i):\n",
    "#         x = self.X(cl_th,i)\n",
    "#         return np.sign(x-1)* np.sqrt(2*(x - np.log(x) - 1))\n",
    "    \n",
    "#     def vect(self,theta,i):\n",
    "#         r = theta\n",
    "#         cl_th = self.cl_theory(r)\n",
    "#         g = self.G(cl_th,i)\n",
    "#         return g*self.fid[self.select]\n",
    "    \n",
    "#     def chi_sq(self,theta,i):\n",
    "#         vec = self.vect(theta,i)\n",
    "#         l = np.dot(np.dot(vec,self.cov_inv),vec)\n",
    "#         return  l\n",
    "    "
   ]
  },
  {
   "cell_type": "code",
   "execution_count": 23,
   "metadata": {},
   "outputs": [
    {
     "name": "stderr",
     "output_type": "stream",
     "text": [
      "WARNING:root:getting CMB power spectra to higher L than calculated, may be innacurate/zeroed.\n",
      "/global/homes/l/lonappan/.conda/envs/PC2/lib/python3.7/site-packages/ipykernel_launcher.py:37: RuntimeWarning: invalid value encountered in true_divide\n",
      "/global/homes/l/lonappan/.conda/envs/PC2/lib/python3.7/site-packages/ipykernel_launcher.py:30: RuntimeWarning: invalid value encountered in true_divide\n",
      "/global/homes/l/lonappan/.conda/envs/PC2/lib/python3.7/site-packages/ipykernel_launcher.py:51: RuntimeWarning: divide by zero encountered in true_divide\n",
      "/global/homes/l/lonappan/.conda/envs/PC2/lib/python3.7/site-packages/ipykernel_launcher.py:44: RuntimeWarning: invalid value encountered in true_divide\n",
      "100%|██████████| 5000/5000 [00:26<00:00, 188.08it/s]\n"
     ]
    },
    {
     "name": "stdout",
     "output_type": "stream",
     "text": [
      "full_sample = r = -0.00001497\\pm 0.00045530\n",
      "            cut_sample = r < 0.000447\n",
      "                    \n"
     ]
    },
    {
     "data": {
      "text/plain": [
       "<Figure size 576x576 with 0 Axes>"
      ]
     },
     "metadata": {},
     "output_type": "display_data"
    },
    {
     "data": {
      "image/png": "[encoded data removed]",
      "text/plain": [
       "<Figure size 244.8x244.8 with 1 Axes>"
      ]
     },
     "metadata": {
      "needs_background": "light"
     },
     "output_type": "display_data"
    }
   ],
   "source": [
    "lh = LH_simple(lcov,5000,the,m.biased.pseudocl_lib.b,lmin=20,lmax=180,which='lensed')\n",
    "lh.plot_posterior(m.get_biased('lensed').mean(axis=0))"
   ]
  },
  {
   "cell_type": "code",
   "execution_count": 26,
   "metadata": {},
   "outputs": [
    {
     "name": "stderr",
     "output_type": "stream",
     "text": [
      "WARNING:root:getting CMB power spectra to higher L than calculated, may be innacurate/zeroed.\n",
      "/global/homes/l/lonappan/.conda/envs/PC2/lib/python3.7/site-packages/ipykernel_launcher.py:37: RuntimeWarning: invalid value encountered in true_divide\n",
      "/global/homes/l/lonappan/.conda/envs/PC2/lib/python3.7/site-packages/ipykernel_launcher.py:30: RuntimeWarning: invalid value encountered in true_divide\n",
      "/global/homes/l/lonappan/.conda/envs/PC2/lib/python3.7/site-packages/ipykernel_launcher.py:51: RuntimeWarning: divide by zero encountered in true_divide\n",
      "/global/homes/l/lonappan/.conda/envs/PC2/lib/python3.7/site-packages/ipykernel_launcher.py:44: RuntimeWarning: invalid value encountered in true_divide\n",
      "WARNING:root:getting CMB power spectra to higher L than calculated, may be innacurate/zeroed.\n",
      "100%|██████████| 5000/5000 [00:26<00:00, 190.73it/s]\n"
     ]
    },
    {
     "name": "stdout",
     "output_type": "stream",
     "text": [
      "full_sample = r = -0.00001013\\pm 0.00041104\n",
      "            cut_sample = r < 0.000406\n",
      "                    \n"
     ]
    },
    {
     "data": {
      "text/plain": [
       "<Figure size 576x576 with 0 Axes>"
      ]
     },
     "metadata": {},
     "output_type": "display_data"
    },
    {
     "data": {
      "image/png": "[encoded data removed]",
      "text/plain": [
       "<Figure size 244.8x244.8 with 1 Axes>"
      ]
     },
     "metadata": {
      "needs_background": "light"
     },
     "output_type": "display_data"
    }
   ],
   "source": [
    "lh = LH_simple(dcov,5000,the,m.biased.pseudocl_lib.b,lmin=20,lmax=180,which='delensed')\n",
    "lh.plot_posterior(m.get_debiased_extra().mean(axis=0))"
   ]
  },
  {
   "cell_type": "code",
   "execution_count": 19,
   "metadata": {},
   "outputs": [
    {
     "name": "stderr",
     "output_type": "stream",
     "text": [
      "100%|██████████| 2000/2000 [00:09<00:00, 202.10it/s]\n"
     ]
    },
    {
     "name": "stdout",
     "output_type": "stream",
     "text": [
      "r = 0.00637865\\pm 0.00041615\n"
     ]
    }
   ],
   "source": [
    "lh.plot_posterior(m.get_unbiased('lensed')[1])\n",
    "#LH_simple(lcov,2000,the,m.biased.pseudocl_lib.b).report(m.get_unbiased('delensed')[0])"
   ]
  },
  {
   "cell_type": "code",
   "execution_count": 20,
   "metadata": {},
   "outputs": [
    {
     "name": "stderr",
     "output_type": "stream",
     "text": [
      "WARNING:root:getting CMB power spectra to higher L than calculated, may be innacurate/zeroed.\n",
      "/global/homes/l/lonappan/.conda/envs/PC2/lib/python3.7/site-packages/ipykernel_launcher.py:37: RuntimeWarning: invalid value encountered in true_divide\n",
      "/global/homes/l/lonappan/.conda/envs/PC2/lib/python3.7/site-packages/ipykernel_launcher.py:30: RuntimeWarning: invalid value encountered in true_divide\n",
      "/global/homes/l/lonappan/.conda/envs/PC2/lib/python3.7/site-packages/ipykernel_launcher.py:51: RuntimeWarning: divide by zero encountered in true_divide\n",
      "/global/homes/l/lonappan/.conda/envs/PC2/lib/python3.7/site-packages/ipykernel_launcher.py:44: RuntimeWarning: invalid value encountered in true_divide\n",
      "WARNING:root:getting CMB power spectra to higher L than calculated, may be innacurate/zeroed.\n",
      "100%|██████████| 2000/2000 [00:13<00:00, 153.09it/s]"
     ]
    },
    {
     "name": "stdout",
     "output_type": "stream",
     "text": [
      "r = -0.00050756\\pm 0.00036879\n"
     ]
    },
    {
     "name": "stderr",
     "output_type": "stream",
     "text": [
      "\n"
     ]
    }
   ],
   "source": [
    "lens_mean = m.get_biased('lensed').mean(axis=0)\n",
    "dele_mean = m.get_unbiased('delensed').mean(axis=0)\n",
    "LH_HL(dcov,2000,the,m.biased.pseudocl_lib.b,lens_mean,dele_mean).plot_posterior(m.get_debiased()[2])"
   ]
  },
  {
   "cell_type": "code",
   "execution_count": 32,
   "metadata": {},
   "outputs": [
    {
     "data": {
      "text/plain": [
       "0.08300907911802857"
      ]
     },
     "execution_count": 32,
     "metadata": {},
     "output_type": "execute_result"
    }
   ],
   "source": [
    "1 -(707/771)"
   ]
  },
  {
   "cell_type": "code",
   "execution_count": null,
   "metadata": {},
   "outputs": [],
   "source": []
  }
 ],
 "metadata": {
  "kernelspec": {
   "display_name": "PC2python",
   "language": "python",
   "name": "pc2"
  },
  "language_info": {
   "codemirror_mode": {
    "name": "ipython",
    "version": 3
   },
   "file_extension": ".py",
   "mimetype": "text/x-python",
   "name": "python",
   "nbconvert_exporter": "python",
   "pygments_lexer": "ipython3",
   "version": "3.7.11"
  }
 },
 "nbformat": 4,
 "nbformat_minor": 4
}
