{
 "cells": [
  {
   "cell_type": "code",
   "execution_count": 22,
   "metadata": {},
   "outputs": [],
   "source": [
    "%matplotlib inline\n",
    "import os\n",
    "import sys\n",
    "import healpy as hp\n",
    "import numpy as np\n",
    "import matplotlib.pyplot as plt\n",
    "import pickle as pk\n",
    "from tqdm import tqdm\n",
    "import pymaster as nmt\n",
    "sys.path.append('../')\n",
    "import matplotlib\n",
    "import lenspyx\n",
    "import camb\n",
    "import emcee\n",
    "import corner\n",
    "from getdist import plots, MCSamples\n",
    "from contextlib import contextmanager\n",
    "from covariance import MeanAndCovariance\n",
    "from likelihood import Delens_Theory\n",
    "from likelihood import LH_simple2 as LH_simple\n",
    "from likelihood import LH_HL2 as LH_HL\n",
    "\n",
    "@contextmanager\n",
    "def suppress_stdout():\n",
    "    with open(os.devnull, \"w\") as devnull:\n",
    "        old_stdout = sys.stdout\n",
    "        sys.stdout = devnull\n",
    "        try:\n",
    "            yield\n",
    "        finally:\n",
    "            sys.stdout = old_stdout"
   ]
  },
  {
   "cell_type": "code",
   "execution_count": 2,
   "metadata": {
    "tags": []
   },
   "outputs": [],
   "source": [
    "%load_ext autoreload\n",
    "%autoreload 2\n",
    "from delens import DelensAndCl"
   ]
  },
  {
   "cell_type": "code",
   "execution_count": 3,
   "metadata": {},
   "outputs": [
    {
     "name": "stdout",
     "output_type": "stream",
     "text": [
      "Simulation uses /global/cscratch1/sd/lonappan/S4BIRD/LiteBIRD/SIM_SET1/Maps\n",
      "Simulation uses /global/cscratch1/sd/lonappan/S4BIRD/LiteBIRD/SIM_SET1/Maps\n",
      "Delensing LiteBIRD-SET1 with LiteBIRD-SET1\n",
      "Template is constructed using LiteBIRD-SET1\n",
      "Delensing uses QE: p_eb\n",
      "Reading coupling matrix from /global/cscratch1/sd/lonappan/S4BIRD/LiteBIRD/SIM_SET1/Pseudo/workspace/coupling_matrix_Nside512_fsky_0p8_beam_None_Apo_C1_Deg_8.fits\n"
     ]
    }
   ],
   "source": [
    "DC1 = DelensAndCl('delensing1.ini')"
   ]
  },
  {
   "cell_type": "code",
   "execution_count": 4,
   "metadata": {},
   "outputs": [
    {
     "name": "stdout",
     "output_type": "stream",
     "text": [
      "Simulation uses /global/cscratch1/sd/lonappan/S4BIRD/LiteBIRD/SIM_SET2/Maps\n",
      "Simulation uses /global/cscratch1/sd/lonappan/S4BIRD/LiteBIRD/SIM_SET3/Maps\n",
      "Delensing LiteBIRD-SET2 with LiteBIRD-SET3\n",
      "Template is constructed using LiteBIRD-SET2\n",
      "Delensing uses QE: p_eb\n",
      "Reading coupling matrix from /global/cscratch1/sd/lonappan/S4BIRD/LiteBIRD/SIM_SET2/Pseudo/workspace/coupling_matrix_Nside512_fsky_0p8_beam_None_Apo_C1_Deg_8.fits\n"
     ]
    }
   ],
   "source": [
    "DC2 = DelensAndCl('delensing2.ini')"
   ]
  },
  {
   "cell_type": "code",
   "execution_count": 5,
   "metadata": {},
   "outputs": [
    {
     "name": "stdout",
     "output_type": "stream",
     "text": [
      "Simulation uses /global/cscratch1/sd/lonappan/S4BIRD/LiteBIRD/SIM_SET3/Maps\n",
      "Simulation uses /global/cscratch1/sd/lonappan/S4BIRD/LiteBIRD/SIM_SET3/Maps\n",
      "Delensing LiteBIRD-SET3 with LiteBIRD-SET3\n",
      "Template is constructed using LiteBIRD-SET3\n",
      "Delensing uses QE: p_eb\n",
      "Reading coupling matrix from /global/cscratch1/sd/lonappan/S4BIRD/LiteBIRD/SIM_SET3/Pseudo/workspace/coupling_matrix_Nside512_fsky_0p8_beam_None_Apo_C1_Deg_8.fits\n"
     ]
    }
   ],
   "source": [
    "DC3 = DelensAndCl('delensing3.ini')"
   ]
  },
  {
   "cell_type": "code",
   "execution_count": 6,
   "metadata": {},
   "outputs": [],
   "source": [
    "camb_ini = '/global/cscratch1/sd/lonappan/S4BIRD/CAMB/BBSims_params.ini'"
   ]
  },
  {
   "cell_type": "code",
   "execution_count": 7,
   "metadata": {},
   "outputs": [
    {
     "name": "stdout",
     "output_type": "stream",
     "text": [
      " WARNING: nu_mass_degeneracies ignored when share_delta_neff\n"
     ]
    }
   ],
   "source": [
    "the = Delens_Theory(camb_ini,DC2.pseudocl_lib.b.lmax,DC1.delens_lib.get_N0(0),30,2.16)"
   ]
  },
  {
   "cell_type": "code",
   "execution_count": 8,
   "metadata": {},
   "outputs": [
    {
     "name": "stderr",
     "output_type": "stream",
     "text": [
      "Covariance: 100%|██████████| 1000/1000 [00:00<00:00, 192214.11simulation/s]\n",
      "Covariance: 100%|██████████| 1000/1000 [00:00<00:00, 180206.40simulation/s]\n"
     ]
    }
   ],
   "source": [
    "lmin=20\n",
    "lmax=180\n",
    "m = MeanAndCovariance('Eff2',DC1,DC2,DC3,the,lmin,lmax)\n",
    "lens_cov = m.lensed_cov_fid\n",
    "del_cov = m.delensed_cov_fid"
   ]
  },
  {
   "cell_type": "code",
   "execution_count": 9,
   "metadata": {},
   "outputs": [
    {
     "name": "stderr",
     "output_type": "stream",
     "text": [
      "WARNING:root:getting CMB power spectra to higher L than calculated, may be innacurate/zeroed.\n",
      "../likelihood.py:135: RuntimeWarning: invalid value encountered in true_divide\n",
      "  return (bb/self.dl)\n",
      "../likelihood.py:128: RuntimeWarning: invalid value encountered in true_divide\n",
      "  return self.cl_pp*(1 - (self.cl_pp/(self.cl_pp+self.N0)))\n",
      "../likelihood.py:149: RuntimeWarning: divide by zero encountered in true_divide\n",
      "  return (bb/self.dl)\n",
      "../likelihood.py:142: RuntimeWarning: invalid value encountered in true_divide\n",
      "  return (bb/self.dl)\n",
      "100%|██████████| 3000/3000 [00:16<00:00, 179.64it/s]\n"
     ]
    },
    {
     "name": "stdout",
     "output_type": "stream",
     "text": [
      "r < 0.000436\n"
     ]
    }
   ],
   "source": [
    "LH_simple(lens_cov,3000,the,DC2.pseudocl_lib.b,lmin,lmax,'lensed').plot_posterior(m.get_biased('lensed').mean(axis=0))"
   ]
  },
  {
   "cell_type": "code",
   "execution_count": 10,
   "metadata": {},
   "outputs": [
    {
     "name": "stderr",
     "output_type": "stream",
     "text": [
      "WARNING:root:getting CMB power spectra to higher L than calculated, may be innacurate/zeroed.\n",
      "../likelihood.py:135: RuntimeWarning: invalid value encountered in true_divide\n",
      "  return (bb/self.dl)\n",
      "../likelihood.py:128: RuntimeWarning: invalid value encountered in true_divide\n",
      "  return self.cl_pp*(1 - (self.cl_pp/(self.cl_pp+self.N0)))\n",
      "../likelihood.py:149: RuntimeWarning: divide by zero encountered in true_divide\n",
      "  return (bb/self.dl)\n",
      "../likelihood.py:142: RuntimeWarning: invalid value encountered in true_divide\n",
      "  return (bb/self.dl)\n",
      "WARNING:root:getting CMB power spectra to higher L than calculated, may be innacurate/zeroed.\n",
      "100%|██████████| 3000/3000 [00:16<00:00, 178.41it/s]"
     ]
    },
    {
     "name": "stdout",
     "output_type": "stream",
     "text": [
      "r < 0.000399\n"
     ]
    },
    {
     "name": "stderr",
     "output_type": "stream",
     "text": [
      "\n"
     ]
    }
   ],
   "source": [
    "LH_simple(del_cov,3000,the,DC2.pseudocl_lib.b,lmin,lmax,'delensed').plot_posterior(m.debiased_w_mc.mean(axis=0))"
   ]
  },
  {
   "cell_type": "code",
   "execution_count": 11,
   "metadata": {},
   "outputs": [],
   "source": [
    "lens_c = m.get_unbiased('lensed').mean(axis=0)\n",
    "del_c = m.get_unbiased('delensed').mean(axis=0)"
   ]
  },
  {
   "cell_type": "code",
   "execution_count": 12,
   "metadata": {},
   "outputs": [
    {
     "name": "stderr",
     "output_type": "stream",
     "text": [
      "WARNING:root:getting CMB power spectra to higher L than calculated, may be innacurate/zeroed.\n",
      "../likelihood.py:135: RuntimeWarning: invalid value encountered in true_divide\n",
      "  return (bb/self.dl)\n",
      "../likelihood.py:128: RuntimeWarning: invalid value encountered in true_divide\n",
      "  return self.cl_pp*(1 - (self.cl_pp/(self.cl_pp+self.N0)))\n",
      "../likelihood.py:149: RuntimeWarning: divide by zero encountered in true_divide\n",
      "  return (bb/self.dl)\n",
      "../likelihood.py:142: RuntimeWarning: invalid value encountered in true_divide\n",
      "  return (bb/self.dl)\n",
      "100%|██████████| 3000/3000 [00:21<00:00, 141.87it/s]"
     ]
    },
    {
     "name": "stdout",
     "output_type": "stream",
     "text": [
      "r < 0.000457\n"
     ]
    },
    {
     "name": "stderr",
     "output_type": "stream",
     "text": [
      "\n"
     ]
    }
   ],
   "source": [
    "LH_HL(lens_c,lens_cov,3000,the,DC2.pseudocl_lib.b,lmin,lmax,'lensed').plot_posterior(m.get_biased('lensed').mean(axis=0))"
   ]
  },
  {
   "cell_type": "code",
   "execution_count": 13,
   "metadata": {},
   "outputs": [
    {
     "name": "stderr",
     "output_type": "stream",
     "text": [
      "WARNING:root:getting CMB power spectra to higher L than calculated, may be innacurate/zeroed.\n",
      "../likelihood.py:135: RuntimeWarning: invalid value encountered in true_divide\n",
      "  return (bb/self.dl)\n",
      "../likelihood.py:128: RuntimeWarning: invalid value encountered in true_divide\n",
      "  return self.cl_pp*(1 - (self.cl_pp/(self.cl_pp+self.N0)))\n",
      "../likelihood.py:149: RuntimeWarning: divide by zero encountered in true_divide\n",
      "  return (bb/self.dl)\n",
      "../likelihood.py:142: RuntimeWarning: invalid value encountered in true_divide\n",
      "  return (bb/self.dl)\n",
      "WARNING:root:getting CMB power spectra to higher L than calculated, may be innacurate/zeroed.\n",
      "100%|██████████| 3000/3000 [00:20<00:00, 146.25it/s]"
     ]
    },
    {
     "name": "stdout",
     "output_type": "stream",
     "text": [
      "r < 0.000377\n"
     ]
    },
    {
     "name": "stderr",
     "output_type": "stream",
     "text": [
      "\n"
     ]
    }
   ],
   "source": [
    "LH_HL(del_c,del_cov,3000,the,DC2.pseudocl_lib.b,lmin,lmax,'delensed').plot_posterior(m.debiased_w_mc.mean(axis=0))"
   ]
  },
  {
   "cell_type": "code",
   "execution_count": 14,
   "metadata": {},
   "outputs": [
    {
     "name": "stderr",
     "output_type": "stream",
     "text": [
      "../likelihood.py:128: RuntimeWarning: invalid value encountered in true_divide\n",
      "  return self.cl_pp*(1 - (self.cl_pp/(self.cl_pp+self.N0)))\n",
      "../likelihood.py:149: RuntimeWarning: divide by zero encountered in true_divide\n",
      "  return (bb/self.dl)\n",
      "WARNING:root:getting CMB power spectra to higher L than calculated, may be innacurate/zeroed.\n",
      "../likelihood.py:135: RuntimeWarning: invalid value encountered in true_divide\n",
      "  return (bb/self.dl)\n"
     ]
    },
    {
     "data": {
      "text/plain": [
       "0.19749830497530912"
      ]
     },
     "execution_count": 14,
     "metadata": {},
     "output_type": "execute_result"
    }
   ],
   "source": [
    "np.mean(1-(m.debiased_w_mc.mean(axis=0)[m.select]/m.get_biased('lensed').mean(axis=0)[m.select]))"
   ]
  },
  {
   "cell_type": "code",
   "execution_count": 15,
   "metadata": {},
   "outputs": [
    {
     "data": {
      "text/plain": [
       "0.17505470459518602"
      ]
     },
     "execution_count": 15,
     "metadata": {},
     "output_type": "execute_result"
    }
   ],
   "source": [
    "1-377/457"
   ]
  },
  {
   "cell_type": "code",
   "execution_count": null,
   "metadata": {},
   "outputs": [],
   "source": []
  }
 ],
 "metadata": {
  "kernelspec": {
   "display_name": "PC2python",
   "language": "python",
   "name": "pc2"
  },
  "language_info": {
   "codemirror_mode": {
    "name": "ipython",
    "version": 3
   },
   "file_extension": ".py",
   "mimetype": "text/x-python",
   "name": "python",
   "nbconvert_exporter": "python",
   "pygments_lexer": "ipython3",
   "version": "3.7.11"
  }
 },
 "nbformat": 4,
 "nbformat_minor": 4
}
