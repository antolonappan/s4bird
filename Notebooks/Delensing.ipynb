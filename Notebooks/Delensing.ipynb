{
 "cells": [
  {
   "cell_type": "code",
   "execution_count": 1,
   "metadata": {},
   "outputs": [],
   "source": [
    "%matplotlib inline\n",
    "import os\n",
    "import sys\n",
    "import healpy as hp\n",
    "import numpy as np\n",
    "import matplotlib.pyplot as plt\n",
    "import pickle as pk\n",
    "sys.path.append('../')\n",
    "import matplotlib"
   ]
  },
  {
   "cell_type": "code",
   "execution_count": 2,
   "metadata": {},
   "outputs": [
    {
     "name": "stderr",
     "output_type": "stream",
     "text": [
      "usage: ipykernel_launcher.py [-h] [-ivt] [-ivp] [-dd] [-delens] [-cl] [-lh]\n",
      "                             inifile\n",
      "ipykernel_launcher.py: error: unrecognized arguments: -f\n"
     ]
    },
    {
     "name": "stdout",
     "output_type": "stream",
     "text": [
      "Simulation uses /global/cscratch1/sd/lonappan/S4BIRD/LiteBIRD/SIM_SET1/Maps\n",
      "jit: instantiating ctype = <class 'plancklens.qcinv.multigrid.multigrid_chain'>\n",
      "creating split preconditioner  ('dense(/global/cscratch1/sd/lonappan/S4BIRD/LiteBIRD/SIM_SET1/QE/cinv_t/dense.pk)', '64', 'diag_cl')\n",
      "creating dense preconditioner. (nside = 128, lmax = 64, cache = /global/cscratch1/sd/lonappan/S4BIRD/LiteBIRD/SIM_SET1/QE/cinv_t/dense.pk)\n",
      "jit: instantiating ctype = <class 'plancklens.qcinv.opfilt_tt.alm_filter_ninv'>\n",
      "opfilt_tt: inverse noise map std dev / av = 5.164e-14\n",
      " [00:00:00] filling template (4) projection matrix > 00%"
     ]
    },
    {
     "name": "stderr",
     "output_type": "stream",
     "text": [
      "WARNING: AstropyDeprecationWarning: \"verbose\" was deprecated in version 1.15.0 and will be removed in a future version.  [plancklens.qcinv.template_removal]\n"
     ]
    },
    {
     "name": "stdout",
     "output_type": "stream",
     "text": [
      " [00:00:07] filling template (4) projection matrix -------> 75%\n",
      "ninv_ftl: using 2.15 uK-amin noise Cl\n",
      "DEGRADING WITH NO MARGE MAPS\n",
      "opfilt_tt: inverse noise map std dev / av = 1.710e-16\n",
      " [00:00:00] filling template (4) projection matrix -------> 75%\n",
      "ninv_ftl: using 2.15 uK-amin noise Cl\n",
      "computing dense preconditioner:\n",
      "     lmax  = 64\n",
      "     ntmpl = 4\n",
      " will cache minv in /global/cscratch1/sd/lonappan/S4BIRD/LiteBIRD/SIM_SET1/QE/cinv_t/dense.pk\n"
     ]
    },
    {
     "name": "stderr",
     "output_type": "stream",
     "text": [
      "WARNING: AstropyDeprecationWarning: \"verbose\" was deprecated in version 1.15.0 and will be removed in a future version.  [plancklens.qcinv.opfilt_tt]\n",
      "WARNING: AstropyDeprecationWarning: \"verbose\" was deprecated in version 1.15.0 and will be removed in a future version.  [plancklens.qcinv.template_removal]\n"
     ]
    },
    {
     "name": "stdout",
     "output_type": "stream",
     "text": [
      " [00:00:50] filling matrix ---------> 99%\n",
      "   inverting M...\n",
      "     eigv[ntmpl-1] =  4.671918243294272e-10\n",
      "     eigv[ntmpl]   =  0.0030318083730572223\n",
      "creating split preconditioner  ('stage(3)', '256', 'diag_cl')\n",
      "creating multigrid preconditioner: stage_id =  3\n",
      "DEGRADING WITH NO MARGE MAPS\n",
      "opfilt_tt: inverse noise map std dev / av = 1.710e-16\n",
      " [00:00:00] filling template (4) projection matrix -------> 75%\n",
      "ninv_ftl: using 2.15 uK-amin noise Cl\n",
      "creating split preconditioner  ('stage(2)', '512', 'diag_cl')\n",
      "creating multigrid preconditioner: stage_id =  2\n",
      "DEGRADING WITH NO MARGE MAPS\n",
      "opfilt_tt: inverse noise map std dev / av = 8.550e-16\n",
      " [00:00:00] filling template (4) projection matrix -------> 75%\n",
      "ninv_ftl: using 2.15 uK-amin noise Cl\n",
      "creating split preconditioner  ('stage(1)', '1024', 'diag_cl')\n",
      "creating multigrid preconditioner: stage_id =  1\n",
      "DEGRADING WITH NO MARGE MAPS\n",
      "opfilt_tt: inverse noise map std dev / av = 2.052e-15\n",
      " [00:00:00] filling template (4) projection matrix -------> 75%\n",
      "ninv_ftl: using 2.15 uK-amin noise Cl\n",
      "cinv_t::noiseT_uk_arcmin = 1.507\n"
     ]
    },
    {
     "name": "stderr",
     "output_type": "stream",
     "text": [
      "setting the output map dtype to [dtype('float64')]\n"
     ]
    },
    {
     "name": "stdout",
     "output_type": "stream",
     "text": [
      "jit: instantiating ctype = <class 'plancklens.qcinv.multigrid.multigrid_chain'>\n",
      "creating split preconditioner  ('dense(/global/cscratch1/sd/lonappan/S4BIRD/LiteBIRD/SIM_SET1/QE/cinv_p/dense.pk)', '32', 'diag_cl')\n",
      "creating dense preconditioner. (nside = 256, lmax = 32, cache = /global/cscratch1/sd/lonappan/S4BIRD/LiteBIRD/SIM_SET1/QE/cinv_p/dense.pk)\n",
      "jit: instantiating ctype = <class 'plancklens.qcinv.opfilt_pp.alm_filter_ninv'>\n",
      "opfilt_pp: Pol. inverse noise map std dev / av = 3.212e-14\n",
      "ninv_febl: using 3.06 uK-amin noise Cl\n",
      "opfilt_pp: Pol. inverse noise map std dev / av = 5.180e-16\n",
      "ninv_febl: using 3.06 uK-amin noise Cl\n",
      "computing dense preconditioner:\n",
      "     lmax  = 32\n",
      "     ntmpl = 8\n",
      " [00:00:57] filling matrix ---------> 99%\n",
      "   inverting M...\n",
      "     eigv[ntmpl-1] =  1.4737125352165832e-10\n",
      "     eigv[ntmpl]   =  808.8102138316367\n",
      "creating split preconditioner  ('stage(2)', '512', 'diag_cl')\n",
      "creating multigrid preconditioner: stage_id =  2\n",
      "opfilt_pp: Pol. inverse noise map std dev / av = 5.180e-16\n",
      "ninv_febl: using 3.06 uK-amin noise Cl\n",
      "creating split preconditioner  ('stage(1)', '1024', 'diag_cl')\n",
      "creating multigrid preconditioner: stage_id =  1\n",
      "opfilt_pp: Pol. inverse noise map std dev / av = 2.417e-15\n",
      "ninv_febl: using 3.06 uK-amin noise Cl\n",
      "cinv_p::noiseP_uk_arcmin = 2.142\n"
     ]
    },
    {
     "name": "stderr",
     "output_type": "stream",
     "text": [
      "setting the output map dtype to [dtype('float64')]\n",
      "setting the output map dtype to [dtype('>f8')]\n"
     ]
    },
    {
     "name": "stdout",
     "output_type": "stream",
     "text": [
      "Caching sky fractions...\n",
      "Delensing uses QE: p_eb\n"
     ]
    },
    {
     "name": "stderr",
     "output_type": "stream",
     "text": [
      "WARNING: AstropyDeprecationWarning: \"verbose\" was deprecated in version 1.15.0 and will be removed in a future version.  [delens]\n"
     ]
    },
    {
     "name": "stdout",
     "output_type": "stream",
     "text": [
      "No workspace file found.\n",
      "Computing Mode Coupling Matrix\n"
     ]
    }
   ],
   "source": [
    "%load_ext autoreload\n",
    "%autoreload 2\n",
    "import libparam as method"
   ]
  },
  {
   "cell_type": "code",
   "execution_count": 3,
   "metadata": {},
   "outputs": [
    {
     "data": {
      "text/plain": [
       "array([ 0.00000000e+00+0.00000000e+00j,  0.00000000e+00+0.00000000e+00j,\n",
       "        1.22713168e-01+0.00000000e+00j, ...,\n",
       "        2.73115856e-19-4.02457938e-19j,  7.59975687e-19+1.99214919e-19j,\n",
       "       -1.37668320e-19-1.17490762e-18j])"
      ]
     },
     "execution_count": 3,
     "metadata": {},
     "output_type": "execute_result"
    }
   ],
   "source": [
    "method.sims.get_sim_elm(0)"
   ]
  },
  {
   "cell_type": "code",
   "execution_count": null,
   "metadata": {},
   "outputs": [],
   "source": []
  }
 ],
 "metadata": {
  "kernelspec": {
   "display_name": "PC2python",
   "language": "python",
   "name": "pc2"
  },
  "language_info": {
   "codemirror_mode": {
    "name": "ipython",
    "version": 3
   },
   "file_extension": ".py",
   "mimetype": "text/x-python",
   "name": "python",
   "nbconvert_exporter": "python",
   "pygments_lexer": "ipython3",
   "version": "3.7.11"
  }
 },
 "nbformat": 4,
 "nbformat_minor": 4
}
