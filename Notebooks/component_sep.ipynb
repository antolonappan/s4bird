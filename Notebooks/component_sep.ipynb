{
 "cells": [
  {
   "cell_type": "code",
   "execution_count": 1,
   "id": "4a094a2f-6de9-4d4c-92cc-3707036567df",
   "metadata": {},
   "outputs": [],
   "source": [
    "import sys\n",
    "sys.path.append('../')"
   ]
  },
  {
   "cell_type": "code",
   "execution_count": 2,
   "id": "15b3c96a-d749-4e3a-b830-a3efe10ec60d",
   "metadata": {},
   "outputs": [],
   "source": [
    "import os\n",
    "import numpy as np\n",
    "import healpy as hp\n",
    "import matplotlib.pyplot as plt\n",
    "from noise import NoiseMap_LB_Freq\n",
    "from database import surveys"
   ]
  },
  {
   "cell_type": "code",
   "execution_count": 3,
   "id": "2ea1edf0-88a4-4b6f-9649-dbec4178cbbb",
   "metadata": {},
   "outputs": [],
   "source": [
    "base = '/project/projectdirs/litebird/simulations/S4BIRD'"
   ]
  },
  {
   "cell_type": "code",
   "execution_count": 4,
   "id": "04d2b82d-84d1-47b9-9734-defbf34f9826",
   "metadata": {},
   "outputs": [],
   "source": [
    "lensed_map_dir = os.path.join(base,'CMB_Lensed_Maps')\n",
    "dust_map_dir = os.path.join(base,'Foregrounds','Dust')\n",
    "sync_map_dir = os.path.join(base,'Foregrounds','Synchrotron')"
   ]
  },
  {
   "cell_type": "code",
   "execution_count": 5,
   "id": "41a9a4e8-afda-4132-8731-2fe088c523b8",
   "metadata": {},
   "outputs": [
    {
     "name": "stdout",
     "output_type": "stream",
     "text": [
      "2021-09-23 21:09:15,271 INFO sqlalchemy.engine.Engine SELECT name FROM sqlite_master WHERE type='table' ORDER BY name\n",
      "2021-09-23 21:09:15,272 INFO sqlalchemy.engine.Engine [raw sql] ()\n",
      "2021-09-23 21:09:15,274 INFO sqlalchemy.engine.Engine SELECT name FROM sqlite_master WHERE type='table' ORDER BY name\n",
      "2021-09-23 21:09:15,275 INFO sqlalchemy.engine.Engine [raw sql] ()\n",
      "2021-09-23 21:09:15,276 INFO sqlalchemy.engine.Engine SELECT name FROM sqlite_master WHERE type='view' ORDER BY name\n",
      "2021-09-23 21:09:15,276 INFO sqlalchemy.engine.Engine [raw sql] ()\n",
      "2021-09-23 21:09:15,279 INFO sqlalchemy.engine.Engine PRAGMA main.table_xinfo(\"LITEBIRD\")\n",
      "2021-09-23 21:09:15,280 INFO sqlalchemy.engine.Engine [raw sql] ()\n",
      "2021-09-23 21:09:15,282 INFO sqlalchemy.engine.Engine SELECT sql FROM  (SELECT * FROM sqlite_master UNION ALL   SELECT * FROM sqlite_temp_master) WHERE name = ? AND type = 'table'\n",
      "2021-09-23 21:09:15,282 INFO sqlalchemy.engine.Engine [raw sql] ('LITEBIRD',)\n",
      "2021-09-23 21:09:15,284 INFO sqlalchemy.engine.Engine PRAGMA main.foreign_key_list(\"LITEBIRD\")\n",
      "2021-09-23 21:09:15,284 INFO sqlalchemy.engine.Engine [raw sql] ()\n",
      "2021-09-23 21:09:15,285 INFO sqlalchemy.engine.Engine PRAGMA temp.foreign_key_list(\"LITEBIRD\")\n",
      "2021-09-23 21:09:15,286 INFO sqlalchemy.engine.Engine [raw sql] ()\n",
      "2021-09-23 21:09:15,286 INFO sqlalchemy.engine.Engine SELECT sql FROM  (SELECT * FROM sqlite_master UNION ALL   SELECT * FROM sqlite_temp_master) WHERE name = ? AND type = 'table'\n",
      "2021-09-23 21:09:15,287 INFO sqlalchemy.engine.Engine [raw sql] ('LITEBIRD',)\n",
      "2021-09-23 21:09:15,291 INFO sqlalchemy.engine.Engine PRAGMA main.index_list(\"LITEBIRD\")\n",
      "2021-09-23 21:09:15,291 INFO sqlalchemy.engine.Engine [raw sql] ()\n",
      "2021-09-23 21:09:15,292 INFO sqlalchemy.engine.Engine PRAGMA main.index_info(\"ix_LITEBIRD_index\")\n",
      "2021-09-23 21:09:15,293 INFO sqlalchemy.engine.Engine [raw sql] ()\n",
      "2021-09-23 21:09:15,294 INFO sqlalchemy.engine.Engine PRAGMA main.index_list(\"LITEBIRD\")\n",
      "2021-09-23 21:09:15,295 INFO sqlalchemy.engine.Engine [raw sql] ()\n",
      "2021-09-23 21:09:15,296 INFO sqlalchemy.engine.Engine PRAGMA main.index_info(\"ix_LITEBIRD_index\")\n",
      "2021-09-23 21:09:15,297 INFO sqlalchemy.engine.Engine [raw sql] ()\n",
      "2021-09-23 21:09:15,298 INFO sqlalchemy.engine.Engine SELECT sql FROM  (SELECT * FROM sqlite_master UNION ALL   SELECT * FROM sqlite_temp_master) WHERE name = ? AND type = 'table'\n",
      "2021-09-23 21:09:15,298 INFO sqlalchemy.engine.Engine [raw sql] ('LITEBIRD',)\n",
      "2021-09-23 21:09:15,303 INFO sqlalchemy.engine.Engine SELECT \"LITEBIRD\".\"index\", \"LITEBIRD\".frequency, \"LITEBIRD\".depth_p, \"LITEBIRD\".fwhm, \"LITEBIRD\".bandwidth, \"LITEBIRD\".pixel_size, \"LITEBIRD\".detectors, \"LITEBIRD\".net_det, \"LITEBIRD\".net_arr_t, \"LITEBIRD\".net_arr_p \n",
      "FROM \"LITEBIRD\"\n",
      "2021-09-23 21:09:15,304 INFO sqlalchemy.engine.Engine [generated in 0.00063s] ()\n"
     ]
    }
   ],
   "source": [
    "survey = surveys().get_table_dataframe('LITEBIRD')"
   ]
  },
  {
   "cell_type": "code",
   "execution_count": 9,
   "id": "574507fa-75f5-4019-b63d-c272c986d10a",
   "metadata": {},
   "outputs": [],
   "source": [
    "N = NoiseMap_LB_Freq('Test',256,np.array(survey.depth_p),np.array(survey.frequency),1)"
   ]
  },
  {
   "cell_type": "code",
   "execution_count": 7,
   "id": "5c8908ed-6e88-4e15-a0b0-a0bc03d61a01",
   "metadata": {},
   "outputs": [],
   "source": [
    "def get_cmb(idx):\n",
    "    fname = os.path.join(lensed_map_dir,f\"cmbonly_{idx}.fits\")\n",
    "    return hp.ud_grade(hp.read_map(fname,(0,1,2)),256)\n",
    "\n",
    "def get_dust(v):\n",
    "    fname = os.path.join(dust_map_dir,f\"d0_{int(v)}.fits\")\n",
    "    return hp.ud_grade(hp.read_map(fname,(0,1,2)),256)\n",
    "def get_sync(v):\n",
    "    fname = os.path.join(sync_map_dir,f\"s0_{int(v)}.fits\")\n",
    "    return hp.ud_grade(hp.read_map(fname,(0,1,2)),256)"
   ]
  },
  {
   "cell_type": "code",
   "execution_count": 8,
   "id": "339a45d3-cd64-4933-b962-6512b516f1ef",
   "metadata": {},
   "outputs": [],
   "source": [
    "freqs = np.array(survey.frequency)\n",
    "fwhm = np.array(survey.fwhm)\n",
    "def total_map_v(idx,i):\n",
    "    return hp.smoothing(get_cmb(idx) + get_dust(freqs[i])+ get_sync(freqs[i]),np.radians(fwhm[i]/60)) + N.get_maps_v(idx,i)"
   ]
  },
  {
   "cell_type": "code",
   "execution_count": 10,
   "id": "95597088-0060-4b22-ad80-0f40d94f7275",
   "metadata": {},
   "outputs": [
    {
     "name": "stdout",
     "output_type": "stream",
     "text": [
      "0\n"
     ]
    },
    {
     "name": "stderr",
     "output_type": "stream",
     "text": [
      "/global/homes/l/lonappan/.conda/envs/PC/lib/python3.6/site-packages/healpy/fitsfunc.py:369: UserWarning: If you are not specifying the input dtype and using the default np.float64 dtype of read_map(), please consider that it will change in a future version to None as to keep the same dtype of the input file: please explicitly set the dtype if it is important to you.\n",
      "  \"If you are not specifying the input dtype and using the default \"\n",
      "/global/homes/l/lonappan/.conda/envs/PC/lib/python3.6/site-packages/healpy/fitsfunc.py:391: UserWarning: NSIDE = 2048\n",
      "  warnings.warn(\"NSIDE = {0:d}\".format(nside))\n",
      "/global/homes/l/lonappan/.conda/envs/PC/lib/python3.6/site-packages/healpy/fitsfunc.py:400: UserWarning: ORDERING = RING in fits file\n",
      "  warnings.warn(\"ORDERING = {0:s} in fits file\".format(ordering))\n",
      "/global/homes/l/lonappan/.conda/envs/PC/lib/python3.6/site-packages/healpy/fitsfunc.py:428: UserWarning: INDXSCHM = IMPLICIT\n",
      "  warnings.warn(\"INDXSCHM = {0:s}\".format(schm))\n",
      "/global/homes/l/lonappan/.conda/envs/PC/lib/python3.6/site-packages/healpy/sphtfunc.py:824: UserWarning: Sigma is 29.301602 arcmin (0.008523 rad) \n",
      "  sigma * 60 * 180 / np.pi, sigma\n",
      "/global/homes/l/lonappan/.conda/envs/PC/lib/python3.6/site-packages/healpy/sphtfunc.py:829: UserWarning: -> fwhm is 69.000000 arcmin\n",
      "  sigma * 60 * 180 / np.pi * (2.0 * np.sqrt(2.0 * np.log(2.0)))\n",
      "/global/homes/l/lonappan/.conda/envs/PC/lib/python3.6/site-packages/healpy/sphtfunc.py:824: UserWarning: Sigma is 0.000000 arcmin (0.000000 rad) \n",
      "  sigma * 60 * 180 / np.pi, sigma\n",
      "/global/homes/l/lonappan/.conda/envs/PC/lib/python3.6/site-packages/healpy/sphtfunc.py:829: UserWarning: -> fwhm is 0.000000 arcmin\n",
      "  sigma * 60 * 180 / np.pi * (2.0 * np.sqrt(2.0 * np.log(2.0)))\n",
      "/global/homes/l/lonappan/.conda/envs/PC/lib/python3.6/site-packages/healpy/fitsfunc.py:391: UserWarning: NSIDE = 256\n",
      "  warnings.warn(\"NSIDE = {0:d}\".format(nside))\n"
     ]
    },
    {
     "name": "stdout",
     "output_type": "stream",
     "text": [
      "1\n"
     ]
    },
    {
     "name": "stderr",
     "output_type": "stream",
     "text": [
      "/global/homes/l/lonappan/.conda/envs/PC/lib/python3.6/site-packages/healpy/sphtfunc.py:824: UserWarning: Sigma is 23.781010 arcmin (0.006918 rad) \n",
      "  sigma * 60 * 180 / np.pi, sigma\n",
      "/global/homes/l/lonappan/.conda/envs/PC/lib/python3.6/site-packages/healpy/sphtfunc.py:829: UserWarning: -> fwhm is 56.000000 arcmin\n",
      "  sigma * 60 * 180 / np.pi * (2.0 * np.sqrt(2.0 * np.log(2.0)))\n"
     ]
    },
    {
     "name": "stdout",
     "output_type": "stream",
     "text": [
      "2\n"
     ]
    },
    {
     "name": "stderr",
     "output_type": "stream",
     "text": [
      "/global/homes/l/lonappan/.conda/envs/PC/lib/python3.6/site-packages/healpy/sphtfunc.py:824: UserWarning: Sigma is 20.383723 arcmin (0.005929 rad) \n",
      "  sigma * 60 * 180 / np.pi, sigma\n",
      "/global/homes/l/lonappan/.conda/envs/PC/lib/python3.6/site-packages/healpy/sphtfunc.py:829: UserWarning: -> fwhm is 48.000000 arcmin\n",
      "  sigma * 60 * 180 / np.pi * (2.0 * np.sqrt(2.0 * np.log(2.0)))\n"
     ]
    },
    {
     "name": "stdout",
     "output_type": "stream",
     "text": [
      "3\n"
     ]
    },
    {
     "name": "stderr",
     "output_type": "stream",
     "text": [
      "/global/homes/l/lonappan/.conda/envs/PC/lib/python3.6/site-packages/healpy/sphtfunc.py:824: UserWarning: Sigma is 18.260419 arcmin (0.005312 rad) \n",
      "  sigma * 60 * 180 / np.pi, sigma\n",
      "/global/homes/l/lonappan/.conda/envs/PC/lib/python3.6/site-packages/healpy/sphtfunc.py:829: UserWarning: -> fwhm is 43.000000 arcmin\n",
      "  sigma * 60 * 180 / np.pi * (2.0 * np.sqrt(2.0 * np.log(2.0)))\n"
     ]
    },
    {
     "name": "stdout",
     "output_type": "stream",
     "text": [
      "4\n"
     ]
    },
    {
     "name": "stderr",
     "output_type": "stream",
     "text": [
      "/global/homes/l/lonappan/.conda/envs/PC/lib/python3.6/site-packages/healpy/sphtfunc.py:824: UserWarning: Sigma is 16.561775 arcmin (0.004818 rad) \n",
      "  sigma * 60 * 180 / np.pi, sigma\n",
      "/global/homes/l/lonappan/.conda/envs/PC/lib/python3.6/site-packages/healpy/sphtfunc.py:829: UserWarning: -> fwhm is 39.000000 arcmin\n",
      "  sigma * 60 * 180 / np.pi * (2.0 * np.sqrt(2.0 * np.log(2.0)))\n"
     ]
    },
    {
     "name": "stdout",
     "output_type": "stream",
     "text": [
      "5\n"
     ]
    },
    {
     "name": "stderr",
     "output_type": "stream",
     "text": [
      "/global/homes/l/lonappan/.conda/envs/PC/lib/python3.6/site-packages/healpy/sphtfunc.py:824: UserWarning: Sigma is 14.863132 arcmin (0.004324 rad) \n",
      "  sigma * 60 * 180 / np.pi, sigma\n",
      "/global/homes/l/lonappan/.conda/envs/PC/lib/python3.6/site-packages/healpy/sphtfunc.py:829: UserWarning: -> fwhm is 35.000000 arcmin\n",
      "  sigma * 60 * 180 / np.pi * (2.0 * np.sqrt(2.0 * np.log(2.0)))\n"
     ]
    },
    {
     "name": "stdout",
     "output_type": "stream",
     "text": [
      "6\n"
     ]
    },
    {
     "name": "stderr",
     "output_type": "stream",
     "text": [
      "/global/homes/l/lonappan/.conda/envs/PC/lib/python3.6/site-packages/healpy/sphtfunc.py:824: UserWarning: Sigma is 12.315166 arcmin (0.003582 rad) \n",
      "  sigma * 60 * 180 / np.pi, sigma\n",
      "/global/homes/l/lonappan/.conda/envs/PC/lib/python3.6/site-packages/healpy/sphtfunc.py:829: UserWarning: -> fwhm is 29.000000 arcmin\n",
      "  sigma * 60 * 180 / np.pi * (2.0 * np.sqrt(2.0 * np.log(2.0)))\n"
     ]
    },
    {
     "name": "stdout",
     "output_type": "stream",
     "text": [
      "7\n"
     ]
    },
    {
     "name": "stderr",
     "output_type": "stream",
     "text": [
      "/global/homes/l/lonappan/.conda/envs/PC/lib/python3.6/site-packages/healpy/sphtfunc.py:824: UserWarning: Sigma is 10.616523 arcmin (0.003088 rad) \n",
      "  sigma * 60 * 180 / np.pi, sigma\n",
      "/global/homes/l/lonappan/.conda/envs/PC/lib/python3.6/site-packages/healpy/sphtfunc.py:829: UserWarning: -> fwhm is 25.000000 arcmin\n",
      "  sigma * 60 * 180 / np.pi * (2.0 * np.sqrt(2.0 * np.log(2.0)))\n"
     ]
    },
    {
     "name": "stdout",
     "output_type": "stream",
     "text": [
      "8\n"
     ]
    },
    {
     "name": "stderr",
     "output_type": "stream",
     "text": [
      "/global/homes/l/lonappan/.conda/envs/PC/lib/python3.6/site-packages/healpy/sphtfunc.py:824: UserWarning: Sigma is 9.767201 arcmin (0.002841 rad) \n",
      "  sigma * 60 * 180 / np.pi, sigma\n",
      "/global/homes/l/lonappan/.conda/envs/PC/lib/python3.6/site-packages/healpy/sphtfunc.py:829: UserWarning: -> fwhm is 23.000000 arcmin\n",
      "  sigma * 60 * 180 / np.pi * (2.0 * np.sqrt(2.0 * np.log(2.0)))\n"
     ]
    },
    {
     "name": "stdout",
     "output_type": "stream",
     "text": [
      "9\n"
     ]
    },
    {
     "name": "stderr",
     "output_type": "stream",
     "text": [
      "/global/homes/l/lonappan/.conda/envs/PC/lib/python3.6/site-packages/healpy/sphtfunc.py:824: UserWarning: Sigma is 8.917879 arcmin (0.002594 rad) \n",
      "  sigma * 60 * 180 / np.pi, sigma\n",
      "/global/homes/l/lonappan/.conda/envs/PC/lib/python3.6/site-packages/healpy/sphtfunc.py:829: UserWarning: -> fwhm is 21.000000 arcmin\n",
      "  sigma * 60 * 180 / np.pi * (2.0 * np.sqrt(2.0 * np.log(2.0)))\n"
     ]
    },
    {
     "name": "stdout",
     "output_type": "stream",
     "text": [
      "10\n"
     ]
    },
    {
     "name": "stderr",
     "output_type": "stream",
     "text": [
      "/global/homes/l/lonappan/.conda/envs/PC/lib/python3.6/site-packages/healpy/sphtfunc.py:824: UserWarning: Sigma is 8.493218 arcmin (0.002471 rad) \n",
      "  sigma * 60 * 180 / np.pi, sigma\n",
      "/global/homes/l/lonappan/.conda/envs/PC/lib/python3.6/site-packages/healpy/sphtfunc.py:829: UserWarning: -> fwhm is 20.000000 arcmin\n",
      "  sigma * 60 * 180 / np.pi * (2.0 * np.sqrt(2.0 * np.log(2.0)))\n"
     ]
    },
    {
     "name": "stdout",
     "output_type": "stream",
     "text": [
      "11\n"
     ]
    },
    {
     "name": "stderr",
     "output_type": "stream",
     "text": [
      "/global/homes/l/lonappan/.conda/envs/PC/lib/python3.6/site-packages/healpy/sphtfunc.py:824: UserWarning: Sigma is 8.068557 arcmin (0.002347 rad) \n",
      "  sigma * 60 * 180 / np.pi, sigma\n",
      "/global/homes/l/lonappan/.conda/envs/PC/lib/python3.6/site-packages/healpy/sphtfunc.py:829: UserWarning: -> fwhm is 19.000000 arcmin\n",
      "  sigma * 60 * 180 / np.pi * (2.0 * np.sqrt(2.0 * np.log(2.0)))\n"
     ]
    },
    {
     "name": "stdout",
     "output_type": "stream",
     "text": [
      "12\n"
     ]
    },
    {
     "name": "stderr",
     "output_type": "stream",
     "text": [
      "/global/homes/l/lonappan/.conda/envs/PC/lib/python3.6/site-packages/healpy/sphtfunc.py:824: UserWarning: Sigma is 10.191862 arcmin (0.002965 rad) \n",
      "  sigma * 60 * 180 / np.pi, sigma\n",
      "/global/homes/l/lonappan/.conda/envs/PC/lib/python3.6/site-packages/healpy/sphtfunc.py:829: UserWarning: -> fwhm is 24.000000 arcmin\n",
      "  sigma * 60 * 180 / np.pi * (2.0 * np.sqrt(2.0 * np.log(2.0)))\n"
     ]
    },
    {
     "name": "stdout",
     "output_type": "stream",
     "text": [
      "13\n",
      "14\n"
     ]
    },
    {
     "name": "stderr",
     "output_type": "stream",
     "text": [
      "/global/homes/l/lonappan/.conda/envs/PC/lib/python3.6/site-packages/healpy/sphtfunc.py:824: UserWarning: Sigma is 7.219235 arcmin (0.002100 rad) \n",
      "  sigma * 60 * 180 / np.pi, sigma\n",
      "/global/homes/l/lonappan/.conda/envs/PC/lib/python3.6/site-packages/healpy/sphtfunc.py:829: UserWarning: -> fwhm is 17.000000 arcmin\n",
      "  sigma * 60 * 180 / np.pi * (2.0 * np.sqrt(2.0 * np.log(2.0)))\n"
     ]
    }
   ],
   "source": [
    "maps = []\n",
    "for i in range(len(freqs)):\n",
    "    print(i)\n",
    "    maps.append(total_map_v(0,i))"
   ]
  },
  {
   "cell_type": "code",
   "execution_count": 11,
   "id": "6dc25b6e-c51c-4f07-8d0c-861602a94dfb",
   "metadata": {},
   "outputs": [
    {
     "data": {
      "text/plain": [
       "15"
      ]
     },
     "execution_count": 11,
     "metadata": {},
     "output_type": "execute_result"
    }
   ],
   "source": [
    "len(maps)"
   ]
  },
  {
   "cell_type": "code",
   "execution_count": 12,
   "id": "d90512d9-23bc-4dee-908f-e996fa31c4ca",
   "metadata": {},
   "outputs": [],
   "source": [
    "from fgbuster import (CMB, Dust, Synchrotron,\n",
    "                      basic_comp_sep,\n",
    "                      get_observation, get_instrument)"
   ]
  },
  {
   "cell_type": "code",
   "execution_count": 13,
   "id": "7fb5e4fa-6f5a-4c85-8cf5-313c7db9331a",
   "metadata": {},
   "outputs": [],
   "source": [
    "instrument = get_instrument('LiteBIRD')"
   ]
  },
  {
   "cell_type": "code",
   "execution_count": 14,
   "id": "58061daa-e44e-4f77-9892-6a53dcc38d44",
   "metadata": {},
   "outputs": [],
   "source": [
    "components = [CMB(), Dust(150.,20,1.54), Synchrotron(20.,-3.,70.,)]"
   ]
  },
  {
   "cell_type": "code",
   "execution_count": 15,
   "id": "50152998-4f24-4e0f-8aef-3ebbfd9dce7c",
   "metadata": {},
   "outputs": [],
   "source": [
    "from fgbuster import basic_comp_sep,harmonic_ilc"
   ]
  },
  {
   "cell_type": "code",
   "execution_count": 16,
   "id": "59797744-c9ce-4c39-a60a-d78a8cb96cc5",
   "metadata": {},
   "outputs": [
    {
     "name": "stderr",
     "output_type": "stream",
     "text": [
      "/global/homes/l/lonappan/.conda/envs/PC/lib/python3.6/site-packages/healpy/sphtfunc.py:824: UserWarning: Sigma is 0.000000 arcmin (0.000000 rad) \n",
      "  sigma * 60 * 180 / np.pi, sigma\n",
      "/global/homes/l/lonappan/.conda/envs/PC/lib/python3.6/site-packages/healpy/sphtfunc.py:829: UserWarning: -> fwhm is 0.000000 arcmin\n",
      "  sigma * 60 * 180 / np.pi * (2.0 * np.sqrt(2.0 * np.log(2.0)))\n"
     ]
    }
   ],
   "source": [
    "bins = np.arange(1000) * 10\n",
    "result = harmonic_ilc(components, instrument, np.array(maps),bins,iter=10)"
   ]
  },
  {
   "cell_type": "code",
   "execution_count": 29,
   "id": "d78b83d6-b399-4e28-adfb-f3f0f09e75e6",
   "metadata": {},
   "outputs": [
    {
     "data": {
      "text/plain": [
       "dict_keys(['s', 'cl_in', 'cl_out', 'fsky', 'W'])"
      ]
     },
     "execution_count": 29,
     "metadata": {},
     "output_type": "execute_result"
    }
   ],
   "source": [
    "result.keys()"
   ]
  },
  {
   "cell_type": "code",
   "execution_count": null,
   "id": "e4b93fd1-6039-4aab-a4d3-8ed5f77e307f",
   "metadata": {},
   "outputs": [
    {
     "data": {
      "text/plain": [
       "<matplotlib.legend.Legend at 0x2aaafcd7c5f8>"
      ]
     },
     "execution_count": 39,
     "metadata": {},
     "output_type": "execute_result"
    }
   ],
   "source": [
    "plt.loglog(result.cl_out[0][2],label='out')\n",
    "plt.loglog(result.cl_in[0][2],label='in')\n",
    "plt.legend()"
   ]
  },
  {
   "cell_type": "code",
   "execution_count": null,
   "id": "a3c4f6e3-5712-4234-acf7-6799b258161f",
   "metadata": {},
   "outputs": [],
   "source": []
  }
 ],
 "metadata": {
  "kernelspec": {
   "display_name": "PCpython",
   "language": "python",
   "name": "pc"
  },
  "language_info": {
   "codemirror_mode": {
    "name": "ipython",
    "version": 3
   },
   "file_extension": ".py",
   "mimetype": "text/x-python",
   "name": "python",
   "nbconvert_exporter": "python",
   "pygments_lexer": "ipython3",
   "version": "3.6.13"
  }
 },
 "nbformat": 4,
 "nbformat_minor": 5
}
