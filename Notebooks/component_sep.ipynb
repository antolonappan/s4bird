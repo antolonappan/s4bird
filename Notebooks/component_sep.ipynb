{
 "cells": [
  {
   "cell_type": "code",
   "execution_count": 1,
   "id": "4a094a2f-6de9-4d4c-92cc-3707036567df",
   "metadata": {},
   "outputs": [],
   "source": [
    "import sys\n",
    "sys.path.append('../')"
   ]
  },
  {
   "cell_type": "code",
   "execution_count": 2,
   "id": "15b3c96a-d749-4e3a-b830-a3efe10ec60d",
   "metadata": {},
   "outputs": [],
   "source": [
    "import os\n",
    "import numpy as np\n",
    "import healpy as hp\n",
    "import matplotlib.pyplot as plt\n",
    "from noise import NoiseMap_LB_Freq\n",
    "from tqdm import tqdm\n",
    "from database import surveys"
   ]
  },
  {
   "cell_type": "code",
   "execution_count": 3,
   "id": "2eacc695-891c-4094-a7f1-820b4d7b9b9c",
   "metadata": {},
   "outputs": [],
   "source": [
    "base = '/project/projectdirs/litebird/simulations/maps/lensing_project_paper/S4BIRD'"
   ]
  },
  {
   "cell_type": "code",
   "execution_count": 4,
   "id": "04d2b82d-84d1-47b9-9734-defbf34f9826",
   "metadata": {},
   "outputs": [],
   "source": [
    "lensed_map_dir = os.path.join(base,'CMB_Lensed_Maps')\n",
    "dust_map_dir = os.path.join(base,'Foregrounds','Dust')\n",
    "sync_map_dir = os.path.join(base,'Foregrounds','Synchrotron')"
   ]
  },
  {
   "cell_type": "code",
   "execution_count": 5,
   "id": "41a9a4e8-afda-4132-8731-2fe088c523b8",
   "metadata": {},
   "outputs": [
    {
     "name": "stdout",
     "output_type": "stream",
     "text": [
      "2021-10-28 05:08:35,977 INFO sqlalchemy.engine.Engine SELECT name FROM sqlite_master WHERE type='table' ORDER BY name\n",
      "2021-10-28 05:08:35,978 INFO sqlalchemy.engine.Engine [raw sql] ()\n",
      "2021-10-28 05:08:35,980 INFO sqlalchemy.engine.Engine SELECT name FROM sqlite_master WHERE type='table' ORDER BY name\n",
      "2021-10-28 05:08:35,980 INFO sqlalchemy.engine.Engine [raw sql] ()\n",
      "2021-10-28 05:08:35,981 INFO sqlalchemy.engine.Engine SELECT name FROM sqlite_master WHERE type='view' ORDER BY name\n",
      "2021-10-28 05:08:35,981 INFO sqlalchemy.engine.Engine [raw sql] ()\n",
      "2021-10-28 05:08:35,983 INFO sqlalchemy.engine.Engine PRAGMA main.table_xinfo(\"LITEBIRD\")\n",
      "2021-10-28 05:08:35,983 INFO sqlalchemy.engine.Engine [raw sql] ()\n",
      "2021-10-28 05:08:35,985 INFO sqlalchemy.engine.Engine SELECT sql FROM  (SELECT * FROM sqlite_master UNION ALL   SELECT * FROM sqlite_temp_master) WHERE name = ? AND type = 'table'\n",
      "2021-10-28 05:08:35,986 INFO sqlalchemy.engine.Engine [raw sql] ('LITEBIRD',)\n",
      "2021-10-28 05:08:35,987 INFO sqlalchemy.engine.Engine PRAGMA main.foreign_key_list(\"LITEBIRD\")\n",
      "2021-10-28 05:08:35,987 INFO sqlalchemy.engine.Engine [raw sql] ()\n",
      "2021-10-28 05:08:35,988 INFO sqlalchemy.engine.Engine PRAGMA temp.foreign_key_list(\"LITEBIRD\")\n",
      "2021-10-28 05:08:35,988 INFO sqlalchemy.engine.Engine [raw sql] ()\n",
      "2021-10-28 05:08:35,989 INFO sqlalchemy.engine.Engine SELECT sql FROM  (SELECT * FROM sqlite_master UNION ALL   SELECT * FROM sqlite_temp_master) WHERE name = ? AND type = 'table'\n",
      "2021-10-28 05:08:35,990 INFO sqlalchemy.engine.Engine [raw sql] ('LITEBIRD',)\n",
      "2021-10-28 05:08:35,991 INFO sqlalchemy.engine.Engine PRAGMA main.index_list(\"LITEBIRD\")\n",
      "2021-10-28 05:08:35,992 INFO sqlalchemy.engine.Engine [raw sql] ()\n",
      "2021-10-28 05:08:35,992 INFO sqlalchemy.engine.Engine PRAGMA main.index_info(\"ix_LITEBIRD_index\")\n",
      "2021-10-28 05:08:35,993 INFO sqlalchemy.engine.Engine [raw sql] ()\n",
      "2021-10-28 05:08:35,994 INFO sqlalchemy.engine.Engine PRAGMA main.index_list(\"LITEBIRD\")\n",
      "2021-10-28 05:08:35,994 INFO sqlalchemy.engine.Engine [raw sql] ()\n",
      "2021-10-28 05:08:35,995 INFO sqlalchemy.engine.Engine PRAGMA main.index_info(\"ix_LITEBIRD_index\")\n",
      "2021-10-28 05:08:35,995 INFO sqlalchemy.engine.Engine [raw sql] ()\n",
      "2021-10-28 05:08:35,996 INFO sqlalchemy.engine.Engine SELECT sql FROM  (SELECT * FROM sqlite_master UNION ALL   SELECT * FROM sqlite_temp_master) WHERE name = ? AND type = 'table'\n",
      "2021-10-28 05:08:35,997 INFO sqlalchemy.engine.Engine [raw sql] ('LITEBIRD',)\n",
      "2021-10-28 05:08:36,000 INFO sqlalchemy.engine.Engine SELECT \"LITEBIRD\".\"index\", \"LITEBIRD\".frequency, \"LITEBIRD\".depth_p, \"LITEBIRD\".fwhm, \"LITEBIRD\".bandwidth, \"LITEBIRD\".pixel_size, \"LITEBIRD\".detectors, \"LITEBIRD\".net_det, \"LITEBIRD\".net_arr_t, \"LITEBIRD\".net_arr_p \n",
      "FROM \"LITEBIRD\"\n",
      "2021-10-28 05:08:36,000 INFO sqlalchemy.engine.Engine [generated in 0.00043s] ()\n"
     ]
    }
   ],
   "source": [
    "survey = surveys().get_table_dataframe('LITEBIRD')"
   ]
  },
  {
   "cell_type": "code",
   "execution_count": 9,
   "id": "574507fa-75f5-4019-b63d-c272c986d10a",
   "metadata": {},
   "outputs": [],
   "source": [
    "nside = 512\n",
    "N = NoiseMap_LB_Freq('Tes',nside,np.array(survey.depth_p),np.array(survey.frequency),1)"
   ]
  },
  {
   "cell_type": "code",
   "execution_count": 13,
   "id": "5c8908ed-6e88-4e15-a0b0-a0bc03d61a01",
   "metadata": {},
   "outputs": [],
   "source": [
    "def get_cmb(idx):\n",
    "    fname = os.path.join(lensed_map_dir,f\"cmbonly_{idx}.fits\")\n",
    "    return hp.ud_grade(hp.read_map(fname,(0,1,2)),nside)\n",
    "\n",
    "def get_dust(v):\n",
    "    fname = os.path.join(dust_map_dir,f\"d0_{int(v)}.fits\")\n",
    "    return hp.ud_grade(hp.read_map(fname,(0,1,2)),nside)\n",
    "def get_sync(v):\n",
    "    fname = os.path.join(sync_map_dir,f\"s0_{int(v)}.fits\")\n",
    "    return hp.ud_grade(hp.read_map(fname,(0,1,2)),nside)"
   ]
  },
  {
   "cell_type": "code",
   "execution_count": 14,
   "id": "339a45d3-cd64-4933-b962-6512b516f1ef",
   "metadata": {},
   "outputs": [],
   "source": [
    "freqs = np.array(survey.frequency)\n",
    "fwhm = np.array(survey.fwhm)\n",
    "def total_map_v(idx,i):\n",
    "    return hp.smoothing(get_cmb(idx) + get_dust(freqs[i])+ get_sync(freqs[i]),np.radians(fwhm[i]/60)) + N.get_maps_v(idx,i)"
   ]
  },
  {
   "cell_type": "code",
   "execution_count": 15,
   "id": "95597088-0060-4b22-ad80-0f40d94f7275",
   "metadata": {},
   "outputs": [
    {
     "name": "stderr",
     "output_type": "stream",
     "text": [
      "Generating Maps:   0%|          | 0/15 [00:00<?, ?freq/s]setting the output map dtype to [dtype('float64'), dtype('float64'), dtype('float64')]\n",
      "Generating Maps:   7%|▋         | 1/15 [00:36<08:27, 36.25s/freq]setting the output map dtype to [dtype('float64'), dtype('float64'), dtype('float64')]\n",
      "Generating Maps:  13%|█▎        | 2/15 [01:12<07:49, 36.09s/freq]setting the output map dtype to [dtype('float64'), dtype('float64'), dtype('float64')]\n",
      "Generating Maps:  20%|██        | 3/15 [01:47<07:07, 35.61s/freq]setting the output map dtype to [dtype('float64'), dtype('float64'), dtype('float64')]\n",
      "Generating Maps:  27%|██▋       | 4/15 [02:23<06:33, 35.73s/freq]setting the output map dtype to [dtype('float64'), dtype('float64'), dtype('float64')]\n",
      "Generating Maps:  33%|███▎      | 5/15 [02:58<05:55, 35.52s/freq]setting the output map dtype to [dtype('float64'), dtype('float64'), dtype('float64')]\n",
      "Generating Maps:  40%|████      | 6/15 [03:32<05:16, 35.21s/freq]setting the output map dtype to [dtype('float64'), dtype('float64'), dtype('float64')]\n",
      "Generating Maps:  47%|████▋     | 7/15 [04:07<04:40, 35.04s/freq]setting the output map dtype to [dtype('float64'), dtype('float64'), dtype('float64')]\n",
      "Generating Maps:  53%|█████▎    | 8/15 [04:42<04:05, 35.01s/freq]setting the output map dtype to [dtype('float64'), dtype('float64'), dtype('float64')]\n",
      "Generating Maps:  60%|██████    | 9/15 [05:18<03:31, 35.17s/freq]setting the output map dtype to [dtype('float64'), dtype('float64'), dtype('float64')]\n",
      "Generating Maps:  67%|██████▋   | 10/15 [05:54<02:57, 35.41s/freq]setting the output map dtype to [dtype('float64'), dtype('float64'), dtype('float64')]\n",
      "Generating Maps:  73%|███████▎  | 11/15 [06:29<02:21, 35.46s/freq]setting the output map dtype to [dtype('float64'), dtype('float64'), dtype('float64')]\n",
      "Generating Maps:  80%|████████  | 12/15 [07:03<01:45, 35.01s/freq]setting the output map dtype to [dtype('float64'), dtype('float64'), dtype('float64')]\n",
      "Generating Maps:  87%|████████▋ | 13/15 [07:37<01:09, 34.58s/freq]setting the output map dtype to [dtype('float64'), dtype('float64'), dtype('float64')]\n",
      "Generating Maps:  93%|█████████▎| 14/15 [08:11<00:34, 34.53s/freq]setting the output map dtype to [dtype('float64'), dtype('float64'), dtype('float64')]\n",
      "Generating Maps: 100%|██████████| 15/15 [08:46<00:00, 35.13s/freq]\n"
     ]
    }
   ],
   "source": [
    "maps = []\n",
    "for i in tqdm(range(len(freqs)),desc=\"Generating Maps\",unit=\"freq\"):\n",
    "    maps.append(total_map_v(0,i))"
   ]
  },
  {
   "cell_type": "code",
   "execution_count": 10,
   "id": "6dc25b6e-c51c-4f07-8d0c-861602a94dfb",
   "metadata": {},
   "outputs": [
    {
     "data": {
      "text/plain": [
       "15"
      ]
     },
     "execution_count": 10,
     "metadata": {},
     "output_type": "execute_result"
    }
   ],
   "source": [
    "len(maps)"
   ]
  },
  {
   "cell_type": "code",
   "execution_count": 12,
   "id": "d90512d9-23bc-4dee-908f-e996fa31c4ca",
   "metadata": {},
   "outputs": [],
   "source": [
    "from fgbuster import (CMB, Dust, Synchrotron,\n",
    "                      basic_comp_sep,\n",
    "                      get_observation, get_instrument)"
   ]
  },
  {
   "cell_type": "code",
   "execution_count": 13,
   "id": "7fb5e4fa-6f5a-4c85-8cf5-313c7db9331a",
   "metadata": {},
   "outputs": [
    {
     "name": "stderr",
     "output_type": "stream",
     "text": [
      "/global/homes/l/lonappan/.conda/envs/PC2/lib/python3.7/site-packages/fgbuster/observation_helpers.py:97: FutureWarning: In a future version of pandas all arguments of DataFrame.dropna will be keyword-only\n",
      "  return df.dropna(1, 'all')\n"
     ]
    }
   ],
   "source": [
    "instrument = get_instrument('LiteBIRD')"
   ]
  },
  {
   "cell_type": "code",
   "execution_count": 14,
   "id": "58061daa-e44e-4f77-9892-6a53dcc38d44",
   "metadata": {},
   "outputs": [],
   "source": [
    "components = [CMB(), Dust(150.,20,1.54), Synchrotron(20.,-3.,70.,)]"
   ]
  },
  {
   "cell_type": "code",
   "execution_count": 15,
   "id": "50152998-4f24-4e0f-8aef-3ebbfd9dce7c",
   "metadata": {},
   "outputs": [],
   "source": [
    "from fgbuster import basic_comp_sep,harmonic_ilc"
   ]
  },
  {
   "cell_type": "code",
   "execution_count": 16,
   "id": "59797744-c9ce-4c39-a60a-d78a8cb96cc5",
   "metadata": {},
   "outputs": [],
   "source": [
    "bins = np.arange(1000) * 10\n",
    "result = harmonic_ilc(components, instrument, np.array(maps),bins,iter=10)"
   ]
  },
  {
   "cell_type": "code",
   "execution_count": 17,
   "id": "d78b83d6-b399-4e28-adfb-f3f0f09e75e6",
   "metadata": {},
   "outputs": [
    {
     "data": {
      "text/plain": [
       "dict_keys(['s', 'cl_in', 'cl_out', 'fsky', 'W'])"
      ]
     },
     "execution_count": 17,
     "metadata": {},
     "output_type": "execute_result"
    }
   ],
   "source": [
    "result.keys()"
   ]
  },
  {
   "cell_type": "code",
   "execution_count": 18,
   "id": "e4b93fd1-6039-4aab-a4d3-8ed5f77e307f",
   "metadata": {},
   "outputs": [
    {
     "data": {
      "text/plain": [
       "<matplotlib.legend.Legend at 0x2aab0c3e7f90>"
      ]
     },
     "execution_count": 18,
     "metadata": {},
     "output_type": "execute_result"
    },
    {
     "data": {
      "image/png": "[encoded data removed]",
      "text/plain": [
       "<Figure size 432x288 with 1 Axes>"
      ]
     },
     "metadata": {
      "needs_background": "light"
     },
     "output_type": "display_data"
    }
   ],
   "source": [
    "plt.loglog(result.cl_out[0][2],label='out')\n",
    "plt.loglog(result.cl_in[0][2],label='in')\n",
    "plt.legend()"
   ]
  },
  {
   "cell_type": "code",
   "execution_count": null,
   "id": "a3c4f6e3-5712-4234-acf7-6799b258161f",
   "metadata": {},
   "outputs": [],
   "source": []
  }
 ],
 "metadata": {
  "kernelspec": {
   "display_name": "PC2python",
   "language": "python",
   "name": "pc2"
  },
  "language_info": {
   "codemirror_mode": {
    "name": "ipython",
    "version": 3
   },
   "file_extension": ".py",
   "mimetype": "text/x-python",
   "name": "python",
   "nbconvert_exporter": "python",
   "pygments_lexer": "ipython3",
   "version": "3.7.11"
  }
 },
 "nbformat": 4,
 "nbformat_minor": 5
}
